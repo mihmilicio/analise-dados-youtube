{
 "cells": [
  {
   "cell_type": "code",
   "execution_count": 31,
   "metadata": {},
   "outputs": [],
   "source": [
    "import numpy as np\n",
    "import pandas as pd\n",
    "import seaborn as sns\n",
    "import matplotlib.pyplot as plt\n",
    "import plotly.express as px\n",
    "\n",
    "import warnings\n",
    "warnings.filterwarnings(\"ignore\", category=FutureWarning)"
   ]
  },
  {
   "cell_type": "code",
   "execution_count": 32,
   "metadata": {},
   "outputs": [],
   "source": [
    "df = pd.read_csv('./dataset/global_youtube_statistics.csv', on_bad_lines='skip', encoding='latin-1')"
   ]
  },
  {
   "cell_type": "code",
   "execution_count": 33,
   "metadata": {},
   "outputs": [
    {
     "data": {
      "text/html": [
       "<div>\n",
       "<style scoped>\n",
       "    .dataframe tbody tr th:only-of-type {\n",
       "        vertical-align: middle;\n",
       "    }\n",
       "\n",
       "    .dataframe tbody tr th {\n",
       "        vertical-align: top;\n",
       "    }\n",
       "\n",
       "    .dataframe thead th {\n",
       "        text-align: right;\n",
       "    }\n",
       "</style>\n",
       "<table border=\"1\" class=\"dataframe\">\n",
       "  <thead>\n",
       "    <tr style=\"text-align: right;\">\n",
       "      <th></th>\n",
       "      <th>rank</th>\n",
       "      <th>Youtuber</th>\n",
       "      <th>subscribers</th>\n",
       "      <th>video views</th>\n",
       "      <th>category</th>\n",
       "      <th>Title</th>\n",
       "      <th>uploads</th>\n",
       "      <th>Country</th>\n",
       "      <th>Abbreviation</th>\n",
       "      <th>channel_type</th>\n",
       "      <th>...</th>\n",
       "      <th>subscribers_for_last_30_days</th>\n",
       "      <th>created_year</th>\n",
       "      <th>created_month</th>\n",
       "      <th>created_date</th>\n",
       "      <th>Gross tertiary education enrollment (%)</th>\n",
       "      <th>Population</th>\n",
       "      <th>Unemployment rate</th>\n",
       "      <th>Urban_population</th>\n",
       "      <th>Latitude</th>\n",
       "      <th>Longitude</th>\n",
       "    </tr>\n",
       "  </thead>\n",
       "  <tbody>\n",
       "    <tr>\n",
       "      <th>0</th>\n",
       "      <td>1</td>\n",
       "      <td>T-Series</td>\n",
       "      <td>245000000</td>\n",
       "      <td>2.280000e+11</td>\n",
       "      <td>Music</td>\n",
       "      <td>T-Series</td>\n",
       "      <td>20082</td>\n",
       "      <td>India</td>\n",
       "      <td>IN</td>\n",
       "      <td>Music</td>\n",
       "      <td>...</td>\n",
       "      <td>2000000.0</td>\n",
       "      <td>2006.0</td>\n",
       "      <td>Mar</td>\n",
       "      <td>13.0</td>\n",
       "      <td>28.1</td>\n",
       "      <td>1.366418e+09</td>\n",
       "      <td>5.36</td>\n",
       "      <td>471031528.0</td>\n",
       "      <td>20.593684</td>\n",
       "      <td>78.962880</td>\n",
       "    </tr>\n",
       "    <tr>\n",
       "      <th>1</th>\n",
       "      <td>2</td>\n",
       "      <td>YouTube Movies</td>\n",
       "      <td>170000000</td>\n",
       "      <td>0.000000e+00</td>\n",
       "      <td>Film &amp; Animation</td>\n",
       "      <td>youtubemovies</td>\n",
       "      <td>1</td>\n",
       "      <td>United States</td>\n",
       "      <td>US</td>\n",
       "      <td>Games</td>\n",
       "      <td>...</td>\n",
       "      <td>NaN</td>\n",
       "      <td>2006.0</td>\n",
       "      <td>Mar</td>\n",
       "      <td>5.0</td>\n",
       "      <td>88.2</td>\n",
       "      <td>3.282395e+08</td>\n",
       "      <td>14.70</td>\n",
       "      <td>270663028.0</td>\n",
       "      <td>37.090240</td>\n",
       "      <td>-95.712891</td>\n",
       "    </tr>\n",
       "    <tr>\n",
       "      <th>2</th>\n",
       "      <td>3</td>\n",
       "      <td>MrBeast</td>\n",
       "      <td>166000000</td>\n",
       "      <td>2.836884e+10</td>\n",
       "      <td>Entertainment</td>\n",
       "      <td>MrBeast</td>\n",
       "      <td>741</td>\n",
       "      <td>United States</td>\n",
       "      <td>US</td>\n",
       "      <td>Entertainment</td>\n",
       "      <td>...</td>\n",
       "      <td>8000000.0</td>\n",
       "      <td>2012.0</td>\n",
       "      <td>Feb</td>\n",
       "      <td>20.0</td>\n",
       "      <td>88.2</td>\n",
       "      <td>3.282395e+08</td>\n",
       "      <td>14.70</td>\n",
       "      <td>270663028.0</td>\n",
       "      <td>37.090240</td>\n",
       "      <td>-95.712891</td>\n",
       "    </tr>\n",
       "    <tr>\n",
       "      <th>3</th>\n",
       "      <td>4</td>\n",
       "      <td>Cocomelon - Nursery Rhymes</td>\n",
       "      <td>162000000</td>\n",
       "      <td>1.640000e+11</td>\n",
       "      <td>Education</td>\n",
       "      <td>Cocomelon - Nursery Rhymes</td>\n",
       "      <td>966</td>\n",
       "      <td>United States</td>\n",
       "      <td>US</td>\n",
       "      <td>Education</td>\n",
       "      <td>...</td>\n",
       "      <td>1000000.0</td>\n",
       "      <td>2006.0</td>\n",
       "      <td>Sep</td>\n",
       "      <td>1.0</td>\n",
       "      <td>88.2</td>\n",
       "      <td>3.282395e+08</td>\n",
       "      <td>14.70</td>\n",
       "      <td>270663028.0</td>\n",
       "      <td>37.090240</td>\n",
       "      <td>-95.712891</td>\n",
       "    </tr>\n",
       "    <tr>\n",
       "      <th>4</th>\n",
       "      <td>5</td>\n",
       "      <td>SET India</td>\n",
       "      <td>159000000</td>\n",
       "      <td>1.480000e+11</td>\n",
       "      <td>Shows</td>\n",
       "      <td>SET India</td>\n",
       "      <td>116536</td>\n",
       "      <td>India</td>\n",
       "      <td>IN</td>\n",
       "      <td>Entertainment</td>\n",
       "      <td>...</td>\n",
       "      <td>1000000.0</td>\n",
       "      <td>2006.0</td>\n",
       "      <td>Sep</td>\n",
       "      <td>20.0</td>\n",
       "      <td>28.1</td>\n",
       "      <td>1.366418e+09</td>\n",
       "      <td>5.36</td>\n",
       "      <td>471031528.0</td>\n",
       "      <td>20.593684</td>\n",
       "      <td>78.962880</td>\n",
       "    </tr>\n",
       "  </tbody>\n",
       "</table>\n",
       "<p>5 rows × 28 columns</p>\n",
       "</div>"
      ],
      "text/plain": [
       "   rank                    Youtuber  subscribers   video views  \\\n",
       "0     1                    T-Series    245000000  2.280000e+11   \n",
       "1     2              YouTube Movies    170000000  0.000000e+00   \n",
       "2     3                     MrBeast    166000000  2.836884e+10   \n",
       "3     4  Cocomelon - Nursery Rhymes    162000000  1.640000e+11   \n",
       "4     5                   SET India    159000000  1.480000e+11   \n",
       "\n",
       "           category                       Title  uploads        Country  \\\n",
       "0             Music                    T-Series    20082          India   \n",
       "1  Film & Animation               youtubemovies        1  United States   \n",
       "2     Entertainment                     MrBeast      741  United States   \n",
       "3         Education  Cocomelon - Nursery Rhymes      966  United States   \n",
       "4             Shows                   SET India   116536          India   \n",
       "\n",
       "  Abbreviation   channel_type  ...  subscribers_for_last_30_days  \\\n",
       "0           IN          Music  ...                     2000000.0   \n",
       "1           US          Games  ...                           NaN   \n",
       "2           US  Entertainment  ...                     8000000.0   \n",
       "3           US      Education  ...                     1000000.0   \n",
       "4           IN  Entertainment  ...                     1000000.0   \n",
       "\n",
       "   created_year  created_month  created_date  \\\n",
       "0        2006.0            Mar          13.0   \n",
       "1        2006.0            Mar           5.0   \n",
       "2        2012.0            Feb          20.0   \n",
       "3        2006.0            Sep           1.0   \n",
       "4        2006.0            Sep          20.0   \n",
       "\n",
       "   Gross tertiary education enrollment (%)    Population  Unemployment rate  \\\n",
       "0                                     28.1  1.366418e+09               5.36   \n",
       "1                                     88.2  3.282395e+08              14.70   \n",
       "2                                     88.2  3.282395e+08              14.70   \n",
       "3                                     88.2  3.282395e+08              14.70   \n",
       "4                                     28.1  1.366418e+09               5.36   \n",
       "\n",
       "   Urban_population   Latitude  Longitude  \n",
       "0       471031528.0  20.593684  78.962880  \n",
       "1       270663028.0  37.090240 -95.712891  \n",
       "2       270663028.0  37.090240 -95.712891  \n",
       "3       270663028.0  37.090240 -95.712891  \n",
       "4       471031528.0  20.593684  78.962880  \n",
       "\n",
       "[5 rows x 28 columns]"
      ]
     },
     "execution_count": 33,
     "metadata": {},
     "output_type": "execute_result"
    }
   ],
   "source": [
    "df.head()"
   ]
  },
  {
   "cell_type": "code",
   "execution_count": 34,
   "metadata": {},
   "outputs": [
    {
     "data": {
      "text/html": [
       "<div>\n",
       "<style scoped>\n",
       "    .dataframe tbody tr th:only-of-type {\n",
       "        vertical-align: middle;\n",
       "    }\n",
       "\n",
       "    .dataframe tbody tr th {\n",
       "        vertical-align: top;\n",
       "    }\n",
       "\n",
       "    .dataframe thead th {\n",
       "        text-align: right;\n",
       "    }\n",
       "</style>\n",
       "<table border=\"1\" class=\"dataframe\">\n",
       "  <thead>\n",
       "    <tr style=\"text-align: right;\">\n",
       "      <th></th>\n",
       "      <th>Youtuber</th>\n",
       "      <th>subscribers</th>\n",
       "      <th>video views</th>\n",
       "      <th>category</th>\n",
       "      <th>uploads</th>\n",
       "      <th>Country</th>\n",
       "      <th>video_views_for_the_last_30_days</th>\n",
       "      <th>lowest_monthly_earnings</th>\n",
       "      <th>highest_monthly_earnings</th>\n",
       "      <th>subscribers_for_last_30_days</th>\n",
       "      <th>created_year</th>\n",
       "      <th>Gross tertiary education enrollment (%)</th>\n",
       "      <th>Population</th>\n",
       "      <th>Unemployment rate</th>\n",
       "      <th>Latitude</th>\n",
       "      <th>Longitude</th>\n",
       "    </tr>\n",
       "  </thead>\n",
       "  <tbody>\n",
       "    <tr>\n",
       "      <th>0</th>\n",
       "      <td>T-Series</td>\n",
       "      <td>245000000</td>\n",
       "      <td>2.280000e+11</td>\n",
       "      <td>Music</td>\n",
       "      <td>20082</td>\n",
       "      <td>India</td>\n",
       "      <td>2.258000e+09</td>\n",
       "      <td>564600.0</td>\n",
       "      <td>9000000.00</td>\n",
       "      <td>2000000.0</td>\n",
       "      <td>2006.0</td>\n",
       "      <td>28.1</td>\n",
       "      <td>1.366418e+09</td>\n",
       "      <td>5.36</td>\n",
       "      <td>20.593684</td>\n",
       "      <td>78.962880</td>\n",
       "    </tr>\n",
       "    <tr>\n",
       "      <th>1</th>\n",
       "      <td>YouTube Movies</td>\n",
       "      <td>170000000</td>\n",
       "      <td>0.000000e+00</td>\n",
       "      <td>Film &amp; Animation</td>\n",
       "      <td>1</td>\n",
       "      <td>United States</td>\n",
       "      <td>1.200000e+01</td>\n",
       "      <td>0.0</td>\n",
       "      <td>0.05</td>\n",
       "      <td>NaN</td>\n",
       "      <td>2006.0</td>\n",
       "      <td>88.2</td>\n",
       "      <td>3.282395e+08</td>\n",
       "      <td>14.70</td>\n",
       "      <td>37.090240</td>\n",
       "      <td>-95.712891</td>\n",
       "    </tr>\n",
       "    <tr>\n",
       "      <th>2</th>\n",
       "      <td>MrBeast</td>\n",
       "      <td>166000000</td>\n",
       "      <td>2.836884e+10</td>\n",
       "      <td>Entertainment</td>\n",
       "      <td>741</td>\n",
       "      <td>United States</td>\n",
       "      <td>1.348000e+09</td>\n",
       "      <td>337000.0</td>\n",
       "      <td>5400000.00</td>\n",
       "      <td>8000000.0</td>\n",
       "      <td>2012.0</td>\n",
       "      <td>88.2</td>\n",
       "      <td>3.282395e+08</td>\n",
       "      <td>14.70</td>\n",
       "      <td>37.090240</td>\n",
       "      <td>-95.712891</td>\n",
       "    </tr>\n",
       "    <tr>\n",
       "      <th>3</th>\n",
       "      <td>Cocomelon - Nursery Rhymes</td>\n",
       "      <td>162000000</td>\n",
       "      <td>1.640000e+11</td>\n",
       "      <td>Education</td>\n",
       "      <td>966</td>\n",
       "      <td>United States</td>\n",
       "      <td>1.975000e+09</td>\n",
       "      <td>493800.0</td>\n",
       "      <td>7900000.00</td>\n",
       "      <td>1000000.0</td>\n",
       "      <td>2006.0</td>\n",
       "      <td>88.2</td>\n",
       "      <td>3.282395e+08</td>\n",
       "      <td>14.70</td>\n",
       "      <td>37.090240</td>\n",
       "      <td>-95.712891</td>\n",
       "    </tr>\n",
       "    <tr>\n",
       "      <th>4</th>\n",
       "      <td>SET India</td>\n",
       "      <td>159000000</td>\n",
       "      <td>1.480000e+11</td>\n",
       "      <td>Shows</td>\n",
       "      <td>116536</td>\n",
       "      <td>India</td>\n",
       "      <td>1.824000e+09</td>\n",
       "      <td>455900.0</td>\n",
       "      <td>7300000.00</td>\n",
       "      <td>1000000.0</td>\n",
       "      <td>2006.0</td>\n",
       "      <td>28.1</td>\n",
       "      <td>1.366418e+09</td>\n",
       "      <td>5.36</td>\n",
       "      <td>20.593684</td>\n",
       "      <td>78.962880</td>\n",
       "    </tr>\n",
       "  </tbody>\n",
       "</table>\n",
       "</div>"
      ],
      "text/plain": [
       "                     Youtuber  subscribers   video views          category  \\\n",
       "0                    T-Series    245000000  2.280000e+11             Music   \n",
       "1              YouTube Movies    170000000  0.000000e+00  Film & Animation   \n",
       "2                     MrBeast    166000000  2.836884e+10     Entertainment   \n",
       "3  Cocomelon - Nursery Rhymes    162000000  1.640000e+11         Education   \n",
       "4                   SET India    159000000  1.480000e+11             Shows   \n",
       "\n",
       "   uploads        Country  video_views_for_the_last_30_days  \\\n",
       "0    20082          India                      2.258000e+09   \n",
       "1        1  United States                      1.200000e+01   \n",
       "2      741  United States                      1.348000e+09   \n",
       "3      966  United States                      1.975000e+09   \n",
       "4   116536          India                      1.824000e+09   \n",
       "\n",
       "   lowest_monthly_earnings  highest_monthly_earnings  \\\n",
       "0                 564600.0                9000000.00   \n",
       "1                      0.0                      0.05   \n",
       "2                 337000.0                5400000.00   \n",
       "3                 493800.0                7900000.00   \n",
       "4                 455900.0                7300000.00   \n",
       "\n",
       "   subscribers_for_last_30_days  created_year  \\\n",
       "0                     2000000.0        2006.0   \n",
       "1                           NaN        2006.0   \n",
       "2                     8000000.0        2012.0   \n",
       "3                     1000000.0        2006.0   \n",
       "4                     1000000.0        2006.0   \n",
       "\n",
       "   Gross tertiary education enrollment (%)    Population  Unemployment rate  \\\n",
       "0                                     28.1  1.366418e+09               5.36   \n",
       "1                                     88.2  3.282395e+08              14.70   \n",
       "2                                     88.2  3.282395e+08              14.70   \n",
       "3                                     88.2  3.282395e+08              14.70   \n",
       "4                                     28.1  1.366418e+09               5.36   \n",
       "\n",
       "    Latitude  Longitude  \n",
       "0  20.593684  78.962880  \n",
       "1  37.090240 -95.712891  \n",
       "2  37.090240 -95.712891  \n",
       "3  37.090240 -95.712891  \n",
       "4  20.593684  78.962880  "
      ]
     },
     "execution_count": 34,
     "metadata": {},
     "output_type": "execute_result"
    }
   ],
   "source": [
    "df = df.drop(columns=['rank', 'Title', 'Abbreviation', 'channel_type', 'video_views_rank', 'country_rank',\n",
    "             'channel_type_rank', 'lowest_yearly_earnings', 'highest_yearly_earnings', 'created_month', 'created_date', 'Urban_population'])\n",
    "df.head()"
   ]
  },
  {
   "cell_type": "code",
   "execution_count": 35,
   "metadata": {},
   "outputs": [
    {
     "name": "stdout",
     "output_type": "stream",
     "text": [
      "<class 'pandas.core.frame.DataFrame'>\n",
      "RangeIndex: 995 entries, 0 to 994\n",
      "Data columns (total 16 columns):\n",
      " #   Column                                   Non-Null Count  Dtype  \n",
      "---  ------                                   --------------  -----  \n",
      " 0   Youtuber                                 995 non-null    object \n",
      " 1   subscribers                              995 non-null    int64  \n",
      " 2   video views                              995 non-null    float64\n",
      " 3   category                                 949 non-null    object \n",
      " 4   uploads                                  995 non-null    int64  \n",
      " 5   Country                                  873 non-null    object \n",
      " 6   video_views_for_the_last_30_days         939 non-null    float64\n",
      " 7   lowest_monthly_earnings                  995 non-null    float64\n",
      " 8   highest_monthly_earnings                 995 non-null    float64\n",
      " 9   subscribers_for_last_30_days             658 non-null    float64\n",
      " 10  created_year                             990 non-null    float64\n",
      " 11  Gross tertiary education enrollment (%)  872 non-null    float64\n",
      " 12  Population                               872 non-null    float64\n",
      " 13  Unemployment rate                        872 non-null    float64\n",
      " 14  Latitude                                 872 non-null    float64\n",
      " 15  Longitude                                872 non-null    float64\n",
      "dtypes: float64(11), int64(2), object(3)\n",
      "memory usage: 124.5+ KB\n"
     ]
    }
   ],
   "source": [
    "df.info()"
   ]
  },
  {
   "cell_type": "code",
   "execution_count": 36,
   "metadata": {},
   "outputs": [
    {
     "data": {
      "text/html": [
       "<div>\n",
       "<style scoped>\n",
       "    .dataframe tbody tr th:only-of-type {\n",
       "        vertical-align: middle;\n",
       "    }\n",
       "\n",
       "    .dataframe tbody tr th {\n",
       "        vertical-align: top;\n",
       "    }\n",
       "\n",
       "    .dataframe thead th {\n",
       "        text-align: right;\n",
       "    }\n",
       "</style>\n",
       "<table border=\"1\" class=\"dataframe\">\n",
       "  <thead>\n",
       "    <tr style=\"text-align: right;\">\n",
       "      <th></th>\n",
       "      <th>Youtuber</th>\n",
       "      <th>subscribers</th>\n",
       "      <th>video views</th>\n",
       "      <th>category</th>\n",
       "      <th>uploads</th>\n",
       "      <th>Country</th>\n",
       "      <th>video_views_for_the_last_30_days</th>\n",
       "      <th>lowest_monthly_earnings</th>\n",
       "      <th>highest_monthly_earnings</th>\n",
       "      <th>subscribers_for_last_30_days</th>\n",
       "      <th>created_year</th>\n",
       "      <th>Gross tertiary education enrollment (%)</th>\n",
       "      <th>Population</th>\n",
       "      <th>Unemployment rate</th>\n",
       "      <th>Latitude</th>\n",
       "      <th>Longitude</th>\n",
       "    </tr>\n",
       "  </thead>\n",
       "  <tbody>\n",
       "    <tr>\n",
       "      <th>0</th>\n",
       "      <td>T-Series</td>\n",
       "      <td>245000000</td>\n",
       "      <td>2.280000e+11</td>\n",
       "      <td>Music</td>\n",
       "      <td>20082</td>\n",
       "      <td>India</td>\n",
       "      <td>2.258000e+09</td>\n",
       "      <td>564600.0</td>\n",
       "      <td>9000000.0</td>\n",
       "      <td>2000000.0</td>\n",
       "      <td>2006.0</td>\n",
       "      <td>28.1</td>\n",
       "      <td>1.366418e+09</td>\n",
       "      <td>5.36</td>\n",
       "      <td>20.593684</td>\n",
       "      <td>78.962880</td>\n",
       "    </tr>\n",
       "    <tr>\n",
       "      <th>2</th>\n",
       "      <td>MrBeast</td>\n",
       "      <td>166000000</td>\n",
       "      <td>2.836884e+10</td>\n",
       "      <td>Entertainment</td>\n",
       "      <td>741</td>\n",
       "      <td>United States</td>\n",
       "      <td>1.348000e+09</td>\n",
       "      <td>337000.0</td>\n",
       "      <td>5400000.0</td>\n",
       "      <td>8000000.0</td>\n",
       "      <td>2012.0</td>\n",
       "      <td>88.2</td>\n",
       "      <td>3.282395e+08</td>\n",
       "      <td>14.70</td>\n",
       "      <td>37.090240</td>\n",
       "      <td>-95.712891</td>\n",
       "    </tr>\n",
       "    <tr>\n",
       "      <th>3</th>\n",
       "      <td>Cocomelon - Nursery Rhymes</td>\n",
       "      <td>162000000</td>\n",
       "      <td>1.640000e+11</td>\n",
       "      <td>Education</td>\n",
       "      <td>966</td>\n",
       "      <td>United States</td>\n",
       "      <td>1.975000e+09</td>\n",
       "      <td>493800.0</td>\n",
       "      <td>7900000.0</td>\n",
       "      <td>1000000.0</td>\n",
       "      <td>2006.0</td>\n",
       "      <td>88.2</td>\n",
       "      <td>3.282395e+08</td>\n",
       "      <td>14.70</td>\n",
       "      <td>37.090240</td>\n",
       "      <td>-95.712891</td>\n",
       "    </tr>\n",
       "    <tr>\n",
       "      <th>4</th>\n",
       "      <td>SET India</td>\n",
       "      <td>159000000</td>\n",
       "      <td>1.480000e+11</td>\n",
       "      <td>Shows</td>\n",
       "      <td>116536</td>\n",
       "      <td>India</td>\n",
       "      <td>1.824000e+09</td>\n",
       "      <td>455900.0</td>\n",
       "      <td>7300000.0</td>\n",
       "      <td>1000000.0</td>\n",
       "      <td>2006.0</td>\n",
       "      <td>28.1</td>\n",
       "      <td>1.366418e+09</td>\n",
       "      <td>5.36</td>\n",
       "      <td>20.593684</td>\n",
       "      <td>78.962880</td>\n",
       "    </tr>\n",
       "    <tr>\n",
       "      <th>8</th>\n",
       "      <td>Like Nastya</td>\n",
       "      <td>106000000</td>\n",
       "      <td>9.047906e+10</td>\n",
       "      <td>People &amp; Blogs</td>\n",
       "      <td>493</td>\n",
       "      <td>Russia</td>\n",
       "      <td>4.894700e+07</td>\n",
       "      <td>12200.0</td>\n",
       "      <td>195800.0</td>\n",
       "      <td>100000.0</td>\n",
       "      <td>2016.0</td>\n",
       "      <td>81.9</td>\n",
       "      <td>1.443735e+08</td>\n",
       "      <td>4.59</td>\n",
       "      <td>61.524010</td>\n",
       "      <td>105.318756</td>\n",
       "    </tr>\n",
       "    <tr>\n",
       "      <th>...</th>\n",
       "      <td>...</td>\n",
       "      <td>...</td>\n",
       "      <td>...</td>\n",
       "      <td>...</td>\n",
       "      <td>...</td>\n",
       "      <td>...</td>\n",
       "      <td>...</td>\n",
       "      <td>...</td>\n",
       "      <td>...</td>\n",
       "      <td>...</td>\n",
       "      <td>...</td>\n",
       "      <td>...</td>\n",
       "      <td>...</td>\n",
       "      <td>...</td>\n",
       "      <td>...</td>\n",
       "      <td>...</td>\n",
       "    </tr>\n",
       "    <tr>\n",
       "      <th>989</th>\n",
       "      <td>Migos ATL</td>\n",
       "      <td>12400000</td>\n",
       "      <td>6.993406e+09</td>\n",
       "      <td>Music</td>\n",
       "      <td>99</td>\n",
       "      <td>United States</td>\n",
       "      <td>4.941200e+07</td>\n",
       "      <td>12400.0</td>\n",
       "      <td>197600.0</td>\n",
       "      <td>100000.0</td>\n",
       "      <td>2012.0</td>\n",
       "      <td>88.2</td>\n",
       "      <td>3.282395e+08</td>\n",
       "      <td>14.70</td>\n",
       "      <td>37.090240</td>\n",
       "      <td>-95.712891</td>\n",
       "    </tr>\n",
       "    <tr>\n",
       "      <th>990</th>\n",
       "      <td>Natan por Aï¿</td>\n",
       "      <td>12300000</td>\n",
       "      <td>9.029610e+09</td>\n",
       "      <td>Sports</td>\n",
       "      <td>1200</td>\n",
       "      <td>Brazil</td>\n",
       "      <td>5.525130e+08</td>\n",
       "      <td>138100.0</td>\n",
       "      <td>2200000.0</td>\n",
       "      <td>700000.0</td>\n",
       "      <td>2017.0</td>\n",
       "      <td>51.3</td>\n",
       "      <td>2.125594e+08</td>\n",
       "      <td>12.08</td>\n",
       "      <td>-14.235004</td>\n",
       "      <td>-51.925280</td>\n",
       "    </tr>\n",
       "    <tr>\n",
       "      <th>991</th>\n",
       "      <td>Free Fire India Official</td>\n",
       "      <td>12300000</td>\n",
       "      <td>1.674410e+09</td>\n",
       "      <td>People &amp; Blogs</td>\n",
       "      <td>1500</td>\n",
       "      <td>India</td>\n",
       "      <td>6.473500e+07</td>\n",
       "      <td>16200.0</td>\n",
       "      <td>258900.0</td>\n",
       "      <td>300000.0</td>\n",
       "      <td>2018.0</td>\n",
       "      <td>28.1</td>\n",
       "      <td>1.366418e+09</td>\n",
       "      <td>5.36</td>\n",
       "      <td>20.593684</td>\n",
       "      <td>78.962880</td>\n",
       "    </tr>\n",
       "    <tr>\n",
       "      <th>993</th>\n",
       "      <td>RobTopGames</td>\n",
       "      <td>12300000</td>\n",
       "      <td>3.741235e+08</td>\n",
       "      <td>Gaming</td>\n",
       "      <td>39</td>\n",
       "      <td>Sweden</td>\n",
       "      <td>3.871000e+06</td>\n",
       "      <td>968.0</td>\n",
       "      <td>15500.0</td>\n",
       "      <td>100000.0</td>\n",
       "      <td>2012.0</td>\n",
       "      <td>67.0</td>\n",
       "      <td>1.028545e+07</td>\n",
       "      <td>6.48</td>\n",
       "      <td>60.128161</td>\n",
       "      <td>18.643501</td>\n",
       "    </tr>\n",
       "    <tr>\n",
       "      <th>994</th>\n",
       "      <td>Make Joke Of</td>\n",
       "      <td>12300000</td>\n",
       "      <td>2.129774e+09</td>\n",
       "      <td>Comedy</td>\n",
       "      <td>62</td>\n",
       "      <td>India</td>\n",
       "      <td>2.400000e+07</td>\n",
       "      <td>6000.0</td>\n",
       "      <td>96000.0</td>\n",
       "      <td>100000.0</td>\n",
       "      <td>2017.0</td>\n",
       "      <td>28.1</td>\n",
       "      <td>1.366418e+09</td>\n",
       "      <td>5.36</td>\n",
       "      <td>20.593684</td>\n",
       "      <td>78.962880</td>\n",
       "    </tr>\n",
       "  </tbody>\n",
       "</table>\n",
       "<p>555 rows × 16 columns</p>\n",
       "</div>"
      ],
      "text/plain": [
       "                       Youtuber  subscribers   video views        category  \\\n",
       "0                      T-Series    245000000  2.280000e+11           Music   \n",
       "2                       MrBeast    166000000  2.836884e+10   Entertainment   \n",
       "3    Cocomelon - Nursery Rhymes    162000000  1.640000e+11       Education   \n",
       "4                     SET India    159000000  1.480000e+11           Shows   \n",
       "8                   Like Nastya    106000000  9.047906e+10  People & Blogs   \n",
       "..                          ...          ...           ...             ...   \n",
       "989                   Migos ATL     12400000  6.993406e+09           Music   \n",
       "990               Natan por Aï¿     12300000  9.029610e+09          Sports   \n",
       "991    Free Fire India Official     12300000  1.674410e+09  People & Blogs   \n",
       "993                 RobTopGames     12300000  3.741235e+08          Gaming   \n",
       "994                Make Joke Of     12300000  2.129774e+09          Comedy   \n",
       "\n",
       "     uploads        Country  video_views_for_the_last_30_days  \\\n",
       "0      20082          India                      2.258000e+09   \n",
       "2        741  United States                      1.348000e+09   \n",
       "3        966  United States                      1.975000e+09   \n",
       "4     116536          India                      1.824000e+09   \n",
       "8        493         Russia                      4.894700e+07   \n",
       "..       ...            ...                               ...   \n",
       "989       99  United States                      4.941200e+07   \n",
       "990     1200         Brazil                      5.525130e+08   \n",
       "991     1500          India                      6.473500e+07   \n",
       "993       39         Sweden                      3.871000e+06   \n",
       "994       62          India                      2.400000e+07   \n",
       "\n",
       "     lowest_monthly_earnings  highest_monthly_earnings  \\\n",
       "0                   564600.0                 9000000.0   \n",
       "2                   337000.0                 5400000.0   \n",
       "3                   493800.0                 7900000.0   \n",
       "4                   455900.0                 7300000.0   \n",
       "8                    12200.0                  195800.0   \n",
       "..                       ...                       ...   \n",
       "989                  12400.0                  197600.0   \n",
       "990                 138100.0                 2200000.0   \n",
       "991                  16200.0                  258900.0   \n",
       "993                    968.0                   15500.0   \n",
       "994                   6000.0                   96000.0   \n",
       "\n",
       "     subscribers_for_last_30_days  created_year  \\\n",
       "0                       2000000.0        2006.0   \n",
       "2                       8000000.0        2012.0   \n",
       "3                       1000000.0        2006.0   \n",
       "4                       1000000.0        2006.0   \n",
       "8                        100000.0        2016.0   \n",
       "..                            ...           ...   \n",
       "989                      100000.0        2012.0   \n",
       "990                      700000.0        2017.0   \n",
       "991                      300000.0        2018.0   \n",
       "993                      100000.0        2012.0   \n",
       "994                      100000.0        2017.0   \n",
       "\n",
       "     Gross tertiary education enrollment (%)    Population  Unemployment rate  \\\n",
       "0                                       28.1  1.366418e+09               5.36   \n",
       "2                                       88.2  3.282395e+08              14.70   \n",
       "3                                       88.2  3.282395e+08              14.70   \n",
       "4                                       28.1  1.366418e+09               5.36   \n",
       "8                                       81.9  1.443735e+08               4.59   \n",
       "..                                       ...           ...                ...   \n",
       "989                                     88.2  3.282395e+08              14.70   \n",
       "990                                     51.3  2.125594e+08              12.08   \n",
       "991                                     28.1  1.366418e+09               5.36   \n",
       "993                                     67.0  1.028545e+07               6.48   \n",
       "994                                     28.1  1.366418e+09               5.36   \n",
       "\n",
       "      Latitude   Longitude  \n",
       "0    20.593684   78.962880  \n",
       "2    37.090240  -95.712891  \n",
       "3    37.090240  -95.712891  \n",
       "4    20.593684   78.962880  \n",
       "8    61.524010  105.318756  \n",
       "..         ...         ...  \n",
       "989  37.090240  -95.712891  \n",
       "990 -14.235004  -51.925280  \n",
       "991  20.593684   78.962880  \n",
       "993  60.128161   18.643501  \n",
       "994  20.593684   78.962880  \n",
       "\n",
       "[555 rows x 16 columns]"
      ]
     },
     "execution_count": 36,
     "metadata": {},
     "output_type": "execute_result"
    }
   ],
   "source": [
    "df.dropna()"
   ]
  },
  {
   "cell_type": "code",
   "execution_count": 37,
   "metadata": {},
   "outputs": [
    {
     "data": {
      "text/plain": [
       "<Axes: >"
      ]
     },
     "execution_count": 37,
     "metadata": {},
     "output_type": "execute_result"
    },
    {
     "data": {
      "image/png": "[encoded data removed]",
      "text/plain": [
       "<Figure size 640x480 with 2 Axes>"
      ]
     },
     "metadata": {},
     "output_type": "display_data"
    }
   ],
   "source": [
    "sns.heatmap(df.corr(numeric_only=True))"
   ]
  },
  {
   "cell_type": "markdown",
   "metadata": {},
   "source": [
    "No gráfico acima, podemos observar a correlação geral entre os diferentes dados estatísticos. A partir disso, podemos inferir algumas ideias:\n",
    "- a correlação entre menor ganho mensal e maior ganho mensal é fortíssima, e isso indica que não há variações tão absurdas entre os dois valores em um mesmo canal. \n",
    "- forte relação entre as visualizações de vídeo com os ganhos mensais \n",
    "- relação não tão forte entre as inscrições com os ganhos mensais \n",
    "- relação forte entre número de visualizações e inscritos\n",
    "- surpreendentemente, o número de uploads não parece ter grande interferência em nada\n",
    "- relação inversamente proporcional entre população de um país e ingresso em educação de terceiro grau"
   ]
  },
  {
   "cell_type": "markdown",
   "metadata": {},
   "source": [
    "## Inscrições X visualizações X categorias"
   ]
  },
  {
   "cell_type": "code",
   "execution_count": 38,
   "metadata": {},
   "outputs": [
    {
     "data": {
      "text/html": [
       "<div>\n",
       "<style scoped>\n",
       "    .dataframe tbody tr th:only-of-type {\n",
       "        vertical-align: middle;\n",
       "    }\n",
       "\n",
       "    .dataframe tbody tr th {\n",
       "        vertical-align: top;\n",
       "    }\n",
       "\n",
       "    .dataframe thead th {\n",
       "        text-align: right;\n",
       "    }\n",
       "</style>\n",
       "<table border=\"1\" class=\"dataframe\">\n",
       "  <thead>\n",
       "    <tr style=\"text-align: right;\">\n",
       "      <th></th>\n",
       "      <th>category</th>\n",
       "    </tr>\n",
       "  </thead>\n",
       "  <tbody>\n",
       "    <tr>\n",
       "      <th>0</th>\n",
       "      <td>Music</td>\n",
       "    </tr>\n",
       "    <tr>\n",
       "      <th>1</th>\n",
       "      <td>Film &amp; Animation</td>\n",
       "    </tr>\n",
       "    <tr>\n",
       "      <th>2</th>\n",
       "      <td>Entertainment</td>\n",
       "    </tr>\n",
       "    <tr>\n",
       "      <th>3</th>\n",
       "      <td>Education</td>\n",
       "    </tr>\n",
       "    <tr>\n",
       "      <th>4</th>\n",
       "      <td>Shows</td>\n",
       "    </tr>\n",
       "    <tr>\n",
       "      <th>5</th>\n",
       "      <td>NaN</td>\n",
       "    </tr>\n",
       "    <tr>\n",
       "      <th>6</th>\n",
       "      <td>People &amp; Blogs</td>\n",
       "    </tr>\n",
       "    <tr>\n",
       "      <th>7</th>\n",
       "      <td>Gaming</td>\n",
       "    </tr>\n",
       "    <tr>\n",
       "      <th>11</th>\n",
       "      <td>Sports</td>\n",
       "    </tr>\n",
       "    <tr>\n",
       "      <th>16</th>\n",
       "      <td>Howto &amp; Style</td>\n",
       "    </tr>\n",
       "    <tr>\n",
       "      <th>33</th>\n",
       "      <td>News &amp; Politics</td>\n",
       "    </tr>\n",
       "    <tr>\n",
       "      <th>59</th>\n",
       "      <td>Comedy</td>\n",
       "    </tr>\n",
       "    <tr>\n",
       "      <th>70</th>\n",
       "      <td>Trailers</td>\n",
       "    </tr>\n",
       "    <tr>\n",
       "      <th>84</th>\n",
       "      <td>Nonprofits &amp; Activism</td>\n",
       "    </tr>\n",
       "    <tr>\n",
       "      <th>143</th>\n",
       "      <td>Science &amp; Technology</td>\n",
       "    </tr>\n",
       "    <tr>\n",
       "      <th>182</th>\n",
       "      <td>Movies</td>\n",
       "    </tr>\n",
       "    <tr>\n",
       "      <th>275</th>\n",
       "      <td>Pets &amp; Animals</td>\n",
       "    </tr>\n",
       "    <tr>\n",
       "      <th>333</th>\n",
       "      <td>Autos &amp; Vehicles</td>\n",
       "    </tr>\n",
       "    <tr>\n",
       "      <th>956</th>\n",
       "      <td>Travel &amp; Events</td>\n",
       "    </tr>\n",
       "  </tbody>\n",
       "</table>\n",
       "</div>"
      ],
      "text/plain": [
       "                  category\n",
       "0                    Music\n",
       "1         Film & Animation\n",
       "2            Entertainment\n",
       "3                Education\n",
       "4                    Shows\n",
       "5                      NaN\n",
       "6           People & Blogs\n",
       "7                   Gaming\n",
       "11                  Sports\n",
       "16           Howto & Style\n",
       "33         News & Politics\n",
       "59                  Comedy\n",
       "70                Trailers\n",
       "84   Nonprofits & Activism\n",
       "143   Science & Technology\n",
       "182                 Movies\n",
       "275         Pets & Animals\n",
       "333       Autos & Vehicles\n",
       "956        Travel & Events"
      ]
     },
     "execution_count": 38,
     "metadata": {},
     "output_type": "execute_result"
    }
   ],
   "source": [
    "categorias = df[['category']]\n",
    "categorias = categorias.drop_duplicates(subset=['category'])\n",
    "categorias"
   ]
  },
  {
   "cell_type": "code",
   "execution_count": 39,
   "metadata": {},
   "outputs": [],
   "source": [
    "\n",
    "while True:\n",
    "  try:\n",
    "    categoria = input(\"Digite a categoria (em inglês) que deseja visualizar, ou vazio para ver todas: \")\n",
    "    if (categoria in df['category'].unique()) or (categoria == \"\"):\n",
    "      break\n",
    "    print(\"Insira uma categoria válida\")\n",
    "  except ValueError:\n",
    "    print(\"Insira uma categoria, por favor\")\n",
    "    continue"
   ]
  },
  {
   "cell_type": "code",
   "execution_count": 40,
   "metadata": {},
   "outputs": [],
   "source": [
    "if categoria == \"\":\n",
    "  df_filtrada = df\n",
    "else: \n",
    "  df_filtrada = df[df['category'] == categoria]"
   ]
  },
  {
   "cell_type": "code",
   "execution_count": 41,
   "metadata": {},
   "outputs": [
    {
     "data": {
      "application/vnd.plotly.v1+json": {
       "config": {
        "plotlyServerURL": "https://plot.ly"
       },
       "data": [
        {
         "customdata": [
          [
           "T-Series"
          ],
          [
           "Zee Music Company"
          ],
          [
           "BANGTANTV"
          ],
          [
           "Justin Bieber"
          ],
          [
           "HYBE LABELS"
          ],
          [
           "Canal KondZilla"
          ],
          [
           "Shemaroo Filmi Gaane"
          ],
          [
           "T-Series Bhakti Sagar"
          ],
          [
           "Tips Official"
          ],
          [
           "El Reino Infantil"
          ],
          [
           "Wave Music"
          ],
          [
           "Sony Music India"
          ],
          [
           "EminemMusic"
          ],
          [
           "LooLoo Kids - Nursery Rhymes and Children's Songs"
          ],
          [
           "Ed Sheeran"
          ],
          [
           "Taylor Swift"
          ],
          [
           "Ariana Grande"
          ],
          [
           "Billie Eilish"
          ],
          [
           "SonyMusicIndiaVEVO"
          ],
          [
           "Bad Bunny"
          ],
          [
           "Katy Perry"
          ],
          [
           "Alan Walker"
          ],
          [
           "Speed Records"
          ],
          [
           "XXXTENTACION"
          ],
          [
           "GR6 EXPLODE"
          ],
          [
           "Goldmines Gaane Sune Ansune"
          ],
          [
           "One Direction"
          ],
          [
           "Daddy Yankee"
          ],
          [
           "Bruno Mars"
          ],
          [
           "Maroon 5"
          ],
          [
           "Ozuna"
          ],
          [
           "La Granja de Zenï¿½"
          ],
          [
           "T-Series Bollywood Classics"
          ],
          [
           "T-Series Apna Punjab"
          ],
          [
           "Geet MP3"
          ],
          [
           "J Balvin"
          ],
          [
           "Desi Music Factory"
          ],
          [
           "Rajshri"
          ],
          [
           "NoCopyrightSounds"
          ],
          [
           "DisneyMusicVEVO"
          ],
          [
           "The Weeknd"
          ],
          [
           "KAROL G"
          ],
          [
           "SMTOWN"
          ],
          [
           "Worldwide Records Bhojpuri"
          ],
          [
           "JustinBieberVEVO"
          ],
          [
           "ImagineDragons"
          ],
          [
           "Trap Nation"
          ],
          [
           "Adele"
          ],
          [
           "Spinnin' Records"
          ],
          [
           "Shawn Mendes"
          ],
          [
           "Ultra Records"
          ],
          [
           "Maluma"
          ],
          [
           "Aditya Music India"
          ],
          [
           "Michael Jackson"
          ],
          [
           "Drake"
          ],
          [
           "Bounce Patrol - Kids Songs"
          ],
          [
           "toycantando"
          ],
          [
           "Wiz Khalifa"
          ],
          [
           "JYP Entertainment"
          ],
          [
           "WORLDSTARHIPHOP"
          ],
          [
           "Beyoncï¿"
          ],
          [
           "Marï¿½ï¿½ï¿½ï¿½ï¿½"
          ],
          [
           "Indosiar"
          ],
          [
           "David Guetta"
          ],
          [
           "Nicki Minaj"
          ],
          [
           "TaylorSwiftVEVO"
          ],
          [
           "Post Malone"
          ],
          [
           "Coldplay"
          ],
          [
           "Chris Brown"
          ],
          [
           "RihannaVEVO"
          ],
          [
           "WatchMojo.com"
          ],
          [
           "Anuel AA"
          ],
          [
           "EminemVEVO"
          ],
          [
           "KatyPerryVEVO"
          ],
          [
           "1theK (ï¿½ï¿½ï¿½ï¿½ï"
          ],
          [
           "netd mï¿½ï¿"
          ],
          [
           "DJ Snake"
          ],
          [
           "Enrique Iglesias"
          ],
          [
           "NickyJamTV"
          ],
          [
           "Wave Music Bhojpuri"
          ],
          [
           "GMM GRAMMY OFFICIAL"
          ],
          [
           "unknown boy varun"
          ],
          [
           "toyorbabytv"
          ],
          [
           "The Chainsmokers"
          ],
          [
           "Sia"
          ],
          [
           "Paulo Londra"
          ],
          [
           "Charlie Puth"
          ],
          [
           "Dua Lipa"
          ],
          [
           "OneDirectionVEVO"
          ],
          [
           "Rotana"
          ],
          [
           "Sidhu Moose Wala"
          ],
          [
           "Becky G"
          ],
          [
           "Romeo Santos"
          ],
          [
           "Avicii"
          ],
          [
           "Linkin Park"
          ],
          [
           "Emiway Bantai"
          ],
          [
           "Skrillex"
          ],
          [
           "7clouds"
          ],
          [
           "Vevo"
          ],
          [
           "Pentatonix"
          ],
          [
           "Gusttavo Lima Oficial"
          ],
          [
           "Lil Nas X"
          ],
          [
           "Calvin Harris"
          ],
          [
           "Farruko"
          ],
          [
           "GRAMMY GOLD OFFICIAL"
          ],
          [
           "Dan-Sa / Daniel Saboya"
          ],
          [
           "RsiamMusic : ï¿½ï¿½ï¿½ï¿½ï¿½ï¿½ï¿½ï¿½"
          ],
          [
           "shakiraVEVO"
          ],
          [
           "officialpsy"
          ],
          [
           "SonyMusicSouthVEVO"
          ],
          [
           "Demi Lovato"
          ],
          [
           "Jason Derulo"
          ],
          [
           "ArianaGrandeVevo"
          ],
          [
           "Lil Pump"
          ],
          [
           "JFlaMusic"
          ],
          [
           "ýýýýýýýýýýýýýýýý - Al-Remas"
          ],
          [
           "Anitta"
          ],
          [
           "Queen Official"
          ],
          [
           "LuisFonsiVEVO"
          ],
          [
           "Pop Chartbusters"
          ],
          [
           "Travis Scott"
          ],
          [
           "Lahari Music - TSeries"
          ],
          [
           "Boyce Avenue"
          ],
          [
           "Camila Cabello"
          ],
          [
           "Little Mix"
          ],
          [
           "SAM SMITH"
          ],
          [
           "Pitbull"
          ],
          [
           "Jennifer Lopez"
          ],
          [
           "POPS Kids"
          ],
          [
           "TWICE"
          ],
          [
           "FitDance"
          ],
          [
           "DopeLyrics"
          ],
          [
           "MK MUSIC"
          ],
          [
           "Camilo"
          ],
          [
           "DM - Desi Melodies"
          ],
          [
           "Team Films Bhojpuri"
          ],
          [
           "Zee Music Classic"
          ],
          [
           "Katakit Baby TV"
          ],
          [
           "Henrique e Juliano"
          ],
          [
           "Genierock"
          ],
          [
           "zayn"
          ],
          [
           "SRK MUSIC"
          ],
          [
           "Kim Loaiza"
          ],
          [
           "BIGBANG"
          ],
          [
           "AdeleVEVO"
          ],
          [
           "Sony Music South"
          ],
          [
           "Zï¿½ï¿½ï¿½ï¿½ï¿½ï¿½ï"
          ],
          [
           "50 Cent"
          ],
          [
           "melanie martinez"
          ],
          [
           "Fueled By Ramen"
          ],
          [
           "MattyBRaps"
          ],
          [
           "Jorge & Mateus Oficial"
          ],
          [
           "Major Lazer Official"
          ],
          [
           "Camila Loures"
          ],
          [
           "Martin Garrix"
          ],
          [
           "O Reino Infantil"
          ],
          [
           "Fifth Harmony"
          ],
          [
           "LEGENDA FUNK"
          ],
          [
           "Aadishakti Films"
          ],
          [
           "Maroon5VEVO"
          ],
          [
           "Saad Lamjarred | ï¿½ï¿½ï¿½ï¿½ï¿½ï¿"
          ],
          [
           "Hear This Music"
          ],
          [
           "Coke Studio"
          ],
          [
           "SelenaGomezVEVO"
          ],
          [
           "Wish 107.5"
          ],
          [
           "Crazy Frog"
          ],
          [
           "Neha Kakkar"
          ],
          [
           "Trap City"
          ],
          [
           "Lana Del Rey"
          ],
          [
           "MalumaVEVO"
          ],
          [
           "Luli Pampï¿½"
          ],
          [
           "Gallina Pintadita"
          ],
          [
           "Atlantic Records"
          ],
          [
           "Think Music India"
          ],
          [
           "Wesley Safadï¿½"
          ],
          [
           "Lindsey Stirling"
          ],
          [
           "Awakening Music"
          ],
          [
           "Conor Maynard"
          ],
          [
           "Codiscos"
          ],
          [
           "jbalvinVEVO"
          ],
          [
           "Lokdhun Punjabi"
          ],
          [
           "Hungria Hip Hop"
          ],
          [
           "twenty one pilots"
          ],
          [
           "DJ Khaled"
          ],
          [
           "Lofi Girl"
          ],
          [
           "7 Minutoz"
          ],
          [
           "Akon"
          ],
          [
           "Rauw Alejandro"
          ],
          [
           "EnriqueIglesiasVEVO"
          ],
          [
           "Duo Tiempo De Sol"
          ],
          [
           "Beyoncï¿½ï¿½"
          ],
          [
           "Adexe & Nau"
          ],
          [
           "Jass Records"
          ],
          [
           "Future"
          ],
          [
           "NickiMinajAtVEVO"
          ],
          [
           "Ellie Goulding"
          ],
          [
           "elcarteldesantatv"
          ],
          [
           "Mundo Bita"
          ],
          [
           "Wave Music Bhakti"
          ],
          [
           "DisneyChannelUK"
          ],
          [
           "Avril Lavigne"
          ],
          [
           "Migos ATL"
          ]
         ],
         "hovertemplate": "category=Music<br>video views=%{x}<br>subscribers=%{y}<br>Youtuber=%{customdata[0]}<extra></extra>",
         "legendgroup": "Music",
         "marker": {
          "color": "#636efa",
          "symbol": "circle"
         },
         "mode": "markers",
         "name": "Music",
         "orientation": "v",
         "showlegend": true,
         "type": "scatter",
         "x": [
          228000000000,
          57856289381,
          20826993957,
          30608119724,
          28634566938,
          36775585925,
          28648024439,
          29533230328,
          33431802698,
          57271630846,
          40602020243,
          28837144516,
          27073872856,
          32312431239,
          30367676736,
          29884657286,
          24004842608,
          13626331061,
          27286058807,
          30686342319,
          25458952022,
          12884264778,
          26820902622,
          10507474316,
          25154232306,
          16718192386,
          13598903820,
          22731415608,
          19378155425,
          22553923546,
          23355801606,
          27118354077,
          22637783517,
          21306315429,
          12746535822,
          23005313609,
          10189027455,
          14864294792,
          10530729078,
          28516250629,
          23379969006,
          18699145555,
          27330239663,
          16476978876,
          26583873105,
          16793072362,
          14037426379,
          14199108016,
          19607009165,
          12831200855,
          17208027242,
          21226945136,
          25857994495,
          14412474625,
          15318895118,
          21037851468,
          15777682516,
          13379395501,
          19883150017,
          20358117330,
          17308961985,
          18597534412,
          11372071889,
          17793809548,
          10242981063,
          25592378292,
          14401218086,
          17331663193,
          15520569496,
          19458807708,
          16357064198,
          14827085149,
          20531704527,
          23755792542,
          23962070944,
          56106087508,
          8425505919,
          17688774915,
          15901824841,
          12889240875,
          25579831081,
          9299371231,
          16298342829,
          14231943358,
          13405849040,
          8040036209,
          9924807127,
          11288359365,
          12140232004,
          19329351143,
          6264261757,
          10644857969,
          17324976752,
          10292874715,
          13397000296,
          3579555124,
          6618524158,
          14816075927,
          559765455,
          6033295543,
          13917423958,
          6339584661,
          16014044618,
          9573641299,
          20196704276,
          2908120896,
          11544297793,
          25367126292,
          10703830496,
          17921124985,
          6888074944,
          9887116267,
          20115544708,
          4196061192,
          3802280098,
          11144195464,
          7337212581,
          10847948832,
          14543594822,
          8684010451,
          7979736581,
          11946217860,
          6578828147,
          6613422635,
          7520242626,
          10170264839,
          12475714382,
          10227242833,
          9763592867,
          5055576881,
          7126210721,
          9962188084,
          9198986881,
          6802382479,
          5914071870,
          6626563508,
          5558051295,
          6386271870,
          14619523361,
          14564170905,
          4909687948,
          6391679636,
          1576633086,
          7857371770,
          12413869881,
          9978734160,
          11506702632,
          10069000444,
          4395184343,
          13356517783,
          3587576784,
          9076642765,
          9383431376,
          4684983333,
          6017932195,
          11182302317,
          7952268926,
          2440718089,
          6290721701,
          20042571499,
          4315486422,
          9201428420,
          4035738731,
          11423792969,
          6048517979,
          7946322061,
          2131548711,
          5129529846,
          6884215292,
          19013942981,
          8623705301,
          9660950823,
          12513842343,
          11039343563,
          8134379376,
          3764608356,
          5545936485,
          2750993392,
          11789678655,
          20743586601,
          4712624489,
          4608751851,
          5264039679,
          6637820731,
          1698279553,
          4349562794,
          6300933122,
          11504090820,
          15446707595,
          6662288136,
          14185611472,
          4579773883,
          5958994201,
          9927699419,
          8831179714,
          6969178081,
          7489455451,
          16690788752,
          5146004207,
          12607488647,
          6202090191,
          6993406259
         ],
         "xaxis": "x",
         "y": [
          245000000,
          96700000,
          75600000,
          71600000,
          71300000,
          66500000,
          65600000,
          61000000,
          59300000,
          58400000,
          58000000,
          57200000,
          56900000,
          54000000,
          53500000,
          52900000,
          52700000,
          47900000,
          46600000,
          46100000,
          44200000,
          43700000,
          42500000,
          39200000,
          38900000,
          38300000,
          38200000,
          38000000,
          36700000,
          36600000,
          36200000,
          35700000,
          35400000,
          34600000,
          34300000,
          34100000,
          33700000,
          33500000,
          33400000,
          32700000,
          32600000,
          32100000,
          31900000,
          31700000,
          31600000,
          30700000,
          30400000,
          30200000,
          30100000,
          30000000,
          29600000,
          29300000,
          28500000,
          28200000,
          28100000,
          27800000,
          27700000,
          27500000,
          27400000,
          26500000,
          26000000,
          26000000,
          25900000,
          25700000,
          25700000,
          25600000,
          25500000,
          25300000,
          25200000,
          25100000,
          25100000,
          25000000,
          24700000,
          24600000,
          24500000,
          24100000,
          24100000,
          23800000,
          23600000,
          23100000,
          23100000,
          23100000,
          22900000,
          22600000,
          22600000,
          22400000,
          22000000,
          21800000,
          21800000,
          21800000,
          21400000,
          21300000,
          20900000,
          20600000,
          20400000,
          20400000,
          20100000,
          20100000,
          20000000,
          20000000,
          19900000,
          19100000,
          19000000,
          18800000,
          18600000,
          18500000,
          18400000,
          18400000,
          18100000,
          18000000,
          17900000,
          17900000,
          17700000,
          17700000,
          17600000,
          17400000,
          17200000,
          17000000,
          17000000,
          16900000,
          16700000,
          16600000,
          16300000,
          16300000,
          16300000,
          16300000,
          16300000,
          16200000,
          16200000,
          16100000,
          16100000,
          15900000,
          15900000,
          15900000,
          15700000,
          15700000,
          15700000,
          15500000,
          15500000,
          15400000,
          15400000,
          15200000,
          15100000,
          15100000,
          15100000,
          15000000,
          15000000,
          14900000,
          14900000,
          14800000,
          14800000,
          14800000,
          14800000,
          14700000,
          14600000,
          14600000,
          14600000,
          14500000,
          14500000,
          14500000,
          14500000,
          14500000,
          14400000,
          14400000,
          14200000,
          14200000,
          14100000,
          14100000,
          14100000,
          14100000,
          14000000,
          14000000,
          13900000,
          13800000,
          13700000,
          13600000,
          13500000,
          13500000,
          13400000,
          13200000,
          13100000,
          13100000,
          13100000,
          13100000,
          13000000,
          13000000,
          12900000,
          12900000,
          12900000,
          12800000,
          12800000,
          12700000,
          12700000,
          12700000,
          12600000,
          12600000,
          12500000,
          12500000,
          12500000,
          12400000,
          12400000,
          12400000
         ],
         "yaxis": "y"
        },
        {
         "customdata": [
          [
           "YouTube Movies"
          ],
          [
           "Goldmines"
          ],
          [
           "Movieclips"
          ],
          [
           "YRF"
          ],
          [
           "ýýýýýýýý ýý ýýýýýýýýýýýýýý"
          ],
          [
           "PowerKids TV"
          ],
          [
           "Jingle Toons"
          ],
          [
           "Galinha Pintadinha"
          ],
          [
           "Selena Gomez"
          ],
          [
           "WowKidz"
          ],
          [
           "Peppa Pig - Official Channel"
          ],
          [
           "Masha y el Oso"
          ],
          [
           "Goldmines Dishoom"
          ],
          [
           "Nick Jr."
          ],
          [
           "Goldmines Bollywood"
          ],
          [
           "ZHC"
          ],
          [
           "Pen Movies"
          ],
          [
           "Goldmines Movies"
          ],
          [
           "Peppa Pig Espaï¿½ï¿½ï¿½ï¿½ï¿½ï¿½ï¿½ï¿½ï¿½"
          ],
          [
           "Tilak"
          ],
          [
           "Valentina Pontes ofc"
          ],
          [
           "Alan Becker"
          ],
          [
           "Goldmines Cineplex"
          ],
          [
           "Ben Azelart"
          ],
          [
           "Totoy kids - Portuguï¿½"
          ],
          [
           "Pencilmation"
          ],
          [
           "Green Gold TV - Official Channel"
          ],
          [
           "Official Pink Panther"
          ],
          [
           "DaFuq!?Boom!"
          ],
          [
           "Goldmines Great Indian Comedy"
          ],
          [
           "Wow Kidz Action"
          ],
          [
           "Turma da Mï¿½ï¿½"
          ],
          [
           "BeatboxJCOP"
          ],
          [
           "MSA previously My Story Animated"
          ],
          [
           "Les' Copaque Production"
          ],
          [
           "El Payaso Plim Plim"
          ],
          [
           "Stubborn Facts"
          ],
          [
           "Gato Galactico | GALï¿½ï¿"
          ],
          [
           "Totoy kids - Espaï¿½ï"
          ],
          [
           "Rotten Tomatoes Trailers"
          ],
          [
           "Volga Video"
          ],
          [
           "Zig & Sharko"
          ],
          [
           "Invento na Hora"
          ],
          [
           "Darkar Company Studios"
          ],
          [
           "Peppa Pig em Portuguï¿½ï¿½ï¿½ï¿½ï¿½ï¿½ï¿½ï¿½ï¿"
          ],
          [
           "Zee Kids"
          ]
         ],
         "hovertemplate": "category=Film & Animation<br>video views=%{x}<br>subscribers=%{y}<br>Youtuber=%{customdata[0]}<extra></extra>",
         "legendgroup": "Film & Animation",
         "marker": {
          "color": "#EF553B",
          "symbol": "circle"
         },
         "mode": "markers",
         "name": "Film & Animation",
         "orientation": "v",
         "showlegend": true,
         "type": "scatter",
         "x": [
          0,
          24118230580,
          59316472754,
          35302243691,
          36458726976,
          18961241905,
          11351015824,
          27274550757,
          13013567335,
          16613441479,
          22919271731,
          13577142726,
          8603468420,
          22440611155,
          8595760553,
          2726917087,
          6608773195,
          5652938599,
          7920637200,
          9465863821,
          7926899136,
          5380073627,
          2431154438,
          4454917643,
          1796227417,
          11317309935,
          9715291883,
          10955619815,
          7906181776,
          5194942269,
          8281724393,
          13824277846,
          8716982055,
          8588704539,
          9059696049,
          17247584185,
          902225615,
          3693798804,
          5997599089,
          13116313599,
          9787697838,
          9023952946,
          4040297006,
          2244318380,
          4214172991,
          7683670251
         ],
         "xaxis": "x",
         "y": [
          170000000,
          86900000,
          59500000,
          54600000,
          43200000,
          36500000,
          34000000,
          33800000,
          33600000,
          32200000,
          31400000,
          28300000,
          28000000,
          27300000,
          26400000,
          25500000,
          24300000,
          24000000,
          23600000,
          23400000,
          23400000,
          22900000,
          22500000,
          21900000,
          20400000,
          20100000,
          20000000,
          19700000,
          19600000,
          19100000,
          19000000,
          19000000,
          18000000,
          17800000,
          17700000,
          17700000,
          17300000,
          16800000,
          16000000,
          15800000,
          15700000,
          14400000,
          14200000,
          13900000,
          13100000,
          12400000
         ],
         "yaxis": "y"
        },
        {
         "customdata": [
          [
           "MrBeast"
          ],
          [
           "Vlad and Niki"
          ],
          [
           "Zee TV"
          ],
          [
           "Marshmello"
          ],
          [
           "Get Movies"
          ],
          [
           "Shemaroo"
          ],
          [
           "Badabun"
          ],
          [
           "Voot Kids"
          ],
          [
           "Felipe Neto"
          ],
          [
           "Vocï¿½ï¿½ï¿½"
          ],
          [
           "HAR PAL GEO"
          ],
          [
           "HolaSoyGerman."
          ],
          [
           "ARY Digital HD"
          ],
          [
           "Like Nastya Show"
          ],
          [
           "Rihanna"
          ],
          [
           "Toys and Colors"
          ],
          [
           "WorkpointOfficial"
          ],
          [
           "TheEllenShow"
          ],
          [
           "Like Nastya ESP"
          ],
          [
           "ýýýýýýýýýýýý one31"
          ],
          [
           "Saregama Music"
          ],
          [
           "Ryan's World"
          ],
          [
           "Jess No Limit"
          ],
          [
           "Ch3Thailand"
          ],
          [
           "Eros Now Music"
          ],
          [
           "StarPlus"
          ],
          [
           "GMA  Network"
          ],
          [
           "DONA ï¿½ï¿½"
          ],
          [
           "Lucas and Marcus"
          ],
          [
           "Luis Fonsi"
          ],
          [
           "TheDonato"
          ],
          [
           "AH"
          ],
          [
           "Boram Tube Vlog [ï¿½ï¿½ï¿½ï¿½ï¿½ï¿½ï¿½ï¿½ï¿"
          ],
          [
           "ýýýýýýýý ýýýýýýýý ýýýýýýýýýý | toyoraljanahtv"
          ],
          [
           "Zhong"
          ],
          [
           "The Late Late Show with James Corden"
          ],
          [
           "HUM TV"
          ],
          [
           "Shemaroo Movies"
          ],
          [
           "Crazy XYZ"
          ],
          [
           "ToyPuddingTV"
          ],
          [
           "Dushyant kukreja"
          ],
          [
           "Renato Garcia YT"
          ],
          [
           "Netflix"
          ],
          [
           "PANDA BOI"
          ],
          [
           "BB Ki Vines"
          ],
          [
           "Junya.ï¿½ï¿½ï¿½ï¿½"
          ],
          [
           "1MILLION Dance Studio"
          ],
          [
           "TRANS7 OFFICIAL"
          ],
          [
           "Dan Rhodes"
          ],
          [
           "America's Got Talent"
          ],
          [
           "Like Nastya AE"
          ],
          [
           "Amit Bhadana"
          ],
          [
           "MrBeast en Espaï¿½ï"
          ],
          [
           "KSI"
          ],
          [
           "James Charles"
          ],
          [
           "Collins Key"
          ],
          [
           "Venus Entertainment"
          ],
          [
           "Juan De Dios Pantoja"
          ],
          [
           "Logan Paul"
          ],
          [
           "Maya and Mary"
          ],
          [
           "Sesame Street"
          ],
          [
           "Akshay Nagwadiya"
          ],
          [
           "Tsuriki Show"
          ],
          [
           "DrossRotzank"
          ],
          [
           "White Hill Music"
          ],
          [
           "KL BRO Biju Rithvik"
          ],
          [
           "Like Nastya PRT"
          ],
          [
           "Kinder Spielzeug Kanal (Kidibli)"
          ],
          [
           "Sagawa /ï¿½ï¿½ï¿½"
          ],
          [
           "Disney Latinoamï¿½ï¿½"
          ],
          [
           "Eva Bravo Play"
          ],
          [
           "Infinite"
          ],
          [
           "Azhan5star"
          ],
          [
           "Dangal TV Channel"
          ],
          [
           "GMA Public  Affairs"
          ],
          [
           "nigahiga"
          ],
          [
           "Rafa & Luiz"
          ],
          [
           "Lyrical Lemonade"
          ],
          [
           "Fatos Desconhecidos"
          ],
          [
           "Yoeslan"
          ],
          [
           "Zach King"
          ],
          [
           "Deddy Corbuzier"
          ],
          [
           "Mnet K-POP"
          ],
          [
           "Ninja Kidz TV"
          ],
          [
           "Vijay Television"
          ],
          [
           "SlivkiShow"
          ],
          [
           "Got Talent Global"
          ],
          [
           "Ami Rodriguez"
          ],
          [
           "Family GamesTV"
          ],
          [
           "CookieSwirlC"
          ],
          [
           "Robin Hood Gamer"
          ],
          [
           "Marvel Entertainment"
          ],
          [
           "REACT"
          ],
          [
           "Gordon Ramsay"
          ],
          [
           "Britain's Got Talent"
          ],
          [
           "SCTV"
          ],
          [
           "tabii Urdu"
          ],
          [
           "RKD Studios"
          ],
          [
           "etvteluguindia"
          ],
          [
           "Sonotek"
          ],
          [
           "Jimmy Kimmel Live"
          ],
          [
           "KBS WORLD TV"
          ],
          [
           "Sidemen"
          ],
          [
           "ýýýýýýýýýýýýýýýýýýýýýý"
          ],
          [
           "CKN"
          ],
          [
           "Shemaroo Comedy"
          ],
          [
           "PDK Films"
          ],
          [
           "Miley Cyrus"
          ],
          [
           "Good Mythical Morning"
          ],
          [
           "Jake Fellman"
          ],
          [
           "GEN HALILINTAR"
          ],
          [
           "Ajay Sharma"
          ],
          [
           "And TV"
          ],
          [
           "RobleisIUTU"
          ],
          [
           "Like Nastya VNM"
          ],
          [
           "Porta dos Fundos"
          ],
          [
           "FactTechz"
          ],
          [
           "Fun For Kids TV - Hindi Rhymes"
          ],
          [
           "AMARINTV : ï¿½ï¿½ï¿½ï¿½ï¿½ï¿½ï¿½ï¿½ï¿½ï¿½ï¿½ï¿½"
          ],
          [
           "Taarak Mehta Ka Ooltah Chashmah"
          ],
          [
           "TRANS TV Official"
          ],
          [
           "Gaby and Alex"
          ],
          [
           "EeOneGuy"
          ],
          [
           "VICE"
          ],
          [
           "DeToxoMoroxo"
          ],
          [
           "Doggy Doggy Cartoons"
          ],
          [
           "Like Nastya IDN"
          ],
          [
           "Salman Noman"
          ],
          [
           "With Kids[ï¿½ï¿½ï¿½ï¿½ï"
          ],
          [
           "Werever2morro"
          ],
          [
           "SriBalajiMovies"
          ],
          [
           "Younes Zarou"
          ],
          [
           "Jordan Matter"
          ],
          [
           "ýýýýýýýý ýýýýýýýýýýýýýýýýýýýýýý"
          ],
          [
           "FunFun Toy Doll TV"
          ],
          [
           "Ch7HD"
          ],
          [
           "RCTI - LAYAR DRAMA INDONESIA"
          ],
          [
           "Alfredo Larin"
          ],
          [
           "GMMTV OFFICIALï¿½ï¿½"
          ],
          [
           "Matt Stonie"
          ],
          [
           "Bollywood Classics"
          ],
          [
           "Kids Play"
          ],
          [
           "LEGO"
          ],
          [
           "AdMe"
          ],
          [
           "Dyland PROS"
          ],
          [
           "Daily Dose Of Internet"
          ],
          [
           "Disney Junior"
          ],
          [
           "La Rosa de Guadalupe"
          ],
          [
           "Prime Video India"
          ],
          [
           "Caeli YT"
          ],
          [
           "Juliana Baltar"
          ],
          [
           "Super Senya"
          ],
          [
           "Kashvi Adlakha"
          ],
          [
           "Talking Tom & Friends"
          ],
          [
           "Mazhavil Manorama"
          ],
          [
           "Niana Guerrero"
          ],
          [
           "Sony LIV"
          ],
          [
           "T-Series Hamaar Bhojpuri"
          ],
          [
           "Oyuncak Avï¿"
          ],
          [
           "Chapitosiki"
          ],
          [
           "Little Angel - Mï¿½ï¿½ï¿½ï¿½ï¿½ï¿½ï¿½ï¿½ï¿½ï¿½"
          ],
          [
           "XpressTV"
          ],
          [
           "THE BROWN SIBLINGS"
          ],
          [
           "Ray William Johnson"
          ],
          [
           "A2 Motivation by Arvind Arora"
          ],
          [
           "MNCTV OFFICIAL"
          ],
          [
           "ERB"
          ],
          [
           "iTownGamePlay *Terror&Diversiï¿½ï"
          ],
          [
           "ýýýýýýýýýýýý8 : Thai Ch8"
          ],
          [
           "Bayashi TV"
          ],
          [
           "ýýýýýýýýýý ýýýýýýýýýýýý"
          ],
          [
           "Maha Fun Tv"
          ],
          [
           "Canal Nostalgia"
          ],
          [
           "The Slow Mo Guys"
          ],
          [
           "Colors Rishtey"
          ],
          [
           "Doc Tops"
          ],
          [
           "Like Nastya Stories"
          ],
          [
           "les boys tv2"
          ],
          [
           "Reaction Time"
          ],
          [
           "Telemundo"
          ],
          [
           "GMM25Thailand"
          ],
          [
           "ýýýýýýýýýýýýýýýýýýýýý"
          ],
          [
           "Drawblogs"
          ],
          [
           "ýýýýýýýýýýýý ýýýýýýýýýýýý I ýýýýýý ýý ýýýýýýýýýý"
          ],
          [
           "RS 1313 SHORTS"
          ],
          [
           "ZEE5"
          ],
          [
           "SIS vs BRO"
          ],
          [
           "Zee Bangla"
          ],
          [
           "DangMattSmith"
          ],
          [
           "#Refugio Mental"
          ],
          [
           "ýýýýýýýýýýýýýýýýýýýý ýýýýýýýýýýýýýýýýýýýý"
          ],
          [
           "Yudist Ardhana"
          ],
          [
           "Bie The Ska"
          ],
          [
           "Zee Telugu"
          ],
          [
           "Crescendo com Luluca"
          ],
          [
           "karameeshchannel"
          ],
          [
           "T-Series Regional"
          ],
          [
           "ADEL et SAMI"
          ],
          [
           "Airrack"
          ],
          [
           "Goldmines Premiere"
          ],
          [
           "MAIKI021"
          ],
          [
           "Saturday Night Live"
          ],
          [
           "JULIA GISELLA"
          ],
          [
           "Lady Diana"
          ],
          [
           "Sanjoy Das Official"
          ],
          [
           "Vijay Kumar Viner Vlogs"
          ],
          [
           "Blockbuster Movies"
          ],
          [
           "Matt Steffanina"
          ],
          [
           "Kurt Hugo Schneider"
          ],
          [
           "Vogue"
          ],
          [
           "VexTrex"
          ],
          [
           "HUBAï¿½ï¿½"
          ],
          [
           "BIBO ï¿½ï¿½ï¿½ï¿½ï¿½ï¿"
          ],
          [
           "Ei Nerd"
          ],
          [
           "Sonotek Bhakti"
          ],
          [
           "MC Divertida"
          ],
          [
           "Ryan Trahan"
          ],
          [
           "Ian Boggs"
          ],
          [
           "RedeTV"
          ],
          [
           "Davie504"
          ],
          [
           "Calon Sarjana"
          ],
          [
           "Jomy Production"
          ],
          [
           "JesseAndMike"
          ],
          [
           "Susy Mouriz"
          ],
          [
           "Matheus Yurley"
          ],
          [
           "BIBOï¿½ï¿½ï¿½ï¿½ï"
          ],
          [
           "Top Viral Talent"
          ],
          [
           "Talking Angela"
          ],
          [
           "MrSuicideSheep"
          ],
          [
           "Ian Lucas"
          ],
          [
           "YoungBoy Never Broke Again"
          ],
          [
           "#Refï¿½ï¿½ï¿½ï¿½"
          ],
          [
           "colinfurze"
          ],
          [
           "People Vs Food"
          ],
          [
           "Parafernalha"
          ],
          [
           "NDTV"
          ],
          [
           "Family Fitness"
          ],
          [
           "Zee Tamil"
          ],
          [
           "Flowers Comedy"
          ],
          [
           "SAAIHALILINTAR"
          ],
          [
           "Heidi and Zidane HZHtube"
          ]
         ],
         "hovertemplate": "category=Entertainment<br>video views=%{x}<br>subscribers=%{y}<br>Youtuber=%{customdata[0]}<extra></extra>",
         "legendgroup": "Entertainment",
         "marker": {
          "color": "#00cc96",
          "symbol": "circle"
         },
         "mode": "markers",
         "name": "Entertainment",
         "orientation": "v",
         "showlegend": true,
         "type": "scatter",
         "x": [
          28368841870,
          77180169894,
          73139054467,
          14696003229,
          30788679536,
          22519705183,
          19398045702,
          21388725229,
          16602198273,
          7828610828,
          41139050371,
          4831311245,
          37939780685,
          19547696190,
          22477745835,
          47005053156,
          36131228583,
          22756581750,
          18208196857,
          27262462114,
          15657673422,
          55299840198,
          3963007415,
          29611914495,
          17853798780,
          26800674545,
          19428308461,
          21031745531,
          11615848291,
          15176762479,
          6187804950,
          4332274962,
          13546549817,
          27684955537,
          14727238483,
          9956764048,
          23844936965,
          7600740993,
          7705492350,
          15916882228,
          17318452893,
          7938616641,
          7173668905,
          17211600007,
          4749833967,
          16097531087,
          7886440199,
          14169516119,
          17387583720,
          3699352704,
          12385924995,
          2380248899,
          2700914170,
          6002166932,
          4067878931,
          6582932625,
          5663125358,
          2135644776,
          5994002464,
          6766461070,
          22471357411,
          7966720147,
          31494513067,
          6041264489,
          10939966484,
          17988347989,
          11568118121,
          11136266461,
          18347969186,
          20657571751,
          9346383505,
          5141834668,
          10047736580,
          12895427184,
          11364908616,
          4380564906,
          7762905663,
          10631638628,
          3828000587,
          17963202261,
          5410164682,
          4956090094,
          15038593883,
          11009148579,
          29406206620,
          4707412332,
          2441288701,
          2951914200,
          7066711323,
          23353115850,
          10366850490,
          5634695322,
          13154314376,
          3875172235,
          11323617496,
          9808676159,
          8779729549,
          5234251168,
          23038014291,
          7590582024,
          13124645973,
          15126092508,
          5257834105,
          9594188708,
          12295637162,
          6047584292,
          4120324310,
          7760819588,
          8798044678,
          13378360425,
          3306242674,
          12249828886,
          15412333005,
          5168721499,
          9867515979,
          7739048000,
          2238134438,
          7612385622,
          13043561912,
          11371738047,
          9710962528,
          8229883114,
          3827906874,
          4609753237,
          2315962318,
          6518418501,
          7195314800,
          10393037902,
          8826138204,
          2798273962,
          9439857193,
          15278668857,
          5819508534,
          2440934034,
          7406207930,
          9463244435,
          13478392540,
          14431830557,
          12844432341,
          3527627264,
          7141825267,
          8091706232,
          20522339099,
          4488680903,
          1517638132,
          6872702790,
          15812009296,
          9642146451,
          8696631898,
          1511794214,
          3869457097,
          5070970714,
          12714141740,
          6396049701,
          16545966132,
          1491452935,
          7151683497,
          7564652648,
          8333387785,
          13897932103,
          8897705695,
          4008801873,
          8658553456,
          10239836582,
          8932038210,
          8074260978,
          4033400167,
          4977284539,
          5549770244,
          8615618825,
          2230986039,
          1321380490,
          1506796393,
          2465473772,
          12362331529,
          2613197447,
          6944967581,
          4577292740,
          4260187928,
          8582696157,
          9383692066,
          600154268,
          1629801448,
          2972474215,
          8011977288,
          18515587421,
          6973932553,
          11428794827,
          3317805543,
          3594936775,
          3920221322,
          6036496916,
          4627069704,
          12597067132,
          5094050461,
          9106781518,
          5217553897,
          5465532801,
          2224911030,
          1973638757,
          1950178163,
          14717282742,
          5380132790,
          8265920659,
          3912334359,
          7958771872,
          2650061211,
          3299216601,
          3733856870,
          4177184071,
          7923901253,
          9884886099,
          1148422000,
          3568392223,
          3789736218,
          5224764969,
          2182651464,
          9110348202,
          5333569294,
          2683297849,
          10664585,
          5057163256,
          9999238237,
          6270909026,
          140022442,
          3178222797,
          3643698504,
          3632438963,
          6970899521,
          1450874545,
          13174393401,
          2709954270,
          1612094871,
          1136534702,
          4625777945,
          4935793409,
          10384848759,
          11552190002,
          11691081301,
          1113066203,
          4021409291
         ],
         "xaxis": "x",
         "y": [
          166000000,
          98900000,
          70500000,
          56400000,
          47500000,
          47400000,
          46800000,
          45500000,
          45200000,
          44700000,
          44600000,
          43600000,
          43200000,
          42400000,
          41900000,
          40300000,
          39000000,
          38200000,
          37600000,
          37500000,
          35500000,
          35200000,
          34000000,
          33500000,
          32700000,
          32000000,
          31900000,
          31700000,
          31600000,
          31400000,
          31200000,
          30400000,
          30300000,
          30200000,
          29200000,
          28400000,
          28300000,
          28200000,
          27300000,
          27100000,
          27100000,
          26900000,
          26700000,
          26400000,
          26300000,
          26200000,
          26100000,
          25000000,
          24800000,
          24800000,
          24400000,
          24300000,
          24200000,
          24100000,
          23900000,
          23900000,
          23800000,
          23600000,
          23600000,
          23600000,
          23300000,
          23200000,
          23000000,
          23000000,
          23000000,
          22800000,
          22700000,
          22200000,
          22000000,
          21900000,
          21600000,
          21300000,
          21300000,
          21300000,
          21200000,
          21000000,
          21000000,
          21000000,
          20900000,
          20700000,
          20700000,
          20600000,
          20500000,
          20500000,
          20400000,
          20400000,
          20300000,
          20200000,
          20200000,
          20100000,
          20100000,
          20100000,
          20000000,
          20000000,
          19700000,
          19700000,
          19600000,
          19500000,
          19400000,
          19200000,
          19100000,
          19000000,
          18800000,
          18800000,
          18700000,
          18600000,
          18400000,
          18300000,
          18300000,
          18100000,
          18100000,
          18100000,
          18000000,
          17900000,
          17900000,
          17700000,
          17500000,
          17500000,
          17400000,
          17300000,
          17100000,
          17000000,
          16900000,
          16900000,
          16800000,
          16800000,
          16800000,
          16700000,
          16700000,
          16600000,
          16600000,
          16600000,
          16600000,
          16500000,
          16500000,
          16400000,
          16400000,
          16400000,
          16400000,
          16300000,
          16300000,
          16200000,
          16200000,
          16200000,
          16100000,
          16100000,
          16100000,
          16100000,
          15700000,
          15600000,
          15600000,
          15500000,
          15500000,
          15500000,
          15300000,
          15200000,
          15200000,
          15200000,
          15200000,
          15100000,
          15000000,
          15000000,
          15000000,
          15000000,
          15000000,
          14900000,
          14900000,
          14900000,
          14900000,
          14900000,
          14700000,
          14700000,
          14700000,
          14700000,
          14700000,
          14600000,
          14500000,
          14500000,
          14500000,
          14500000,
          14500000,
          14400000,
          14400000,
          14400000,
          14400000,
          14400000,
          14200000,
          14200000,
          14200000,
          14100000,
          14100000,
          14100000,
          14100000,
          14000000,
          14000000,
          13900000,
          13900000,
          13900000,
          13800000,
          13700000,
          13700000,
          13600000,
          13500000,
          13500000,
          13500000,
          13500000,
          13400000,
          13300000,
          13300000,
          13300000,
          13300000,
          13200000,
          13200000,
          13200000,
          13200000,
          13200000,
          13100000,
          13100000,
          13100000,
          13000000,
          13000000,
          13000000,
          13000000,
          13000000,
          12900000,
          12900000,
          12900000,
          12800000,
          12800000,
          12700000,
          12700000,
          12700000,
          12500000,
          12500000,
          12500000,
          12500000,
          12500000,
          12500000,
          12500000,
          12400000,
          12400000
         ],
         "yaxis": "y"
        },
        {
         "customdata": [
          [
           "Cocomelon - Nursery Rhymes"
          ],
          [
           "Pinkfong Baby Shark - Kids' Songs & Stories"
          ],
          [
           "ChuChu TV Nursery Rhymes & Kids Songs"
          ],
          [
           "Infobells - Hindi"
          ],
          [
           "BillionSurpriseToys  - Nursery Rhymes & Cartoons"
          ],
          [
           "Little Baby Bum - Nursery Rhymes & Kids Songs"
          ],
          [
           "Super Simple Songs - Kids Songs"
          ],
          [
           "Genevieve's Playhouse - Learning Videos for Kids"
          ],
          [
           "CVS 3D Rhymes & Kids Songs"
          ],
          [
           "BabyBus - Kids Songs and Cartoons"
          ],
          [
           "Little Angel: Nursery Rhymes & Kids Songs"
          ],
          [
           "infobells - Tamil"
          ],
          [
           "infobells - Telugu"
          ],
          [
           "BabyBus - Canciones Infantiles & Videos para Niï¿½ï"
          ],
          [
           "Khan GS Research Centre"
          ],
          [
           "Dr. Vivek Bindra: Motivational Speaker"
          ],
          [
           "Kurzgesagt ï¿½ï¿½ï¿½ï¿½ï¿½ï¿"
          ],
          [
           "ýýýýýýýýýýýýýýý - Genevieve's Playhouse"
          ],
          [
           "BabyBus - Cerita & Lagu Anak-anak"
          ],
          [
           "Kiddiestv Hindi - Nursery Rhymes & Kids Songs"
          ],
          [
           "ýýýýýýýýýýýýýý ýýýý"
          ],
          [
           "Little Angel Espaï¿½ï¿½ï¿½ï¿½ï¿½ï¿½ï¿½ï¿½ï¿½"
          ],
          [
           "TED-Ed"
          ],
          [
           "Blippi - Educational Videos for Kids"
          ],
          [
           "Jason Vlogs"
          ],
          [
           "El Reino a Jugar"
          ],
          [
           "wifistudy"
          ],
          [
           "Dear Sir"
          ],
          [
           "Infobells Bangla"
          ],
          [
           "Dave and Ava - Nursery Rhymes and Baby Songs"
          ],
          [
           "Daftar Populer"
          ],
          [
           "TheRichest"
          ],
          [
           "CrashCourse"
          ],
          [
           "StudyIQ IAS"
          ],
          [
           "Netflix Jr."
          ],
          [
           "infobells - Kannada"
          ],
          [
           "Veritasium"
          ],
          [
           "infobells"
          ],
          [
           "JOJO TV - Hindi Stories"
          ],
          [
           "The Infographics Show"
          ],
          [
           "The Shiny Peanut"
          ],
          [
           "Right to Shiksha"
          ],
          [
           "Little Baby Bum en Espaï¿½ï"
          ],
          [
           "TKOR"
          ],
          [
           "Caylus"
          ]
         ],
         "hovertemplate": "category=Education<br>video views=%{x}<br>subscribers=%{y}<br>Youtuber=%{customdata[0]}<extra></extra>",
         "legendgroup": "Education",
         "marker": {
          "color": "#ab63fa",
          "symbol": "circle"
         },
         "mode": "markers",
         "name": "Education",
         "orientation": "v",
         "showlegend": true,
         "type": "scatter",
         "x": [
          164000000000,
          38843229963,
          45757850229,
          30516172739,
          9877365274,
          39450824833,
          44900897958,
          25607397308,
          20269857567,
          26355088167,
          22593193994,
          17930570614,
          14814192034,
          13206471140,
          2073073070,
          1693149479,
          2378448129,
          11022391339,
          11819051552,
          7274150246,
          4924054368,
          9813245108,
          3654621568,
          14857290259,
          8903647480,
          11445492404,
          3018032423,
          1349288771,
          7776706184,
          10714145606,
          2143140898,
          2730879024,
          1833519700,
          4029253667,
          8882319696,
          6554000320,
          2165885634,
          5178142148,
          5141201173,
          5263540904,
          2848466522,
          7876740921,
          6956320454,
          3392022527,
          4779139505
         ],
         "xaxis": "x",
         "y": [
          162000000,
          68200000,
          65900000,
          53300000,
          52200000,
          40900000,
          39200000,
          34900000,
          33400000,
          32800000,
          30100000,
          28900000,
          28300000,
          22900000,
          21200000,
          20900000,
          20800000,
          20300000,
          20300000,
          20200000,
          19000000,
          18900000,
          18800000,
          18100000,
          17200000,
          17200000,
          16000000,
          15800000,
          15500000,
          15300000,
          15100000,
          15000000,
          14800000,
          14700000,
          14700000,
          14200000,
          13900000,
          13700000,
          13600000,
          13200000,
          12900000,
          12800000,
          12500000,
          12400000,
          12400000
         ],
         "yaxis": "y"
        },
        {
         "customdata": [
          [
           "SET India"
          ],
          [
           "Sony SAB"
          ],
          [
           "Colors TV"
          ],
          [
           "Masha and The Bear"
          ],
          [
           "Sony PAL"
          ],
          [
           "Mr Bean"
          ],
          [
           "Kids TV - Nursery Rhymes And Baby Songs"
          ],
          [
           "Sony AATH"
          ],
          [
           "Masha e o Urso"
          ],
          [
           "MGC Playhouse"
          ],
          [
           "ýýýýýýýý ýý ýýýýýýýý"
          ],
          [
           "Kids TV India Hindi Nursery Rhymes"
          ],
          [
           "ýýýýýýýý ýýýý ýýýýýýýýýýýýýý"
          ]
         ],
         "hovertemplate": "category=Shows<br>video views=%{x}<br>subscribers=%{y}<br>Youtuber=%{customdata[0]}<extra></extra>",
         "legendgroup": "Shows",
         "marker": {
          "color": "#FFA15A",
          "symbol": "circle"
         },
         "mode": "markers",
         "name": "Shows",
         "orientation": "v",
         "showlegend": true,
         "type": "scatter",
         "x": [
          148000000000,
          101000000000,
          61510906457,
          24519022988,
          28519339489,
          10602236110,
          13151870846,
          13930021471,
          8301731337,
          16174530046,
          8265129639,
          6646953396,
          5585085130
         ],
         "xaxis": "x",
         "y": [
          159000000,
          83000000,
          64600000,
          42400000,
          38200000,
          32100000,
          23100000,
          19600000,
          18900000,
          17900000,
          15500000,
          13800000,
          12900000
         ],
         "yaxis": "y"
        },
        {
         "customdata": [
          [
           "ýýý Kids Diana Show"
          ],
          [
           "Like Nastya"
          ],
          [
           "BLACKPINK"
          ],
          [
           "ABS-CBN Entertainment"
          ],
          [
           "Shakira"
          ],
          [
           "Kimberly Loaiza"
          ],
          [
           "shfa2 - ï¿½ï¿½"
          ],
          [
           "LUCCAS NETO - LUCCAS TOON"
          ],
          [
           "shfa"
          ],
          [
           "ABP NEWS"
          ],
          [
           "Maria Clara & JP"
          ],
          [
           "Ricis Official"
          ],
          [
           "YOLO AVENTURAS"
          ],
          [
           "Sandeep Maheshwari"
          ],
          [
           "MrBeast 2"
          ],
          [
           "ýýý Kids Roma Show"
          ],
          [
           "Beast Reacts"
          ],
          [
           "NichLmao"
          ],
          [
           "LosPolinesios"
          ],
          [
           "Rans Entertainment"
          ],
          [
           "Las Ratitas"
          ],
          [
           "WB Kids"
          ],
          [
           "ABPLIVE"
          ],
          [
           "mujjuu___14"
          ],
          [
           "Diana and Roma EN"
          ],
          [
           "Mister Max"
          ],
          [
           "Miss Katy"
          ],
          [
           "Lady Gaga"
          ],
          [
           "TED"
          ],
          [
           "Vania Mania Kids"
          ],
          [
           "Sun TV"
          ],
          [
           "mmoshaya"
          ],
          [
           "LeoNata Family"
          ],
          [
           "Smile Family"
          ],
          [
           "Zach Choi ASMR"
          ],
          [
           "Stokes Twins"
          ],
          [
           "Netflix India"
          ],
          [
           "Sourav Joshi Vlogs"
          ],
          [
           "Tekashi 6ix9ine"
          ],
          [
           "SMOL"
          ],
          [
           "The Royalty Family"
          ],
          [
           "Ishaan Ali 11"
          ],
          [
           "Baim Paula"
          ],
          [
           "LIV Crime"
          ],
          [
           "tuzelity SHUFFLE"
          ],
          [
           "Jake Paul"
          ],
          [
           "BuzzFeedVideo"
          ],
          [
           "Crafty Panda"
          ],
          [
           "Troom Troom Es"
          ],
          [
           "JukiLop"
          ],
          [
           "shane"
          ],
          [
           "HiMan"
          ],
          [
           "Cardi B"
          ],
          [
           "The ACE Family"
          ],
          [
           "Like Nastya Vlog"
          ],
          [
           "Willie Salim"
          ],
          [
           "Dhar Mann"
          ],
          [
           "Naisa Alifia Yuriza (N.A.Y)"
          ],
          [
           "Bobby chourasiya"
          ],
          [
           "INCRï¿½ï¿"
          ],
          [
           "David Dobrik"
          ],
          [
           "KatieAngel"
          ],
          [
           "Zuni and Family"
          ],
          [
           "Priyal Kukreja"
          ],
          [
           "jaanvi patel"
          ],
          [
           "tanboy kun"
          ],
          [
           "Koray Zeynep"
          ],
          [
           "Danny Fitt"
          ],
          [
           "deepesh zo"
          ],
          [
           "Tu COSMOPOLIS"
          ],
          [
           "XO TEAM"
          ],
          [
           "ExtraPolinesios"
          ],
          [
           "Canal IN"
          ],
          [
           "sagar kalra (Shorts)"
          ],
          [
           "ýýýýýýýýýý"
          ],
          [
           "Arif muhammad"
          ],
          [
           "5-Minute Crafts FAMILY"
          ],
          [
           "Blippi Espaï¿½ï"
          ],
          [
           "Roman Atwood Vlogs"
          ],
          [
           "Kerajinan 5-Menit"
          ],
          [
           "ILYA BORZOV"
          ],
          [
           "Pokï¿½ï¿½ï¿½ï¿½ï¿½ï¿½ï¿½ï¿½ï¿½"
          ],
          [
           "It's Mamix"
          ],
          [
           "Ranz Kyle"
          ],
          [
           "PowerfulJRE"
          ],
          [
           "Hongyu ASMR ï¿½ï¿½"
          ],
          [
           "Mohamed Ramadan I ï¿½ï¿½ï¿½ï¿½ï¿½ï¿½ï"
          ],
          [
           "Chetan Monga Vlogs"
          ],
          [
           "ZutiGang"
          ],
          [
           "ýýýýýý"
          ],
          [
           "Meghan Trainor"
          ],
          [
           "Beast Philanthropy"
          ],
          [
           "5-Minute Crafts Recycle"
          ],
          [
           "Auron"
          ],
          [
           "Planeta das Gï¿½ï¿½"
          ],
          [
           "Boram Tube ToysReview [ï¿½ï¿½ï¿½ï¿½ï¿½ï¿½ï¿½ï¿½ï¿"
          ],
          [
           "TV9 Bharatvarsh"
          ],
          [
           "Indore Physical Academy"
          ],
          [
           "Harry Styles"
          ],
          [
           "Super Polina"
          ],
          [
           "TV Ana Emilia"
          ],
          [
           "ViralHog"
          ],
          [
           "ETV Jabardasth"
          ],
          [
           "Dental Digest"
          ],
          [
           "JD Pantoja"
          ],
          [
           "123 GO! Spanish"
          ],
          [
           "MyMissAnand"
          ],
          [
           "The World Adventures ï¿½ï¿½ï¿½ï¿½ï¿½ï¿½"
          ],
          [
           "Peet Montzingo"
          ],
          [
           "The Q"
          ],
          [
           "Stray Kids"
          ],
          [
           "ýýýýýýýýýýýýýýýýýý"
          ],
          [
           "Kids Lineï¿½ï¿½ï¿½ï¿½ï¿½ï¿½ï¿½"
          ],
          [
           "ýýýýýýTwinsFromRussia"
          ],
          [
           "CookingShooking Hindi"
          ],
          [
           "Alex Gonzaga Official"
          ],
          [
           "Knowledge Tv ï¿½ï¿½ï¿½ï¿½ï¿½ï¿½"
          ],
          [
           "Painzeiro"
          ],
          [
           "ýýýýýýýýýýýýýýý Ms Yeah"
          ],
          [
           "RaptorGamer"
          ],
          [
           "Pastor Antï¿½ï¿½ï¿½ï¿½ï"
          ],
          [
           "AlArabiya ï¿½ï¿½ï¿½ï¿½ï¿"
          ],
          [
           "Go Ami Go!"
          ],
          [
           "CaseyNeistat"
          ],
          [
           "ýýýýýýýýýSULGI"
          ],
          [
           "Ja Mill"
          ],
          [
           "Troom Troom Indonesia"
          ],
          [
           "Hero Movies 2023"
          ],
          [
           "Gibby :)"
          ],
          [
           "Pari's Lifestyle"
          ],
          [
           "ANNA KOVA"
          ],
          [
           "Free Fire India Official"
          ]
         ],
         "hovertemplate": "category=People & Blogs<br>video views=%{x}<br>subscribers=%{y}<br>Youtuber=%{customdata[0]}<extra></extra>",
         "legendgroup": "People & Blogs",
         "marker": {
          "color": "#FF6692",
          "symbol": "circle"
         },
         "mode": "markers",
         "name": "People & Blogs",
         "orientation": "v",
         "showlegend": true,
         "type": "scatter",
         "x": [
          93247040539,
          90479060027,
          32144597566,
          50292540392,
          27568757295,
          5603111948,
          23884824160,
          22302547082,
          21528116909,
          13102611515,
          24188861917,
          5994136760,
          9673649438,
          2303069221,
          4552581106,
          10336420490,
          4388047013,
          14101010609,
          7466926260,
          6430853035,
          9602246828,
          11081602368,
          7968363381,
          14655527943,
          7213499085,
          15510153803,
          14696994366,
          15751661213,
          2551113422,
          10115316784,
          20847038152,
          17507060680,
          27084848152,
          8663830163,
          5918314128,
          4469711607,
          7780934187,
          9392093496,
          5890180734,
          22065582014,
          6269945014,
          12761253839,
          4526271677,
          11058049885,
          8658941531,
          7311322368,
          17913237851,
          5759442450,
          7452667615,
          1577859332,
          4329121104,
          2855519150,
          7634430188,
          4558380251,
          8147575884,
          4051072188,
          11280732382,
          1606834186,
          9937823152,
          3213324455,
          7176572299,
          3841205465,
          6746269458,
          11057945183,
          7912733203,
          3647267655,
          16560557488,
          9544277833,
          7206462713,
          5089284369,
          14784781923,
          4813127504,
          2687443643,
          6543629679,
          1845329502,
          4122634467,
          6165757696,
          8984089026,
          5469103954,
          4750420071,
          9938811455,
          857725714,
          1777072487,
          1760131384,
          3060202847,
          4967784343,
          5324913850,
          9924103188,
          15913320995,
          439098,
          8649303688,
          272678287,
          8866012877,
          3337074920,
          4622581344,
          5014888374,
          10303519926,
          4156427797,
          5689224452,
          4776507159,
          4674164601,
          18917687143,
          13542939513,
          7450345720,
          1493776391,
          5019136690,
          4963275018,
          2139769210,
          10022557589,
          4306212515,
          3364230487,
          6482687220,
          9088562002,
          9378175604,
          1758603195,
          1401914513,
          1936582704,
          2555801802,
          4399833602,
          2879263916,
          2112274210,
          7520379951,
          1714955279,
          3152402405,
          3485373675,
          1302818088,
          5379684248,
          1689090619,
          2862685032,
          7741764747,
          13959586308,
          1674409945
         ],
         "xaxis": "x",
         "y": [
          112000000,
          106000000,
          89800000,
          44200000,
          43500000,
          41300000,
          39700000,
          39400000,
          38400000,
          37000000,
          37000000,
          33300000,
          31200000,
          27800000,
          27500000,
          27400000,
          26700000,
          26000000,
          25700000,
          25400000,
          25200000,
          25200000,
          25200000,
          24800000,
          23900000,
          23700000,
          23500000,
          23200000,
          23100000,
          22700000,
          22600000,
          22600000,
          22600000,
          22300000,
          21900000,
          21800000,
          21800000,
          21700000,
          21500000,
          21500000,
          21300000,
          21300000,
          21100000,
          20900000,
          20700000,
          20400000,
          20100000,
          19800000,
          19700000,
          19400000,
          19200000,
          18900000,
          18800000,
          18500000,
          18500000,
          18500000,
          18400000,
          18300000,
          18200000,
          18200000,
          17900000,
          17900000,
          17900000,
          17800000,
          17700000,
          17700000,
          17400000,
          16900000,
          16800000,
          16700000,
          16200000,
          16200000,
          16100000,
          16000000,
          15900000,
          15800000,
          15600000,
          15500000,
          15400000,
          15400000,
          15300000,
          15200000,
          15100000,
          15100000,
          15100000,
          15100000,
          15100000,
          15000000,
          14900000,
          14900000,
          14800000,
          14800000,
          14800000,
          14600000,
          14600000,
          14500000,
          14500000,
          14400000,
          14400000,
          14300000,
          14000000,
          14000000,
          14000000,
          13900000,
          13800000,
          13800000,
          13700000,
          13400000,
          13400000,
          13400000,
          13300000,
          13300000,
          13300000,
          13200000,
          13200000,
          13100000,
          13100000,
          13100000,
          13100000,
          13100000,
          12900000,
          12900000,
          12700000,
          12600000,
          12600000,
          12500000,
          12500000,
          12400000,
          12400000,
          12400000,
          12400000,
          12300000
         ],
         "yaxis": "y"
        },
        {
         "customdata": [
          [
           "PewDiePie"
          ],
          [
           "JuegaGerman"
          ],
          [
           "A4"
          ],
          [
           "Fernanfloo"
          ],
          [
           "elrubiusOMG"
          ],
          [
           "Mikecrack"
          ],
          [
           "MrBeast Gaming"
          ],
          [
           "Total Gaming"
          ],
          [
           "Markiplier"
          ],
          [
           "Techno Gamerz"
          ],
          [
           "VEGETTA777"
          ],
          [
           "SSSniperWolf"
          ],
          [
           "rezendeevil"
          ],
          [
           "Dream"
          ],
          [
           "AboFlah"
          ],
          [
           "Frost Diamond"
          ],
          [
           "jacksepticeye"
          ],
          [
           "DanTDM"
          ],
          [
           "VanossGaming"
          ],
          [
           "Preston"
          ],
          [
           "Ninja"
          ],
          [
           "FaZe Rug"
          ],
          [
           "Jelly"
          ],
          [
           "SSundee"
          ],
          [
           "FGTeeV"
          ],
          [
           "invictor"
          ],
          [
           "LazarBeam"
          ],
          [
           "MiawAug"
          ],
          [
           "AuthenticGames"
          ],
          [
           "AS Gaming"
          ],
          [
           "Clash of Clans"
          ],
          [
           "Ali-A"
          ],
          [
           "ýýýýýýýý ýýýýýýýýýý ýýýýýýýýýý | Arab Games Network"
          ],
          [
           "Marmok"
          ],
          [
           "IShowSpeed"
          ],
          [
           "SQUEEZIE"
          ],
          [
           "TheGrefg"
          ],
          [
           "zbing z."
          ],
          [
           "The Game Theorists"
          ],
          [
           "DeGoBooM"
          ],
          [
           "IGN"
          ],
          [
           "Aphmau"
          ],
          [
           "PopularMMOs"
          ],
          [
           "Willyrex"
          ],
          [
           "Guava Juice"
          ],
          [
           "CoryxKenshin"
          ],
          [
           "Technoblade"
          ],
          [
           "W2S"
          ],
          [
           "JJ Olatunji"
          ],
          [
           "Antrax"
          ],
          [
           "Enes Batur"
          ],
          [
           "Lyna"
          ],
          [
           "Unspeakable"
          ],
          [
           "Kuplinov ï¿½ï¿½ï¿"
          ],
          [
           "FFUNTV"
          ],
          [
           "Mobile Legends: Bang Bang"
          ],
          [
           "LOKESH GAMER"
          ],
          [
           "Makiman131"
          ],
          [
           "EdisonPts"
          ],
          [
           "MoreAliA"
          ],
          [
           "League of Legends"
          ],
          [
           "PlayStation"
          ],
          [
           "Kwebbelkop"
          ],
          [
           "BigSchool"
          ],
          [
           "TazerCraft"
          ],
          [
           "Lachlan"
          ],
          [
           "Jesser"
          ],
          [
           "PrestonPlayz"
          ],
          [
           "Gyan Gamingï¿½"
          ],
          [
           "NOBRU"
          ],
          [
           "TommyInnit"
          ],
          [
           "E-MasterSensei"
          ],
          [
           "AM3NlC"
          ],
          [
           "ýýýýýýýýýýýý"
          ],
          [
           "Jazzghost"
          ],
          [
           "ýýýýýýýý/Atro"
          ],
          [
           "Desi Gamers"
          ],
          [
           "Acenix"
          ],
          [
           "BUDI01 GAMING"
          ],
          [
           "Typical Gamer"
          ],
          [
           "H2ODelirious"
          ],
          [
           "theRadBrad"
          ],
          [
           "penguinz0"
          ],
          [
           "BanderitaX"
          ],
          [
           "AzzyLand"
          ],
          [
           "Brawl Stars"
          ],
          [
           "GH'S"
          ],
          [
           "Piuzinho"
          ],
          [
           "Morgz"
          ],
          [
           "Yair17"
          ],
          [
           "LOUD"
          ],
          [
           "Timba Vk"
          ],
          [
           "DaniRep | +6 Vï¿½ï¿½ï¿½ï¿½ï¿½ï¿½ï¿½ï¿½ï¿½ï¿½ï"
          ],
          [
           "RobTopGames"
          ]
         ],
         "hovertemplate": "category=Gaming<br>video views=%{x}<br>subscribers=%{y}<br>Youtuber=%{customdata[0]}<extra></extra>",
         "legendgroup": "Gaming",
         "marker": {
          "color": "#B6E880",
          "symbol": "circle"
         },
         "mode": "markers",
         "name": "Gaming",
         "orientation": "v",
         "showlegend": true,
         "type": "scatter",
         "x": [
          29058044447,
          14631710289,
          22936630813,
          10323391593,
          7410536668,
          16118181673,
          6331332547,
          5556364230,
          20297931219,
          9690499664,
          15432929204,
          23492684419,
          13061739758,
          2930015381,
          4521573939,
          7277493940,
          16246625836,
          19417887510,
          15541421838,
          8279004442,
          2543809954,
          7451792132,
          14777034543,
          13835173331,
          24059336857,
          8409641722,
          8768697257,
          6098644584,
          8920141342,
          2851024430,
          3961318438,
          6148303268,
          8761255550,
          3457618361,
          1556003039,
          9983065083,
          6404852037,
          9269174070,
          3752347262,
          6306204566,
          16107116549,
          17763586483,
          14573155899,
          5024088947,
          9111000228,
          7102965621,
          1656452554,
          4768370464,
          4076692623,
          3029872908,
          9786595271,
          6534326412,
          9052367553,
          6862529416,
          11513738907,
          1543608082,
          1640078055,
          4236036141,
          6668507856,
          4352427049,
          7159750970,
          4741434420,
          6889304306,
          9996133066,
          5956193599,
          5269059435,
          3603556207,
          5766647017,
          2224121890,
          351763324,
          2084791147,
          3920559552,
          4959982720,
          7719743112,
          5673347763,
          2480957682,
          2135195239,
          2122062016,
          1181292450,
          4301581610,
          4356686216,
          6050102764,
          7773543609,
          4129249415,
          6412313570,
          2036408398,
          8739174649,
          1081285962,
          3303595310,
          1402042328,
          2394143260,
          2840137980,
          6933660906,
          374123483
         ],
         "xaxis": "x",
         "y": [
          111000000,
          48100000,
          46300000,
          46100000,
          40400000,
          39100000,
          36100000,
          35400000,
          35200000,
          34400000,
          33800000,
          33700000,
          32100000,
          31700000,
          30500000,
          30100000,
          30100000,
          27400000,
          25800000,
          24000000,
          23700000,
          23700000,
          23500000,
          22500000,
          22300000,
          21500000,
          20500000,
          20200000,
          20100000,
          19600000,
          19600000,
          18700000,
          18600000,
          18500000,
          18300000,
          18100000,
          18000000,
          17600000,
          17600000,
          17600000,
          17500000,
          17400000,
          17200000,
          17200000,
          16900000,
          16700000,
          16300000,
          16300000,
          16200000,
          16000000,
          16000000,
          15900000,
          15900000,
          15600000,
          15400000,
          15400000,
          15300000,
          15100000,
          15100000,
          15000000,
          15000000,
          15000000,
          15000000,
          15000000,
          14900000,
          14800000,
          14600000,
          14600000,
          14400000,
          14400000,
          14200000,
          14200000,
          14000000,
          14000000,
          13900000,
          13800000,
          13700000,
          13600000,
          13500000,
          13500000,
          13400000,
          13300000,
          13300000,
          13300000,
          13300000,
          13200000,
          13000000,
          12700000,
          12600000,
          12500000,
          12400000,
          12400000,
          12400000,
          12300000
         ],
         "yaxis": "y"
        },
        {
         "customdata": [
          [
           "WWE"
          ],
          [
           "Dude Perfect"
          ],
          [
           "NBA"
          ],
          [
           "FIFA"
          ],
          [
           "How Ridiculous"
          ],
          [
           "UFC - Ultimate Fighting Championship"
          ],
          [
           "FC Barcelona"
          ],
          [
           "F2Freestylers - Ultimate Soccer Skills Channel"
          ],
          [
           "DALLMYD"
          ],
          [
           "gymvirtual"
          ],
          [
           "Natan por Aï¿"
          ]
         ],
         "hovertemplate": "category=Sports<br>video views=%{x}<br>subscribers=%{y}<br>Youtuber=%{customdata[0]}<extra></extra>",
         "legendgroup": "Sports",
         "marker": {
          "color": "#FF97FF",
          "symbol": "circle"
         },
         "mode": "markers",
         "name": "Sports",
         "orientation": "v",
         "showlegend": true,
         "type": "scatter",
         "x": [
          77428473662,
          16241549158,
          12624879732,
          5529131886,
          9601137077,
          7135820721,
          2656528205,
          3280481927,
          1948925559,
          2509752944,
          9029609749
         ],
         "xaxis": "x",
         "y": [
          96000000,
          59500000,
          20700000,
          19400000,
          18000000,
          16400000,
          15300000,
          14100000,
          13600000,
          12900000,
          12300000
         ],
         "yaxis": "y"
        },
        {
         "customdata": [
          [
           "5-Minute Crafts"
          ],
          [
           "BRIGHT SIDE"
          ],
          [
           "GENIAL"
          ],
          [
           "Gulshan Kalra"
          ],
          [
           "Fede Vigevani"
          ],
          [
           "Yuya"
          ],
          [
           "Chloe Ting"
          ],
          [
           "Troom Troom"
          ],
          [
           "Village Cooking Channel"
          ],
          [
           "Tasty"
          ],
          [
           "5-Minute Crafts DIY"
          ],
          [
           "5-Minute Crafts PLAY"
          ],
          [
           "SUPER SLICK SLIME SAM"
          ],
          [
           "Manual do Mundo"
          ],
          [
           "ýýýýýýýýý Liziqi"
          ],
          [
           "HowToBasic"
          ],
          [
           "IDEAS EN 5 MINUTOS"
          ],
          [
           "Sandra Cires Art"
          ],
          [
           "jeffreestar"
          ],
          [
           "ýýýýýýýý ýýýýýýýýýýýýýý ýýýý 5 ýýýýýýýýýý"
          ],
          [
           "Musas"
          ],
          [
           "Mariale"
          ],
          [
           "ýýýýýýýý ýýýýýýýý"
          ],
          [
           "Mis Pastelitos"
          ],
          [
           "IDEIAS INCRï¿½ï¿½"
          ],
          [
           "Rosanna Pansino"
          ],
          [
           "NikkieTutorials"
          ],
          [
           "Narins Beauty"
          ],
          [
           "Alexa Rivera"
          ],
          [
           "NishaMadhulika"
          ],
          [
           "Anaysa"
          ],
          [
           "Wengie"
          ],
          [
           "ATHLEAN-Xï¿½"
          ],
          [
           "Kabita's Kitchen"
          ],
          [
           "Troom Troom India"
          ],
          [
           "Blossom"
          ],
          [
           "Health Time"
          ],
          [
           "First We Feast"
          ],
          [
           "Troom Troom PT"
          ],
          [
           "bharatzkitchen HINDI"
          ]
         ],
         "hovertemplate": "category=Howto & Style<br>video views=%{x}<br>subscribers=%{y}<br>Youtuber=%{customdata[0]}<extra></extra>",
         "legendgroup": "Howto & Style",
         "marker": {
          "color": "#FECB52",
          "symbol": "circle"
         },
         "mode": "markers",
         "name": "Howto & Style",
         "orientation": "v",
         "showlegend": true,
         "type": "scatter",
         "x": [
          26236790209,
          10708531817,
          6762424690,
          12732444881,
          7962725960,
          2588501115,
          2994726412,
          10414479943,
          5863377051,
          5783557209,
          5091618606,
          6119294270,
          7229175322,
          3980991248,
          2977741577,
          3684816159,
          3696973456,
          3955426159,
          2609358468,
          4499826716,
          2400037562,
          2761547758,
          7018015062,
          2750902766,
          3551889957,
          4597228794,
          1778318927,
          2214167846,
          3193226072,
          2939201386,
          3445794123,
          1900272833,
          2319515787,
          2831275503,
          6804072897,
          4733873025,
          1002219689,
          2983799729,
          4384177908,
          2315226648
         ],
         "xaxis": "x",
         "y": [
          80100000,
          44500000,
          31800000,
          27100000,
          25600000,
          24800000,
          24700000,
          23800000,
          21600000,
          21100000,
          20700000,
          20100000,
          19000000,
          18000000,
          17600000,
          17300000,
          16600000,
          16400000,
          15900000,
          15500000,
          15100000,
          15100000,
          14800000,
          14600000,
          14500000,
          14400000,
          14200000,
          14000000,
          13900000,
          13700000,
          13500000,
          13500000,
          13400000,
          13300000,
          12800000,
          12700000,
          12500000,
          12500000,
          12500000,
          12400000
         ],
         "yaxis": "y"
        },
        {
         "customdata": [
          [
           "Aaj Tak"
          ],
          [
           "YouTube"
          ],
          [
           "IndiaTV"
          ],
          [
           "Zee News"
          ],
          [
           "Raffy Tulfo in Action"
          ],
          [
           "The Lallantop"
          ],
          [
           "Tlnovelas"
          ],
          [
           "SOMOY TV"
          ],
          [
           "DLS News"
          ],
          [
           "Sebastiï¿½ï¿½ï¿½"
          ],
          [
           "News 24"
          ],
          [
           "News18 India"
          ],
          [
           "NMF News"
          ],
          [
           "BBC News Hindi"
          ],
          [
           "Thairath Online"
          ],
          [
           "Narendra Modi"
          ],
          [
           "CNN"
          ],
          [
           "NDTV India"
          ],
          [
           "ABS-CBN News"
          ],
          [
           "Republic Bharat"
          ],
          [
           "KOMPASTV"
          ],
          [
           "ABC News"
          ],
          [
           "BBC News"
          ],
          [
           "Jamuna TV"
          ],
          [
           "Geo News"
          ],
          [
           "GMA Integrated News"
          ]
         ],
         "hovertemplate": "category=News & Politics<br>video views=%{x}<br>subscribers=%{y}<br>Youtuber=%{customdata[0]}<extra></extra>",
         "legendgroup": "News & Politics",
         "marker": {
          "color": "#636efa",
          "symbol": "circle"
         },
         "mode": "markers",
         "name": "News & Politics",
         "orientation": "v",
         "showlegend": true,
         "type": "scatter",
         "x": [
          25307753534,
          3010784935,
          16105023749,
          16709857823,
          15065753455,
          10409352249,
          15013096899,
          12293479945,
          2255542592,
          10463166404,
          8396875537,
          7263619576,
          7435180827,
          7043235131,
          14563841315,
          3392918989,
          14198154095,
          6624168155,
          10489367372,
          7536093065,
          11827310821,
          12961669452,
          4598387043,
          12129583055,
          5727888539,
          9569814790
         ],
         "xaxis": "x",
         "y": [
          57600000,
          36300000,
          35500000,
          30500000,
          26500000,
          25200000,
          21500000,
          19800000,
          19400000,
          18000000,
          17700000,
          17500000,
          16600000,
          16500000,
          16200000,
          15800000,
          15200000,
          15200000,
          15100000,
          15000000,
          15000000,
          14700000,
          14500000,
          13900000,
          13800000,
          13400000
         ],
         "yaxis": "y"
        },
        {
         "customdata": [
          [
           "whinderssonnunes"
          ],
          [
           "Luisito Comunica"
          ],
          [
           "CarryMinati"
          ],
          [
           "Jkk Entertainment"
          ],
          [
           "KHANDESHI MOVIES"
          ],
          [
           "The Tonight Show Starring Jimmy Fallon"
          ],
          [
           "Round2hell"
          ],
          [
           "Talking Tom"
          ],
          [
           "ashish chanchlani vines"
          ],
          [
           "Enaldinho"
          ],
          [
           "AuronPlay"
          ],
          [
           "Shorts Break"
          ],
          [
           "Brent Rivera"
          ],
          [
           "enchufetv"
          ],
          [
           "Alan Chikin Chow"
          ],
          [
           "Smosh"
          ],
          [
           "LankyBox"
          ],
          [
           "Alejo Igoa"
          ],
          [
           "Daniel LaBelle"
          ],
          [
           "Spider Slack"
          ],
          [
           "Heroindori"
          ],
          [
           "Topper Guild"
          ],
          [
           "YOLO"
          ],
          [
           "Canal Canalha"
          ],
          [
           "Bizarrap"
          ],
          [
           "Noor Stars"
          ],
          [
           "dednahype"
          ],
          [
           "Marta and Rustam"
          ],
          [
           "JennaMarbles"
          ],
          [
           "TheOdd1sOut"
          ],
          [
           "Triggered Insaan"
          ],
          [
           "TheWillyrex"
          ],
          [
           "Lele Pons"
          ],
          [
           "MissaSinfonia"
          ],
          [
           "TheBrianMaps"
          ],
          [
           "Liza Koshy"
          ],
          [
           "Prajapati News"
          ],
          [
           "Aayu and Pihu Show"
          ],
          [
           "FailArmy"
          ],
          [
           "Kaykai Salaider"
          ],
          [
           "T3ddy"
          ],
          [
           "Harsh Beniwal"
          ],
          [
           "The MriDul"
          ],
          [
           "Rubï¿½ï¿½ï¿½ï¿½ï¿½ï¿½"
          ],
          [
           "ISSEI / ï¿½ï¿½ï¿½ï¿½"
          ],
          [
           "Chad Wild Clay"
          ],
          [
           "CollegeHumor"
          ],
          [
           "Noman Official"
          ],
          [
           "Lilly Singh"
          ],
          [
           "Cyprien"
          ],
          [
           "Rclbeauty101"
          ],
          [
           "Rebecca Zamolo"
          ],
          [
           "SEVENGERS"
          ],
          [
           "O Que Nï¿½ï¿½ï¿½ï¿½ï¿½ï¿"
          ],
          [
           "The Vishal bhatt"
          ],
          [
           "FAPTV"
          ],
          [
           "Woody & Kleiny"
          ],
          [
           "My Mate Nate"
          ],
          [
           "Just For Laughs Gags"
          ],
          [
           "Everson Zoio"
          ],
          [
           "The LaBrant Fam"
          ],
          [
           "Melon City Show - ï¿½ï¿½ï¿½ï¿½ï¿½ï¿½ï¿½ï¿½ï¿½ï¿½ï¿"
          ],
          [
           "Adam W"
          ],
          [
           "Franco Escamilla"
          ],
          [
           "CKM"
          ],
          [
           "_vector_"
          ],
          [
           "Gustavo Parï¿½ï¿½"
          ],
          [
           "MoniLina"
          ],
          [
           "Make Joke Of"
          ]
         ],
         "hovertemplate": "category=Comedy<br>video views=%{x}<br>subscribers=%{y}<br>Youtuber=%{customdata[0]}<extra></extra>",
         "legendgroup": "Comedy",
         "marker": {
          "color": "#EF553B",
          "symbol": "circle"
         },
         "mode": "markers",
         "name": "Comedy",
         "orientation": "v",
         "showlegend": true,
         "type": "scatter",
         "x": [
          4274709210,
          8670473639,
          3294013141,
          16402066717,
          11405809704,
          17111726160,
          3145161634,
          15199330166,
          4457913639,
          11627437847,
          4079141673,
          19466238065,
          6570935979,
          10317306313,
          27006526665,
          10435474336,
          34300482066,
          10999000479,
          12916159065,
          13943030228,
          9223534599,
          15552070846,
          1573058816,
          1870608170,
          7657171980,
          2764127969,
          20919403720,
          19694265358,
          1803249241,
          4566120190,
          3276891538,
          7038827526,
          5244917119,
          2274007523,
          4448334716,
          2173106162,
          1001465469,
          9270331567,
          3037260680,
          4434679706,
          2990185467,
          1781226000,
          4503880875,
          9477021288,
          13562853889,
          6751985988,
          7255848125,
          5525773746,
          3517662420,
          3086254545,
          3900312631,
          6388439235,
          10238593147,
          1967930734,
          9596430464,
          5457203710,
          11717217293,
          3363634923,
          7406628736,
          1024467771,
          4637474071,
          5863456698,
          9502983550,
          4266957149,
          4465772496,
          7597013023,
          2602614088,
          16086808918,
          2129773714
         ],
         "xaxis": "x",
         "y": [
          44200000,
          40600000,
          39200000,
          37200000,
          33500000,
          31200000,
          30700000,
          30200000,
          29800000,
          29200000,
          29200000,
          29000000,
          27000000,
          26700000,
          26400000,
          26100000,
          25400000,
          24100000,
          24100000,
          24000000,
          22600000,
          21900000,
          21400000,
          20800000,
          20600000,
          20200000,
          20200000,
          20200000,
          19700000,
          19100000,
          18800000,
          18400000,
          17900000,
          17600000,
          17100000,
          17100000,
          17000000,
          16900000,
          16500000,
          16400000,
          16200000,
          15400000,
          15200000,
          15100000,
          15000000,
          14700000,
          14700000,
          14600000,
          14500000,
          14400000,
          14400000,
          14300000,
          14200000,
          13700000,
          13700000,
          13700000,
          13500000,
          13400000,
          13300000,
          13000000,
          13000000,
          12800000,
          12800000,
          12700000,
          12500000,
          12400000,
          12400000,
          12400000,
          12300000
         ],
         "yaxis": "y"
        },
        {
         "customdata": [
          [
           "Ishtar Music"
          ],
          [
           "Ultra Bollywood"
          ]
         ],
         "hovertemplate": "category=Trailers<br>video views=%{x}<br>subscribers=%{y}<br>Youtuber=%{customdata[0]}<extra></extra>",
         "legendgroup": "Trailers",
         "marker": {
          "color": "#00cc96",
          "symbol": "circle"
         },
         "mode": "markers",
         "name": "Trailers",
         "orientation": "v",
         "showlegend": true,
         "type": "scatter",
         "x": [
          17608931161,
          15653786446
         ],
         "xaxis": "x",
         "y": [
          41400000,
          36600000
         ],
         "yaxis": "y"
        },
        {
         "customdata": [
          [
           "TEDx Talks"
          ],
          [
           "Bispo Bruno Leonardo"
          ]
         ],
         "hovertemplate": "category=Nonprofits & Activism<br>video views=%{x}<br>subscribers=%{y}<br>Youtuber=%{customdata[0]}<extra></extra>",
         "legendgroup": "Nonprofits & Activism",
         "marker": {
          "color": "#ab63fa",
          "symbol": "circle"
         },
         "mode": "markers",
         "name": "Nonprofits & Activism",
         "orientation": "v",
         "showlegend": true,
         "type": "scatter",
         "x": [
          7339333120,
          3523578665
         ],
         "xaxis": "x",
         "y": [
          38600000,
          16900000
         ],
         "yaxis": "y"
        },
        {
         "customdata": [
          [
           "MR. INDIAN HACKER"
          ],
          [
           "Mark Rober"
          ],
          [
           "Happy Lives"
          ],
          [
           "Technical Guruji"
          ],
          [
           "National Geographic"
          ],
          [
           "HaerteTest"
          ],
          [
           "Vsauce"
          ],
          [
           "Unbox Therapy"
          ],
          [
           "Apple"
          ],
          [
           "Marques Brownlee"
          ],
          [
           "Linus Tech Tips"
          ],
          [
           "Mr DegrEE"
          ],
          [
           "Mrwhosetheboss"
          ],
          [
           "Hacksmith Industries"
          ],
          [
           "Trakin Tech"
          ],
          [
           "Technology Gyan"
          ],
          [
           "Quantum Tech HD"
          ]
         ],
         "hovertemplate": "category=Science & Technology<br>video views=%{x}<br>subscribers=%{y}<br>Youtuber=%{customdata[0]}<extra></extra>",
         "legendgroup": "Science & Technology",
         "marker": {
          "color": "#FFA15A",
          "symbol": "circle"
         },
         "mode": "markers",
         "name": "Science & Technology",
         "orientation": "v",
         "showlegend": true,
         "type": "scatter",
         "x": [
          5711208484,
          3647987299,
          2634,
          3378047383,
          5614621131,
          3234880084,
          2897907132,
          4508184467,
          1026425106,
          3606912471,
          7172386509,
          12880388253,
          3736069980,
          1820559912,
          2262690743,
          1138262456,
          4340213066
         ],
         "xaxis": "x",
         "y": [
          31700000,
          24600000,
          23200000,
          23000000,
          21800000,
          19800000,
          19300000,
          19300000,
          17300000,
          17200000,
          15600000,
          15500000,
          15400000,
          13800000,
          13300000,
          13200000,
          12500000
         ],
         "yaxis": "y"
        },
        {
         "customdata": [
          [
           "Aditya Movies"
          ],
          [
           "Ultra Movie Parlour"
          ]
         ],
         "hovertemplate": "category=Movies<br>video views=%{x}<br>subscribers=%{y}<br>Youtuber=%{customdata[0]}<extra></extra>",
         "legendgroup": "Movies",
         "marker": {
          "color": "#19d3f3",
          "symbol": "circle"
         },
         "mode": "markers",
         "name": "Movies",
         "orientation": "v",
         "showlegend": true,
         "type": "scatter",
         "x": [
          10062770060,
          5320485069
         ],
         "xaxis": "x",
         "y": [
          28400000,
          22900000
         ],
         "yaxis": "y"
        },
        {
         "customdata": [
          [
           "That Little Puff"
          ],
          [
           "Brave Wilderness"
          ],
          [
           "The Dodo"
          ],
          [
           "BBC"
          ]
         ],
         "hovertemplate": "category=Pets & Animals<br>video views=%{x}<br>subscribers=%{y}<br>Youtuber=%{customdata[0]}<extra></extra>",
         "legendgroup": "Pets & Animals",
         "marker": {
          "color": "#FF6692",
          "symbol": "circle"
         },
         "mode": "markers",
         "name": "Pets & Animals",
         "orientation": "v",
         "showlegend": true,
         "type": "scatter",
         "x": [
          20289689389,
          4927879069,
          9964116817,
          9685060624
         ],
         "xaxis": "x",
         "y": [
          23700000,
          20900000,
          14200000,
          13600000
         ],
         "yaxis": "y"
        },
        {
         "customdata": [
          [
           "DUDU e CAROL"
          ],
          [
           "Supercar Blondie"
          ]
         ],
         "hovertemplate": "category=Autos & Vehicles<br>video views=%{x}<br>subscribers=%{y}<br>Youtuber=%{customdata[0]}<extra></extra>",
         "legendgroup": "Autos & Vehicles",
         "marker": {
          "color": "#B6E880",
          "symbol": "circle"
         },
         "mode": "markers",
         "name": "Autos & Vehicles",
         "orientation": "v",
         "showlegend": true,
         "type": "scatter",
         "x": [
          9597894786,
          5405563355
         ],
         "xaxis": "x",
         "y": [
          21600000,
          14100000
         ],
         "yaxis": "y"
        },
        {
         "customdata": [
          [
           "Mï¿½ï¿½ï¿½ï¿½"
          ]
         ],
         "hovertemplate": "category=Travel & Events<br>video views=%{x}<br>subscribers=%{y}<br>Youtuber=%{customdata[0]}<extra></extra>",
         "legendgroup": "Travel & Events",
         "marker": {
          "color": "#FF97FF",
          "symbol": "circle"
         },
         "mode": "markers",
         "name": "Travel & Events",
         "orientation": "v",
         "showlegend": true,
         "type": "scatter",
         "x": [
          3140883140
         ],
         "xaxis": "x",
         "y": [
          12500000
         ],
         "yaxis": "y"
        }
       ],
       "layout": {
        "legend": {
         "title": {
          "text": "category"
         },
         "tracegroupgap": 0
        },
        "margin": {
         "t": 60
        },
        "template": {
         "data": {
          "bar": [
           {
            "error_x": {
             "color": "#2a3f5f"
            },
            "error_y": {
             "color": "#2a3f5f"
            },
            "marker": {
             "line": {
              "color": "#E5ECF6",
              "width": 0.5
             },
             "pattern": {
              "fillmode": "overlay",
              "size": 10,
              "solidity": 0.2
             }
            },
            "type": "bar"
           }
          ],
          "barpolar": [
           {
            "marker": {
             "line": {
              "color": "#E5ECF6",
              "width": 0.5
             },
             "pattern": {
              "fillmode": "overlay",
              "size": 10,
              "solidity": 0.2
             }
            },
            "type": "barpolar"
           }
          ],
          "carpet": [
           {
            "aaxis": {
             "endlinecolor": "#2a3f5f",
             "gridcolor": "white",
             "linecolor": "white",
             "minorgridcolor": "white",
             "startlinecolor": "#2a3f5f"
            },
            "baxis": {
             "endlinecolor": "#2a3f5f",
             "gridcolor": "white",
             "linecolor": "white",
             "minorgridcolor": "white",
             "startlinecolor": "#2a3f5f"
            },
            "type": "carpet"
           }
          ],
          "choropleth": [
           {
            "colorbar": {
             "outlinewidth": 0,
             "ticks": ""
            },
            "type": "choropleth"
           }
          ],
          "contour": [
           {
            "colorbar": {
             "outlinewidth": 0,
             "ticks": ""
            },
            "colorscale": [
             [
              0,
              "#0d0887"
             ],
             [
              0.1111111111111111,
              "#46039f"
             ],
             [
              0.2222222222222222,
              "#7201a8"
             ],
             [
              0.3333333333333333,
              "#9c179e"
             ],
             [
              0.4444444444444444,
              "#bd3786"
             ],
             [
              0.5555555555555556,
              "#d8576b"
             ],
             [
              0.6666666666666666,
              "#ed7953"
             ],
             [
              0.7777777777777778,
              "#fb9f3a"
             ],
             [
              0.8888888888888888,
              "#fdca26"
             ],
             [
              1,
              "#f0f921"
             ]
            ],
            "type": "contour"
           }
          ],
          "contourcarpet": [
           {
            "colorbar": {
             "outlinewidth": 0,
             "ticks": ""
            },
            "type": "contourcarpet"
           }
          ],
          "heatmap": [
           {
            "colorbar": {
             "outlinewidth": 0,
             "ticks": ""
            },
            "colorscale": [
             [
              0,
              "#0d0887"
             ],
             [
              0.1111111111111111,
              "#46039f"
             ],
             [
              0.2222222222222222,
              "#7201a8"
             ],
             [
              0.3333333333333333,
              "#9c179e"
             ],
             [
              0.4444444444444444,
              "#bd3786"
             ],
             [
              0.5555555555555556,
              "#d8576b"
             ],
             [
              0.6666666666666666,
              "#ed7953"
             ],
             [
              0.7777777777777778,
              "#fb9f3a"
             ],
             [
              0.8888888888888888,
              "#fdca26"
             ],
             [
              1,
              "#f0f921"
             ]
            ],
            "type": "heatmap"
           }
          ],
          "heatmapgl": [
           {
            "colorbar": {
             "outlinewidth": 0,
             "ticks": ""
            },
            "colorscale": [
             [
              0,
              "#0d0887"
             ],
             [
              0.1111111111111111,
              "#46039f"
             ],
             [
              0.2222222222222222,
              "#7201a8"
             ],
             [
              0.3333333333333333,
              "#9c179e"
             ],
             [
              0.4444444444444444,
              "#bd3786"
             ],
             [
              0.5555555555555556,
              "#d8576b"
             ],
             [
              0.6666666666666666,
              "#ed7953"
             ],
             [
              0.7777777777777778,
              "#fb9f3a"
             ],
             [
              0.8888888888888888,
              "#fdca26"
             ],
             [
              1,
              "#f0f921"
             ]
            ],
            "type": "heatmapgl"
           }
          ],
          "histogram": [
           {
            "marker": {
             "pattern": {
              "fillmode": "overlay",
              "size": 10,
              "solidity": 0.2
             }
            },
            "type": "histogram"
           }
          ],
          "histogram2d": [
           {
            "colorbar": {
             "outlinewidth": 0,
             "ticks": ""
            },
            "colorscale": [
             [
              0,
              "#0d0887"
             ],
             [
              0.1111111111111111,
              "#46039f"
             ],
             [
              0.2222222222222222,
              "#7201a8"
             ],
             [
              0.3333333333333333,
              "#9c179e"
             ],
             [
              0.4444444444444444,
              "#bd3786"
             ],
             [
              0.5555555555555556,
              "#d8576b"
             ],
             [
              0.6666666666666666,
              "#ed7953"
             ],
             [
              0.7777777777777778,
              "#fb9f3a"
             ],
             [
              0.8888888888888888,
              "#fdca26"
             ],
             [
              1,
              "#f0f921"
             ]
            ],
            "type": "histogram2d"
           }
          ],
          "histogram2dcontour": [
           {
            "colorbar": {
             "outlinewidth": 0,
             "ticks": ""
            },
            "colorscale": [
             [
              0,
              "#0d0887"
             ],
             [
              0.1111111111111111,
              "#46039f"
             ],
             [
              0.2222222222222222,
              "#7201a8"
             ],
             [
              0.3333333333333333,
              "#9c179e"
             ],
             [
              0.4444444444444444,
              "#bd3786"
             ],
             [
              0.5555555555555556,
              "#d8576b"
             ],
             [
              0.6666666666666666,
              "#ed7953"
             ],
             [
              0.7777777777777778,
              "#fb9f3a"
             ],
             [
              0.8888888888888888,
              "#fdca26"
             ],
             [
              1,
              "#f0f921"
             ]
            ],
            "type": "histogram2dcontour"
           }
          ],
          "mesh3d": [
           {
            "colorbar": {
             "outlinewidth": 0,
             "ticks": ""
            },
            "type": "mesh3d"
           }
          ],
          "parcoords": [
           {
            "line": {
             "colorbar": {
              "outlinewidth": 0,
              "ticks": ""
             }
            },
            "type": "parcoords"
           }
          ],
          "pie": [
           {
            "automargin": true,
            "type": "pie"
           }
          ],
          "scatter": [
           {
            "fillpattern": {
             "fillmode": "overlay",
             "size": 10,
             "solidity": 0.2
            },
            "type": "scatter"
           }
          ],
          "scatter3d": [
           {
            "line": {
             "colorbar": {
              "outlinewidth": 0,
              "ticks": ""
             }
            },
            "marker": {
             "colorbar": {
              "outlinewidth": 0,
              "ticks": ""
             }
            },
            "type": "scatter3d"
           }
          ],
          "scattercarpet": [
           {
            "marker": {
             "colorbar": {
              "outlinewidth": 0,
              "ticks": ""
             }
            },
            "type": "scattercarpet"
           }
          ],
          "scattergeo": [
           {
            "marker": {
             "colorbar": {
              "outlinewidth": 0,
              "ticks": ""
             }
            },
            "type": "scattergeo"
           }
          ],
          "scattergl": [
           {
            "marker": {
             "colorbar": {
              "outlinewidth": 0,
              "ticks": ""
             }
            },
            "type": "scattergl"
           }
          ],
          "scattermapbox": [
           {
            "marker": {
             "colorbar": {
              "outlinewidth": 0,
              "ticks": ""
             }
            },
            "type": "scattermapbox"
           }
          ],
          "scatterpolar": [
           {
            "marker": {
             "colorbar": {
              "outlinewidth": 0,
              "ticks": ""
             }
            },
            "type": "scatterpolar"
           }
          ],
          "scatterpolargl": [
           {
            "marker": {
             "colorbar": {
              "outlinewidth": 0,
              "ticks": ""
             }
            },
            "type": "scatterpolargl"
           }
          ],
          "scatterternary": [
           {
            "marker": {
             "colorbar": {
              "outlinewidth": 0,
              "ticks": ""
             }
            },
            "type": "scatterternary"
           }
          ],
          "surface": [
           {
            "colorbar": {
             "outlinewidth": 0,
             "ticks": ""
            },
            "colorscale": [
             [
              0,
              "#0d0887"
             ],
             [
              0.1111111111111111,
              "#46039f"
             ],
             [
              0.2222222222222222,
              "#7201a8"
             ],
             [
              0.3333333333333333,
              "#9c179e"
             ],
             [
              0.4444444444444444,
              "#bd3786"
             ],
             [
              0.5555555555555556,
              "#d8576b"
             ],
             [
              0.6666666666666666,
              "#ed7953"
             ],
             [
              0.7777777777777778,
              "#fb9f3a"
             ],
             [
              0.8888888888888888,
              "#fdca26"
             ],
             [
              1,
              "#f0f921"
             ]
            ],
            "type": "surface"
           }
          ],
          "table": [
           {
            "cells": {
             "fill": {
              "color": "#EBF0F8"
             },
             "line": {
              "color": "white"
             }
            },
            "header": {
             "fill": {
              "color": "#C8D4E3"
             },
             "line": {
              "color": "white"
             }
            },
            "type": "table"
           }
          ]
         },
         "layout": {
          "annotationdefaults": {
           "arrowcolor": "#2a3f5f",
           "arrowhead": 0,
           "arrowwidth": 1
          },
          "autotypenumbers": "strict",
          "coloraxis": {
           "colorbar": {
            "outlinewidth": 0,
            "ticks": ""
           }
          },
          "colorscale": {
           "diverging": [
            [
             0,
             "#8e0152"
            ],
            [
             0.1,
             "#c51b7d"
            ],
            [
             0.2,
             "#de77ae"
            ],
            [
             0.3,
             "#f1b6da"
            ],
            [
             0.4,
             "#fde0ef"
            ],
            [
             0.5,
             "#f7f7f7"
            ],
            [
             0.6,
             "#e6f5d0"
            ],
            [
             0.7,
             "#b8e186"
            ],
            [
             0.8,
             "#7fbc41"
            ],
            [
             0.9,
             "#4d9221"
            ],
            [
             1,
             "#276419"
            ]
           ],
           "sequential": [
            [
             0,
             "#0d0887"
            ],
            [
             0.1111111111111111,
             "#46039f"
            ],
            [
             0.2222222222222222,
             "#7201a8"
            ],
            [
             0.3333333333333333,
             "#9c179e"
            ],
            [
             0.4444444444444444,
             "#bd3786"
            ],
            [
             0.5555555555555556,
             "#d8576b"
            ],
            [
             0.6666666666666666,
             "#ed7953"
            ],
            [
             0.7777777777777778,
             "#fb9f3a"
            ],
            [
             0.8888888888888888,
             "#fdca26"
            ],
            [
             1,
             "#f0f921"
            ]
           ],
           "sequentialminus": [
            [
             0,
             "#0d0887"
            ],
            [
             0.1111111111111111,
             "#46039f"
            ],
            [
             0.2222222222222222,
             "#7201a8"
            ],
            [
             0.3333333333333333,
             "#9c179e"
            ],
            [
             0.4444444444444444,
             "#bd3786"
            ],
            [
             0.5555555555555556,
             "#d8576b"
            ],
            [
             0.6666666666666666,
             "#ed7953"
            ],
            [
             0.7777777777777778,
             "#fb9f3a"
            ],
            [
             0.8888888888888888,
             "#fdca26"
            ],
            [
             1,
             "#f0f921"
            ]
           ]
          },
          "colorway": [
           "#636efa",
           "#EF553B",
           "#00cc96",
           "#ab63fa",
           "#FFA15A",
           "#19d3f3",
           "#FF6692",
           "#B6E880",
           "#FF97FF",
           "#FECB52"
          ],
          "font": {
           "color": "#2a3f5f"
          },
          "geo": {
           "bgcolor": "white",
           "lakecolor": "white",
           "landcolor": "#E5ECF6",
           "showlakes": true,
           "showland": true,
           "subunitcolor": "white"
          },
          "hoverlabel": {
           "align": "left"
          },
          "hovermode": "closest",
          "mapbox": {
           "style": "light"
          },
          "paper_bgcolor": "white",
          "plot_bgcolor": "#E5ECF6",
          "polar": {
           "angularaxis": {
            "gridcolor": "white",
            "linecolor": "white",
            "ticks": ""
           },
           "bgcolor": "#E5ECF6",
           "radialaxis": {
            "gridcolor": "white",
            "linecolor": "white",
            "ticks": ""
           }
          },
          "scene": {
           "xaxis": {
            "backgroundcolor": "#E5ECF6",
            "gridcolor": "white",
            "gridwidth": 2,
            "linecolor": "white",
            "showbackground": true,
            "ticks": "",
            "zerolinecolor": "white"
           },
           "yaxis": {
            "backgroundcolor": "#E5ECF6",
            "gridcolor": "white",
            "gridwidth": 2,
            "linecolor": "white",
            "showbackground": true,
            "ticks": "",
            "zerolinecolor": "white"
           },
           "zaxis": {
            "backgroundcolor": "#E5ECF6",
            "gridcolor": "white",
            "gridwidth": 2,
            "linecolor": "white",
            "showbackground": true,
            "ticks": "",
            "zerolinecolor": "white"
           }
          },
          "shapedefaults": {
           "line": {
            "color": "#2a3f5f"
           }
          },
          "ternary": {
           "aaxis": {
            "gridcolor": "white",
            "linecolor": "white",
            "ticks": ""
           },
           "baxis": {
            "gridcolor": "white",
            "linecolor": "white",
            "ticks": ""
           },
           "bgcolor": "#E5ECF6",
           "caxis": {
            "gridcolor": "white",
            "linecolor": "white",
            "ticks": ""
           }
          },
          "title": {
           "x": 0.05
          },
          "xaxis": {
           "automargin": true,
           "gridcolor": "white",
           "linecolor": "white",
           "ticks": "",
           "title": {
            "standoff": 15
           },
           "zerolinecolor": "white",
           "zerolinewidth": 2
          },
          "yaxis": {
           "automargin": true,
           "gridcolor": "white",
           "linecolor": "white",
           "ticks": "",
           "title": {
            "standoff": 15
           },
           "zerolinecolor": "white",
           "zerolinewidth": 2
          }
         }
        },
        "xaxis": {
         "anchor": "y",
         "domain": [
          0,
          1
         ],
         "title": {
          "text": "video views"
         }
        },
        "yaxis": {
         "anchor": "x",
         "domain": [
          0,
          1
         ],
         "title": {
          "text": "subscribers"
         }
        }
       }
      }
     },
     "metadata": {},
     "output_type": "display_data"
    }
   ],
   "source": [
    "fig = px.scatter(df_filtrada, x='video views', y='subscribers', color=\"category\", hover_data=[\"Youtuber\"])\n",
    "fig.show()"
   ]
  },
  {
   "cell_type": "markdown",
   "metadata": {},
   "source": [
    "Observando mais de perto a área de maior concentração:"
   ]
  },
  {
   "cell_type": "code",
   "execution_count": 42,
   "metadata": {},
   "outputs": [],
   "source": [
    "df_concentrada = df_filtrada[(df_filtrada[\"video views\"] < 50000000000) & (df_filtrada[\"subscribers\"] < 100000000)]"
   ]
  },
  {
   "cell_type": "code",
   "execution_count": 43,
   "metadata": {},
   "outputs": [
    {
     "data": {
      "application/vnd.plotly.v1+json": {
       "config": {
        "plotlyServerURL": "https://plot.ly"
       },
       "data": [
        {
         "customdata": [
          [
           "BLACKPINK"
          ],
          [
           "Shakira"
          ],
          [
           "Kimberly Loaiza"
          ],
          [
           "shfa2 - ï¿½ï¿½"
          ],
          [
           "LUCCAS NETO - LUCCAS TOON"
          ],
          [
           "shfa"
          ],
          [
           "ABP NEWS"
          ],
          [
           "Maria Clara & JP"
          ],
          [
           "Ricis Official"
          ],
          [
           "YOLO AVENTURAS"
          ],
          [
           "Sandeep Maheshwari"
          ],
          [
           "MrBeast 2"
          ],
          [
           "ýýý Kids Roma Show"
          ],
          [
           "Beast Reacts"
          ],
          [
           "NichLmao"
          ],
          [
           "LosPolinesios"
          ],
          [
           "Rans Entertainment"
          ],
          [
           "Las Ratitas"
          ],
          [
           "WB Kids"
          ],
          [
           "ABPLIVE"
          ],
          [
           "mujjuu___14"
          ],
          [
           "Diana and Roma EN"
          ],
          [
           "Mister Max"
          ],
          [
           "Miss Katy"
          ],
          [
           "Lady Gaga"
          ],
          [
           "TED"
          ],
          [
           "Vania Mania Kids"
          ],
          [
           "Sun TV"
          ],
          [
           "mmoshaya"
          ],
          [
           "LeoNata Family"
          ],
          [
           "Smile Family"
          ],
          [
           "Zach Choi ASMR"
          ],
          [
           "Stokes Twins"
          ],
          [
           "Netflix India"
          ],
          [
           "Sourav Joshi Vlogs"
          ],
          [
           "Tekashi 6ix9ine"
          ],
          [
           "SMOL"
          ],
          [
           "The Royalty Family"
          ],
          [
           "Ishaan Ali 11"
          ],
          [
           "Baim Paula"
          ],
          [
           "LIV Crime"
          ],
          [
           "tuzelity SHUFFLE"
          ],
          [
           "Jake Paul"
          ],
          [
           "BuzzFeedVideo"
          ],
          [
           "Crafty Panda"
          ],
          [
           "Troom Troom Es"
          ],
          [
           "JukiLop"
          ],
          [
           "shane"
          ],
          [
           "HiMan"
          ],
          [
           "Cardi B"
          ],
          [
           "The ACE Family"
          ],
          [
           "Like Nastya Vlog"
          ],
          [
           "Willie Salim"
          ],
          [
           "Dhar Mann"
          ],
          [
           "Naisa Alifia Yuriza (N.A.Y)"
          ],
          [
           "Bobby chourasiya"
          ],
          [
           "INCRï¿½ï¿"
          ],
          [
           "David Dobrik"
          ],
          [
           "KatieAngel"
          ],
          [
           "Zuni and Family"
          ],
          [
           "Priyal Kukreja"
          ],
          [
           "jaanvi patel"
          ],
          [
           "tanboy kun"
          ],
          [
           "Koray Zeynep"
          ],
          [
           "Danny Fitt"
          ],
          [
           "deepesh zo"
          ],
          [
           "Tu COSMOPOLIS"
          ],
          [
           "XO TEAM"
          ],
          [
           "ExtraPolinesios"
          ],
          [
           "Canal IN"
          ],
          [
           "sagar kalra (Shorts)"
          ],
          [
           "ýýýýýýýýýý"
          ],
          [
           "Arif muhammad"
          ],
          [
           "5-Minute Crafts FAMILY"
          ],
          [
           "Blippi Espaï¿½ï"
          ],
          [
           "Roman Atwood Vlogs"
          ],
          [
           "Kerajinan 5-Menit"
          ],
          [
           "ILYA BORZOV"
          ],
          [
           "Pokï¿½ï¿½ï¿½ï¿½ï¿½ï¿½ï¿½ï¿½ï¿½"
          ],
          [
           "It's Mamix"
          ],
          [
           "Ranz Kyle"
          ],
          [
           "PowerfulJRE"
          ],
          [
           "Hongyu ASMR ï¿½ï¿½"
          ],
          [
           "Mohamed Ramadan I ï¿½ï¿½ï¿½ï¿½ï¿½ï¿½ï"
          ],
          [
           "Chetan Monga Vlogs"
          ],
          [
           "ZutiGang"
          ],
          [
           "ýýýýýý"
          ],
          [
           "Meghan Trainor"
          ],
          [
           "Beast Philanthropy"
          ],
          [
           "5-Minute Crafts Recycle"
          ],
          [
           "Auron"
          ],
          [
           "Planeta das Gï¿½ï¿½"
          ],
          [
           "Boram Tube ToysReview [ï¿½ï¿½ï¿½ï¿½ï¿½ï¿½ï¿½ï¿½ï¿"
          ],
          [
           "TV9 Bharatvarsh"
          ],
          [
           "Indore Physical Academy"
          ],
          [
           "Harry Styles"
          ],
          [
           "Super Polina"
          ],
          [
           "TV Ana Emilia"
          ],
          [
           "ViralHog"
          ],
          [
           "ETV Jabardasth"
          ],
          [
           "Dental Digest"
          ],
          [
           "JD Pantoja"
          ],
          [
           "123 GO! Spanish"
          ],
          [
           "MyMissAnand"
          ],
          [
           "The World Adventures ï¿½ï¿½ï¿½ï¿½ï¿½ï¿½"
          ],
          [
           "Peet Montzingo"
          ],
          [
           "The Q"
          ],
          [
           "Stray Kids"
          ],
          [
           "ýýýýýýýýýýýýýýýýýý"
          ],
          [
           "Kids Lineï¿½ï¿½ï¿½ï¿½ï¿½ï¿½ï¿½"
          ],
          [
           "ýýýýýýTwinsFromRussia"
          ],
          [
           "CookingShooking Hindi"
          ],
          [
           "Alex Gonzaga Official"
          ],
          [
           "Knowledge Tv ï¿½ï¿½ï¿½ï¿½ï¿½ï¿½"
          ],
          [
           "Painzeiro"
          ],
          [
           "ýýýýýýýýýýýýýýý Ms Yeah"
          ],
          [
           "RaptorGamer"
          ],
          [
           "Pastor Antï¿½ï¿½ï¿½ï¿½ï"
          ],
          [
           "AlArabiya ï¿½ï¿½ï¿½ï¿½ï¿"
          ],
          [
           "Go Ami Go!"
          ],
          [
           "CaseyNeistat"
          ],
          [
           "ýýýýýýýýýSULGI"
          ],
          [
           "Ja Mill"
          ],
          [
           "Troom Troom Indonesia"
          ],
          [
           "Hero Movies 2023"
          ],
          [
           "Gibby :)"
          ],
          [
           "Pari's Lifestyle"
          ],
          [
           "ANNA KOVA"
          ],
          [
           "Free Fire India Official"
          ]
         ],
         "hovertemplate": "category=People & Blogs<br>video views=%{x}<br>subscribers=%{y}<br>Youtuber=%{customdata[0]}<extra></extra>",
         "legendgroup": "People & Blogs",
         "marker": {
          "color": "#EF553B",
          "symbol": "circle"
         },
         "mode": "markers",
         "name": "People & Blogs",
         "orientation": "v",
         "showlegend": true,
         "type": "scatter",
         "x": [
          32144597566,
          27568757295,
          5603111948,
          23884824160,
          22302547082,
          21528116909,
          13102611515,
          24188861917,
          5994136760,
          9673649438,
          2303069221,
          4552581106,
          10336420490,
          4388047013,
          14101010609,
          7466926260,
          6430853035,
          9602246828,
          11081602368,
          7968363381,
          14655527943,
          7213499085,
          15510153803,
          14696994366,
          15751661213,
          2551113422,
          10115316784,
          20847038152,
          17507060680,
          27084848152,
          8663830163,
          5918314128,
          4469711607,
          7780934187,
          9392093496,
          5890180734,
          22065582014,
          6269945014,
          12761253839,
          4526271677,
          11058049885,
          8658941531,
          7311322368,
          17913237851,
          5759442450,
          7452667615,
          1577859332,
          4329121104,
          2855519150,
          7634430188,
          4558380251,
          8147575884,
          4051072188,
          11280732382,
          1606834186,
          9937823152,
          3213324455,
          7176572299,
          3841205465,
          6746269458,
          11057945183,
          7912733203,
          3647267655,
          16560557488,
          9544277833,
          7206462713,
          5089284369,
          14784781923,
          4813127504,
          2687443643,
          6543629679,
          1845329502,
          4122634467,
          6165757696,
          8984089026,
          5469103954,
          4750420071,
          9938811455,
          857725714,
          1777072487,
          1760131384,
          3060202847,
          4967784343,
          5324913850,
          9924103188,
          15913320995,
          439098,
          8649303688,
          272678287,
          8866012877,
          3337074920,
          4622581344,
          5014888374,
          10303519926,
          4156427797,
          5689224452,
          4776507159,
          4674164601,
          18917687143,
          13542939513,
          7450345720,
          1493776391,
          5019136690,
          4963275018,
          2139769210,
          10022557589,
          4306212515,
          3364230487,
          6482687220,
          9088562002,
          9378175604,
          1758603195,
          1401914513,
          1936582704,
          2555801802,
          4399833602,
          2879263916,
          2112274210,
          7520379951,
          1714955279,
          3152402405,
          3485373675,
          1302818088,
          5379684248,
          1689090619,
          2862685032,
          7741764747,
          13959586308,
          1674409945
         ],
         "xaxis": "x",
         "y": [
          89800000,
          43500000,
          41300000,
          39700000,
          39400000,
          38400000,
          37000000,
          37000000,
          33300000,
          31200000,
          27800000,
          27500000,
          27400000,
          26700000,
          26000000,
          25700000,
          25400000,
          25200000,
          25200000,
          25200000,
          24800000,
          23900000,
          23700000,
          23500000,
          23200000,
          23100000,
          22700000,
          22600000,
          22600000,
          22600000,
          22300000,
          21900000,
          21800000,
          21800000,
          21700000,
          21500000,
          21500000,
          21300000,
          21300000,
          21100000,
          20900000,
          20700000,
          20400000,
          20100000,
          19800000,
          19700000,
          19400000,
          19200000,
          18900000,
          18800000,
          18500000,
          18500000,
          18500000,
          18400000,
          18300000,
          18200000,
          18200000,
          17900000,
          17900000,
          17900000,
          17800000,
          17700000,
          17700000,
          17400000,
          16900000,
          16800000,
          16700000,
          16200000,
          16200000,
          16100000,
          16000000,
          15900000,
          15800000,
          15600000,
          15500000,
          15400000,
          15400000,
          15300000,
          15200000,
          15100000,
          15100000,
          15100000,
          15100000,
          15100000,
          15000000,
          14900000,
          14900000,
          14800000,
          14800000,
          14800000,
          14600000,
          14600000,
          14500000,
          14500000,
          14400000,
          14400000,
          14300000,
          14000000,
          14000000,
          14000000,
          13900000,
          13800000,
          13800000,
          13700000,
          13400000,
          13400000,
          13400000,
          13300000,
          13300000,
          13300000,
          13200000,
          13200000,
          13100000,
          13100000,
          13100000,
          13100000,
          13100000,
          12900000,
          12900000,
          12700000,
          12600000,
          12600000,
          12500000,
          12500000,
          12400000,
          12400000,
          12400000,
          12400000,
          12300000
         ],
         "yaxis": "y"
        },
        {
         "customdata": [
          [
           "Goldmines"
          ],
          [
           "YRF"
          ],
          [
           "ýýýýýýýý ýý ýýýýýýýýýýýýýý"
          ],
          [
           "PowerKids TV"
          ],
          [
           "Jingle Toons"
          ],
          [
           "Galinha Pintadinha"
          ],
          [
           "Selena Gomez"
          ],
          [
           "WowKidz"
          ],
          [
           "Peppa Pig - Official Channel"
          ],
          [
           "Masha y el Oso"
          ],
          [
           "Goldmines Dishoom"
          ],
          [
           "Nick Jr."
          ],
          [
           "Goldmines Bollywood"
          ],
          [
           "ZHC"
          ],
          [
           "Pen Movies"
          ],
          [
           "Goldmines Movies"
          ],
          [
           "Peppa Pig Espaï¿½ï¿½ï¿½ï¿½ï¿½ï¿½ï¿½ï¿½ï¿½"
          ],
          [
           "Tilak"
          ],
          [
           "Valentina Pontes ofc"
          ],
          [
           "Alan Becker"
          ],
          [
           "Goldmines Cineplex"
          ],
          [
           "Ben Azelart"
          ],
          [
           "Totoy kids - Portuguï¿½"
          ],
          [
           "Pencilmation"
          ],
          [
           "Green Gold TV - Official Channel"
          ],
          [
           "Official Pink Panther"
          ],
          [
           "DaFuq!?Boom!"
          ],
          [
           "Goldmines Great Indian Comedy"
          ],
          [
           "Wow Kidz Action"
          ],
          [
           "Turma da Mï¿½ï¿½"
          ],
          [
           "BeatboxJCOP"
          ],
          [
           "MSA previously My Story Animated"
          ],
          [
           "Les' Copaque Production"
          ],
          [
           "El Payaso Plim Plim"
          ],
          [
           "Stubborn Facts"
          ],
          [
           "Gato Galactico | GALï¿½ï¿"
          ],
          [
           "Totoy kids - Espaï¿½ï"
          ],
          [
           "Rotten Tomatoes Trailers"
          ],
          [
           "Volga Video"
          ],
          [
           "Zig & Sharko"
          ],
          [
           "Invento na Hora"
          ],
          [
           "Darkar Company Studios"
          ],
          [
           "Peppa Pig em Portuguï¿½ï¿½ï¿½ï¿½ï¿½ï¿½ï¿½ï¿½ï¿"
          ],
          [
           "Zee Kids"
          ]
         ],
         "hovertemplate": "category=Film & Animation<br>video views=%{x}<br>subscribers=%{y}<br>Youtuber=%{customdata[0]}<extra></extra>",
         "legendgroup": "Film & Animation",
         "marker": {
          "color": "#00cc96",
          "symbol": "circle"
         },
         "mode": "markers",
         "name": "Film & Animation",
         "orientation": "v",
         "showlegend": true,
         "type": "scatter",
         "x": [
          24118230580,
          35302243691,
          36458726976,
          18961241905,
          11351015824,
          27274550757,
          13013567335,
          16613441479,
          22919271731,
          13577142726,
          8603468420,
          22440611155,
          8595760553,
          2726917087,
          6608773195,
          5652938599,
          7920637200,
          9465863821,
          7926899136,
          5380073627,
          2431154438,
          4454917643,
          1796227417,
          11317309935,
          9715291883,
          10955619815,
          7906181776,
          5194942269,
          8281724393,
          13824277846,
          8716982055,
          8588704539,
          9059696049,
          17247584185,
          902225615,
          3693798804,
          5997599089,
          13116313599,
          9787697838,
          9023952946,
          4040297006,
          2244318380,
          4214172991,
          7683670251
         ],
         "xaxis": "x",
         "y": [
          86900000,
          54600000,
          43200000,
          36500000,
          34000000,
          33800000,
          33600000,
          32200000,
          31400000,
          28300000,
          28000000,
          27300000,
          26400000,
          25500000,
          24300000,
          24000000,
          23600000,
          23400000,
          23400000,
          22900000,
          22500000,
          21900000,
          20400000,
          20100000,
          20000000,
          19700000,
          19600000,
          19100000,
          19000000,
          19000000,
          18000000,
          17800000,
          17700000,
          17700000,
          17300000,
          16800000,
          16000000,
          15800000,
          15700000,
          14400000,
          14200000,
          13900000,
          13100000,
          12400000
         ],
         "yaxis": "y"
        },
        {
         "customdata": [
          [
           "5-Minute Crafts"
          ],
          [
           "BRIGHT SIDE"
          ],
          [
           "GENIAL"
          ],
          [
           "Gulshan Kalra"
          ],
          [
           "Fede Vigevani"
          ],
          [
           "Yuya"
          ],
          [
           "Chloe Ting"
          ],
          [
           "Troom Troom"
          ],
          [
           "Village Cooking Channel"
          ],
          [
           "Tasty"
          ],
          [
           "5-Minute Crafts DIY"
          ],
          [
           "5-Minute Crafts PLAY"
          ],
          [
           "SUPER SLICK SLIME SAM"
          ],
          [
           "Manual do Mundo"
          ],
          [
           "ýýýýýýýýý Liziqi"
          ],
          [
           "HowToBasic"
          ],
          [
           "IDEAS EN 5 MINUTOS"
          ],
          [
           "Sandra Cires Art"
          ],
          [
           "jeffreestar"
          ],
          [
           "ýýýýýýýý ýýýýýýýýýýýýýý ýýýý 5 ýýýýýýýýýý"
          ],
          [
           "Musas"
          ],
          [
           "Mariale"
          ],
          [
           "ýýýýýýýý ýýýýýýýý"
          ],
          [
           "Mis Pastelitos"
          ],
          [
           "IDEIAS INCRï¿½ï¿½"
          ],
          [
           "Rosanna Pansino"
          ],
          [
           "NikkieTutorials"
          ],
          [
           "Narins Beauty"
          ],
          [
           "Alexa Rivera"
          ],
          [
           "NishaMadhulika"
          ],
          [
           "Anaysa"
          ],
          [
           "Wengie"
          ],
          [
           "ATHLEAN-Xï¿½"
          ],
          [
           "Kabita's Kitchen"
          ],
          [
           "Troom Troom India"
          ],
          [
           "Blossom"
          ],
          [
           "Health Time"
          ],
          [
           "First We Feast"
          ],
          [
           "Troom Troom PT"
          ],
          [
           "bharatzkitchen HINDI"
          ]
         ],
         "hovertemplate": "category=Howto & Style<br>video views=%{x}<br>subscribers=%{y}<br>Youtuber=%{customdata[0]}<extra></extra>",
         "legendgroup": "Howto & Style",
         "marker": {
          "color": "#ab63fa",
          "symbol": "circle"
         },
         "mode": "markers",
         "name": "Howto & Style",
         "orientation": "v",
         "showlegend": true,
         "type": "scatter",
         "x": [
          26236790209,
          10708531817,
          6762424690,
          12732444881,
          7962725960,
          2588501115,
          2994726412,
          10414479943,
          5863377051,
          5783557209,
          5091618606,
          6119294270,
          7229175322,
          3980991248,
          2977741577,
          3684816159,
          3696973456,
          3955426159,
          2609358468,
          4499826716,
          2400037562,
          2761547758,
          7018015062,
          2750902766,
          3551889957,
          4597228794,
          1778318927,
          2214167846,
          3193226072,
          2939201386,
          3445794123,
          1900272833,
          2319515787,
          2831275503,
          6804072897,
          4733873025,
          1002219689,
          2983799729,
          4384177908,
          2315226648
         ],
         "xaxis": "x",
         "y": [
          80100000,
          44500000,
          31800000,
          27100000,
          25600000,
          24800000,
          24700000,
          23800000,
          21600000,
          21100000,
          20700000,
          20100000,
          19000000,
          18000000,
          17600000,
          17300000,
          16600000,
          16400000,
          15900000,
          15500000,
          15100000,
          15100000,
          14800000,
          14600000,
          14500000,
          14400000,
          14200000,
          14000000,
          13900000,
          13700000,
          13500000,
          13500000,
          13400000,
          13300000,
          12800000,
          12700000,
          12500000,
          12500000,
          12500000,
          12400000
         ],
         "yaxis": "y"
        },
        {
         "customdata": [
          [
           "BANGTANTV"
          ],
          [
           "Justin Bieber"
          ],
          [
           "HYBE LABELS"
          ],
          [
           "Canal KondZilla"
          ],
          [
           "Shemaroo Filmi Gaane"
          ],
          [
           "T-Series Bhakti Sagar"
          ],
          [
           "Tips Official"
          ],
          [
           "Wave Music"
          ],
          [
           "Sony Music India"
          ],
          [
           "EminemMusic"
          ],
          [
           "LooLoo Kids - Nursery Rhymes and Children's Songs"
          ],
          [
           "Ed Sheeran"
          ],
          [
           "Taylor Swift"
          ],
          [
           "Ariana Grande"
          ],
          [
           "Billie Eilish"
          ],
          [
           "SonyMusicIndiaVEVO"
          ],
          [
           "Bad Bunny"
          ],
          [
           "Katy Perry"
          ],
          [
           "Alan Walker"
          ],
          [
           "Speed Records"
          ],
          [
           "XXXTENTACION"
          ],
          [
           "GR6 EXPLODE"
          ],
          [
           "Goldmines Gaane Sune Ansune"
          ],
          [
           "One Direction"
          ],
          [
           "Daddy Yankee"
          ],
          [
           "Bruno Mars"
          ],
          [
           "Maroon 5"
          ],
          [
           "Ozuna"
          ],
          [
           "La Granja de Zenï¿½"
          ],
          [
           "T-Series Bollywood Classics"
          ],
          [
           "T-Series Apna Punjab"
          ],
          [
           "Geet MP3"
          ],
          [
           "J Balvin"
          ],
          [
           "Desi Music Factory"
          ],
          [
           "Rajshri"
          ],
          [
           "NoCopyrightSounds"
          ],
          [
           "DisneyMusicVEVO"
          ],
          [
           "The Weeknd"
          ],
          [
           "KAROL G"
          ],
          [
           "SMTOWN"
          ],
          [
           "Worldwide Records Bhojpuri"
          ],
          [
           "JustinBieberVEVO"
          ],
          [
           "ImagineDragons"
          ],
          [
           "Trap Nation"
          ],
          [
           "Adele"
          ],
          [
           "Spinnin' Records"
          ],
          [
           "Shawn Mendes"
          ],
          [
           "Ultra Records"
          ],
          [
           "Maluma"
          ],
          [
           "Aditya Music India"
          ],
          [
           "Michael Jackson"
          ],
          [
           "Drake"
          ],
          [
           "Bounce Patrol - Kids Songs"
          ],
          [
           "toycantando"
          ],
          [
           "Wiz Khalifa"
          ],
          [
           "JYP Entertainment"
          ],
          [
           "WORLDSTARHIPHOP"
          ],
          [
           "Beyoncï¿"
          ],
          [
           "Marï¿½ï¿½ï¿½ï¿½ï¿½"
          ],
          [
           "Indosiar"
          ],
          [
           "David Guetta"
          ],
          [
           "Nicki Minaj"
          ],
          [
           "TaylorSwiftVEVO"
          ],
          [
           "Post Malone"
          ],
          [
           "Coldplay"
          ],
          [
           "Chris Brown"
          ],
          [
           "RihannaVEVO"
          ],
          [
           "WatchMojo.com"
          ],
          [
           "Anuel AA"
          ],
          [
           "EminemVEVO"
          ],
          [
           "KatyPerryVEVO"
          ],
          [
           "1theK (ï¿½ï¿½ï¿½ï¿½ï"
          ],
          [
           "DJ Snake"
          ],
          [
           "Enrique Iglesias"
          ],
          [
           "NickyJamTV"
          ],
          [
           "Wave Music Bhojpuri"
          ],
          [
           "GMM GRAMMY OFFICIAL"
          ],
          [
           "unknown boy varun"
          ],
          [
           "toyorbabytv"
          ],
          [
           "The Chainsmokers"
          ],
          [
           "Sia"
          ],
          [
           "Paulo Londra"
          ],
          [
           "Charlie Puth"
          ],
          [
           "Dua Lipa"
          ],
          [
           "OneDirectionVEVO"
          ],
          [
           "Rotana"
          ],
          [
           "Sidhu Moose Wala"
          ],
          [
           "Becky G"
          ],
          [
           "Romeo Santos"
          ],
          [
           "Avicii"
          ],
          [
           "Linkin Park"
          ],
          [
           "Emiway Bantai"
          ],
          [
           "Skrillex"
          ],
          [
           "7clouds"
          ],
          [
           "Vevo"
          ],
          [
           "Pentatonix"
          ],
          [
           "Gusttavo Lima Oficial"
          ],
          [
           "Lil Nas X"
          ],
          [
           "Calvin Harris"
          ],
          [
           "Farruko"
          ],
          [
           "GRAMMY GOLD OFFICIAL"
          ],
          [
           "Dan-Sa / Daniel Saboya"
          ],
          [
           "RsiamMusic : ï¿½ï¿½ï¿½ï¿½ï¿½ï¿½ï¿½ï¿½"
          ],
          [
           "shakiraVEVO"
          ],
          [
           "officialpsy"
          ],
          [
           "SonyMusicSouthVEVO"
          ],
          [
           "Demi Lovato"
          ],
          [
           "Jason Derulo"
          ],
          [
           "ArianaGrandeVevo"
          ],
          [
           "Lil Pump"
          ],
          [
           "JFlaMusic"
          ],
          [
           "ýýýýýýýýýýýýýýýý - Al-Remas"
          ],
          [
           "Anitta"
          ],
          [
           "Queen Official"
          ],
          [
           "LuisFonsiVEVO"
          ],
          [
           "Pop Chartbusters"
          ],
          [
           "Travis Scott"
          ],
          [
           "Lahari Music - TSeries"
          ],
          [
           "Boyce Avenue"
          ],
          [
           "Camila Cabello"
          ],
          [
           "Little Mix"
          ],
          [
           "SAM SMITH"
          ],
          [
           "Pitbull"
          ],
          [
           "Jennifer Lopez"
          ],
          [
           "POPS Kids"
          ],
          [
           "TWICE"
          ],
          [
           "FitDance"
          ],
          [
           "DopeLyrics"
          ],
          [
           "MK MUSIC"
          ],
          [
           "Camilo"
          ],
          [
           "DM - Desi Melodies"
          ],
          [
           "Team Films Bhojpuri"
          ],
          [
           "Zee Music Classic"
          ],
          [
           "Katakit Baby TV"
          ],
          [
           "Henrique e Juliano"
          ],
          [
           "Genierock"
          ],
          [
           "zayn"
          ],
          [
           "SRK MUSIC"
          ],
          [
           "Kim Loaiza"
          ],
          [
           "BIGBANG"
          ],
          [
           "AdeleVEVO"
          ],
          [
           "Sony Music South"
          ],
          [
           "Zï¿½ï¿½ï¿½ï¿½ï¿½ï¿½ï"
          ],
          [
           "50 Cent"
          ],
          [
           "melanie martinez"
          ],
          [
           "Fueled By Ramen"
          ],
          [
           "MattyBRaps"
          ],
          [
           "Jorge & Mateus Oficial"
          ],
          [
           "Major Lazer Official"
          ],
          [
           "Camila Loures"
          ],
          [
           "Martin Garrix"
          ],
          [
           "O Reino Infantil"
          ],
          [
           "Fifth Harmony"
          ],
          [
           "LEGENDA FUNK"
          ],
          [
           "Aadishakti Films"
          ],
          [
           "Maroon5VEVO"
          ],
          [
           "Saad Lamjarred | ï¿½ï¿½ï¿½ï¿½ï¿½ï¿"
          ],
          [
           "Hear This Music"
          ],
          [
           "Coke Studio"
          ],
          [
           "SelenaGomezVEVO"
          ],
          [
           "Wish 107.5"
          ],
          [
           "Crazy Frog"
          ],
          [
           "Neha Kakkar"
          ],
          [
           "Trap City"
          ],
          [
           "Lana Del Rey"
          ],
          [
           "MalumaVEVO"
          ],
          [
           "Luli Pampï¿½"
          ],
          [
           "Gallina Pintadita"
          ],
          [
           "Atlantic Records"
          ],
          [
           "Think Music India"
          ],
          [
           "Wesley Safadï¿½"
          ],
          [
           "Lindsey Stirling"
          ],
          [
           "Awakening Music"
          ],
          [
           "Conor Maynard"
          ],
          [
           "Codiscos"
          ],
          [
           "jbalvinVEVO"
          ],
          [
           "Lokdhun Punjabi"
          ],
          [
           "Hungria Hip Hop"
          ],
          [
           "twenty one pilots"
          ],
          [
           "DJ Khaled"
          ],
          [
           "Lofi Girl"
          ],
          [
           "7 Minutoz"
          ],
          [
           "Akon"
          ],
          [
           "Rauw Alejandro"
          ],
          [
           "EnriqueIglesiasVEVO"
          ],
          [
           "Duo Tiempo De Sol"
          ],
          [
           "Beyoncï¿½ï¿½"
          ],
          [
           "Adexe & Nau"
          ],
          [
           "Jass Records"
          ],
          [
           "Future"
          ],
          [
           "NickiMinajAtVEVO"
          ],
          [
           "Ellie Goulding"
          ],
          [
           "elcarteldesantatv"
          ],
          [
           "Mundo Bita"
          ],
          [
           "Wave Music Bhakti"
          ],
          [
           "DisneyChannelUK"
          ],
          [
           "Avril Lavigne"
          ],
          [
           "Migos ATL"
          ]
         ],
         "hovertemplate": "category=Music<br>video views=%{x}<br>subscribers=%{y}<br>Youtuber=%{customdata[0]}<extra></extra>",
         "legendgroup": "Music",
         "marker": {
          "color": "#FFA15A",
          "symbol": "circle"
         },
         "mode": "markers",
         "name": "Music",
         "orientation": "v",
         "showlegend": true,
         "type": "scatter",
         "x": [
          20826993957,
          30608119724,
          28634566938,
          36775585925,
          28648024439,
          29533230328,
          33431802698,
          40602020243,
          28837144516,
          27073872856,
          32312431239,
          30367676736,
          29884657286,
          24004842608,
          13626331061,
          27286058807,
          30686342319,
          25458952022,
          12884264778,
          26820902622,
          10507474316,
          25154232306,
          16718192386,
          13598903820,
          22731415608,
          19378155425,
          22553923546,
          23355801606,
          27118354077,
          22637783517,
          21306315429,
          12746535822,
          23005313609,
          10189027455,
          14864294792,
          10530729078,
          28516250629,
          23379969006,
          18699145555,
          27330239663,
          16476978876,
          26583873105,
          16793072362,
          14037426379,
          14199108016,
          19607009165,
          12831200855,
          17208027242,
          21226945136,
          25857994495,
          14412474625,
          15318895118,
          21037851468,
          15777682516,
          13379395501,
          19883150017,
          20358117330,
          17308961985,
          18597534412,
          11372071889,
          17793809548,
          10242981063,
          25592378292,
          14401218086,
          17331663193,
          15520569496,
          19458807708,
          16357064198,
          14827085149,
          20531704527,
          23755792542,
          23962070944,
          8425505919,
          17688774915,
          15901824841,
          12889240875,
          25579831081,
          9299371231,
          16298342829,
          14231943358,
          13405849040,
          8040036209,
          9924807127,
          11288359365,
          12140232004,
          19329351143,
          6264261757,
          10644857969,
          17324976752,
          10292874715,
          13397000296,
          3579555124,
          6618524158,
          14816075927,
          559765455,
          6033295543,
          13917423958,
          6339584661,
          16014044618,
          9573641299,
          20196704276,
          2908120896,
          11544297793,
          25367126292,
          10703830496,
          17921124985,
          6888074944,
          9887116267,
          20115544708,
          4196061192,
          3802280098,
          11144195464,
          7337212581,
          10847948832,
          14543594822,
          8684010451,
          7979736581,
          11946217860,
          6578828147,
          6613422635,
          7520242626,
          10170264839,
          12475714382,
          10227242833,
          9763592867,
          5055576881,
          7126210721,
          9962188084,
          9198986881,
          6802382479,
          5914071870,
          6626563508,
          5558051295,
          6386271870,
          14619523361,
          14564170905,
          4909687948,
          6391679636,
          1576633086,
          7857371770,
          12413869881,
          9978734160,
          11506702632,
          10069000444,
          4395184343,
          13356517783,
          3587576784,
          9076642765,
          9383431376,
          4684983333,
          6017932195,
          11182302317,
          7952268926,
          2440718089,
          6290721701,
          20042571499,
          4315486422,
          9201428420,
          4035738731,
          11423792969,
          6048517979,
          7946322061,
          2131548711,
          5129529846,
          6884215292,
          19013942981,
          8623705301,
          9660950823,
          12513842343,
          11039343563,
          8134379376,
          3764608356,
          5545936485,
          2750993392,
          11789678655,
          20743586601,
          4712624489,
          4608751851,
          5264039679,
          6637820731,
          1698279553,
          4349562794,
          6300933122,
          11504090820,
          15446707595,
          6662288136,
          14185611472,
          4579773883,
          5958994201,
          9927699419,
          8831179714,
          6969178081,
          7489455451,
          16690788752,
          5146004207,
          12607488647,
          6202090191,
          6993406259
         ],
         "xaxis": "x",
         "y": [
          75600000,
          71600000,
          71300000,
          66500000,
          65600000,
          61000000,
          59300000,
          58000000,
          57200000,
          56900000,
          54000000,
          53500000,
          52900000,
          52700000,
          47900000,
          46600000,
          46100000,
          44200000,
          43700000,
          42500000,
          39200000,
          38900000,
          38300000,
          38200000,
          38000000,
          36700000,
          36600000,
          36200000,
          35700000,
          35400000,
          34600000,
          34300000,
          34100000,
          33700000,
          33500000,
          33400000,
          32700000,
          32600000,
          32100000,
          31900000,
          31700000,
          31600000,
          30700000,
          30400000,
          30200000,
          30100000,
          30000000,
          29600000,
          29300000,
          28500000,
          28200000,
          28100000,
          27800000,
          27700000,
          27500000,
          27400000,
          26500000,
          26000000,
          26000000,
          25900000,
          25700000,
          25700000,
          25600000,
          25500000,
          25300000,
          25200000,
          25100000,
          25100000,
          25000000,
          24700000,
          24600000,
          24500000,
          24100000,
          23800000,
          23600000,
          23100000,
          23100000,
          23100000,
          22900000,
          22600000,
          22600000,
          22400000,
          22000000,
          21800000,
          21800000,
          21800000,
          21400000,
          21300000,
          20900000,
          20600000,
          20400000,
          20400000,
          20100000,
          20100000,
          20000000,
          20000000,
          19900000,
          19100000,
          19000000,
          18800000,
          18600000,
          18500000,
          18400000,
          18400000,
          18100000,
          18000000,
          17900000,
          17900000,
          17700000,
          17700000,
          17600000,
          17400000,
          17200000,
          17000000,
          17000000,
          16900000,
          16700000,
          16600000,
          16300000,
          16300000,
          16300000,
          16300000,
          16300000,
          16200000,
          16200000,
          16100000,
          16100000,
          15900000,
          15900000,
          15900000,
          15700000,
          15700000,
          15700000,
          15500000,
          15500000,
          15400000,
          15400000,
          15200000,
          15100000,
          15100000,
          15100000,
          15000000,
          15000000,
          14900000,
          14900000,
          14800000,
          14800000,
          14800000,
          14800000,
          14700000,
          14600000,
          14600000,
          14600000,
          14500000,
          14500000,
          14500000,
          14500000,
          14500000,
          14400000,
          14400000,
          14200000,
          14200000,
          14100000,
          14100000,
          14100000,
          14100000,
          14000000,
          14000000,
          13900000,
          13800000,
          13700000,
          13600000,
          13500000,
          13500000,
          13400000,
          13200000,
          13100000,
          13100000,
          13100000,
          13100000,
          13000000,
          13000000,
          12900000,
          12900000,
          12900000,
          12800000,
          12800000,
          12700000,
          12700000,
          12700000,
          12600000,
          12600000,
          12500000,
          12500000,
          12500000,
          12400000,
          12400000,
          12400000
         ],
         "yaxis": "y"
        },
        {
         "customdata": [
          [
           "Pinkfong Baby Shark - Kids' Songs & Stories"
          ],
          [
           "ChuChu TV Nursery Rhymes & Kids Songs"
          ],
          [
           "Infobells - Hindi"
          ],
          [
           "BillionSurpriseToys  - Nursery Rhymes & Cartoons"
          ],
          [
           "Little Baby Bum - Nursery Rhymes & Kids Songs"
          ],
          [
           "Super Simple Songs - Kids Songs"
          ],
          [
           "Genevieve's Playhouse - Learning Videos for Kids"
          ],
          [
           "CVS 3D Rhymes & Kids Songs"
          ],
          [
           "BabyBus - Kids Songs and Cartoons"
          ],
          [
           "Little Angel: Nursery Rhymes & Kids Songs"
          ],
          [
           "infobells - Tamil"
          ],
          [
           "infobells - Telugu"
          ],
          [
           "BabyBus - Canciones Infantiles & Videos para Niï¿½ï"
          ],
          [
           "Khan GS Research Centre"
          ],
          [
           "Dr. Vivek Bindra: Motivational Speaker"
          ],
          [
           "Kurzgesagt ï¿½ï¿½ï¿½ï¿½ï¿½ï¿"
          ],
          [
           "ýýýýýýýýýýýýýýý - Genevieve's Playhouse"
          ],
          [
           "BabyBus - Cerita & Lagu Anak-anak"
          ],
          [
           "Kiddiestv Hindi - Nursery Rhymes & Kids Songs"
          ],
          [
           "ýýýýýýýýýýýýýý ýýýý"
          ],
          [
           "Little Angel Espaï¿½ï¿½ï¿½ï¿½ï¿½ï¿½ï¿½ï¿½ï¿½"
          ],
          [
           "TED-Ed"
          ],
          [
           "Blippi - Educational Videos for Kids"
          ],
          [
           "Jason Vlogs"
          ],
          [
           "El Reino a Jugar"
          ],
          [
           "wifistudy"
          ],
          [
           "Dear Sir"
          ],
          [
           "Infobells Bangla"
          ],
          [
           "Dave and Ava - Nursery Rhymes and Baby Songs"
          ],
          [
           "Daftar Populer"
          ],
          [
           "TheRichest"
          ],
          [
           "CrashCourse"
          ],
          [
           "StudyIQ IAS"
          ],
          [
           "Netflix Jr."
          ],
          [
           "infobells - Kannada"
          ],
          [
           "Veritasium"
          ],
          [
           "infobells"
          ],
          [
           "JOJO TV - Hindi Stories"
          ],
          [
           "The Infographics Show"
          ],
          [
           "The Shiny Peanut"
          ],
          [
           "Right to Shiksha"
          ],
          [
           "Little Baby Bum en Espaï¿½ï"
          ],
          [
           "TKOR"
          ],
          [
           "Caylus"
          ]
         ],
         "hovertemplate": "category=Education<br>video views=%{x}<br>subscribers=%{y}<br>Youtuber=%{customdata[0]}<extra></extra>",
         "legendgroup": "Education",
         "marker": {
          "color": "#19d3f3",
          "symbol": "circle"
         },
         "mode": "markers",
         "name": "Education",
         "orientation": "v",
         "showlegend": true,
         "type": "scatter",
         "x": [
          38843229963,
          45757850229,
          30516172739,
          9877365274,
          39450824833,
          44900897958,
          25607397308,
          20269857567,
          26355088167,
          22593193994,
          17930570614,
          14814192034,
          13206471140,
          2073073070,
          1693149479,
          2378448129,
          11022391339,
          11819051552,
          7274150246,
          4924054368,
          9813245108,
          3654621568,
          14857290259,
          8903647480,
          11445492404,
          3018032423,
          1349288771,
          7776706184,
          10714145606,
          2143140898,
          2730879024,
          1833519700,
          4029253667,
          8882319696,
          6554000320,
          2165885634,
          5178142148,
          5141201173,
          5263540904,
          2848466522,
          7876740921,
          6956320454,
          3392022527,
          4779139505
         ],
         "xaxis": "x",
         "y": [
          68200000,
          65900000,
          53300000,
          52200000,
          40900000,
          39200000,
          34900000,
          33400000,
          32800000,
          30100000,
          28900000,
          28300000,
          22900000,
          21200000,
          20900000,
          20800000,
          20300000,
          20300000,
          20200000,
          19000000,
          18900000,
          18800000,
          18100000,
          17200000,
          17200000,
          16000000,
          15800000,
          15500000,
          15300000,
          15100000,
          15000000,
          14800000,
          14700000,
          14700000,
          14200000,
          13900000,
          13700000,
          13600000,
          13200000,
          12900000,
          12800000,
          12500000,
          12400000,
          12400000
         ],
         "yaxis": "y"
        },
        {
         "customdata": [
          [
           "Dude Perfect"
          ],
          [
           "NBA"
          ],
          [
           "FIFA"
          ],
          [
           "How Ridiculous"
          ],
          [
           "UFC - Ultimate Fighting Championship"
          ],
          [
           "FC Barcelona"
          ],
          [
           "F2Freestylers - Ultimate Soccer Skills Channel"
          ],
          [
           "DALLMYD"
          ],
          [
           "gymvirtual"
          ],
          [
           "Natan por Aï¿"
          ]
         ],
         "hovertemplate": "category=Sports<br>video views=%{x}<br>subscribers=%{y}<br>Youtuber=%{customdata[0]}<extra></extra>",
         "legendgroup": "Sports",
         "marker": {
          "color": "#FF6692",
          "symbol": "circle"
         },
         "mode": "markers",
         "name": "Sports",
         "orientation": "v",
         "showlegend": true,
         "type": "scatter",
         "x": [
          16241549158,
          12624879732,
          5529131886,
          9601137077,
          7135820721,
          2656528205,
          3280481927,
          1948925559,
          2509752944,
          9029609749
         ],
         "xaxis": "x",
         "y": [
          59500000,
          20700000,
          19400000,
          18000000,
          16400000,
          15300000,
          14100000,
          13600000,
          12900000,
          12300000
         ],
         "yaxis": "y"
        },
        {
         "customdata": [
          [
           "Aaj Tak"
          ],
          [
           "YouTube"
          ],
          [
           "IndiaTV"
          ],
          [
           "Zee News"
          ],
          [
           "Raffy Tulfo in Action"
          ],
          [
           "The Lallantop"
          ],
          [
           "Tlnovelas"
          ],
          [
           "SOMOY TV"
          ],
          [
           "DLS News"
          ],
          [
           "Sebastiï¿½ï¿½ï¿½"
          ],
          [
           "News 24"
          ],
          [
           "News18 India"
          ],
          [
           "NMF News"
          ],
          [
           "BBC News Hindi"
          ],
          [
           "Thairath Online"
          ],
          [
           "Narendra Modi"
          ],
          [
           "CNN"
          ],
          [
           "NDTV India"
          ],
          [
           "ABS-CBN News"
          ],
          [
           "Republic Bharat"
          ],
          [
           "KOMPASTV"
          ],
          [
           "ABC News"
          ],
          [
           "BBC News"
          ],
          [
           "Jamuna TV"
          ],
          [
           "Geo News"
          ],
          [
           "GMA Integrated News"
          ]
         ],
         "hovertemplate": "category=News & Politics<br>video views=%{x}<br>subscribers=%{y}<br>Youtuber=%{customdata[0]}<extra></extra>",
         "legendgroup": "News & Politics",
         "marker": {
          "color": "#B6E880",
          "symbol": "circle"
         },
         "mode": "markers",
         "name": "News & Politics",
         "orientation": "v",
         "showlegend": true,
         "type": "scatter",
         "x": [
          25307753534,
          3010784935,
          16105023749,
          16709857823,
          15065753455,
          10409352249,
          15013096899,
          12293479945,
          2255542592,
          10463166404,
          8396875537,
          7263619576,
          7435180827,
          7043235131,
          14563841315,
          3392918989,
          14198154095,
          6624168155,
          10489367372,
          7536093065,
          11827310821,
          12961669452,
          4598387043,
          12129583055,
          5727888539,
          9569814790
         ],
         "xaxis": "x",
         "y": [
          57600000,
          36300000,
          35500000,
          30500000,
          26500000,
          25200000,
          21500000,
          19800000,
          19400000,
          18000000,
          17700000,
          17500000,
          16600000,
          16500000,
          16200000,
          15800000,
          15200000,
          15200000,
          15100000,
          15000000,
          15000000,
          14700000,
          14500000,
          13900000,
          13800000,
          13400000
         ],
         "yaxis": "y"
        },
        {
         "customdata": [
          [
           "Marshmello"
          ],
          [
           "Get Movies"
          ],
          [
           "Shemaroo"
          ],
          [
           "Badabun"
          ],
          [
           "Voot Kids"
          ],
          [
           "Felipe Neto"
          ],
          [
           "Vocï¿½ï¿½ï¿½"
          ],
          [
           "HAR PAL GEO"
          ],
          [
           "HolaSoyGerman."
          ],
          [
           "ARY Digital HD"
          ],
          [
           "Like Nastya Show"
          ],
          [
           "Rihanna"
          ],
          [
           "Toys and Colors"
          ],
          [
           "WorkpointOfficial"
          ],
          [
           "TheEllenShow"
          ],
          [
           "Like Nastya ESP"
          ],
          [
           "ýýýýýýýýýýýý one31"
          ],
          [
           "Saregama Music"
          ],
          [
           "Jess No Limit"
          ],
          [
           "Ch3Thailand"
          ],
          [
           "Eros Now Music"
          ],
          [
           "StarPlus"
          ],
          [
           "GMA  Network"
          ],
          [
           "DONA ï¿½ï¿½"
          ],
          [
           "Lucas and Marcus"
          ],
          [
           "Luis Fonsi"
          ],
          [
           "TheDonato"
          ],
          [
           "AH"
          ],
          [
           "Boram Tube Vlog [ï¿½ï¿½ï¿½ï¿½ï¿½ï¿½ï¿½ï¿½ï¿"
          ],
          [
           "ýýýýýýýý ýýýýýýýý ýýýýýýýýýý | toyoraljanahtv"
          ],
          [
           "Zhong"
          ],
          [
           "The Late Late Show with James Corden"
          ],
          [
           "HUM TV"
          ],
          [
           "Shemaroo Movies"
          ],
          [
           "Crazy XYZ"
          ],
          [
           "ToyPuddingTV"
          ],
          [
           "Dushyant kukreja"
          ],
          [
           "Renato Garcia YT"
          ],
          [
           "Netflix"
          ],
          [
           "PANDA BOI"
          ],
          [
           "BB Ki Vines"
          ],
          [
           "Junya.ï¿½ï¿½ï¿½ï¿½"
          ],
          [
           "1MILLION Dance Studio"
          ],
          [
           "TRANS7 OFFICIAL"
          ],
          [
           "Dan Rhodes"
          ],
          [
           "America's Got Talent"
          ],
          [
           "Like Nastya AE"
          ],
          [
           "Amit Bhadana"
          ],
          [
           "MrBeast en Espaï¿½ï"
          ],
          [
           "KSI"
          ],
          [
           "James Charles"
          ],
          [
           "Collins Key"
          ],
          [
           "Venus Entertainment"
          ],
          [
           "Juan De Dios Pantoja"
          ],
          [
           "Logan Paul"
          ],
          [
           "Maya and Mary"
          ],
          [
           "Sesame Street"
          ],
          [
           "Akshay Nagwadiya"
          ],
          [
           "Tsuriki Show"
          ],
          [
           "DrossRotzank"
          ],
          [
           "White Hill Music"
          ],
          [
           "KL BRO Biju Rithvik"
          ],
          [
           "Like Nastya PRT"
          ],
          [
           "Kinder Spielzeug Kanal (Kidibli)"
          ],
          [
           "Sagawa /ï¿½ï¿½ï¿½"
          ],
          [
           "Disney Latinoamï¿½ï¿½"
          ],
          [
           "Eva Bravo Play"
          ],
          [
           "Infinite"
          ],
          [
           "Azhan5star"
          ],
          [
           "Dangal TV Channel"
          ],
          [
           "GMA Public  Affairs"
          ],
          [
           "nigahiga"
          ],
          [
           "Rafa & Luiz"
          ],
          [
           "Lyrical Lemonade"
          ],
          [
           "Fatos Desconhecidos"
          ],
          [
           "Yoeslan"
          ],
          [
           "Zach King"
          ],
          [
           "Deddy Corbuzier"
          ],
          [
           "Mnet K-POP"
          ],
          [
           "Ninja Kidz TV"
          ],
          [
           "Vijay Television"
          ],
          [
           "SlivkiShow"
          ],
          [
           "Got Talent Global"
          ],
          [
           "Ami Rodriguez"
          ],
          [
           "Family GamesTV"
          ],
          [
           "CookieSwirlC"
          ],
          [
           "Robin Hood Gamer"
          ],
          [
           "Marvel Entertainment"
          ],
          [
           "REACT"
          ],
          [
           "Gordon Ramsay"
          ],
          [
           "Britain's Got Talent"
          ],
          [
           "SCTV"
          ],
          [
           "tabii Urdu"
          ],
          [
           "RKD Studios"
          ],
          [
           "etvteluguindia"
          ],
          [
           "Sonotek"
          ],
          [
           "Jimmy Kimmel Live"
          ],
          [
           "KBS WORLD TV"
          ],
          [
           "Sidemen"
          ],
          [
           "ýýýýýýýýýýýýýýýýýýýýýý"
          ],
          [
           "CKN"
          ],
          [
           "Shemaroo Comedy"
          ],
          [
           "PDK Films"
          ],
          [
           "Miley Cyrus"
          ],
          [
           "Good Mythical Morning"
          ],
          [
           "Jake Fellman"
          ],
          [
           "GEN HALILINTAR"
          ],
          [
           "Ajay Sharma"
          ],
          [
           "And TV"
          ],
          [
           "RobleisIUTU"
          ],
          [
           "Like Nastya VNM"
          ],
          [
           "Porta dos Fundos"
          ],
          [
           "FactTechz"
          ],
          [
           "Fun For Kids TV - Hindi Rhymes"
          ],
          [
           "AMARINTV : ï¿½ï¿½ï¿½ï¿½ï¿½ï¿½ï¿½ï¿½ï¿½ï¿½ï¿½ï¿½"
          ],
          [
           "Taarak Mehta Ka Ooltah Chashmah"
          ],
          [
           "TRANS TV Official"
          ],
          [
           "Gaby and Alex"
          ],
          [
           "EeOneGuy"
          ],
          [
           "VICE"
          ],
          [
           "DeToxoMoroxo"
          ],
          [
           "Doggy Doggy Cartoons"
          ],
          [
           "Like Nastya IDN"
          ],
          [
           "Salman Noman"
          ],
          [
           "With Kids[ï¿½ï¿½ï¿½ï¿½ï"
          ],
          [
           "Werever2morro"
          ],
          [
           "SriBalajiMovies"
          ],
          [
           "Younes Zarou"
          ],
          [
           "Jordan Matter"
          ],
          [
           "ýýýýýýýý ýýýýýýýýýýýýýýýýýýýýýý"
          ],
          [
           "FunFun Toy Doll TV"
          ],
          [
           "Ch7HD"
          ],
          [
           "RCTI - LAYAR DRAMA INDONESIA"
          ],
          [
           "Alfredo Larin"
          ],
          [
           "GMMTV OFFICIALï¿½ï¿½"
          ],
          [
           "Matt Stonie"
          ],
          [
           "Bollywood Classics"
          ],
          [
           "Kids Play"
          ],
          [
           "LEGO"
          ],
          [
           "AdMe"
          ],
          [
           "Dyland PROS"
          ],
          [
           "Daily Dose Of Internet"
          ],
          [
           "Disney Junior"
          ],
          [
           "La Rosa de Guadalupe"
          ],
          [
           "Prime Video India"
          ],
          [
           "Caeli YT"
          ],
          [
           "Juliana Baltar"
          ],
          [
           "Super Senya"
          ],
          [
           "Kashvi Adlakha"
          ],
          [
           "Talking Tom & Friends"
          ],
          [
           "Mazhavil Manorama"
          ],
          [
           "Niana Guerrero"
          ],
          [
           "Sony LIV"
          ],
          [
           "T-Series Hamaar Bhojpuri"
          ],
          [
           "Oyuncak Avï¿"
          ],
          [
           "Chapitosiki"
          ],
          [
           "Little Angel - Mï¿½ï¿½ï¿½ï¿½ï¿½ï¿½ï¿½ï¿½ï¿½ï¿½"
          ],
          [
           "XpressTV"
          ],
          [
           "THE BROWN SIBLINGS"
          ],
          [
           "Ray William Johnson"
          ],
          [
           "A2 Motivation by Arvind Arora"
          ],
          [
           "MNCTV OFFICIAL"
          ],
          [
           "ERB"
          ],
          [
           "iTownGamePlay *Terror&Diversiï¿½ï"
          ],
          [
           "ýýýýýýýýýýýý8 : Thai Ch8"
          ],
          [
           "Bayashi TV"
          ],
          [
           "ýýýýýýýýýý ýýýýýýýýýýýý"
          ],
          [
           "Maha Fun Tv"
          ],
          [
           "Canal Nostalgia"
          ],
          [
           "The Slow Mo Guys"
          ],
          [
           "Colors Rishtey"
          ],
          [
           "Doc Tops"
          ],
          [
           "Like Nastya Stories"
          ],
          [
           "les boys tv2"
          ],
          [
           "Reaction Time"
          ],
          [
           "Telemundo"
          ],
          [
           "GMM25Thailand"
          ],
          [
           "ýýýýýýýýýýýýýýýýýýýýý"
          ],
          [
           "Drawblogs"
          ],
          [
           "ýýýýýýýýýýýý ýýýýýýýýýýýý I ýýýýýý ýý ýýýýýýýýýý"
          ],
          [
           "RS 1313 SHORTS"
          ],
          [
           "ZEE5"
          ],
          [
           "SIS vs BRO"
          ],
          [
           "Zee Bangla"
          ],
          [
           "DangMattSmith"
          ],
          [
           "#Refugio Mental"
          ],
          [
           "ýýýýýýýýýýýýýýýýýýýý ýýýýýýýýýýýýýýýýýýýý"
          ],
          [
           "Yudist Ardhana"
          ],
          [
           "Bie The Ska"
          ],
          [
           "Zee Telugu"
          ],
          [
           "Crescendo com Luluca"
          ],
          [
           "karameeshchannel"
          ],
          [
           "T-Series Regional"
          ],
          [
           "ADEL et SAMI"
          ],
          [
           "Airrack"
          ],
          [
           "Goldmines Premiere"
          ],
          [
           "MAIKI021"
          ],
          [
           "Saturday Night Live"
          ],
          [
           "JULIA GISELLA"
          ],
          [
           "Lady Diana"
          ],
          [
           "Sanjoy Das Official"
          ],
          [
           "Vijay Kumar Viner Vlogs"
          ],
          [
           "Blockbuster Movies"
          ],
          [
           "Matt Steffanina"
          ],
          [
           "Kurt Hugo Schneider"
          ],
          [
           "Vogue"
          ],
          [
           "VexTrex"
          ],
          [
           "HUBAï¿½ï¿½"
          ],
          [
           "BIBO ï¿½ï¿½ï¿½ï¿½ï¿½ï¿"
          ],
          [
           "Ei Nerd"
          ],
          [
           "Sonotek Bhakti"
          ],
          [
           "MC Divertida"
          ],
          [
           "Ryan Trahan"
          ],
          [
           "Ian Boggs"
          ],
          [
           "RedeTV"
          ],
          [
           "Davie504"
          ],
          [
           "Calon Sarjana"
          ],
          [
           "Jomy Production"
          ],
          [
           "JesseAndMike"
          ],
          [
           "Susy Mouriz"
          ],
          [
           "Matheus Yurley"
          ],
          [
           "BIBOï¿½ï¿½ï¿½ï¿½ï"
          ],
          [
           "Top Viral Talent"
          ],
          [
           "Talking Angela"
          ],
          [
           "MrSuicideSheep"
          ],
          [
           "Ian Lucas"
          ],
          [
           "YoungBoy Never Broke Again"
          ],
          [
           "#Refï¿½ï¿½ï¿½ï¿½"
          ],
          [
           "colinfurze"
          ],
          [
           "People Vs Food"
          ],
          [
           "Parafernalha"
          ],
          [
           "NDTV"
          ],
          [
           "Family Fitness"
          ],
          [
           "Zee Tamil"
          ],
          [
           "Flowers Comedy"
          ],
          [
           "SAAIHALILINTAR"
          ],
          [
           "Heidi and Zidane HZHtube"
          ]
         ],
         "hovertemplate": "category=Entertainment<br>video views=%{x}<br>subscribers=%{y}<br>Youtuber=%{customdata[0]}<extra></extra>",
         "legendgroup": "Entertainment",
         "marker": {
          "color": "#FF97FF",
          "symbol": "circle"
         },
         "mode": "markers",
         "name": "Entertainment",
         "orientation": "v",
         "showlegend": true,
         "type": "scatter",
         "x": [
          14696003229,
          30788679536,
          22519705183,
          19398045702,
          21388725229,
          16602198273,
          7828610828,
          41139050371,
          4831311245,
          37939780685,
          19547696190,
          22477745835,
          47005053156,
          36131228583,
          22756581750,
          18208196857,
          27262462114,
          15657673422,
          3963007415,
          29611914495,
          17853798780,
          26800674545,
          19428308461,
          21031745531,
          11615848291,
          15176762479,
          6187804950,
          4332274962,
          13546549817,
          27684955537,
          14727238483,
          9956764048,
          23844936965,
          7600740993,
          7705492350,
          15916882228,
          17318452893,
          7938616641,
          7173668905,
          17211600007,
          4749833967,
          16097531087,
          7886440199,
          14169516119,
          17387583720,
          3699352704,
          12385924995,
          2380248899,
          2700914170,
          6002166932,
          4067878931,
          6582932625,
          5663125358,
          2135644776,
          5994002464,
          6766461070,
          22471357411,
          7966720147,
          31494513067,
          6041264489,
          10939966484,
          17988347989,
          11568118121,
          11136266461,
          18347969186,
          20657571751,
          9346383505,
          5141834668,
          10047736580,
          12895427184,
          11364908616,
          4380564906,
          7762905663,
          10631638628,
          3828000587,
          17963202261,
          5410164682,
          4956090094,
          15038593883,
          11009148579,
          29406206620,
          4707412332,
          2441288701,
          2951914200,
          7066711323,
          23353115850,
          10366850490,
          5634695322,
          13154314376,
          3875172235,
          11323617496,
          9808676159,
          8779729549,
          5234251168,
          23038014291,
          7590582024,
          13124645973,
          15126092508,
          5257834105,
          9594188708,
          12295637162,
          6047584292,
          4120324310,
          7760819588,
          8798044678,
          13378360425,
          3306242674,
          12249828886,
          15412333005,
          5168721499,
          9867515979,
          7739048000,
          2238134438,
          7612385622,
          13043561912,
          11371738047,
          9710962528,
          8229883114,
          3827906874,
          4609753237,
          2315962318,
          6518418501,
          7195314800,
          10393037902,
          8826138204,
          2798273962,
          9439857193,
          15278668857,
          5819508534,
          2440934034,
          7406207930,
          9463244435,
          13478392540,
          14431830557,
          12844432341,
          3527627264,
          7141825267,
          8091706232,
          20522339099,
          4488680903,
          1517638132,
          6872702790,
          15812009296,
          9642146451,
          8696631898,
          1511794214,
          3869457097,
          5070970714,
          12714141740,
          6396049701,
          16545966132,
          1491452935,
          7151683497,
          7564652648,
          8333387785,
          13897932103,
          8897705695,
          4008801873,
          8658553456,
          10239836582,
          8932038210,
          8074260978,
          4033400167,
          4977284539,
          5549770244,
          8615618825,
          2230986039,
          1321380490,
          1506796393,
          2465473772,
          12362331529,
          2613197447,
          6944967581,
          4577292740,
          4260187928,
          8582696157,
          9383692066,
          600154268,
          1629801448,
          2972474215,
          8011977288,
          18515587421,
          6973932553,
          11428794827,
          3317805543,
          3594936775,
          3920221322,
          6036496916,
          4627069704,
          12597067132,
          5094050461,
          9106781518,
          5217553897,
          5465532801,
          2224911030,
          1973638757,
          1950178163,
          14717282742,
          5380132790,
          8265920659,
          3912334359,
          7958771872,
          2650061211,
          3299216601,
          3733856870,
          4177184071,
          7923901253,
          9884886099,
          1148422000,
          3568392223,
          3789736218,
          5224764969,
          2182651464,
          9110348202,
          5333569294,
          2683297849,
          10664585,
          5057163256,
          9999238237,
          6270909026,
          140022442,
          3178222797,
          3643698504,
          3632438963,
          6970899521,
          1450874545,
          13174393401,
          2709954270,
          1612094871,
          1136534702,
          4625777945,
          4935793409,
          10384848759,
          11552190002,
          11691081301,
          1113066203,
          4021409291
         ],
         "xaxis": "x",
         "y": [
          56400000,
          47500000,
          47400000,
          46800000,
          45500000,
          45200000,
          44700000,
          44600000,
          43600000,
          43200000,
          42400000,
          41900000,
          40300000,
          39000000,
          38200000,
          37600000,
          37500000,
          35500000,
          34000000,
          33500000,
          32700000,
          32000000,
          31900000,
          31700000,
          31600000,
          31400000,
          31200000,
          30400000,
          30300000,
          30200000,
          29200000,
          28400000,
          28300000,
          28200000,
          27300000,
          27100000,
          27100000,
          26900000,
          26700000,
          26400000,
          26300000,
          26200000,
          26100000,
          25000000,
          24800000,
          24800000,
          24400000,
          24300000,
          24200000,
          24100000,
          23900000,
          23900000,
          23800000,
          23600000,
          23600000,
          23600000,
          23300000,
          23200000,
          23000000,
          23000000,
          23000000,
          22800000,
          22700000,
          22200000,
          22000000,
          21900000,
          21600000,
          21300000,
          21300000,
          21300000,
          21200000,
          21000000,
          21000000,
          21000000,
          20900000,
          20700000,
          20700000,
          20600000,
          20500000,
          20500000,
          20400000,
          20400000,
          20300000,
          20200000,
          20200000,
          20100000,
          20100000,
          20100000,
          20000000,
          20000000,
          19700000,
          19700000,
          19600000,
          19500000,
          19400000,
          19200000,
          19100000,
          19000000,
          18800000,
          18800000,
          18700000,
          18600000,
          18400000,
          18300000,
          18300000,
          18100000,
          18100000,
          18100000,
          18000000,
          17900000,
          17900000,
          17700000,
          17500000,
          17500000,
          17400000,
          17300000,
          17100000,
          17000000,
          16900000,
          16900000,
          16800000,
          16800000,
          16800000,
          16700000,
          16700000,
          16600000,
          16600000,
          16600000,
          16600000,
          16500000,
          16500000,
          16400000,
          16400000,
          16400000,
          16400000,
          16300000,
          16300000,
          16200000,
          16200000,
          16200000,
          16100000,
          16100000,
          16100000,
          16100000,
          15700000,
          15600000,
          15600000,
          15500000,
          15500000,
          15500000,
          15300000,
          15200000,
          15200000,
          15200000,
          15200000,
          15100000,
          15000000,
          15000000,
          15000000,
          15000000,
          15000000,
          14900000,
          14900000,
          14900000,
          14900000,
          14900000,
          14700000,
          14700000,
          14700000,
          14700000,
          14700000,
          14600000,
          14500000,
          14500000,
          14500000,
          14500000,
          14500000,
          14400000,
          14400000,
          14400000,
          14400000,
          14400000,
          14200000,
          14200000,
          14200000,
          14100000,
          14100000,
          14100000,
          14100000,
          14000000,
          14000000,
          13900000,
          13900000,
          13900000,
          13800000,
          13700000,
          13700000,
          13600000,
          13500000,
          13500000,
          13500000,
          13500000,
          13400000,
          13300000,
          13300000,
          13300000,
          13300000,
          13200000,
          13200000,
          13200000,
          13200000,
          13200000,
          13100000,
          13100000,
          13100000,
          13000000,
          13000000,
          13000000,
          13000000,
          13000000,
          12900000,
          12900000,
          12900000,
          12800000,
          12800000,
          12700000,
          12700000,
          12700000,
          12500000,
          12500000,
          12500000,
          12500000,
          12500000,
          12500000,
          12500000,
          12400000,
          12400000
         ],
         "yaxis": "y"
        },
        {
         "customdata": [
          [
           "JuegaGerman"
          ],
          [
           "A4"
          ],
          [
           "Fernanfloo"
          ],
          [
           "elrubiusOMG"
          ],
          [
           "Mikecrack"
          ],
          [
           "MrBeast Gaming"
          ],
          [
           "Total Gaming"
          ],
          [
           "Markiplier"
          ],
          [
           "Techno Gamerz"
          ],
          [
           "VEGETTA777"
          ],
          [
           "SSSniperWolf"
          ],
          [
           "rezendeevil"
          ],
          [
           "Dream"
          ],
          [
           "AboFlah"
          ],
          [
           "Frost Diamond"
          ],
          [
           "jacksepticeye"
          ],
          [
           "DanTDM"
          ],
          [
           "VanossGaming"
          ],
          [
           "Preston"
          ],
          [
           "Ninja"
          ],
          [
           "FaZe Rug"
          ],
          [
           "Jelly"
          ],
          [
           "SSundee"
          ],
          [
           "FGTeeV"
          ],
          [
           "invictor"
          ],
          [
           "LazarBeam"
          ],
          [
           "MiawAug"
          ],
          [
           "AuthenticGames"
          ],
          [
           "AS Gaming"
          ],
          [
           "Clash of Clans"
          ],
          [
           "Ali-A"
          ],
          [
           "ýýýýýýýý ýýýýýýýýýý ýýýýýýýýýý | Arab Games Network"
          ],
          [
           "Marmok"
          ],
          [
           "IShowSpeed"
          ],
          [
           "SQUEEZIE"
          ],
          [
           "TheGrefg"
          ],
          [
           "zbing z."
          ],
          [
           "The Game Theorists"
          ],
          [
           "DeGoBooM"
          ],
          [
           "IGN"
          ],
          [
           "Aphmau"
          ],
          [
           "PopularMMOs"
          ],
          [
           "Willyrex"
          ],
          [
           "Guava Juice"
          ],
          [
           "CoryxKenshin"
          ],
          [
           "Technoblade"
          ],
          [
           "W2S"
          ],
          [
           "JJ Olatunji"
          ],
          [
           "Antrax"
          ],
          [
           "Enes Batur"
          ],
          [
           "Lyna"
          ],
          [
           "Unspeakable"
          ],
          [
           "Kuplinov ï¿½ï¿½ï¿"
          ],
          [
           "FFUNTV"
          ],
          [
           "Mobile Legends: Bang Bang"
          ],
          [
           "LOKESH GAMER"
          ],
          [
           "Makiman131"
          ],
          [
           "EdisonPts"
          ],
          [
           "MoreAliA"
          ],
          [
           "League of Legends"
          ],
          [
           "PlayStation"
          ],
          [
           "Kwebbelkop"
          ],
          [
           "BigSchool"
          ],
          [
           "TazerCraft"
          ],
          [
           "Lachlan"
          ],
          [
           "Jesser"
          ],
          [
           "PrestonPlayz"
          ],
          [
           "Gyan Gamingï¿½"
          ],
          [
           "NOBRU"
          ],
          [
           "TommyInnit"
          ],
          [
           "E-MasterSensei"
          ],
          [
           "AM3NlC"
          ],
          [
           "ýýýýýýýýýýýý"
          ],
          [
           "Jazzghost"
          ],
          [
           "ýýýýýýýý/Atro"
          ],
          [
           "Desi Gamers"
          ],
          [
           "Acenix"
          ],
          [
           "BUDI01 GAMING"
          ],
          [
           "Typical Gamer"
          ],
          [
           "H2ODelirious"
          ],
          [
           "theRadBrad"
          ],
          [
           "penguinz0"
          ],
          [
           "BanderitaX"
          ],
          [
           "AzzyLand"
          ],
          [
           "Brawl Stars"
          ],
          [
           "GH'S"
          ],
          [
           "Piuzinho"
          ],
          [
           "Morgz"
          ],
          [
           "Yair17"
          ],
          [
           "LOUD"
          ],
          [
           "Timba Vk"
          ],
          [
           "DaniRep | +6 Vï¿½ï¿½ï¿½ï¿½ï¿½ï¿½ï¿½ï¿½ï¿½ï¿½ï"
          ],
          [
           "RobTopGames"
          ]
         ],
         "hovertemplate": "category=Gaming<br>video views=%{x}<br>subscribers=%{y}<br>Youtuber=%{customdata[0]}<extra></extra>",
         "legendgroup": "Gaming",
         "marker": {
          "color": "#FECB52",
          "symbol": "circle"
         },
         "mode": "markers",
         "name": "Gaming",
         "orientation": "v",
         "showlegend": true,
         "type": "scatter",
         "x": [
          14631710289,
          22936630813,
          10323391593,
          7410536668,
          16118181673,
          6331332547,
          5556364230,
          20297931219,
          9690499664,
          15432929204,
          23492684419,
          13061739758,
          2930015381,
          4521573939,
          7277493940,
          16246625836,
          19417887510,
          15541421838,
          8279004442,
          2543809954,
          7451792132,
          14777034543,
          13835173331,
          24059336857,
          8409641722,
          8768697257,
          6098644584,
          8920141342,
          2851024430,
          3961318438,
          6148303268,
          8761255550,
          3457618361,
          1556003039,
          9983065083,
          6404852037,
          9269174070,
          3752347262,
          6306204566,
          16107116549,
          17763586483,
          14573155899,
          5024088947,
          9111000228,
          7102965621,
          1656452554,
          4768370464,
          4076692623,
          3029872908,
          9786595271,
          6534326412,
          9052367553,
          6862529416,
          11513738907,
          1543608082,
          1640078055,
          4236036141,
          6668507856,
          4352427049,
          7159750970,
          4741434420,
          6889304306,
          9996133066,
          5956193599,
          5269059435,
          3603556207,
          5766647017,
          2224121890,
          351763324,
          2084791147,
          3920559552,
          4959982720,
          7719743112,
          5673347763,
          2480957682,
          2135195239,
          2122062016,
          1181292450,
          4301581610,
          4356686216,
          6050102764,
          7773543609,
          4129249415,
          6412313570,
          2036408398,
          8739174649,
          1081285962,
          3303595310,
          1402042328,
          2394143260,
          2840137980,
          6933660906,
          374123483
         ],
         "xaxis": "x",
         "y": [
          48100000,
          46300000,
          46100000,
          40400000,
          39100000,
          36100000,
          35400000,
          35200000,
          34400000,
          33800000,
          33700000,
          32100000,
          31700000,
          30500000,
          30100000,
          30100000,
          27400000,
          25800000,
          24000000,
          23700000,
          23700000,
          23500000,
          22500000,
          22300000,
          21500000,
          20500000,
          20200000,
          20100000,
          19600000,
          19600000,
          18700000,
          18600000,
          18500000,
          18300000,
          18100000,
          18000000,
          17600000,
          17600000,
          17600000,
          17500000,
          17400000,
          17200000,
          17200000,
          16900000,
          16700000,
          16300000,
          16300000,
          16200000,
          16000000,
          16000000,
          15900000,
          15900000,
          15600000,
          15400000,
          15400000,
          15300000,
          15100000,
          15100000,
          15000000,
          15000000,
          15000000,
          15000000,
          15000000,
          14900000,
          14800000,
          14600000,
          14600000,
          14400000,
          14400000,
          14200000,
          14200000,
          14000000,
          14000000,
          13900000,
          13800000,
          13700000,
          13600000,
          13500000,
          13500000,
          13400000,
          13300000,
          13300000,
          13300000,
          13300000,
          13200000,
          13000000,
          12700000,
          12600000,
          12500000,
          12400000,
          12400000,
          12400000,
          12300000
         ],
         "yaxis": "y"
        },
        {
         "customdata": [
          [
           "whinderssonnunes"
          ],
          [
           "Luisito Comunica"
          ],
          [
           "CarryMinati"
          ],
          [
           "Jkk Entertainment"
          ],
          [
           "KHANDESHI MOVIES"
          ],
          [
           "The Tonight Show Starring Jimmy Fallon"
          ],
          [
           "Round2hell"
          ],
          [
           "Talking Tom"
          ],
          [
           "ashish chanchlani vines"
          ],
          [
           "Enaldinho"
          ],
          [
           "AuronPlay"
          ],
          [
           "Shorts Break"
          ],
          [
           "Brent Rivera"
          ],
          [
           "enchufetv"
          ],
          [
           "Alan Chikin Chow"
          ],
          [
           "Smosh"
          ],
          [
           "LankyBox"
          ],
          [
           "Alejo Igoa"
          ],
          [
           "Daniel LaBelle"
          ],
          [
           "Spider Slack"
          ],
          [
           "Heroindori"
          ],
          [
           "Topper Guild"
          ],
          [
           "YOLO"
          ],
          [
           "Canal Canalha"
          ],
          [
           "Bizarrap"
          ],
          [
           "Noor Stars"
          ],
          [
           "dednahype"
          ],
          [
           "Marta and Rustam"
          ],
          [
           "JennaMarbles"
          ],
          [
           "TheOdd1sOut"
          ],
          [
           "Triggered Insaan"
          ],
          [
           "TheWillyrex"
          ],
          [
           "Lele Pons"
          ],
          [
           "MissaSinfonia"
          ],
          [
           "TheBrianMaps"
          ],
          [
           "Liza Koshy"
          ],
          [
           "Prajapati News"
          ],
          [
           "Aayu and Pihu Show"
          ],
          [
           "FailArmy"
          ],
          [
           "Kaykai Salaider"
          ],
          [
           "T3ddy"
          ],
          [
           "Harsh Beniwal"
          ],
          [
           "The MriDul"
          ],
          [
           "Rubï¿½ï¿½ï¿½ï¿½ï¿½ï¿½"
          ],
          [
           "ISSEI / ï¿½ï¿½ï¿½ï¿½"
          ],
          [
           "Chad Wild Clay"
          ],
          [
           "CollegeHumor"
          ],
          [
           "Noman Official"
          ],
          [
           "Lilly Singh"
          ],
          [
           "Cyprien"
          ],
          [
           "Rclbeauty101"
          ],
          [
           "Rebecca Zamolo"
          ],
          [
           "SEVENGERS"
          ],
          [
           "O Que Nï¿½ï¿½ï¿½ï¿½ï¿½ï¿"
          ],
          [
           "The Vishal bhatt"
          ],
          [
           "FAPTV"
          ],
          [
           "Woody & Kleiny"
          ],
          [
           "My Mate Nate"
          ],
          [
           "Just For Laughs Gags"
          ],
          [
           "Everson Zoio"
          ],
          [
           "The LaBrant Fam"
          ],
          [
           "Melon City Show - ï¿½ï¿½ï¿½ï¿½ï¿½ï¿½ï¿½ï¿½ï¿½ï¿½ï¿"
          ],
          [
           "Adam W"
          ],
          [
           "Franco Escamilla"
          ],
          [
           "CKM"
          ],
          [
           "_vector_"
          ],
          [
           "Gustavo Parï¿½ï¿½"
          ],
          [
           "MoniLina"
          ],
          [
           "Make Joke Of"
          ]
         ],
         "hovertemplate": "category=Comedy<br>video views=%{x}<br>subscribers=%{y}<br>Youtuber=%{customdata[0]}<extra></extra>",
         "legendgroup": "Comedy",
         "marker": {
          "color": "#636efa",
          "symbol": "circle"
         },
         "mode": "markers",
         "name": "Comedy",
         "orientation": "v",
         "showlegend": true,
         "type": "scatter",
         "x": [
          4274709210,
          8670473639,
          3294013141,
          16402066717,
          11405809704,
          17111726160,
          3145161634,
          15199330166,
          4457913639,
          11627437847,
          4079141673,
          19466238065,
          6570935979,
          10317306313,
          27006526665,
          10435474336,
          34300482066,
          10999000479,
          12916159065,
          13943030228,
          9223534599,
          15552070846,
          1573058816,
          1870608170,
          7657171980,
          2764127969,
          20919403720,
          19694265358,
          1803249241,
          4566120190,
          3276891538,
          7038827526,
          5244917119,
          2274007523,
          4448334716,
          2173106162,
          1001465469,
          9270331567,
          3037260680,
          4434679706,
          2990185467,
          1781226000,
          4503880875,
          9477021288,
          13562853889,
          6751985988,
          7255848125,
          5525773746,
          3517662420,
          3086254545,
          3900312631,
          6388439235,
          10238593147,
          1967930734,
          9596430464,
          5457203710,
          11717217293,
          3363634923,
          7406628736,
          1024467771,
          4637474071,
          5863456698,
          9502983550,
          4266957149,
          4465772496,
          7597013023,
          2602614088,
          16086808918,
          2129773714
         ],
         "xaxis": "x",
         "y": [
          44200000,
          40600000,
          39200000,
          37200000,
          33500000,
          31200000,
          30700000,
          30200000,
          29800000,
          29200000,
          29200000,
          29000000,
          27000000,
          26700000,
          26400000,
          26100000,
          25400000,
          24100000,
          24100000,
          24000000,
          22600000,
          21900000,
          21400000,
          20800000,
          20600000,
          20200000,
          20200000,
          20200000,
          19700000,
          19100000,
          18800000,
          18400000,
          17900000,
          17600000,
          17100000,
          17100000,
          17000000,
          16900000,
          16500000,
          16400000,
          16200000,
          15400000,
          15200000,
          15100000,
          15000000,
          14700000,
          14700000,
          14600000,
          14500000,
          14400000,
          14400000,
          14300000,
          14200000,
          13700000,
          13700000,
          13700000,
          13500000,
          13400000,
          13300000,
          13000000,
          13000000,
          12800000,
          12800000,
          12700000,
          12500000,
          12400000,
          12400000,
          12400000,
          12300000
         ],
         "yaxis": "y"
        },
        {
         "customdata": [
          [
           "Masha and The Bear"
          ],
          [
           "Sony PAL"
          ],
          [
           "Mr Bean"
          ],
          [
           "Kids TV - Nursery Rhymes And Baby Songs"
          ],
          [
           "Sony AATH"
          ],
          [
           "Masha e o Urso"
          ],
          [
           "MGC Playhouse"
          ],
          [
           "ýýýýýýýý ýý ýýýýýýýý"
          ],
          [
           "Kids TV India Hindi Nursery Rhymes"
          ],
          [
           "ýýýýýýýý ýýýý ýýýýýýýýýýýýýý"
          ]
         ],
         "hovertemplate": "category=Shows<br>video views=%{x}<br>subscribers=%{y}<br>Youtuber=%{customdata[0]}<extra></extra>",
         "legendgroup": "Shows",
         "marker": {
          "color": "#EF553B",
          "symbol": "circle"
         },
         "mode": "markers",
         "name": "Shows",
         "orientation": "v",
         "showlegend": true,
         "type": "scatter",
         "x": [
          24519022988,
          28519339489,
          10602236110,
          13151870846,
          13930021471,
          8301731337,
          16174530046,
          8265129639,
          6646953396,
          5585085130
         ],
         "xaxis": "x",
         "y": [
          42400000,
          38200000,
          32100000,
          23100000,
          19600000,
          18900000,
          17900000,
          15500000,
          13800000,
          12900000
         ],
         "yaxis": "y"
        },
        {
         "customdata": [
          [
           "Ishtar Music"
          ],
          [
           "Ultra Bollywood"
          ]
         ],
         "hovertemplate": "category=Trailers<br>video views=%{x}<br>subscribers=%{y}<br>Youtuber=%{customdata[0]}<extra></extra>",
         "legendgroup": "Trailers",
         "marker": {
          "color": "#00cc96",
          "symbol": "circle"
         },
         "mode": "markers",
         "name": "Trailers",
         "orientation": "v",
         "showlegend": true,
         "type": "scatter",
         "x": [
          17608931161,
          15653786446
         ],
         "xaxis": "x",
         "y": [
          41400000,
          36600000
         ],
         "yaxis": "y"
        },
        {
         "customdata": [
          [
           "TEDx Talks"
          ],
          [
           "Bispo Bruno Leonardo"
          ]
         ],
         "hovertemplate": "category=Nonprofits & Activism<br>video views=%{x}<br>subscribers=%{y}<br>Youtuber=%{customdata[0]}<extra></extra>",
         "legendgroup": "Nonprofits & Activism",
         "marker": {
          "color": "#ab63fa",
          "symbol": "circle"
         },
         "mode": "markers",
         "name": "Nonprofits & Activism",
         "orientation": "v",
         "showlegend": true,
         "type": "scatter",
         "x": [
          7339333120,
          3523578665
         ],
         "xaxis": "x",
         "y": [
          38600000,
          16900000
         ],
         "yaxis": "y"
        },
        {
         "customdata": [
          [
           "MR. INDIAN HACKER"
          ],
          [
           "Mark Rober"
          ],
          [
           "Happy Lives"
          ],
          [
           "Technical Guruji"
          ],
          [
           "National Geographic"
          ],
          [
           "HaerteTest"
          ],
          [
           "Vsauce"
          ],
          [
           "Unbox Therapy"
          ],
          [
           "Apple"
          ],
          [
           "Marques Brownlee"
          ],
          [
           "Linus Tech Tips"
          ],
          [
           "Mr DegrEE"
          ],
          [
           "Mrwhosetheboss"
          ],
          [
           "Hacksmith Industries"
          ],
          [
           "Trakin Tech"
          ],
          [
           "Technology Gyan"
          ],
          [
           "Quantum Tech HD"
          ]
         ],
         "hovertemplate": "category=Science & Technology<br>video views=%{x}<br>subscribers=%{y}<br>Youtuber=%{customdata[0]}<extra></extra>",
         "legendgroup": "Science & Technology",
         "marker": {
          "color": "#FFA15A",
          "symbol": "circle"
         },
         "mode": "markers",
         "name": "Science & Technology",
         "orientation": "v",
         "showlegend": true,
         "type": "scatter",
         "x": [
          5711208484,
          3647987299,
          2634,
          3378047383,
          5614621131,
          3234880084,
          2897907132,
          4508184467,
          1026425106,
          3606912471,
          7172386509,
          12880388253,
          3736069980,
          1820559912,
          2262690743,
          1138262456,
          4340213066
         ],
         "xaxis": "x",
         "y": [
          31700000,
          24600000,
          23200000,
          23000000,
          21800000,
          19800000,
          19300000,
          19300000,
          17300000,
          17200000,
          15600000,
          15500000,
          15400000,
          13800000,
          13300000,
          13200000,
          12500000
         ],
         "yaxis": "y"
        },
        {
         "customdata": [
          [
           "Aditya Movies"
          ],
          [
           "Ultra Movie Parlour"
          ]
         ],
         "hovertemplate": "category=Movies<br>video views=%{x}<br>subscribers=%{y}<br>Youtuber=%{customdata[0]}<extra></extra>",
         "legendgroup": "Movies",
         "marker": {
          "color": "#19d3f3",
          "symbol": "circle"
         },
         "mode": "markers",
         "name": "Movies",
         "orientation": "v",
         "showlegend": true,
         "type": "scatter",
         "x": [
          10062770060,
          5320485069
         ],
         "xaxis": "x",
         "y": [
          28400000,
          22900000
         ],
         "yaxis": "y"
        },
        {
         "customdata": [
          [
           "That Little Puff"
          ],
          [
           "Brave Wilderness"
          ],
          [
           "The Dodo"
          ],
          [
           "BBC"
          ]
         ],
         "hovertemplate": "category=Pets & Animals<br>video views=%{x}<br>subscribers=%{y}<br>Youtuber=%{customdata[0]}<extra></extra>",
         "legendgroup": "Pets & Animals",
         "marker": {
          "color": "#FF6692",
          "symbol": "circle"
         },
         "mode": "markers",
         "name": "Pets & Animals",
         "orientation": "v",
         "showlegend": true,
         "type": "scatter",
         "x": [
          20289689389,
          4927879069,
          9964116817,
          9685060624
         ],
         "xaxis": "x",
         "y": [
          23700000,
          20900000,
          14200000,
          13600000
         ],
         "yaxis": "y"
        },
        {
         "customdata": [
          [
           "DUDU e CAROL"
          ],
          [
           "Supercar Blondie"
          ]
         ],
         "hovertemplate": "category=Autos & Vehicles<br>video views=%{x}<br>subscribers=%{y}<br>Youtuber=%{customdata[0]}<extra></extra>",
         "legendgroup": "Autos & Vehicles",
         "marker": {
          "color": "#B6E880",
          "symbol": "circle"
         },
         "mode": "markers",
         "name": "Autos & Vehicles",
         "orientation": "v",
         "showlegend": true,
         "type": "scatter",
         "x": [
          9597894786,
          5405563355
         ],
         "xaxis": "x",
         "y": [
          21600000,
          14100000
         ],
         "yaxis": "y"
        },
        {
         "customdata": [
          [
           "Mï¿½ï¿½ï¿½ï¿½"
          ]
         ],
         "hovertemplate": "category=Travel & Events<br>video views=%{x}<br>subscribers=%{y}<br>Youtuber=%{customdata[0]}<extra></extra>",
         "legendgroup": "Travel & Events",
         "marker": {
          "color": "#FF97FF",
          "symbol": "circle"
         },
         "mode": "markers",
         "name": "Travel & Events",
         "orientation": "v",
         "showlegend": true,
         "type": "scatter",
         "x": [
          3140883140
         ],
         "xaxis": "x",
         "y": [
          12500000
         ],
         "yaxis": "y"
        }
       ],
       "layout": {
        "legend": {
         "title": {
          "text": "category"
         },
         "tracegroupgap": 0
        },
        "margin": {
         "t": 60
        },
        "template": {
         "data": {
          "bar": [
           {
            "error_x": {
             "color": "#2a3f5f"
            },
            "error_y": {
             "color": "#2a3f5f"
            },
            "marker": {
             "line": {
              "color": "#E5ECF6",
              "width": 0.5
             },
             "pattern": {
              "fillmode": "overlay",
              "size": 10,
              "solidity": 0.2
             }
            },
            "type": "bar"
           }
          ],
          "barpolar": [
           {
            "marker": {
             "line": {
              "color": "#E5ECF6",
              "width": 0.5
             },
             "pattern": {
              "fillmode": "overlay",
              "size": 10,
              "solidity": 0.2
             }
            },
            "type": "barpolar"
           }
          ],
          "carpet": [
           {
            "aaxis": {
             "endlinecolor": "#2a3f5f",
             "gridcolor": "white",
             "linecolor": "white",
             "minorgridcolor": "white",
             "startlinecolor": "#2a3f5f"
            },
            "baxis": {
             "endlinecolor": "#2a3f5f",
             "gridcolor": "white",
             "linecolor": "white",
             "minorgridcolor": "white",
             "startlinecolor": "#2a3f5f"
            },
            "type": "carpet"
           }
          ],
          "choropleth": [
           {
            "colorbar": {
             "outlinewidth": 0,
             "ticks": ""
            },
            "type": "choropleth"
           }
          ],
          "contour": [
           {
            "colorbar": {
             "outlinewidth": 0,
             "ticks": ""
            },
            "colorscale": [
             [
              0,
              "#0d0887"
             ],
             [
              0.1111111111111111,
              "#46039f"
             ],
             [
              0.2222222222222222,
              "#7201a8"
             ],
             [
              0.3333333333333333,
              "#9c179e"
             ],
             [
              0.4444444444444444,
              "#bd3786"
             ],
             [
              0.5555555555555556,
              "#d8576b"
             ],
             [
              0.6666666666666666,
              "#ed7953"
             ],
             [
              0.7777777777777778,
              "#fb9f3a"
             ],
             [
              0.8888888888888888,
              "#fdca26"
             ],
             [
              1,
              "#f0f921"
             ]
            ],
            "type": "contour"
           }
          ],
          "contourcarpet": [
           {
            "colorbar": {
             "outlinewidth": 0,
             "ticks": ""
            },
            "type": "contourcarpet"
           }
          ],
          "heatmap": [
           {
            "colorbar": {
             "outlinewidth": 0,
             "ticks": ""
            },
            "colorscale": [
             [
              0,
              "#0d0887"
             ],
             [
              0.1111111111111111,
              "#46039f"
             ],
             [
              0.2222222222222222,
              "#7201a8"
             ],
             [
              0.3333333333333333,
              "#9c179e"
             ],
             [
              0.4444444444444444,
              "#bd3786"
             ],
             [
              0.5555555555555556,
              "#d8576b"
             ],
             [
              0.6666666666666666,
              "#ed7953"
             ],
             [
              0.7777777777777778,
              "#fb9f3a"
             ],
             [
              0.8888888888888888,
              "#fdca26"
             ],
             [
              1,
              "#f0f921"
             ]
            ],
            "type": "heatmap"
           }
          ],
          "heatmapgl": [
           {
            "colorbar": {
             "outlinewidth": 0,
             "ticks": ""
            },
            "colorscale": [
             [
              0,
              "#0d0887"
             ],
             [
              0.1111111111111111,
              "#46039f"
             ],
             [
              0.2222222222222222,
              "#7201a8"
             ],
             [
              0.3333333333333333,
              "#9c179e"
             ],
             [
              0.4444444444444444,
              "#bd3786"
             ],
             [
              0.5555555555555556,
              "#d8576b"
             ],
             [
              0.6666666666666666,
              "#ed7953"
             ],
             [
              0.7777777777777778,
              "#fb9f3a"
             ],
             [
              0.8888888888888888,
              "#fdca26"
             ],
             [
              1,
              "#f0f921"
             ]
            ],
            "type": "heatmapgl"
           }
          ],
          "histogram": [
           {
            "marker": {
             "pattern": {
              "fillmode": "overlay",
              "size": 10,
              "solidity": 0.2
             }
            },
            "type": "histogram"
           }
          ],
          "histogram2d": [
           {
            "colorbar": {
             "outlinewidth": 0,
             "ticks": ""
            },
            "colorscale": [
             [
              0,
              "#0d0887"
             ],
             [
              0.1111111111111111,
              "#46039f"
             ],
             [
              0.2222222222222222,
              "#7201a8"
             ],
             [
              0.3333333333333333,
              "#9c179e"
             ],
             [
              0.4444444444444444,
              "#bd3786"
             ],
             [
              0.5555555555555556,
              "#d8576b"
             ],
             [
              0.6666666666666666,
              "#ed7953"
             ],
             [
              0.7777777777777778,
              "#fb9f3a"
             ],
             [
              0.8888888888888888,
              "#fdca26"
             ],
             [
              1,
              "#f0f921"
             ]
            ],
            "type": "histogram2d"
           }
          ],
          "histogram2dcontour": [
           {
            "colorbar": {
             "outlinewidth": 0,
             "ticks": ""
            },
            "colorscale": [
             [
              0,
              "#0d0887"
             ],
             [
              0.1111111111111111,
              "#46039f"
             ],
             [
              0.2222222222222222,
              "#7201a8"
             ],
             [
              0.3333333333333333,
              "#9c179e"
             ],
             [
              0.4444444444444444,
              "#bd3786"
             ],
             [
              0.5555555555555556,
              "#d8576b"
             ],
             [
              0.6666666666666666,
              "#ed7953"
             ],
             [
              0.7777777777777778,
              "#fb9f3a"
             ],
             [
              0.8888888888888888,
              "#fdca26"
             ],
             [
              1,
              "#f0f921"
             ]
            ],
            "type": "histogram2dcontour"
           }
          ],
          "mesh3d": [
           {
            "colorbar": {
             "outlinewidth": 0,
             "ticks": ""
            },
            "type": "mesh3d"
           }
          ],
          "parcoords": [
           {
            "line": {
             "colorbar": {
              "outlinewidth": 0,
              "ticks": ""
             }
            },
            "type": "parcoords"
           }
          ],
          "pie": [
           {
            "automargin": true,
            "type": "pie"
           }
          ],
          "scatter": [
           {
            "fillpattern": {
             "fillmode": "overlay",
             "size": 10,
             "solidity": 0.2
            },
            "type": "scatter"
           }
          ],
          "scatter3d": [
           {
            "line": {
             "colorbar": {
              "outlinewidth": 0,
              "ticks": ""
             }
            },
            "marker": {
             "colorbar": {
              "outlinewidth": 0,
              "ticks": ""
             }
            },
            "type": "scatter3d"
           }
          ],
          "scattercarpet": [
           {
            "marker": {
             "colorbar": {
              "outlinewidth": 0,
              "ticks": ""
             }
            },
            "type": "scattercarpet"
           }
          ],
          "scattergeo": [
           {
            "marker": {
             "colorbar": {
              "outlinewidth": 0,
              "ticks": ""
             }
            },
            "type": "scattergeo"
           }
          ],
          "scattergl": [
           {
            "marker": {
             "colorbar": {
              "outlinewidth": 0,
              "ticks": ""
             }
            },
            "type": "scattergl"
           }
          ],
          "scattermapbox": [
           {
            "marker": {
             "colorbar": {
              "outlinewidth": 0,
              "ticks": ""
             }
            },
            "type": "scattermapbox"
           }
          ],
          "scatterpolar": [
           {
            "marker": {
             "colorbar": {
              "outlinewidth": 0,
              "ticks": ""
             }
            },
            "type": "scatterpolar"
           }
          ],
          "scatterpolargl": [
           {
            "marker": {
             "colorbar": {
              "outlinewidth": 0,
              "ticks": ""
             }
            },
            "type": "scatterpolargl"
           }
          ],
          "scatterternary": [
           {
            "marker": {
             "colorbar": {
              "outlinewidth": 0,
              "ticks": ""
             }
            },
            "type": "scatterternary"
           }
          ],
          "surface": [
           {
            "colorbar": {
             "outlinewidth": 0,
             "ticks": ""
            },
            "colorscale": [
             [
              0,
              "#0d0887"
             ],
             [
              0.1111111111111111,
              "#46039f"
             ],
             [
              0.2222222222222222,
              "#7201a8"
             ],
             [
              0.3333333333333333,
              "#9c179e"
             ],
             [
              0.4444444444444444,
              "#bd3786"
             ],
             [
              0.5555555555555556,
              "#d8576b"
             ],
             [
              0.6666666666666666,
              "#ed7953"
             ],
             [
              0.7777777777777778,
              "#fb9f3a"
             ],
             [
              0.8888888888888888,
              "#fdca26"
             ],
             [
              1,
              "#f0f921"
             ]
            ],
            "type": "surface"
           }
          ],
          "table": [
           {
            "cells": {
             "fill": {
              "color": "#EBF0F8"
             },
             "line": {
              "color": "white"
             }
            },
            "header": {
             "fill": {
              "color": "#C8D4E3"
             },
             "line": {
              "color": "white"
             }
            },
            "type": "table"
           }
          ]
         },
         "layout": {
          "annotationdefaults": {
           "arrowcolor": "#2a3f5f",
           "arrowhead": 0,
           "arrowwidth": 1
          },
          "autotypenumbers": "strict",
          "coloraxis": {
           "colorbar": {
            "outlinewidth": 0,
            "ticks": ""
           }
          },
          "colorscale": {
           "diverging": [
            [
             0,
             "#8e0152"
            ],
            [
             0.1,
             "#c51b7d"
            ],
            [
             0.2,
             "#de77ae"
            ],
            [
             0.3,
             "#f1b6da"
            ],
            [
             0.4,
             "#fde0ef"
            ],
            [
             0.5,
             "#f7f7f7"
            ],
            [
             0.6,
             "#e6f5d0"
            ],
            [
             0.7,
             "#b8e186"
            ],
            [
             0.8,
             "#7fbc41"
            ],
            [
             0.9,
             "#4d9221"
            ],
            [
             1,
             "#276419"
            ]
           ],
           "sequential": [
            [
             0,
             "#0d0887"
            ],
            [
             0.1111111111111111,
             "#46039f"
            ],
            [
             0.2222222222222222,
             "#7201a8"
            ],
            [
             0.3333333333333333,
             "#9c179e"
            ],
            [
             0.4444444444444444,
             "#bd3786"
            ],
            [
             0.5555555555555556,
             "#d8576b"
            ],
            [
             0.6666666666666666,
             "#ed7953"
            ],
            [
             0.7777777777777778,
             "#fb9f3a"
            ],
            [
             0.8888888888888888,
             "#fdca26"
            ],
            [
             1,
             "#f0f921"
            ]
           ],
           "sequentialminus": [
            [
             0,
             "#0d0887"
            ],
            [
             0.1111111111111111,
             "#46039f"
            ],
            [
             0.2222222222222222,
             "#7201a8"
            ],
            [
             0.3333333333333333,
             "#9c179e"
            ],
            [
             0.4444444444444444,
             "#bd3786"
            ],
            [
             0.5555555555555556,
             "#d8576b"
            ],
            [
             0.6666666666666666,
             "#ed7953"
            ],
            [
             0.7777777777777778,
             "#fb9f3a"
            ],
            [
             0.8888888888888888,
             "#fdca26"
            ],
            [
             1,
             "#f0f921"
            ]
           ]
          },
          "colorway": [
           "#636efa",
           "#EF553B",
           "#00cc96",
           "#ab63fa",
           "#FFA15A",
           "#19d3f3",
           "#FF6692",
           "#B6E880",
           "#FF97FF",
           "#FECB52"
          ],
          "font": {
           "color": "#2a3f5f"
          },
          "geo": {
           "bgcolor": "white",
           "lakecolor": "white",
           "landcolor": "#E5ECF6",
           "showlakes": true,
           "showland": true,
           "subunitcolor": "white"
          },
          "hoverlabel": {
           "align": "left"
          },
          "hovermode": "closest",
          "mapbox": {
           "style": "light"
          },
          "paper_bgcolor": "white",
          "plot_bgcolor": "#E5ECF6",
          "polar": {
           "angularaxis": {
            "gridcolor": "white",
            "linecolor": "white",
            "ticks": ""
           },
           "bgcolor": "#E5ECF6",
           "radialaxis": {
            "gridcolor": "white",
            "linecolor": "white",
            "ticks": ""
           }
          },
          "scene": {
           "xaxis": {
            "backgroundcolor": "#E5ECF6",
            "gridcolor": "white",
            "gridwidth": 2,
            "linecolor": "white",
            "showbackground": true,
            "ticks": "",
            "zerolinecolor": "white"
           },
           "yaxis": {
            "backgroundcolor": "#E5ECF6",
            "gridcolor": "white",
            "gridwidth": 2,
            "linecolor": "white",
            "showbackground": true,
            "ticks": "",
            "zerolinecolor": "white"
           },
           "zaxis": {
            "backgroundcolor": "#E5ECF6",
            "gridcolor": "white",
            "gridwidth": 2,
            "linecolor": "white",
            "showbackground": true,
            "ticks": "",
            "zerolinecolor": "white"
           }
          },
          "shapedefaults": {
           "line": {
            "color": "#2a3f5f"
           }
          },
          "ternary": {
           "aaxis": {
            "gridcolor": "white",
            "linecolor": "white",
            "ticks": ""
           },
           "baxis": {
            "gridcolor": "white",
            "linecolor": "white",
            "ticks": ""
           },
           "bgcolor": "#E5ECF6",
           "caxis": {
            "gridcolor": "white",
            "linecolor": "white",
            "ticks": ""
           }
          },
          "title": {
           "x": 0.05
          },
          "xaxis": {
           "automargin": true,
           "gridcolor": "white",
           "linecolor": "white",
           "ticks": "",
           "title": {
            "standoff": 15
           },
           "zerolinecolor": "white",
           "zerolinewidth": 2
          },
          "yaxis": {
           "automargin": true,
           "gridcolor": "white",
           "linecolor": "white",
           "ticks": "",
           "title": {
            "standoff": 15
           },
           "zerolinecolor": "white",
           "zerolinewidth": 2
          }
         }
        },
        "xaxis": {
         "anchor": "y",
         "domain": [
          0,
          1
         ],
         "title": {
          "text": "video views"
         }
        },
        "yaxis": {
         "anchor": "x",
         "domain": [
          0,
          1
         ],
         "title": {
          "text": "subscribers"
         }
        }
       }
      }
     },
     "metadata": {},
     "output_type": "display_data"
    }
   ],
   "source": [
    "fig = px.scatter(df_concentrada, x='video views', y='subscribers', color=\"category\", hover_data=[\"Youtuber\"])\n",
    "fig.show()"
   ]
  },
  {
   "cell_type": "markdown",
   "metadata": {},
   "source": [
    "Nesse gráfico (versão com todas as categorias), conseguimos chegar a conclusão que existem categorias que possuem proporcionalmente mais visualizações do que inscritos, e vice versa. \n",
    "\n",
    "Por exemplo: as categorias \"Sports\", \"News & Politics\" e \"People & Blogs\", que podem ser considerados conteúdos muito \"do momento\", se destacam mais em termos de visualizações do que inscrições. Enquanto categorias mais relacionadas a interesses como \"Entertainment\", \"Gaming\" e \"Comedy\" apresentam uma dispersão maior, o que indica que possui mais inscrições do que as categorias anteriores.\n"
   ]
  },
  {
   "cell_type": "markdown",
   "metadata": {},
   "source": [
    "## Categorias X países"
   ]
  },
  {
   "cell_type": "markdown",
   "metadata": {},
   "source": [
    "Análise de similaridade de categorias entre países"
   ]
  },
  {
   "cell_type": "code",
   "execution_count": 44,
   "metadata": {},
   "outputs": [
    {
     "data": {
      "text/html": [
       "<div>\n",
       "<style scoped>\n",
       "    .dataframe tbody tr th:only-of-type {\n",
       "        vertical-align: middle;\n",
       "    }\n",
       "\n",
       "    .dataframe tbody tr th {\n",
       "        vertical-align: top;\n",
       "    }\n",
       "\n",
       "    .dataframe thead th {\n",
       "        text-align: right;\n",
       "    }\n",
       "</style>\n",
       "<table border=\"1\" class=\"dataframe\">\n",
       "  <thead>\n",
       "    <tr style=\"text-align: right;\">\n",
       "      <th>category</th>\n",
       "      <th>Autos &amp; Vehicles</th>\n",
       "      <th>Comedy</th>\n",
       "      <th>Education</th>\n",
       "      <th>Entertainment</th>\n",
       "      <th>Film &amp; Animation</th>\n",
       "      <th>Gaming</th>\n",
       "      <th>Howto &amp; Style</th>\n",
       "      <th>Movies</th>\n",
       "      <th>Music</th>\n",
       "      <th>News &amp; Politics</th>\n",
       "      <th>Nonprofits &amp; Activism</th>\n",
       "      <th>People &amp; Blogs</th>\n",
       "      <th>Pets &amp; Animals</th>\n",
       "      <th>Science &amp; Technology</th>\n",
       "      <th>Shows</th>\n",
       "      <th>Sports</th>\n",
       "      <th>Trailers</th>\n",
       "      <th>Travel &amp; Events</th>\n",
       "    </tr>\n",
       "    <tr>\n",
       "      <th>Country</th>\n",
       "      <th></th>\n",
       "      <th></th>\n",
       "      <th></th>\n",
       "      <th></th>\n",
       "      <th></th>\n",
       "      <th></th>\n",
       "      <th></th>\n",
       "      <th></th>\n",
       "      <th></th>\n",
       "      <th></th>\n",
       "      <th></th>\n",
       "      <th></th>\n",
       "      <th></th>\n",
       "      <th></th>\n",
       "      <th></th>\n",
       "      <th></th>\n",
       "      <th></th>\n",
       "      <th></th>\n",
       "    </tr>\n",
       "  </thead>\n",
       "  <tbody>\n",
       "    <tr>\n",
       "      <th>Afghanistan</th>\n",
       "      <td>0</td>\n",
       "      <td>0</td>\n",
       "      <td>0</td>\n",
       "      <td>0</td>\n",
       "      <td>0</td>\n",
       "      <td>0</td>\n",
       "      <td>0</td>\n",
       "      <td>0</td>\n",
       "      <td>1</td>\n",
       "      <td>0</td>\n",
       "      <td>0</td>\n",
       "      <td>0</td>\n",
       "      <td>0</td>\n",
       "      <td>0</td>\n",
       "      <td>0</td>\n",
       "      <td>0</td>\n",
       "      <td>0</td>\n",
       "      <td>0</td>\n",
       "    </tr>\n",
       "    <tr>\n",
       "      <th>Andorra</th>\n",
       "      <td>0</td>\n",
       "      <td>0</td>\n",
       "      <td>0</td>\n",
       "      <td>0</td>\n",
       "      <td>0</td>\n",
       "      <td>0</td>\n",
       "      <td>1</td>\n",
       "      <td>0</td>\n",
       "      <td>0</td>\n",
       "      <td>0</td>\n",
       "      <td>0</td>\n",
       "      <td>0</td>\n",
       "      <td>0</td>\n",
       "      <td>0</td>\n",
       "      <td>0</td>\n",
       "      <td>0</td>\n",
       "      <td>0</td>\n",
       "      <td>0</td>\n",
       "    </tr>\n",
       "    <tr>\n",
       "      <th>Argentina</th>\n",
       "      <td>0</td>\n",
       "      <td>3</td>\n",
       "      <td>1</td>\n",
       "      <td>3</td>\n",
       "      <td>1</td>\n",
       "      <td>1</td>\n",
       "      <td>0</td>\n",
       "      <td>0</td>\n",
       "      <td>4</td>\n",
       "      <td>0</td>\n",
       "      <td>0</td>\n",
       "      <td>0</td>\n",
       "      <td>0</td>\n",
       "      <td>0</td>\n",
       "      <td>0</td>\n",
       "      <td>0</td>\n",
       "      <td>0</td>\n",
       "      <td>0</td>\n",
       "    </tr>\n",
       "    <tr>\n",
       "      <th>Australia</th>\n",
       "      <td>0</td>\n",
       "      <td>0</td>\n",
       "      <td>1</td>\n",
       "      <td>0</td>\n",
       "      <td>0</td>\n",
       "      <td>3</td>\n",
       "      <td>2</td>\n",
       "      <td>0</td>\n",
       "      <td>2</td>\n",
       "      <td>0</td>\n",
       "      <td>0</td>\n",
       "      <td>0</td>\n",
       "      <td>0</td>\n",
       "      <td>0</td>\n",
       "      <td>0</td>\n",
       "      <td>1</td>\n",
       "      <td>0</td>\n",
       "      <td>0</td>\n",
       "    </tr>\n",
       "    <tr>\n",
       "      <th>Bangladesh</th>\n",
       "      <td>0</td>\n",
       "      <td>0</td>\n",
       "      <td>0</td>\n",
       "      <td>0</td>\n",
       "      <td>0</td>\n",
       "      <td>0</td>\n",
       "      <td>0</td>\n",
       "      <td>0</td>\n",
       "      <td>0</td>\n",
       "      <td>1</td>\n",
       "      <td>0</td>\n",
       "      <td>0</td>\n",
       "      <td>0</td>\n",
       "      <td>0</td>\n",
       "      <td>0</td>\n",
       "      <td>0</td>\n",
       "      <td>0</td>\n",
       "      <td>0</td>\n",
       "    </tr>\n",
       "    <tr>\n",
       "      <th>Barbados</th>\n",
       "      <td>0</td>\n",
       "      <td>0</td>\n",
       "      <td>0</td>\n",
       "      <td>1</td>\n",
       "      <td>0</td>\n",
       "      <td>0</td>\n",
       "      <td>0</td>\n",
       "      <td>0</td>\n",
       "      <td>0</td>\n",
       "      <td>0</td>\n",
       "      <td>0</td>\n",
       "      <td>0</td>\n",
       "      <td>0</td>\n",
       "      <td>0</td>\n",
       "      <td>0</td>\n",
       "      <td>0</td>\n",
       "      <td>0</td>\n",
       "      <td>0</td>\n",
       "    </tr>\n",
       "    <tr>\n",
       "      <th>Brazil</th>\n",
       "      <td>1</td>\n",
       "      <td>8</td>\n",
       "      <td>0</td>\n",
       "      <td>14</td>\n",
       "      <td>7</td>\n",
       "      <td>6</td>\n",
       "      <td>2</td>\n",
       "      <td>0</td>\n",
       "      <td>16</td>\n",
       "      <td>0</td>\n",
       "      <td>1</td>\n",
       "      <td>6</td>\n",
       "      <td>0</td>\n",
       "      <td>0</td>\n",
       "      <td>0</td>\n",
       "      <td>1</td>\n",
       "      <td>0</td>\n",
       "      <td>0</td>\n",
       "    </tr>\n",
       "    <tr>\n",
       "      <th>Canada</th>\n",
       "      <td>0</td>\n",
       "      <td>1</td>\n",
       "      <td>1</td>\n",
       "      <td>2</td>\n",
       "      <td>0</td>\n",
       "      <td>4</td>\n",
       "      <td>0</td>\n",
       "      <td>0</td>\n",
       "      <td>5</td>\n",
       "      <td>0</td>\n",
       "      <td>0</td>\n",
       "      <td>0</td>\n",
       "      <td>0</td>\n",
       "      <td>2</td>\n",
       "      <td>0</td>\n",
       "      <td>0</td>\n",
       "      <td>0</td>\n",
       "      <td>0</td>\n",
       "    </tr>\n",
       "    <tr>\n",
       "      <th>Chile</th>\n",
       "      <td>0</td>\n",
       "      <td>0</td>\n",
       "      <td>0</td>\n",
       "      <td>0</td>\n",
       "      <td>0</td>\n",
       "      <td>3</td>\n",
       "      <td>0</td>\n",
       "      <td>0</td>\n",
       "      <td>0</td>\n",
       "      <td>0</td>\n",
       "      <td>0</td>\n",
       "      <td>0</td>\n",
       "      <td>0</td>\n",
       "      <td>0</td>\n",
       "      <td>0</td>\n",
       "      <td>0</td>\n",
       "      <td>0</td>\n",
       "      <td>0</td>\n",
       "    </tr>\n",
       "    <tr>\n",
       "      <th>China</th>\n",
       "      <td>0</td>\n",
       "      <td>0</td>\n",
       "      <td>0</td>\n",
       "      <td>0</td>\n",
       "      <td>0</td>\n",
       "      <td>0</td>\n",
       "      <td>1</td>\n",
       "      <td>0</td>\n",
       "      <td>0</td>\n",
       "      <td>0</td>\n",
       "      <td>0</td>\n",
       "      <td>0</td>\n",
       "      <td>0</td>\n",
       "      <td>0</td>\n",
       "      <td>0</td>\n",
       "      <td>0</td>\n",
       "      <td>0</td>\n",
       "      <td>0</td>\n",
       "    </tr>\n",
       "  </tbody>\n",
       "</table>\n",
       "</div>"
      ],
      "text/plain": [
       "category     Autos & Vehicles  Comedy  Education  Entertainment  \\\n",
       "Country                                                           \n",
       "Afghanistan                 0       0          0              0   \n",
       "Andorra                     0       0          0              0   \n",
       "Argentina                   0       3          1              3   \n",
       "Australia                   0       0          1              0   \n",
       "Bangladesh                  0       0          0              0   \n",
       "Barbados                    0       0          0              1   \n",
       "Brazil                      1       8          0             14   \n",
       "Canada                      0       1          1              2   \n",
       "Chile                       0       0          0              0   \n",
       "China                       0       0          0              0   \n",
       "\n",
       "category     Film & Animation  Gaming  Howto & Style  Movies  Music  \\\n",
       "Country                                                               \n",
       "Afghanistan                 0       0              0       0      1   \n",
       "Andorra                     0       0              1       0      0   \n",
       "Argentina                   1       1              0       0      4   \n",
       "Australia                   0       3              2       0      2   \n",
       "Bangladesh                  0       0              0       0      0   \n",
       "Barbados                    0       0              0       0      0   \n",
       "Brazil                      7       6              2       0     16   \n",
       "Canada                      0       4              0       0      5   \n",
       "Chile                       0       3              0       0      0   \n",
       "China                       0       0              1       0      0   \n",
       "\n",
       "category     News & Politics  Nonprofits & Activism  People & Blogs  \\\n",
       "Country                                                               \n",
       "Afghanistan                0                      0               0   \n",
       "Andorra                    0                      0               0   \n",
       "Argentina                  0                      0               0   \n",
       "Australia                  0                      0               0   \n",
       "Bangladesh                 1                      0               0   \n",
       "Barbados                   0                      0               0   \n",
       "Brazil                     0                      1               6   \n",
       "Canada                     0                      0               0   \n",
       "Chile                      0                      0               0   \n",
       "China                      0                      0               0   \n",
       "\n",
       "category     Pets & Animals  Science & Technology  Shows  Sports  Trailers  \\\n",
       "Country                                                                      \n",
       "Afghanistan               0                     0      0       0         0   \n",
       "Andorra                   0                     0      0       0         0   \n",
       "Argentina                 0                     0      0       0         0   \n",
       "Australia                 0                     0      0       1         0   \n",
       "Bangladesh                0                     0      0       0         0   \n",
       "Barbados                  0                     0      0       0         0   \n",
       "Brazil                    0                     0      0       1         0   \n",
       "Canada                    0                     2      0       0         0   \n",
       "Chile                     0                     0      0       0         0   \n",
       "China                     0                     0      0       0         0   \n",
       "\n",
       "category     Travel & Events  \n",
       "Country                       \n",
       "Afghanistan                0  \n",
       "Andorra                    0  \n",
       "Argentina                  0  \n",
       "Australia                  0  \n",
       "Bangladesh                 0  \n",
       "Barbados                   0  \n",
       "Brazil                     0  \n",
       "Canada                     0  \n",
       "Chile                      0  \n",
       "China                      0  "
      ]
     },
     "execution_count": 44,
     "metadata": {},
     "output_type": "execute_result"
    }
   ],
   "source": [
    "df_cross = pd.crosstab(df[\"Country\"], df[\"category\"])\n",
    "df_cross.head(10)"
   ]
  },
  {
   "cell_type": "code",
   "execution_count": 45,
   "metadata": {},
   "outputs": [
    {
     "data": {
      "text/html": [
       "<div>\n",
       "<style scoped>\n",
       "    .dataframe tbody tr th:only-of-type {\n",
       "        vertical-align: middle;\n",
       "    }\n",
       "\n",
       "    .dataframe tbody tr th {\n",
       "        vertical-align: top;\n",
       "    }\n",
       "\n",
       "    .dataframe thead th {\n",
       "        text-align: right;\n",
       "    }\n",
       "</style>\n",
       "<table border=\"1\" class=\"dataframe\">\n",
       "  <thead>\n",
       "    <tr style=\"text-align: right;\">\n",
       "      <th>category</th>\n",
       "      <th>Autos &amp; Vehicles</th>\n",
       "      <th>Comedy</th>\n",
       "      <th>Education</th>\n",
       "      <th>Entertainment</th>\n",
       "      <th>Film &amp; Animation</th>\n",
       "      <th>Gaming</th>\n",
       "      <th>Howto &amp; Style</th>\n",
       "      <th>Movies</th>\n",
       "      <th>Music</th>\n",
       "      <th>News &amp; Politics</th>\n",
       "      <th>Nonprofits &amp; Activism</th>\n",
       "      <th>People &amp; Blogs</th>\n",
       "      <th>Pets &amp; Animals</th>\n",
       "      <th>Science &amp; Technology</th>\n",
       "      <th>Shows</th>\n",
       "      <th>Sports</th>\n",
       "      <th>Trailers</th>\n",
       "      <th>Travel &amp; Events</th>\n",
       "    </tr>\n",
       "    <tr>\n",
       "      <th>category</th>\n",
       "      <th></th>\n",
       "      <th></th>\n",
       "      <th></th>\n",
       "      <th></th>\n",
       "      <th></th>\n",
       "      <th></th>\n",
       "      <th></th>\n",
       "      <th></th>\n",
       "      <th></th>\n",
       "      <th></th>\n",
       "      <th></th>\n",
       "      <th></th>\n",
       "      <th></th>\n",
       "      <th></th>\n",
       "      <th></th>\n",
       "      <th></th>\n",
       "      <th></th>\n",
       "      <th></th>\n",
       "    </tr>\n",
       "  </thead>\n",
       "  <tbody>\n",
       "    <tr>\n",
       "      <th>Autos &amp; Vehicles</th>\n",
       "      <td>1.000000</td>\n",
       "      <td>0.165243</td>\n",
       "      <td>-0.055575</td>\n",
       "      <td>0.047720</td>\n",
       "      <td>0.232269</td>\n",
       "      <td>0.096292</td>\n",
       "      <td>0.032204</td>\n",
       "      <td>-0.029775</td>\n",
       "      <td>0.079286</td>\n",
       "      <td>-0.062938</td>\n",
       "      <td>0.478723</td>\n",
       "      <td>0.065424</td>\n",
       "      <td>-0.040284</td>\n",
       "      <td>-0.059928</td>\n",
       "      <td>-0.055187</td>\n",
       "      <td>0.072000</td>\n",
       "      <td>-0.029775</td>\n",
       "      <td>-0.029775</td>\n",
       "    </tr>\n",
       "    <tr>\n",
       "      <th>Comedy</th>\n",
       "      <td>0.165243</td>\n",
       "      <td>1.000000</td>\n",
       "      <td>0.934231</td>\n",
       "      <td>0.963624</td>\n",
       "      <td>0.968459</td>\n",
       "      <td>0.775851</td>\n",
       "      <td>0.916851</td>\n",
       "      <td>0.540066</td>\n",
       "      <td>0.938349</td>\n",
       "      <td>0.769516</td>\n",
       "      <td>0.719103</td>\n",
       "      <td>0.902488</td>\n",
       "      <td>0.680754</td>\n",
       "      <td>0.888903</td>\n",
       "      <td>0.869885</td>\n",
       "      <td>0.713738</td>\n",
       "      <td>0.540066</td>\n",
       "      <td>0.060258</td>\n",
       "    </tr>\n",
       "    <tr>\n",
       "      <th>Education</th>\n",
       "      <td>-0.055575</td>\n",
       "      <td>0.934231</td>\n",
       "      <td>1.000000</td>\n",
       "      <td>0.957201</td>\n",
       "      <td>0.891003</td>\n",
       "      <td>0.698036</td>\n",
       "      <td>0.902388</td>\n",
       "      <td>0.641614</td>\n",
       "      <td>0.882778</td>\n",
       "      <td>0.858326</td>\n",
       "      <td>0.495540</td>\n",
       "      <td>0.892673</td>\n",
       "      <td>0.643022</td>\n",
       "      <td>0.926144</td>\n",
       "      <td>0.929953</td>\n",
       "      <td>0.638493</td>\n",
       "      <td>0.641614</td>\n",
       "      <td>0.051848</td>\n",
       "    </tr>\n",
       "    <tr>\n",
       "      <th>Entertainment</th>\n",
       "      <td>0.047720</td>\n",
       "      <td>0.963624</td>\n",
       "      <td>0.957201</td>\n",
       "      <td>1.000000</td>\n",
       "      <td>0.932142</td>\n",
       "      <td>0.801385</td>\n",
       "      <td>0.923088</td>\n",
       "      <td>0.511630</td>\n",
       "      <td>0.952855</td>\n",
       "      <td>0.796019</td>\n",
       "      <td>0.659264</td>\n",
       "      <td>0.941406</td>\n",
       "      <td>0.754650</td>\n",
       "      <td>0.914932</td>\n",
       "      <td>0.899698</td>\n",
       "      <td>0.730817</td>\n",
       "      <td>0.511630</td>\n",
       "      <td>0.045975</td>\n",
       "    </tr>\n",
       "    <tr>\n",
       "      <th>Film &amp; Animation</th>\n",
       "      <td>0.232269</td>\n",
       "      <td>0.968459</td>\n",
       "      <td>0.891003</td>\n",
       "      <td>0.932142</td>\n",
       "      <td>1.000000</td>\n",
       "      <td>0.708790</td>\n",
       "      <td>0.868822</td>\n",
       "      <td>0.603300</td>\n",
       "      <td>0.895996</td>\n",
       "      <td>0.787896</td>\n",
       "      <td>0.736232</td>\n",
       "      <td>0.851455</td>\n",
       "      <td>0.630708</td>\n",
       "      <td>0.843631</td>\n",
       "      <td>0.873110</td>\n",
       "      <td>0.641304</td>\n",
       "      <td>0.603300</td>\n",
       "      <td>0.015592</td>\n",
       "    </tr>\n",
       "    <tr>\n",
       "      <th>Gaming</th>\n",
       "      <td>0.096292</td>\n",
       "      <td>0.775851</td>\n",
       "      <td>0.698036</td>\n",
       "      <td>0.801385</td>\n",
       "      <td>0.708790</td>\n",
       "      <td>1.000000</td>\n",
       "      <td>0.828043</td>\n",
       "      <td>0.012656</td>\n",
       "      <td>0.888910</td>\n",
       "      <td>0.361889</td>\n",
       "      <td>0.747992</td>\n",
       "      <td>0.852177</td>\n",
       "      <td>0.889073</td>\n",
       "      <td>0.754809</td>\n",
       "      <td>0.581276</td>\n",
       "      <td>0.939753</td>\n",
       "      <td>0.012656</td>\n",
       "      <td>0.049136</td>\n",
       "    </tr>\n",
       "    <tr>\n",
       "      <th>Howto &amp; Style</th>\n",
       "      <td>0.032204</td>\n",
       "      <td>0.916851</td>\n",
       "      <td>0.902388</td>\n",
       "      <td>0.923088</td>\n",
       "      <td>0.868822</td>\n",
       "      <td>0.828043</td>\n",
       "      <td>1.000000</td>\n",
       "      <td>0.390575</td>\n",
       "      <td>0.917265</td>\n",
       "      <td>0.681976</td>\n",
       "      <td>0.663402</td>\n",
       "      <td>0.917416</td>\n",
       "      <td>0.760809</td>\n",
       "      <td>0.855254</td>\n",
       "      <td>0.814878</td>\n",
       "      <td>0.782763</td>\n",
       "      <td>0.390575</td>\n",
       "      <td>0.243358</td>\n",
       "    </tr>\n",
       "    <tr>\n",
       "      <th>Movies</th>\n",
       "      <td>-0.029775</td>\n",
       "      <td>0.540066</td>\n",
       "      <td>0.641614</td>\n",
       "      <td>0.511630</td>\n",
       "      <td>0.603300</td>\n",
       "      <td>0.012656</td>\n",
       "      <td>0.390575</td>\n",
       "      <td>1.000000</td>\n",
       "      <td>0.326025</td>\n",
       "      <td>0.868898</td>\n",
       "      <td>-0.029775</td>\n",
       "      <td>0.313973</td>\n",
       "      <td>-0.028187</td>\n",
       "      <td>0.505974</td>\n",
       "      <td>0.749758</td>\n",
       "      <td>-0.041049</td>\n",
       "      <td>1.000000</td>\n",
       "      <td>-0.020833</td>\n",
       "    </tr>\n",
       "    <tr>\n",
       "      <th>Music</th>\n",
       "      <td>0.079286</td>\n",
       "      <td>0.938349</td>\n",
       "      <td>0.882778</td>\n",
       "      <td>0.952855</td>\n",
       "      <td>0.895996</td>\n",
       "      <td>0.888910</td>\n",
       "      <td>0.917265</td>\n",
       "      <td>0.326025</td>\n",
       "      <td>1.000000</td>\n",
       "      <td>0.642021</td>\n",
       "      <td>0.751342</td>\n",
       "      <td>0.928592</td>\n",
       "      <td>0.865243</td>\n",
       "      <td>0.903397</td>\n",
       "      <td>0.811231</td>\n",
       "      <td>0.836237</td>\n",
       "      <td>0.326025</td>\n",
       "      <td>-0.021823</td>\n",
       "    </tr>\n",
       "    <tr>\n",
       "      <th>News &amp; Politics</th>\n",
       "      <td>-0.062938</td>\n",
       "      <td>0.769516</td>\n",
       "      <td>0.858326</td>\n",
       "      <td>0.796019</td>\n",
       "      <td>0.787896</td>\n",
       "      <td>0.361889</td>\n",
       "      <td>0.681976</td>\n",
       "      <td>0.868898</td>\n",
       "      <td>0.642021</td>\n",
       "      <td>1.000000</td>\n",
       "      <td>0.233596</td>\n",
       "      <td>0.647821</td>\n",
       "      <td>0.352141</td>\n",
       "      <td>0.757718</td>\n",
       "      <td>0.905440</td>\n",
       "      <td>0.299753</td>\n",
       "      <td>0.868898</td>\n",
       "      <td>0.038956</td>\n",
       "    </tr>\n",
       "    <tr>\n",
       "      <th>Nonprofits &amp; Activism</th>\n",
       "      <td>0.478723</td>\n",
       "      <td>0.719103</td>\n",
       "      <td>0.495540</td>\n",
       "      <td>0.659264</td>\n",
       "      <td>0.736232</td>\n",
       "      <td>0.747992</td>\n",
       "      <td>0.663402</td>\n",
       "      <td>-0.029775</td>\n",
       "      <td>0.751342</td>\n",
       "      <td>0.233596</td>\n",
       "      <td>1.000000</td>\n",
       "      <td>0.692641</td>\n",
       "      <td>0.617686</td>\n",
       "      <td>0.527363</td>\n",
       "      <td>0.395504</td>\n",
       "      <td>0.725336</td>\n",
       "      <td>-0.029775</td>\n",
       "      <td>-0.029775</td>\n",
       "    </tr>\n",
       "    <tr>\n",
       "      <th>People &amp; Blogs</th>\n",
       "      <td>0.065424</td>\n",
       "      <td>0.902488</td>\n",
       "      <td>0.892673</td>\n",
       "      <td>0.941406</td>\n",
       "      <td>0.851455</td>\n",
       "      <td>0.852177</td>\n",
       "      <td>0.917416</td>\n",
       "      <td>0.313973</td>\n",
       "      <td>0.928592</td>\n",
       "      <td>0.647821</td>\n",
       "      <td>0.692641</td>\n",
       "      <td>1.000000</td>\n",
       "      <td>0.787652</td>\n",
       "      <td>0.847857</td>\n",
       "      <td>0.774002</td>\n",
       "      <td>0.771498</td>\n",
       "      <td>0.313973</td>\n",
       "      <td>0.143303</td>\n",
       "    </tr>\n",
       "    <tr>\n",
       "      <th>Pets &amp; Animals</th>\n",
       "      <td>-0.040284</td>\n",
       "      <td>0.680754</td>\n",
       "      <td>0.643022</td>\n",
       "      <td>0.754650</td>\n",
       "      <td>0.630708</td>\n",
       "      <td>0.889073</td>\n",
       "      <td>0.760809</td>\n",
       "      <td>-0.028187</td>\n",
       "      <td>0.865243</td>\n",
       "      <td>0.352141</td>\n",
       "      <td>0.617686</td>\n",
       "      <td>0.787652</td>\n",
       "      <td>1.000000</td>\n",
       "      <td>0.746338</td>\n",
       "      <td>0.587740</td>\n",
       "      <td>0.851586</td>\n",
       "      <td>-0.028187</td>\n",
       "      <td>-0.028187</td>\n",
       "    </tr>\n",
       "    <tr>\n",
       "      <th>Science &amp; Technology</th>\n",
       "      <td>-0.059928</td>\n",
       "      <td>0.888903</td>\n",
       "      <td>0.926144</td>\n",
       "      <td>0.914932</td>\n",
       "      <td>0.843631</td>\n",
       "      <td>0.754809</td>\n",
       "      <td>0.855254</td>\n",
       "      <td>0.505974</td>\n",
       "      <td>0.903397</td>\n",
       "      <td>0.757718</td>\n",
       "      <td>0.527363</td>\n",
       "      <td>0.847857</td>\n",
       "      <td>0.746338</td>\n",
       "      <td>1.000000</td>\n",
       "      <td>0.874341</td>\n",
       "      <td>0.677989</td>\n",
       "      <td>0.505974</td>\n",
       "      <td>-0.041932</td>\n",
       "    </tr>\n",
       "    <tr>\n",
       "      <th>Shows</th>\n",
       "      <td>-0.055187</td>\n",
       "      <td>0.869885</td>\n",
       "      <td>0.929953</td>\n",
       "      <td>0.899698</td>\n",
       "      <td>0.873110</td>\n",
       "      <td>0.581276</td>\n",
       "      <td>0.814878</td>\n",
       "      <td>0.749758</td>\n",
       "      <td>0.811231</td>\n",
       "      <td>0.905440</td>\n",
       "      <td>0.395504</td>\n",
       "      <td>0.774002</td>\n",
       "      <td>0.587740</td>\n",
       "      <td>0.874341</td>\n",
       "      <td>1.000000</td>\n",
       "      <td>0.517026</td>\n",
       "      <td>0.749758</td>\n",
       "      <td>-0.038614</td>\n",
       "    </tr>\n",
       "    <tr>\n",
       "      <th>Sports</th>\n",
       "      <td>0.072000</td>\n",
       "      <td>0.713738</td>\n",
       "      <td>0.638493</td>\n",
       "      <td>0.730817</td>\n",
       "      <td>0.641304</td>\n",
       "      <td>0.939753</td>\n",
       "      <td>0.782763</td>\n",
       "      <td>-0.041049</td>\n",
       "      <td>0.836237</td>\n",
       "      <td>0.299753</td>\n",
       "      <td>0.725336</td>\n",
       "      <td>0.771498</td>\n",
       "      <td>0.851586</td>\n",
       "      <td>0.677989</td>\n",
       "      <td>0.517026</td>\n",
       "      <td>1.000000</td>\n",
       "      <td>-0.041049</td>\n",
       "      <td>-0.041049</td>\n",
       "    </tr>\n",
       "    <tr>\n",
       "      <th>Trailers</th>\n",
       "      <td>-0.029775</td>\n",
       "      <td>0.540066</td>\n",
       "      <td>0.641614</td>\n",
       "      <td>0.511630</td>\n",
       "      <td>0.603300</td>\n",
       "      <td>0.012656</td>\n",
       "      <td>0.390575</td>\n",
       "      <td>1.000000</td>\n",
       "      <td>0.326025</td>\n",
       "      <td>0.868898</td>\n",
       "      <td>-0.029775</td>\n",
       "      <td>0.313973</td>\n",
       "      <td>-0.028187</td>\n",
       "      <td>0.505974</td>\n",
       "      <td>0.749758</td>\n",
       "      <td>-0.041049</td>\n",
       "      <td>1.000000</td>\n",
       "      <td>-0.020833</td>\n",
       "    </tr>\n",
       "    <tr>\n",
       "      <th>Travel &amp; Events</th>\n",
       "      <td>-0.029775</td>\n",
       "      <td>0.060258</td>\n",
       "      <td>0.051848</td>\n",
       "      <td>0.045975</td>\n",
       "      <td>0.015592</td>\n",
       "      <td>0.049136</td>\n",
       "      <td>0.243358</td>\n",
       "      <td>-0.020833</td>\n",
       "      <td>-0.021823</td>\n",
       "      <td>0.038956</td>\n",
       "      <td>-0.029775</td>\n",
       "      <td>0.143303</td>\n",
       "      <td>-0.028187</td>\n",
       "      <td>-0.041932</td>\n",
       "      <td>-0.038614</td>\n",
       "      <td>-0.041049</td>\n",
       "      <td>-0.020833</td>\n",
       "      <td>1.000000</td>\n",
       "    </tr>\n",
       "  </tbody>\n",
       "</table>\n",
       "</div>"
      ],
      "text/plain": [
       "category               Autos & Vehicles    Comedy  Education  Entertainment  \\\n",
       "category                                                                      \n",
       "Autos & Vehicles               1.000000  0.165243  -0.055575       0.047720   \n",
       "Comedy                         0.165243  1.000000   0.934231       0.963624   \n",
       "Education                     -0.055575  0.934231   1.000000       0.957201   \n",
       "Entertainment                  0.047720  0.963624   0.957201       1.000000   \n",
       "Film & Animation               0.232269  0.968459   0.891003       0.932142   \n",
       "Gaming                         0.096292  0.775851   0.698036       0.801385   \n",
       "Howto & Style                  0.032204  0.916851   0.902388       0.923088   \n",
       "Movies                        -0.029775  0.540066   0.641614       0.511630   \n",
       "Music                          0.079286  0.938349   0.882778       0.952855   \n",
       "News & Politics               -0.062938  0.769516   0.858326       0.796019   \n",
       "Nonprofits & Activism          0.478723  0.719103   0.495540       0.659264   \n",
       "People & Blogs                 0.065424  0.902488   0.892673       0.941406   \n",
       "Pets & Animals                -0.040284  0.680754   0.643022       0.754650   \n",
       "Science & Technology          -0.059928  0.888903   0.926144       0.914932   \n",
       "Shows                         -0.055187  0.869885   0.929953       0.899698   \n",
       "Sports                         0.072000  0.713738   0.638493       0.730817   \n",
       "Trailers                      -0.029775  0.540066   0.641614       0.511630   \n",
       "Travel & Events               -0.029775  0.060258   0.051848       0.045975   \n",
       "\n",
       "category               Film & Animation    Gaming  Howto & Style    Movies  \\\n",
       "category                                                                     \n",
       "Autos & Vehicles               0.232269  0.096292       0.032204 -0.029775   \n",
       "Comedy                         0.968459  0.775851       0.916851  0.540066   \n",
       "Education                      0.891003  0.698036       0.902388  0.641614   \n",
       "Entertainment                  0.932142  0.801385       0.923088  0.511630   \n",
       "Film & Animation               1.000000  0.708790       0.868822  0.603300   \n",
       "Gaming                         0.708790  1.000000       0.828043  0.012656   \n",
       "Howto & Style                  0.868822  0.828043       1.000000  0.390575   \n",
       "Movies                         0.603300  0.012656       0.390575  1.000000   \n",
       "Music                          0.895996  0.888910       0.917265  0.326025   \n",
       "News & Politics                0.787896  0.361889       0.681976  0.868898   \n",
       "Nonprofits & Activism          0.736232  0.747992       0.663402 -0.029775   \n",
       "People & Blogs                 0.851455  0.852177       0.917416  0.313973   \n",
       "Pets & Animals                 0.630708  0.889073       0.760809 -0.028187   \n",
       "Science & Technology           0.843631  0.754809       0.855254  0.505974   \n",
       "Shows                          0.873110  0.581276       0.814878  0.749758   \n",
       "Sports                         0.641304  0.939753       0.782763 -0.041049   \n",
       "Trailers                       0.603300  0.012656       0.390575  1.000000   \n",
       "Travel & Events                0.015592  0.049136       0.243358 -0.020833   \n",
       "\n",
       "category                  Music  News & Politics  Nonprofits & Activism  \\\n",
       "category                                                                  \n",
       "Autos & Vehicles       0.079286        -0.062938               0.478723   \n",
       "Comedy                 0.938349         0.769516               0.719103   \n",
       "Education              0.882778         0.858326               0.495540   \n",
       "Entertainment          0.952855         0.796019               0.659264   \n",
       "Film & Animation       0.895996         0.787896               0.736232   \n",
       "Gaming                 0.888910         0.361889               0.747992   \n",
       "Howto & Style          0.917265         0.681976               0.663402   \n",
       "Movies                 0.326025         0.868898              -0.029775   \n",
       "Music                  1.000000         0.642021               0.751342   \n",
       "News & Politics        0.642021         1.000000               0.233596   \n",
       "Nonprofits & Activism  0.751342         0.233596               1.000000   \n",
       "People & Blogs         0.928592         0.647821               0.692641   \n",
       "Pets & Animals         0.865243         0.352141               0.617686   \n",
       "Science & Technology   0.903397         0.757718               0.527363   \n",
       "Shows                  0.811231         0.905440               0.395504   \n",
       "Sports                 0.836237         0.299753               0.725336   \n",
       "Trailers               0.326025         0.868898              -0.029775   \n",
       "Travel & Events       -0.021823         0.038956              -0.029775   \n",
       "\n",
       "category               People & Blogs  Pets & Animals  Science & Technology  \\\n",
       "category                                                                      \n",
       "Autos & Vehicles             0.065424       -0.040284             -0.059928   \n",
       "Comedy                       0.902488        0.680754              0.888903   \n",
       "Education                    0.892673        0.643022              0.926144   \n",
       "Entertainment                0.941406        0.754650              0.914932   \n",
       "Film & Animation             0.851455        0.630708              0.843631   \n",
       "Gaming                       0.852177        0.889073              0.754809   \n",
       "Howto & Style                0.917416        0.760809              0.855254   \n",
       "Movies                       0.313973       -0.028187              0.505974   \n",
       "Music                        0.928592        0.865243              0.903397   \n",
       "News & Politics              0.647821        0.352141              0.757718   \n",
       "Nonprofits & Activism        0.692641        0.617686              0.527363   \n",
       "People & Blogs               1.000000        0.787652              0.847857   \n",
       "Pets & Animals               0.787652        1.000000              0.746338   \n",
       "Science & Technology         0.847857        0.746338              1.000000   \n",
       "Shows                        0.774002        0.587740              0.874341   \n",
       "Sports                       0.771498        0.851586              0.677989   \n",
       "Trailers                     0.313973       -0.028187              0.505974   \n",
       "Travel & Events              0.143303       -0.028187             -0.041932   \n",
       "\n",
       "category                  Shows    Sports  Trailers  Travel & Events  \n",
       "category                                                              \n",
       "Autos & Vehicles      -0.055187  0.072000 -0.029775        -0.029775  \n",
       "Comedy                 0.869885  0.713738  0.540066         0.060258  \n",
       "Education              0.929953  0.638493  0.641614         0.051848  \n",
       "Entertainment          0.899698  0.730817  0.511630         0.045975  \n",
       "Film & Animation       0.873110  0.641304  0.603300         0.015592  \n",
       "Gaming                 0.581276  0.939753  0.012656         0.049136  \n",
       "Howto & Style          0.814878  0.782763  0.390575         0.243358  \n",
       "Movies                 0.749758 -0.041049  1.000000        -0.020833  \n",
       "Music                  0.811231  0.836237  0.326025        -0.021823  \n",
       "News & Politics        0.905440  0.299753  0.868898         0.038956  \n",
       "Nonprofits & Activism  0.395504  0.725336 -0.029775        -0.029775  \n",
       "People & Blogs         0.774002  0.771498  0.313973         0.143303  \n",
       "Pets & Animals         0.587740  0.851586 -0.028187        -0.028187  \n",
       "Science & Technology   0.874341  0.677989  0.505974        -0.041932  \n",
       "Shows                  1.000000  0.517026  0.749758        -0.038614  \n",
       "Sports                 0.517026  1.000000 -0.041049        -0.041049  \n",
       "Trailers               0.749758 -0.041049  1.000000        -0.020833  \n",
       "Travel & Events       -0.038614 -0.041049 -0.020833         1.000000  "
      ]
     },
     "execution_count": 45,
     "metadata": {},
     "output_type": "execute_result"
    }
   ],
   "source": [
    "df_corr = df_cross.corr()\n",
    "df_corr"
   ]
  },
  {
   "cell_type": "code",
   "execution_count": 46,
   "metadata": {},
   "outputs": [
    {
     "data": {
      "text/html": [
       "<style type=\"text/css\">\n",
       "#T_738dc_row0_col0, #T_738dc_row1_col1, #T_738dc_row2_col2, #T_738dc_row3_col3, #T_738dc_row4_col4, #T_738dc_row5_col5, #T_738dc_row6_col6, #T_738dc_row7_col7, #T_738dc_row7_col16, #T_738dc_row8_col8, #T_738dc_row9_col9, #T_738dc_row10_col10, #T_738dc_row11_col11, #T_738dc_row12_col12, #T_738dc_row13_col13, #T_738dc_row14_col14, #T_738dc_row15_col15, #T_738dc_row16_col7, #T_738dc_row16_col16, #T_738dc_row17_col17 {\n",
       "  background-color: #053061;\n",
       "  color: #f1f1f1;\n",
       "}\n",
       "#T_738dc_row0_col1 {\n",
       "  background-color: #b61f2e;\n",
       "  color: #f1f1f1;\n",
       "}\n",
       "#T_738dc_row0_col2, #T_738dc_row0_col3, #T_738dc_row0_col6, #T_738dc_row0_col9, #T_738dc_row0_col11, #T_738dc_row0_col12, #T_738dc_row0_col13, #T_738dc_row0_col14, #T_738dc_row7_col5, #T_738dc_row7_col10, #T_738dc_row7_col15, #T_738dc_row9_col0, #T_738dc_row13_col0, #T_738dc_row13_col17, #T_738dc_row14_col17, #T_738dc_row15_col7, #T_738dc_row15_col16, #T_738dc_row15_col17, #T_738dc_row16_col5, #T_738dc_row16_col10, #T_738dc_row16_col15, #T_738dc_row17_col1, #T_738dc_row17_col3, #T_738dc_row17_col4, #T_738dc_row17_col8, #T_738dc_row17_col10, #T_738dc_row17_col15 {\n",
       "  background-color: #67001f;\n",
       "  color: #f1f1f1;\n",
       "}\n",
       "#T_738dc_row0_col4 {\n",
       "  background-color: #dc6e57;\n",
       "  color: #f1f1f1;\n",
       "}\n",
       "#T_738dc_row0_col5, #T_738dc_row3_col17, #T_738dc_row17_col11 {\n",
       "  background-color: #a51429;\n",
       "  color: #f1f1f1;\n",
       "}\n",
       "#T_738dc_row0_col7, #T_738dc_row0_col16, #T_738dc_row0_col17, #T_738dc_row7_col12, #T_738dc_row10_col7, #T_738dc_row10_col16, #T_738dc_row10_col17, #T_738dc_row16_col12, #T_738dc_row17_col12 {\n",
       "  background-color: #6d0220;\n",
       "  color: #f1f1f1;\n",
       "}\n",
       "#T_738dc_row0_col8, #T_738dc_row1_col17 {\n",
       "  background-color: #b1182b;\n",
       "  color: #f1f1f1;\n",
       "}\n",
       "#T_738dc_row0_col10 {\n",
       "  background-color: #f7f5f4;\n",
       "  color: #000000;\n",
       "}\n",
       "#T_738dc_row0_col15 {\n",
       "  background-color: #b41c2d;\n",
       "  color: #f1f1f1;\n",
       "}\n",
       "#T_738dc_row1_col0 {\n",
       "  background-color: #da6853;\n",
       "  color: #f1f1f1;\n",
       "}\n",
       "#T_738dc_row1_col2, #T_738dc_row1_col8, #T_738dc_row11_col3, #T_738dc_row15_col5 {\n",
       "  background-color: #15508d;\n",
       "  color: #f1f1f1;\n",
       "}\n",
       "#T_738dc_row1_col3, #T_738dc_row3_col1 {\n",
       "  background-color: #0f437b;\n",
       "  color: #f1f1f1;\n",
       "}\n",
       "#T_738dc_row1_col4, #T_738dc_row4_col1 {\n",
       "  background-color: #0e4179;\n",
       "  color: #f1f1f1;\n",
       "}\n",
       "#T_738dc_row1_col5, #T_738dc_row6_col12, #T_738dc_row9_col13, #T_738dc_row12_col11, #T_738dc_row13_col9 {\n",
       "  background-color: #59a1ca;\n",
       "  color: #f1f1f1;\n",
       "}\n",
       "#T_738dc_row1_col6, #T_738dc_row8_col6, #T_738dc_row11_col6 {\n",
       "  background-color: #1c5c9f;\n",
       "  color: #f1f1f1;\n",
       "}\n",
       "#T_738dc_row1_col7, #T_738dc_row1_col16 {\n",
       "  background-color: #e1edf3;\n",
       "  color: #000000;\n",
       "}\n",
       "#T_738dc_row1_col9, #T_738dc_row9_col4 {\n",
       "  background-color: #4f9bc7;\n",
       "  color: #f1f1f1;\n",
       "}\n",
       "#T_738dc_row1_col10 {\n",
       "  background-color: #7bb6d6;\n",
       "  color: #000000;\n",
       "}\n",
       "#T_738dc_row1_col11, #T_738dc_row1_col13, #T_738dc_row4_col2, #T_738dc_row4_col8, #T_738dc_row11_col1, #T_738dc_row11_col2, #T_738dc_row14_col3 {\n",
       "  background-color: #2267ac;\n",
       "  color: #f1f1f1;\n",
       "}\n",
       "#T_738dc_row1_col12, #T_738dc_row2_col5 {\n",
       "  background-color: #96c7df;\n",
       "  color: #000000;\n",
       "}\n",
       "#T_738dc_row1_col14, #T_738dc_row7_col9, #T_738dc_row16_col9 {\n",
       "  background-color: #2870b1;\n",
       "  color: #f1f1f1;\n",
       "}\n",
       "#T_738dc_row1_col15 {\n",
       "  background-color: #7eb8d7;\n",
       "  color: #000000;\n",
       "}\n",
       "#T_738dc_row2_col0, #T_738dc_row14_col0 {\n",
       "  background-color: #6a011f;\n",
       "  color: #f1f1f1;\n",
       "}\n",
       "#T_738dc_row2_col1, #T_738dc_row2_col13, #T_738dc_row3_col4, #T_738dc_row11_col8, #T_738dc_row13_col2 {\n",
       "  background-color: #185493;\n",
       "  color: #f1f1f1;\n",
       "}\n",
       "#T_738dc_row2_col3, #T_738dc_row3_col8 {\n",
       "  background-color: #114781;\n",
       "  color: #f1f1f1;\n",
       "}\n",
       "#T_738dc_row2_col4, #T_738dc_row8_col2, #T_738dc_row8_col5, #T_738dc_row12_col5 {\n",
       "  background-color: #246aae;\n",
       "  color: #f1f1f1;\n",
       "}\n",
       "#T_738dc_row2_col6 {\n",
       "  background-color: #2065ab;\n",
       "  color: #f1f1f1;\n",
       "}\n",
       "#T_738dc_row2_col7, #T_738dc_row2_col15, #T_738dc_row2_col16, #T_738dc_row4_col15 {\n",
       "  background-color: #aed3e6;\n",
       "  color: #000000;\n",
       "}\n",
       "#T_738dc_row2_col8, #T_738dc_row2_col11 {\n",
       "  background-color: #266caf;\n",
       "  color: #f1f1f1;\n",
       "}\n",
       "#T_738dc_row2_col9, #T_738dc_row4_col6, #T_738dc_row6_col4, #T_738dc_row6_col13, #T_738dc_row9_col2 {\n",
       "  background-color: #2c75b4;\n",
       "  color: #f1f1f1;\n",
       "}\n",
       "#T_738dc_row2_col10, #T_738dc_row7_col1, #T_738dc_row10_col0, #T_738dc_row16_col1 {\n",
       "  background-color: #f3f5f6;\n",
       "  color: #000000;\n",
       "}\n",
       "#T_738dc_row2_col12, #T_738dc_row15_col2 {\n",
       "  background-color: #acd2e5;\n",
       "  color: #000000;\n",
       "}\n",
       "#T_738dc_row2_col14, #T_738dc_row3_col11, #T_738dc_row8_col1, #T_738dc_row14_col2 {\n",
       "  background-color: #175290;\n",
       "  color: #f1f1f1;\n",
       "}\n",
       "#T_738dc_row2_col17 {\n",
       "  background-color: #ab162a;\n",
       "  color: #f1f1f1;\n",
       "}\n",
       "#T_738dc_row3_col0, #T_738dc_row17_col2 {\n",
       "  background-color: #b3192c;\n",
       "  color: #f1f1f1;\n",
       "}\n",
       "#T_738dc_row3_col2 {\n",
       "  background-color: #10457e;\n",
       "  color: #f1f1f1;\n",
       "}\n",
       "#T_738dc_row3_col5, #T_738dc_row4_col9 {\n",
       "  background-color: #4393c3;\n",
       "  color: #f1f1f1;\n",
       "}\n",
       "#T_738dc_row3_col6, #T_738dc_row3_col13, #T_738dc_row6_col3, #T_738dc_row6_col8 {\n",
       "  background-color: #1b5a9c;\n",
       "  color: #f1f1f1;\n",
       "}\n",
       "#T_738dc_row3_col7, #T_738dc_row3_col16 {\n",
       "  background-color: #ecf2f5;\n",
       "  color: #000000;\n",
       "}\n",
       "#T_738dc_row3_col9 {\n",
       "  background-color: #408fc1;\n",
       "  color: #f1f1f1;\n",
       "}\n",
       "#T_738dc_row3_col10, #T_738dc_row9_col6, #T_738dc_row10_col11, #T_738dc_row11_col9 {\n",
       "  background-color: #a5cee3;\n",
       "  color: #000000;\n",
       "}\n",
       "#T_738dc_row3_col12, #T_738dc_row7_col14, #T_738dc_row16_col14 {\n",
       "  background-color: #5fa5cd;\n",
       "  color: #f1f1f1;\n",
       "}\n",
       "#T_738dc_row3_col14, #T_738dc_row13_col8 {\n",
       "  background-color: #1f63a8;\n",
       "  color: #f1f1f1;\n",
       "}\n",
       "#T_738dc_row3_col15 {\n",
       "  background-color: #71b0d3;\n",
       "  color: #f1f1f1;\n",
       "}\n",
       "#T_738dc_row4_col0, #T_738dc_row10_col9 {\n",
       "  background-color: #ee9677;\n",
       "  color: #000000;\n",
       "}\n",
       "#T_738dc_row4_col3 {\n",
       "  background-color: #195696;\n",
       "  color: #f1f1f1;\n",
       "}\n",
       "#T_738dc_row4_col5, #T_738dc_row5_col4 {\n",
       "  background-color: #8dc2dc;\n",
       "  color: #000000;\n",
       "}\n",
       "#T_738dc_row4_col7, #T_738dc_row4_col16 {\n",
       "  background-color: #c5dfec;\n",
       "  color: #000000;\n",
       "}\n",
       "#T_738dc_row4_col10, #T_738dc_row10_col5, #T_738dc_row12_col3 {\n",
       "  background-color: #6eaed2;\n",
       "  color: #f1f1f1;\n",
       "}\n",
       "#T_738dc_row4_col11, #T_738dc_row5_col11, #T_738dc_row8_col15, #T_738dc_row13_col4 {\n",
       "  background-color: #3480b9;\n",
       "  color: #f1f1f1;\n",
       "}\n",
       "#T_738dc_row4_col12 {\n",
       "  background-color: #b3d6e8;\n",
       "  color: #000000;\n",
       "}\n",
       "#T_738dc_row4_col13 {\n",
       "  background-color: #307ab6;\n",
       "  color: #f1f1f1;\n",
       "}\n",
       "#T_738dc_row4_col14, #T_738dc_row13_col1, #T_738dc_row13_col14, #T_738dc_row14_col13 {\n",
       "  background-color: #276eb0;\n",
       "  color: #f1f1f1;\n",
       "}\n",
       "#T_738dc_row4_col17 {\n",
       "  background-color: #900d26;\n",
       "  color: #f1f1f1;\n",
       "}\n",
       "#T_738dc_row5_col0 {\n",
       "  background-color: #c43b3c;\n",
       "  color: #f1f1f1;\n",
       "}\n",
       "#T_738dc_row5_col1, #T_738dc_row8_col10, #T_738dc_row12_col13, #T_738dc_row14_col7, #T_738dc_row14_col11, #T_738dc_row14_col16 {\n",
       "  background-color: #62a7ce;\n",
       "  color: #f1f1f1;\n",
       "}\n",
       "#T_738dc_row5_col2 {\n",
       "  background-color: #87beda;\n",
       "  color: #000000;\n",
       "}\n",
       "#T_738dc_row5_col3, #T_738dc_row6_col15 {\n",
       "  background-color: #4997c5;\n",
       "  color: #f1f1f1;\n",
       "}\n",
       "#T_738dc_row5_col6, #T_738dc_row8_col14 {\n",
       "  background-color: #3b88be;\n",
       "  color: #f1f1f1;\n",
       "}\n",
       "#T_738dc_row5_col7, #T_738dc_row5_col16 {\n",
       "  background-color: #8d0c25;\n",
       "  color: #f1f1f1;\n",
       "}\n",
       "#T_738dc_row5_col8, #T_738dc_row5_col12, #T_738dc_row8_col4 {\n",
       "  background-color: #2369ad;\n",
       "  color: #f1f1f1;\n",
       "}\n",
       "#T_738dc_row5_col9 {\n",
       "  background-color: #fddbc7;\n",
       "  color: #000000;\n",
       "}\n",
       "#T_738dc_row5_col10, #T_738dc_row9_col1, #T_738dc_row10_col8, #T_738dc_row13_col12, #T_738dc_row15_col11 {\n",
       "  background-color: #65a9cf;\n",
       "  color: #f1f1f1;\n",
       "}\n",
       "#T_738dc_row5_col13 {\n",
       "  background-color: #5ca3cb;\n",
       "  color: #f1f1f1;\n",
       "}\n",
       "#T_738dc_row5_col14, #T_738dc_row14_col12 {\n",
       "  background-color: #cfe4ef;\n",
       "  color: #000000;\n",
       "}\n",
       "#T_738dc_row5_col15 {\n",
       "  background-color: #144e8a;\n",
       "  color: #f1f1f1;\n",
       "}\n",
       "#T_738dc_row5_col17, #T_738dc_row6_col0 {\n",
       "  background-color: #a81529;\n",
       "  color: #f1f1f1;\n",
       "}\n",
       "#T_738dc_row6_col1, #T_738dc_row6_col11, #T_738dc_row9_col14, #T_738dc_row13_col3, #T_738dc_row14_col9 {\n",
       "  background-color: #1d5fa2;\n",
       "  color: #f1f1f1;\n",
       "}\n",
       "#T_738dc_row6_col2, #T_738dc_row8_col13 {\n",
       "  background-color: #1e61a5;\n",
       "  color: #f1f1f1;\n",
       "}\n",
       "#T_738dc_row6_col5, #T_738dc_row6_col14 {\n",
       "  background-color: #3a87bd;\n",
       "  color: #f1f1f1;\n",
       "}\n",
       "#T_738dc_row6_col7, #T_738dc_row6_col16 {\n",
       "  background-color: #fcdfcf;\n",
       "  color: #000000;\n",
       "}\n",
       "#T_738dc_row6_col9, #T_738dc_row10_col1, #T_738dc_row11_col10 {\n",
       "  background-color: #90c4dd;\n",
       "  color: #000000;\n",
       "}\n",
       "#T_738dc_row6_col10 {\n",
       "  background-color: #a2cde3;\n",
       "  color: #000000;\n",
       "}\n",
       "#T_738dc_row6_col17 {\n",
       "  background-color: #ec9374;\n",
       "  color: #f1f1f1;\n",
       "}\n",
       "#T_738dc_row7_col0, #T_738dc_row16_col0, #T_738dc_row17_col0 {\n",
       "  background-color: #7c0722;\n",
       "  color: #f1f1f1;\n",
       "}\n",
       "#T_738dc_row7_col2, #T_738dc_row8_col9, #T_738dc_row12_col1, #T_738dc_row12_col2, #T_738dc_row16_col2 {\n",
       "  background-color: #a9d1e5;\n",
       "  color: #000000;\n",
       "}\n",
       "#T_738dc_row7_col3, #T_738dc_row16_col3 {\n",
       "  background-color: #f8f3f0;\n",
       "  color: #000000;\n",
       "}\n",
       "#T_738dc_row7_col4, #T_738dc_row16_col4 {\n",
       "  background-color: #d2e6f0;\n",
       "  color: #000000;\n",
       "}\n",
       "#T_738dc_row7_col6, #T_738dc_row16_col6 {\n",
       "  background-color: #facab1;\n",
       "  color: #000000;\n",
       "}\n",
       "#T_738dc_row7_col8, #T_738dc_row11_col7, #T_738dc_row11_col16, #T_738dc_row15_col9, #T_738dc_row16_col8 {\n",
       "  background-color: #f8bb9e;\n",
       "  color: #000000;\n",
       "}\n",
       "#T_738dc_row7_col11, #T_738dc_row16_col11 {\n",
       "  background-color: #ea8e70;\n",
       "  color: #f1f1f1;\n",
       "}\n",
       "#T_738dc_row7_col13, #T_738dc_row16_col13 {\n",
       "  background-color: #eaf1f5;\n",
       "  color: #000000;\n",
       "}\n",
       "#T_738dc_row7_col17, #T_738dc_row12_col0, #T_738dc_row16_col17 {\n",
       "  background-color: #760521;\n",
       "  color: #f1f1f1;\n",
       "}\n",
       "#T_738dc_row8_col0 {\n",
       "  background-color: #be3036;\n",
       "  color: #f1f1f1;\n",
       "}\n",
       "#T_738dc_row8_col3 {\n",
       "  background-color: #124984;\n",
       "  color: #f1f1f1;\n",
       "}\n",
       "#T_738dc_row8_col7, #T_738dc_row8_col16, #T_738dc_row9_col5 {\n",
       "  background-color: #f9c2a7;\n",
       "  color: #000000;\n",
       "}\n",
       "#T_738dc_row8_col11 {\n",
       "  background-color: #1a5899;\n",
       "  color: #f1f1f1;\n",
       "}\n",
       "#T_738dc_row8_col12, #T_738dc_row12_col8 {\n",
       "  background-color: #2b73b3;\n",
       "  color: #f1f1f1;\n",
       "}\n",
       "#T_738dc_row8_col17, #T_738dc_row17_col7, #T_738dc_row17_col13, #T_738dc_row17_col14, #T_738dc_row17_col16 {\n",
       "  background-color: #730421;\n",
       "  color: #f1f1f1;\n",
       "}\n",
       "#T_738dc_row9_col3, #T_738dc_row11_col14 {\n",
       "  background-color: #4c99c6;\n",
       "  color: #f1f1f1;\n",
       "}\n",
       "#T_738dc_row9_col7, #T_738dc_row9_col16, #T_738dc_row14_col4 {\n",
       "  background-color: #2a71b2;\n",
       "  color: #f1f1f1;\n",
       "}\n",
       "#T_738dc_row9_col8, #T_738dc_row10_col6 {\n",
       "  background-color: #b1d5e7;\n",
       "  color: #000000;\n",
       "}\n",
       "#T_738dc_row9_col10 {\n",
       "  background-color: #e6866a;\n",
       "  color: #f1f1f1;\n",
       "}\n",
       "#T_738dc_row9_col11, #T_738dc_row12_col4 {\n",
       "  background-color: #c2ddec;\n",
       "  color: #000000;\n",
       "}\n",
       "#T_738dc_row9_col12 {\n",
       "  background-color: #fbceb7;\n",
       "  color: #000000;\n",
       "}\n",
       "#T_738dc_row9_col15 {\n",
       "  background-color: #f6b394;\n",
       "  color: #000000;\n",
       "}\n",
       "#T_738dc_row9_col17 {\n",
       "  background-color: #9f1228;\n",
       "  color: #f1f1f1;\n",
       "}\n",
       "#T_738dc_row10_col2 {\n",
       "  background-color: #eff3f5;\n",
       "  color: #000000;\n",
       "}\n",
       "#T_738dc_row10_col3 {\n",
       "  background-color: #b6d7e8;\n",
       "  color: #000000;\n",
       "}\n",
       "#T_738dc_row10_col4, #T_738dc_row15_col10 {\n",
       "  background-color: #78b4d5;\n",
       "  color: #000000;\n",
       "}\n",
       "#T_738dc_row10_col12 {\n",
       "  background-color: #bddbea;\n",
       "  color: #000000;\n",
       "}\n",
       "#T_738dc_row10_col13 {\n",
       "  background-color: #e3edf3;\n",
       "  color: #000000;\n",
       "}\n",
       "#T_738dc_row10_col14 {\n",
       "  background-color: #fbe3d4;\n",
       "  color: #000000;\n",
       "}\n",
       "#T_738dc_row10_col15 {\n",
       "  background-color: #75b2d4;\n",
       "  color: #f1f1f1;\n",
       "}\n",
       "#T_738dc_row11_col0 {\n",
       "  background-color: #b82531;\n",
       "  color: #f1f1f1;\n",
       "}\n",
       "#T_738dc_row11_col4, #T_738dc_row11_col5, #T_738dc_row13_col6 {\n",
       "  background-color: #327cb7;\n",
       "  color: #f1f1f1;\n",
       "}\n",
       "#T_738dc_row11_col12 {\n",
       "  background-color: #4695c4;\n",
       "  color: #f1f1f1;\n",
       "}\n",
       "#T_738dc_row11_col13, #T_738dc_row12_col15, #T_738dc_row15_col12 {\n",
       "  background-color: #2f79b5;\n",
       "  color: #f1f1f1;\n",
       "}\n",
       "#T_738dc_row11_col15 {\n",
       "  background-color: #529dc8;\n",
       "  color: #f1f1f1;\n",
       "}\n",
       "#T_738dc_row11_col17 {\n",
       "  background-color: #ce4f45;\n",
       "  color: #f1f1f1;\n",
       "}\n",
       "#T_738dc_row12_col6, #T_738dc_row13_col5 {\n",
       "  background-color: #68abd0;\n",
       "  color: #f1f1f1;\n",
       "}\n",
       "#T_738dc_row12_col7, #T_738dc_row12_col16, #T_738dc_row12_col17 {\n",
       "  background-color: #700320;\n",
       "  color: #f1f1f1;\n",
       "}\n",
       "#T_738dc_row12_col9 {\n",
       "  background-color: #fcd5bf;\n",
       "  color: #000000;\n",
       "}\n",
       "#T_738dc_row12_col10 {\n",
       "  background-color: #c0dceb;\n",
       "  color: #000000;\n",
       "}\n",
       "#T_738dc_row12_col14 {\n",
       "  background-color: #cce2ef;\n",
       "  color: #000000;\n",
       "}\n",
       "#T_738dc_row13_col7, #T_738dc_row13_col16 {\n",
       "  background-color: #edf2f5;\n",
       "  color: #000000;\n",
       "}\n",
       "#T_738dc_row13_col10, #T_738dc_row15_col14 {\n",
       "  background-color: #e7f0f4;\n",
       "  color: #000000;\n",
       "}\n",
       "#T_738dc_row13_col11, #T_738dc_row15_col8 {\n",
       "  background-color: #3681ba;\n",
       "  color: #f1f1f1;\n",
       "}\n",
       "#T_738dc_row13_col15 {\n",
       "  background-color: #98c8e0;\n",
       "  color: #000000;\n",
       "}\n",
       "#T_738dc_row14_col1 {\n",
       "  background-color: #2e77b5;\n",
       "  color: #f1f1f1;\n",
       "}\n",
       "#T_738dc_row14_col5 {\n",
       "  background-color: #dae9f2;\n",
       "  color: #000000;\n",
       "}\n",
       "#T_738dc_row14_col6 {\n",
       "  background-color: #3f8ec0;\n",
       "  color: #f1f1f1;\n",
       "}\n",
       "#T_738dc_row14_col8 {\n",
       "  background-color: #3e8cbf;\n",
       "  color: #f1f1f1;\n",
       "}\n",
       "#T_738dc_row14_col10 {\n",
       "  background-color: #fcdecd;\n",
       "  color: #000000;\n",
       "}\n",
       "#T_738dc_row14_col15 {\n",
       "  background-color: #e9f0f4;\n",
       "  color: #000000;\n",
       "}\n",
       "#T_738dc_row15_col0 {\n",
       "  background-color: #bb2a34;\n",
       "  color: #f1f1f1;\n",
       "}\n",
       "#T_738dc_row15_col1, #T_738dc_row15_col13 {\n",
       "  background-color: #93c6de;\n",
       "  color: #000000;\n",
       "}\n",
       "#T_738dc_row15_col3 {\n",
       "  background-color: #84bcd9;\n",
       "  color: #000000;\n",
       "}\n",
       "#T_738dc_row15_col4 {\n",
       "  background-color: #bbdaea;\n",
       "  color: #000000;\n",
       "}\n",
       "#T_738dc_row15_col6 {\n",
       "  background-color: #569fc9;\n",
       "  color: #f1f1f1;\n",
       "}\n",
       "#T_738dc_row17_col5 {\n",
       "  background-color: #810823;\n",
       "  color: #f1f1f1;\n",
       "}\n",
       "#T_738dc_row17_col6 {\n",
       "  background-color: #db6b55;\n",
       "  color: #f1f1f1;\n",
       "}\n",
       "#T_738dc_row17_col9 {\n",
       "  background-color: #ae172a;\n",
       "  color: #f1f1f1;\n",
       "}\n",
       "</style>\n",
       "<table id=\"T_738dc\">\n",
       "  <thead>\n",
       "    <tr>\n",
       "      <th class=\"index_name level0\" >category</th>\n",
       "      <th id=\"T_738dc_level0_col0\" class=\"col_heading level0 col0\" >Autos & Vehicles</th>\n",
       "      <th id=\"T_738dc_level0_col1\" class=\"col_heading level0 col1\" >Comedy</th>\n",
       "      <th id=\"T_738dc_level0_col2\" class=\"col_heading level0 col2\" >Education</th>\n",
       "      <th id=\"T_738dc_level0_col3\" class=\"col_heading level0 col3\" >Entertainment</th>\n",
       "      <th id=\"T_738dc_level0_col4\" class=\"col_heading level0 col4\" >Film & Animation</th>\n",
       "      <th id=\"T_738dc_level0_col5\" class=\"col_heading level0 col5\" >Gaming</th>\n",
       "      <th id=\"T_738dc_level0_col6\" class=\"col_heading level0 col6\" >Howto & Style</th>\n",
       "      <th id=\"T_738dc_level0_col7\" class=\"col_heading level0 col7\" >Movies</th>\n",
       "      <th id=\"T_738dc_level0_col8\" class=\"col_heading level0 col8\" >Music</th>\n",
       "      <th id=\"T_738dc_level0_col9\" class=\"col_heading level0 col9\" >News & Politics</th>\n",
       "      <th id=\"T_738dc_level0_col10\" class=\"col_heading level0 col10\" >Nonprofits & Activism</th>\n",
       "      <th id=\"T_738dc_level0_col11\" class=\"col_heading level0 col11\" >People & Blogs</th>\n",
       "      <th id=\"T_738dc_level0_col12\" class=\"col_heading level0 col12\" >Pets & Animals</th>\n",
       "      <th id=\"T_738dc_level0_col13\" class=\"col_heading level0 col13\" >Science & Technology</th>\n",
       "      <th id=\"T_738dc_level0_col14\" class=\"col_heading level0 col14\" >Shows</th>\n",
       "      <th id=\"T_738dc_level0_col15\" class=\"col_heading level0 col15\" >Sports</th>\n",
       "      <th id=\"T_738dc_level0_col16\" class=\"col_heading level0 col16\" >Trailers</th>\n",
       "      <th id=\"T_738dc_level0_col17\" class=\"col_heading level0 col17\" >Travel & Events</th>\n",
       "    </tr>\n",
       "    <tr>\n",
       "      <th class=\"index_name level0\" >category</th>\n",
       "      <th class=\"blank col0\" >&nbsp;</th>\n",
       "      <th class=\"blank col1\" >&nbsp;</th>\n",
       "      <th class=\"blank col2\" >&nbsp;</th>\n",
       "      <th class=\"blank col3\" >&nbsp;</th>\n",
       "      <th class=\"blank col4\" >&nbsp;</th>\n",
       "      <th class=\"blank col5\" >&nbsp;</th>\n",
       "      <th class=\"blank col6\" >&nbsp;</th>\n",
       "      <th class=\"blank col7\" >&nbsp;</th>\n",
       "      <th class=\"blank col8\" >&nbsp;</th>\n",
       "      <th class=\"blank col9\" >&nbsp;</th>\n",
       "      <th class=\"blank col10\" >&nbsp;</th>\n",
       "      <th class=\"blank col11\" >&nbsp;</th>\n",
       "      <th class=\"blank col12\" >&nbsp;</th>\n",
       "      <th class=\"blank col13\" >&nbsp;</th>\n",
       "      <th class=\"blank col14\" >&nbsp;</th>\n",
       "      <th class=\"blank col15\" >&nbsp;</th>\n",
       "      <th class=\"blank col16\" >&nbsp;</th>\n",
       "      <th class=\"blank col17\" >&nbsp;</th>\n",
       "    </tr>\n",
       "  </thead>\n",
       "  <tbody>\n",
       "    <tr>\n",
       "      <th id=\"T_738dc_level0_row0\" class=\"row_heading level0 row0\" >Autos & Vehicles</th>\n",
       "      <td id=\"T_738dc_row0_col0\" class=\"data row0 col0\" >1.000000</td>\n",
       "      <td id=\"T_738dc_row0_col1\" class=\"data row0 col1\" >0.165243</td>\n",
       "      <td id=\"T_738dc_row0_col2\" class=\"data row0 col2\" >-0.055575</td>\n",
       "      <td id=\"T_738dc_row0_col3\" class=\"data row0 col3\" >0.047720</td>\n",
       "      <td id=\"T_738dc_row0_col4\" class=\"data row0 col4\" >0.232269</td>\n",
       "      <td id=\"T_738dc_row0_col5\" class=\"data row0 col5\" >0.096292</td>\n",
       "      <td id=\"T_738dc_row0_col6\" class=\"data row0 col6\" >0.032204</td>\n",
       "      <td id=\"T_738dc_row0_col7\" class=\"data row0 col7\" >-0.029775</td>\n",
       "      <td id=\"T_738dc_row0_col8\" class=\"data row0 col8\" >0.079286</td>\n",
       "      <td id=\"T_738dc_row0_col9\" class=\"data row0 col9\" >-0.062938</td>\n",
       "      <td id=\"T_738dc_row0_col10\" class=\"data row0 col10\" >0.478723</td>\n",
       "      <td id=\"T_738dc_row0_col11\" class=\"data row0 col11\" >0.065424</td>\n",
       "      <td id=\"T_738dc_row0_col12\" class=\"data row0 col12\" >-0.040284</td>\n",
       "      <td id=\"T_738dc_row0_col13\" class=\"data row0 col13\" >-0.059928</td>\n",
       "      <td id=\"T_738dc_row0_col14\" class=\"data row0 col14\" >-0.055187</td>\n",
       "      <td id=\"T_738dc_row0_col15\" class=\"data row0 col15\" >0.072000</td>\n",
       "      <td id=\"T_738dc_row0_col16\" class=\"data row0 col16\" >-0.029775</td>\n",
       "      <td id=\"T_738dc_row0_col17\" class=\"data row0 col17\" >-0.029775</td>\n",
       "    </tr>\n",
       "    <tr>\n",
       "      <th id=\"T_738dc_level0_row1\" class=\"row_heading level0 row1\" >Comedy</th>\n",
       "      <td id=\"T_738dc_row1_col0\" class=\"data row1 col0\" >0.165243</td>\n",
       "      <td id=\"T_738dc_row1_col1\" class=\"data row1 col1\" >1.000000</td>\n",
       "      <td id=\"T_738dc_row1_col2\" class=\"data row1 col2\" >0.934231</td>\n",
       "      <td id=\"T_738dc_row1_col3\" class=\"data row1 col3\" >0.963624</td>\n",
       "      <td id=\"T_738dc_row1_col4\" class=\"data row1 col4\" >0.968459</td>\n",
       "      <td id=\"T_738dc_row1_col5\" class=\"data row1 col5\" >0.775851</td>\n",
       "      <td id=\"T_738dc_row1_col6\" class=\"data row1 col6\" >0.916851</td>\n",
       "      <td id=\"T_738dc_row1_col7\" class=\"data row1 col7\" >0.540066</td>\n",
       "      <td id=\"T_738dc_row1_col8\" class=\"data row1 col8\" >0.938349</td>\n",
       "      <td id=\"T_738dc_row1_col9\" class=\"data row1 col9\" >0.769516</td>\n",
       "      <td id=\"T_738dc_row1_col10\" class=\"data row1 col10\" >0.719103</td>\n",
       "      <td id=\"T_738dc_row1_col11\" class=\"data row1 col11\" >0.902488</td>\n",
       "      <td id=\"T_738dc_row1_col12\" class=\"data row1 col12\" >0.680754</td>\n",
       "      <td id=\"T_738dc_row1_col13\" class=\"data row1 col13\" >0.888903</td>\n",
       "      <td id=\"T_738dc_row1_col14\" class=\"data row1 col14\" >0.869885</td>\n",
       "      <td id=\"T_738dc_row1_col15\" class=\"data row1 col15\" >0.713738</td>\n",
       "      <td id=\"T_738dc_row1_col16\" class=\"data row1 col16\" >0.540066</td>\n",
       "      <td id=\"T_738dc_row1_col17\" class=\"data row1 col17\" >0.060258</td>\n",
       "    </tr>\n",
       "    <tr>\n",
       "      <th id=\"T_738dc_level0_row2\" class=\"row_heading level0 row2\" >Education</th>\n",
       "      <td id=\"T_738dc_row2_col0\" class=\"data row2 col0\" >-0.055575</td>\n",
       "      <td id=\"T_738dc_row2_col1\" class=\"data row2 col1\" >0.934231</td>\n",
       "      <td id=\"T_738dc_row2_col2\" class=\"data row2 col2\" >1.000000</td>\n",
       "      <td id=\"T_738dc_row2_col3\" class=\"data row2 col3\" >0.957201</td>\n",
       "      <td id=\"T_738dc_row2_col4\" class=\"data row2 col4\" >0.891003</td>\n",
       "      <td id=\"T_738dc_row2_col5\" class=\"data row2 col5\" >0.698036</td>\n",
       "      <td id=\"T_738dc_row2_col6\" class=\"data row2 col6\" >0.902388</td>\n",
       "      <td id=\"T_738dc_row2_col7\" class=\"data row2 col7\" >0.641614</td>\n",
       "      <td id=\"T_738dc_row2_col8\" class=\"data row2 col8\" >0.882778</td>\n",
       "      <td id=\"T_738dc_row2_col9\" class=\"data row2 col9\" >0.858326</td>\n",
       "      <td id=\"T_738dc_row2_col10\" class=\"data row2 col10\" >0.495540</td>\n",
       "      <td id=\"T_738dc_row2_col11\" class=\"data row2 col11\" >0.892673</td>\n",
       "      <td id=\"T_738dc_row2_col12\" class=\"data row2 col12\" >0.643022</td>\n",
       "      <td id=\"T_738dc_row2_col13\" class=\"data row2 col13\" >0.926144</td>\n",
       "      <td id=\"T_738dc_row2_col14\" class=\"data row2 col14\" >0.929953</td>\n",
       "      <td id=\"T_738dc_row2_col15\" class=\"data row2 col15\" >0.638493</td>\n",
       "      <td id=\"T_738dc_row2_col16\" class=\"data row2 col16\" >0.641614</td>\n",
       "      <td id=\"T_738dc_row2_col17\" class=\"data row2 col17\" >0.051848</td>\n",
       "    </tr>\n",
       "    <tr>\n",
       "      <th id=\"T_738dc_level0_row3\" class=\"row_heading level0 row3\" >Entertainment</th>\n",
       "      <td id=\"T_738dc_row3_col0\" class=\"data row3 col0\" >0.047720</td>\n",
       "      <td id=\"T_738dc_row3_col1\" class=\"data row3 col1\" >0.963624</td>\n",
       "      <td id=\"T_738dc_row3_col2\" class=\"data row3 col2\" >0.957201</td>\n",
       "      <td id=\"T_738dc_row3_col3\" class=\"data row3 col3\" >1.000000</td>\n",
       "      <td id=\"T_738dc_row3_col4\" class=\"data row3 col4\" >0.932142</td>\n",
       "      <td id=\"T_738dc_row3_col5\" class=\"data row3 col5\" >0.801385</td>\n",
       "      <td id=\"T_738dc_row3_col6\" class=\"data row3 col6\" >0.923088</td>\n",
       "      <td id=\"T_738dc_row3_col7\" class=\"data row3 col7\" >0.511630</td>\n",
       "      <td id=\"T_738dc_row3_col8\" class=\"data row3 col8\" >0.952855</td>\n",
       "      <td id=\"T_738dc_row3_col9\" class=\"data row3 col9\" >0.796019</td>\n",
       "      <td id=\"T_738dc_row3_col10\" class=\"data row3 col10\" >0.659264</td>\n",
       "      <td id=\"T_738dc_row3_col11\" class=\"data row3 col11\" >0.941406</td>\n",
       "      <td id=\"T_738dc_row3_col12\" class=\"data row3 col12\" >0.754650</td>\n",
       "      <td id=\"T_738dc_row3_col13\" class=\"data row3 col13\" >0.914932</td>\n",
       "      <td id=\"T_738dc_row3_col14\" class=\"data row3 col14\" >0.899698</td>\n",
       "      <td id=\"T_738dc_row3_col15\" class=\"data row3 col15\" >0.730817</td>\n",
       "      <td id=\"T_738dc_row3_col16\" class=\"data row3 col16\" >0.511630</td>\n",
       "      <td id=\"T_738dc_row3_col17\" class=\"data row3 col17\" >0.045975</td>\n",
       "    </tr>\n",
       "    <tr>\n",
       "      <th id=\"T_738dc_level0_row4\" class=\"row_heading level0 row4\" >Film & Animation</th>\n",
       "      <td id=\"T_738dc_row4_col0\" class=\"data row4 col0\" >0.232269</td>\n",
       "      <td id=\"T_738dc_row4_col1\" class=\"data row4 col1\" >0.968459</td>\n",
       "      <td id=\"T_738dc_row4_col2\" class=\"data row4 col2\" >0.891003</td>\n",
       "      <td id=\"T_738dc_row4_col3\" class=\"data row4 col3\" >0.932142</td>\n",
       "      <td id=\"T_738dc_row4_col4\" class=\"data row4 col4\" >1.000000</td>\n",
       "      <td id=\"T_738dc_row4_col5\" class=\"data row4 col5\" >0.708790</td>\n",
       "      <td id=\"T_738dc_row4_col6\" class=\"data row4 col6\" >0.868822</td>\n",
       "      <td id=\"T_738dc_row4_col7\" class=\"data row4 col7\" >0.603300</td>\n",
       "      <td id=\"T_738dc_row4_col8\" class=\"data row4 col8\" >0.895996</td>\n",
       "      <td id=\"T_738dc_row4_col9\" class=\"data row4 col9\" >0.787896</td>\n",
       "      <td id=\"T_738dc_row4_col10\" class=\"data row4 col10\" >0.736232</td>\n",
       "      <td id=\"T_738dc_row4_col11\" class=\"data row4 col11\" >0.851455</td>\n",
       "      <td id=\"T_738dc_row4_col12\" class=\"data row4 col12\" >0.630708</td>\n",
       "      <td id=\"T_738dc_row4_col13\" class=\"data row4 col13\" >0.843631</td>\n",
       "      <td id=\"T_738dc_row4_col14\" class=\"data row4 col14\" >0.873110</td>\n",
       "      <td id=\"T_738dc_row4_col15\" class=\"data row4 col15\" >0.641304</td>\n",
       "      <td id=\"T_738dc_row4_col16\" class=\"data row4 col16\" >0.603300</td>\n",
       "      <td id=\"T_738dc_row4_col17\" class=\"data row4 col17\" >0.015592</td>\n",
       "    </tr>\n",
       "    <tr>\n",
       "      <th id=\"T_738dc_level0_row5\" class=\"row_heading level0 row5\" >Gaming</th>\n",
       "      <td id=\"T_738dc_row5_col0\" class=\"data row5 col0\" >0.096292</td>\n",
       "      <td id=\"T_738dc_row5_col1\" class=\"data row5 col1\" >0.775851</td>\n",
       "      <td id=\"T_738dc_row5_col2\" class=\"data row5 col2\" >0.698036</td>\n",
       "      <td id=\"T_738dc_row5_col3\" class=\"data row5 col3\" >0.801385</td>\n",
       "      <td id=\"T_738dc_row5_col4\" class=\"data row5 col4\" >0.708790</td>\n",
       "      <td id=\"T_738dc_row5_col5\" class=\"data row5 col5\" >1.000000</td>\n",
       "      <td id=\"T_738dc_row5_col6\" class=\"data row5 col6\" >0.828043</td>\n",
       "      <td id=\"T_738dc_row5_col7\" class=\"data row5 col7\" >0.012656</td>\n",
       "      <td id=\"T_738dc_row5_col8\" class=\"data row5 col8\" >0.888910</td>\n",
       "      <td id=\"T_738dc_row5_col9\" class=\"data row5 col9\" >0.361889</td>\n",
       "      <td id=\"T_738dc_row5_col10\" class=\"data row5 col10\" >0.747992</td>\n",
       "      <td id=\"T_738dc_row5_col11\" class=\"data row5 col11\" >0.852177</td>\n",
       "      <td id=\"T_738dc_row5_col12\" class=\"data row5 col12\" >0.889073</td>\n",
       "      <td id=\"T_738dc_row5_col13\" class=\"data row5 col13\" >0.754809</td>\n",
       "      <td id=\"T_738dc_row5_col14\" class=\"data row5 col14\" >0.581276</td>\n",
       "      <td id=\"T_738dc_row5_col15\" class=\"data row5 col15\" >0.939753</td>\n",
       "      <td id=\"T_738dc_row5_col16\" class=\"data row5 col16\" >0.012656</td>\n",
       "      <td id=\"T_738dc_row5_col17\" class=\"data row5 col17\" >0.049136</td>\n",
       "    </tr>\n",
       "    <tr>\n",
       "      <th id=\"T_738dc_level0_row6\" class=\"row_heading level0 row6\" >Howto & Style</th>\n",
       "      <td id=\"T_738dc_row6_col0\" class=\"data row6 col0\" >0.032204</td>\n",
       "      <td id=\"T_738dc_row6_col1\" class=\"data row6 col1\" >0.916851</td>\n",
       "      <td id=\"T_738dc_row6_col2\" class=\"data row6 col2\" >0.902388</td>\n",
       "      <td id=\"T_738dc_row6_col3\" class=\"data row6 col3\" >0.923088</td>\n",
       "      <td id=\"T_738dc_row6_col4\" class=\"data row6 col4\" >0.868822</td>\n",
       "      <td id=\"T_738dc_row6_col5\" class=\"data row6 col5\" >0.828043</td>\n",
       "      <td id=\"T_738dc_row6_col6\" class=\"data row6 col6\" >1.000000</td>\n",
       "      <td id=\"T_738dc_row6_col7\" class=\"data row6 col7\" >0.390575</td>\n",
       "      <td id=\"T_738dc_row6_col8\" class=\"data row6 col8\" >0.917265</td>\n",
       "      <td id=\"T_738dc_row6_col9\" class=\"data row6 col9\" >0.681976</td>\n",
       "      <td id=\"T_738dc_row6_col10\" class=\"data row6 col10\" >0.663402</td>\n",
       "      <td id=\"T_738dc_row6_col11\" class=\"data row6 col11\" >0.917416</td>\n",
       "      <td id=\"T_738dc_row6_col12\" class=\"data row6 col12\" >0.760809</td>\n",
       "      <td id=\"T_738dc_row6_col13\" class=\"data row6 col13\" >0.855254</td>\n",
       "      <td id=\"T_738dc_row6_col14\" class=\"data row6 col14\" >0.814878</td>\n",
       "      <td id=\"T_738dc_row6_col15\" class=\"data row6 col15\" >0.782763</td>\n",
       "      <td id=\"T_738dc_row6_col16\" class=\"data row6 col16\" >0.390575</td>\n",
       "      <td id=\"T_738dc_row6_col17\" class=\"data row6 col17\" >0.243358</td>\n",
       "    </tr>\n",
       "    <tr>\n",
       "      <th id=\"T_738dc_level0_row7\" class=\"row_heading level0 row7\" >Movies</th>\n",
       "      <td id=\"T_738dc_row7_col0\" class=\"data row7 col0\" >-0.029775</td>\n",
       "      <td id=\"T_738dc_row7_col1\" class=\"data row7 col1\" >0.540066</td>\n",
       "      <td id=\"T_738dc_row7_col2\" class=\"data row7 col2\" >0.641614</td>\n",
       "      <td id=\"T_738dc_row7_col3\" class=\"data row7 col3\" >0.511630</td>\n",
       "      <td id=\"T_738dc_row7_col4\" class=\"data row7 col4\" >0.603300</td>\n",
       "      <td id=\"T_738dc_row7_col5\" class=\"data row7 col5\" >0.012656</td>\n",
       "      <td id=\"T_738dc_row7_col6\" class=\"data row7 col6\" >0.390575</td>\n",
       "      <td id=\"T_738dc_row7_col7\" class=\"data row7 col7\" >1.000000</td>\n",
       "      <td id=\"T_738dc_row7_col8\" class=\"data row7 col8\" >0.326025</td>\n",
       "      <td id=\"T_738dc_row7_col9\" class=\"data row7 col9\" >0.868898</td>\n",
       "      <td id=\"T_738dc_row7_col10\" class=\"data row7 col10\" >-0.029775</td>\n",
       "      <td id=\"T_738dc_row7_col11\" class=\"data row7 col11\" >0.313973</td>\n",
       "      <td id=\"T_738dc_row7_col12\" class=\"data row7 col12\" >-0.028187</td>\n",
       "      <td id=\"T_738dc_row7_col13\" class=\"data row7 col13\" >0.505974</td>\n",
       "      <td id=\"T_738dc_row7_col14\" class=\"data row7 col14\" >0.749758</td>\n",
       "      <td id=\"T_738dc_row7_col15\" class=\"data row7 col15\" >-0.041049</td>\n",
       "      <td id=\"T_738dc_row7_col16\" class=\"data row7 col16\" >1.000000</td>\n",
       "      <td id=\"T_738dc_row7_col17\" class=\"data row7 col17\" >-0.020833</td>\n",
       "    </tr>\n",
       "    <tr>\n",
       "      <th id=\"T_738dc_level0_row8\" class=\"row_heading level0 row8\" >Music</th>\n",
       "      <td id=\"T_738dc_row8_col0\" class=\"data row8 col0\" >0.079286</td>\n",
       "      <td id=\"T_738dc_row8_col1\" class=\"data row8 col1\" >0.938349</td>\n",
       "      <td id=\"T_738dc_row8_col2\" class=\"data row8 col2\" >0.882778</td>\n",
       "      <td id=\"T_738dc_row8_col3\" class=\"data row8 col3\" >0.952855</td>\n",
       "      <td id=\"T_738dc_row8_col4\" class=\"data row8 col4\" >0.895996</td>\n",
       "      <td id=\"T_738dc_row8_col5\" class=\"data row8 col5\" >0.888910</td>\n",
       "      <td id=\"T_738dc_row8_col6\" class=\"data row8 col6\" >0.917265</td>\n",
       "      <td id=\"T_738dc_row8_col7\" class=\"data row8 col7\" >0.326025</td>\n",
       "      <td id=\"T_738dc_row8_col8\" class=\"data row8 col8\" >1.000000</td>\n",
       "      <td id=\"T_738dc_row8_col9\" class=\"data row8 col9\" >0.642021</td>\n",
       "      <td id=\"T_738dc_row8_col10\" class=\"data row8 col10\" >0.751342</td>\n",
       "      <td id=\"T_738dc_row8_col11\" class=\"data row8 col11\" >0.928592</td>\n",
       "      <td id=\"T_738dc_row8_col12\" class=\"data row8 col12\" >0.865243</td>\n",
       "      <td id=\"T_738dc_row8_col13\" class=\"data row8 col13\" >0.903397</td>\n",
       "      <td id=\"T_738dc_row8_col14\" class=\"data row8 col14\" >0.811231</td>\n",
       "      <td id=\"T_738dc_row8_col15\" class=\"data row8 col15\" >0.836237</td>\n",
       "      <td id=\"T_738dc_row8_col16\" class=\"data row8 col16\" >0.326025</td>\n",
       "      <td id=\"T_738dc_row8_col17\" class=\"data row8 col17\" >-0.021823</td>\n",
       "    </tr>\n",
       "    <tr>\n",
       "      <th id=\"T_738dc_level0_row9\" class=\"row_heading level0 row9\" >News & Politics</th>\n",
       "      <td id=\"T_738dc_row9_col0\" class=\"data row9 col0\" >-0.062938</td>\n",
       "      <td id=\"T_738dc_row9_col1\" class=\"data row9 col1\" >0.769516</td>\n",
       "      <td id=\"T_738dc_row9_col2\" class=\"data row9 col2\" >0.858326</td>\n",
       "      <td id=\"T_738dc_row9_col3\" class=\"data row9 col3\" >0.796019</td>\n",
       "      <td id=\"T_738dc_row9_col4\" class=\"data row9 col4\" >0.787896</td>\n",
       "      <td id=\"T_738dc_row9_col5\" class=\"data row9 col5\" >0.361889</td>\n",
       "      <td id=\"T_738dc_row9_col6\" class=\"data row9 col6\" >0.681976</td>\n",
       "      <td id=\"T_738dc_row9_col7\" class=\"data row9 col7\" >0.868898</td>\n",
       "      <td id=\"T_738dc_row9_col8\" class=\"data row9 col8\" >0.642021</td>\n",
       "      <td id=\"T_738dc_row9_col9\" class=\"data row9 col9\" >1.000000</td>\n",
       "      <td id=\"T_738dc_row9_col10\" class=\"data row9 col10\" >0.233596</td>\n",
       "      <td id=\"T_738dc_row9_col11\" class=\"data row9 col11\" >0.647821</td>\n",
       "      <td id=\"T_738dc_row9_col12\" class=\"data row9 col12\" >0.352141</td>\n",
       "      <td id=\"T_738dc_row9_col13\" class=\"data row9 col13\" >0.757718</td>\n",
       "      <td id=\"T_738dc_row9_col14\" class=\"data row9 col14\" >0.905440</td>\n",
       "      <td id=\"T_738dc_row9_col15\" class=\"data row9 col15\" >0.299753</td>\n",
       "      <td id=\"T_738dc_row9_col16\" class=\"data row9 col16\" >0.868898</td>\n",
       "      <td id=\"T_738dc_row9_col17\" class=\"data row9 col17\" >0.038956</td>\n",
       "    </tr>\n",
       "    <tr>\n",
       "      <th id=\"T_738dc_level0_row10\" class=\"row_heading level0 row10\" >Nonprofits & Activism</th>\n",
       "      <td id=\"T_738dc_row10_col0\" class=\"data row10 col0\" >0.478723</td>\n",
       "      <td id=\"T_738dc_row10_col1\" class=\"data row10 col1\" >0.719103</td>\n",
       "      <td id=\"T_738dc_row10_col2\" class=\"data row10 col2\" >0.495540</td>\n",
       "      <td id=\"T_738dc_row10_col3\" class=\"data row10 col3\" >0.659264</td>\n",
       "      <td id=\"T_738dc_row10_col4\" class=\"data row10 col4\" >0.736232</td>\n",
       "      <td id=\"T_738dc_row10_col5\" class=\"data row10 col5\" >0.747992</td>\n",
       "      <td id=\"T_738dc_row10_col6\" class=\"data row10 col6\" >0.663402</td>\n",
       "      <td id=\"T_738dc_row10_col7\" class=\"data row10 col7\" >-0.029775</td>\n",
       "      <td id=\"T_738dc_row10_col8\" class=\"data row10 col8\" >0.751342</td>\n",
       "      <td id=\"T_738dc_row10_col9\" class=\"data row10 col9\" >0.233596</td>\n",
       "      <td id=\"T_738dc_row10_col10\" class=\"data row10 col10\" >1.000000</td>\n",
       "      <td id=\"T_738dc_row10_col11\" class=\"data row10 col11\" >0.692641</td>\n",
       "      <td id=\"T_738dc_row10_col12\" class=\"data row10 col12\" >0.617686</td>\n",
       "      <td id=\"T_738dc_row10_col13\" class=\"data row10 col13\" >0.527363</td>\n",
       "      <td id=\"T_738dc_row10_col14\" class=\"data row10 col14\" >0.395504</td>\n",
       "      <td id=\"T_738dc_row10_col15\" class=\"data row10 col15\" >0.725336</td>\n",
       "      <td id=\"T_738dc_row10_col16\" class=\"data row10 col16\" >-0.029775</td>\n",
       "      <td id=\"T_738dc_row10_col17\" class=\"data row10 col17\" >-0.029775</td>\n",
       "    </tr>\n",
       "    <tr>\n",
       "      <th id=\"T_738dc_level0_row11\" class=\"row_heading level0 row11\" >People & Blogs</th>\n",
       "      <td id=\"T_738dc_row11_col0\" class=\"data row11 col0\" >0.065424</td>\n",
       "      <td id=\"T_738dc_row11_col1\" class=\"data row11 col1\" >0.902488</td>\n",
       "      <td id=\"T_738dc_row11_col2\" class=\"data row11 col2\" >0.892673</td>\n",
       "      <td id=\"T_738dc_row11_col3\" class=\"data row11 col3\" >0.941406</td>\n",
       "      <td id=\"T_738dc_row11_col4\" class=\"data row11 col4\" >0.851455</td>\n",
       "      <td id=\"T_738dc_row11_col5\" class=\"data row11 col5\" >0.852177</td>\n",
       "      <td id=\"T_738dc_row11_col6\" class=\"data row11 col6\" >0.917416</td>\n",
       "      <td id=\"T_738dc_row11_col7\" class=\"data row11 col7\" >0.313973</td>\n",
       "      <td id=\"T_738dc_row11_col8\" class=\"data row11 col8\" >0.928592</td>\n",
       "      <td id=\"T_738dc_row11_col9\" class=\"data row11 col9\" >0.647821</td>\n",
       "      <td id=\"T_738dc_row11_col10\" class=\"data row11 col10\" >0.692641</td>\n",
       "      <td id=\"T_738dc_row11_col11\" class=\"data row11 col11\" >1.000000</td>\n",
       "      <td id=\"T_738dc_row11_col12\" class=\"data row11 col12\" >0.787652</td>\n",
       "      <td id=\"T_738dc_row11_col13\" class=\"data row11 col13\" >0.847857</td>\n",
       "      <td id=\"T_738dc_row11_col14\" class=\"data row11 col14\" >0.774002</td>\n",
       "      <td id=\"T_738dc_row11_col15\" class=\"data row11 col15\" >0.771498</td>\n",
       "      <td id=\"T_738dc_row11_col16\" class=\"data row11 col16\" >0.313973</td>\n",
       "      <td id=\"T_738dc_row11_col17\" class=\"data row11 col17\" >0.143303</td>\n",
       "    </tr>\n",
       "    <tr>\n",
       "      <th id=\"T_738dc_level0_row12\" class=\"row_heading level0 row12\" >Pets & Animals</th>\n",
       "      <td id=\"T_738dc_row12_col0\" class=\"data row12 col0\" >-0.040284</td>\n",
       "      <td id=\"T_738dc_row12_col1\" class=\"data row12 col1\" >0.680754</td>\n",
       "      <td id=\"T_738dc_row12_col2\" class=\"data row12 col2\" >0.643022</td>\n",
       "      <td id=\"T_738dc_row12_col3\" class=\"data row12 col3\" >0.754650</td>\n",
       "      <td id=\"T_738dc_row12_col4\" class=\"data row12 col4\" >0.630708</td>\n",
       "      <td id=\"T_738dc_row12_col5\" class=\"data row12 col5\" >0.889073</td>\n",
       "      <td id=\"T_738dc_row12_col6\" class=\"data row12 col6\" >0.760809</td>\n",
       "      <td id=\"T_738dc_row12_col7\" class=\"data row12 col7\" >-0.028187</td>\n",
       "      <td id=\"T_738dc_row12_col8\" class=\"data row12 col8\" >0.865243</td>\n",
       "      <td id=\"T_738dc_row12_col9\" class=\"data row12 col9\" >0.352141</td>\n",
       "      <td id=\"T_738dc_row12_col10\" class=\"data row12 col10\" >0.617686</td>\n",
       "      <td id=\"T_738dc_row12_col11\" class=\"data row12 col11\" >0.787652</td>\n",
       "      <td id=\"T_738dc_row12_col12\" class=\"data row12 col12\" >1.000000</td>\n",
       "      <td id=\"T_738dc_row12_col13\" class=\"data row12 col13\" >0.746338</td>\n",
       "      <td id=\"T_738dc_row12_col14\" class=\"data row12 col14\" >0.587740</td>\n",
       "      <td id=\"T_738dc_row12_col15\" class=\"data row12 col15\" >0.851586</td>\n",
       "      <td id=\"T_738dc_row12_col16\" class=\"data row12 col16\" >-0.028187</td>\n",
       "      <td id=\"T_738dc_row12_col17\" class=\"data row12 col17\" >-0.028187</td>\n",
       "    </tr>\n",
       "    <tr>\n",
       "      <th id=\"T_738dc_level0_row13\" class=\"row_heading level0 row13\" >Science & Technology</th>\n",
       "      <td id=\"T_738dc_row13_col0\" class=\"data row13 col0\" >-0.059928</td>\n",
       "      <td id=\"T_738dc_row13_col1\" class=\"data row13 col1\" >0.888903</td>\n",
       "      <td id=\"T_738dc_row13_col2\" class=\"data row13 col2\" >0.926144</td>\n",
       "      <td id=\"T_738dc_row13_col3\" class=\"data row13 col3\" >0.914932</td>\n",
       "      <td id=\"T_738dc_row13_col4\" class=\"data row13 col4\" >0.843631</td>\n",
       "      <td id=\"T_738dc_row13_col5\" class=\"data row13 col5\" >0.754809</td>\n",
       "      <td id=\"T_738dc_row13_col6\" class=\"data row13 col6\" >0.855254</td>\n",
       "      <td id=\"T_738dc_row13_col7\" class=\"data row13 col7\" >0.505974</td>\n",
       "      <td id=\"T_738dc_row13_col8\" class=\"data row13 col8\" >0.903397</td>\n",
       "      <td id=\"T_738dc_row13_col9\" class=\"data row13 col9\" >0.757718</td>\n",
       "      <td id=\"T_738dc_row13_col10\" class=\"data row13 col10\" >0.527363</td>\n",
       "      <td id=\"T_738dc_row13_col11\" class=\"data row13 col11\" >0.847857</td>\n",
       "      <td id=\"T_738dc_row13_col12\" class=\"data row13 col12\" >0.746338</td>\n",
       "      <td id=\"T_738dc_row13_col13\" class=\"data row13 col13\" >1.000000</td>\n",
       "      <td id=\"T_738dc_row13_col14\" class=\"data row13 col14\" >0.874341</td>\n",
       "      <td id=\"T_738dc_row13_col15\" class=\"data row13 col15\" >0.677989</td>\n",
       "      <td id=\"T_738dc_row13_col16\" class=\"data row13 col16\" >0.505974</td>\n",
       "      <td id=\"T_738dc_row13_col17\" class=\"data row13 col17\" >-0.041932</td>\n",
       "    </tr>\n",
       "    <tr>\n",
       "      <th id=\"T_738dc_level0_row14\" class=\"row_heading level0 row14\" >Shows</th>\n",
       "      <td id=\"T_738dc_row14_col0\" class=\"data row14 col0\" >-0.055187</td>\n",
       "      <td id=\"T_738dc_row14_col1\" class=\"data row14 col1\" >0.869885</td>\n",
       "      <td id=\"T_738dc_row14_col2\" class=\"data row14 col2\" >0.929953</td>\n",
       "      <td id=\"T_738dc_row14_col3\" class=\"data row14 col3\" >0.899698</td>\n",
       "      <td id=\"T_738dc_row14_col4\" class=\"data row14 col4\" >0.873110</td>\n",
       "      <td id=\"T_738dc_row14_col5\" class=\"data row14 col5\" >0.581276</td>\n",
       "      <td id=\"T_738dc_row14_col6\" class=\"data row14 col6\" >0.814878</td>\n",
       "      <td id=\"T_738dc_row14_col7\" class=\"data row14 col7\" >0.749758</td>\n",
       "      <td id=\"T_738dc_row14_col8\" class=\"data row14 col8\" >0.811231</td>\n",
       "      <td id=\"T_738dc_row14_col9\" class=\"data row14 col9\" >0.905440</td>\n",
       "      <td id=\"T_738dc_row14_col10\" class=\"data row14 col10\" >0.395504</td>\n",
       "      <td id=\"T_738dc_row14_col11\" class=\"data row14 col11\" >0.774002</td>\n",
       "      <td id=\"T_738dc_row14_col12\" class=\"data row14 col12\" >0.587740</td>\n",
       "      <td id=\"T_738dc_row14_col13\" class=\"data row14 col13\" >0.874341</td>\n",
       "      <td id=\"T_738dc_row14_col14\" class=\"data row14 col14\" >1.000000</td>\n",
       "      <td id=\"T_738dc_row14_col15\" class=\"data row14 col15\" >0.517026</td>\n",
       "      <td id=\"T_738dc_row14_col16\" class=\"data row14 col16\" >0.749758</td>\n",
       "      <td id=\"T_738dc_row14_col17\" class=\"data row14 col17\" >-0.038614</td>\n",
       "    </tr>\n",
       "    <tr>\n",
       "      <th id=\"T_738dc_level0_row15\" class=\"row_heading level0 row15\" >Sports</th>\n",
       "      <td id=\"T_738dc_row15_col0\" class=\"data row15 col0\" >0.072000</td>\n",
       "      <td id=\"T_738dc_row15_col1\" class=\"data row15 col1\" >0.713738</td>\n",
       "      <td id=\"T_738dc_row15_col2\" class=\"data row15 col2\" >0.638493</td>\n",
       "      <td id=\"T_738dc_row15_col3\" class=\"data row15 col3\" >0.730817</td>\n",
       "      <td id=\"T_738dc_row15_col4\" class=\"data row15 col4\" >0.641304</td>\n",
       "      <td id=\"T_738dc_row15_col5\" class=\"data row15 col5\" >0.939753</td>\n",
       "      <td id=\"T_738dc_row15_col6\" class=\"data row15 col6\" >0.782763</td>\n",
       "      <td id=\"T_738dc_row15_col7\" class=\"data row15 col7\" >-0.041049</td>\n",
       "      <td id=\"T_738dc_row15_col8\" class=\"data row15 col8\" >0.836237</td>\n",
       "      <td id=\"T_738dc_row15_col9\" class=\"data row15 col9\" >0.299753</td>\n",
       "      <td id=\"T_738dc_row15_col10\" class=\"data row15 col10\" >0.725336</td>\n",
       "      <td id=\"T_738dc_row15_col11\" class=\"data row15 col11\" >0.771498</td>\n",
       "      <td id=\"T_738dc_row15_col12\" class=\"data row15 col12\" >0.851586</td>\n",
       "      <td id=\"T_738dc_row15_col13\" class=\"data row15 col13\" >0.677989</td>\n",
       "      <td id=\"T_738dc_row15_col14\" class=\"data row15 col14\" >0.517026</td>\n",
       "      <td id=\"T_738dc_row15_col15\" class=\"data row15 col15\" >1.000000</td>\n",
       "      <td id=\"T_738dc_row15_col16\" class=\"data row15 col16\" >-0.041049</td>\n",
       "      <td id=\"T_738dc_row15_col17\" class=\"data row15 col17\" >-0.041049</td>\n",
       "    </tr>\n",
       "    <tr>\n",
       "      <th id=\"T_738dc_level0_row16\" class=\"row_heading level0 row16\" >Trailers</th>\n",
       "      <td id=\"T_738dc_row16_col0\" class=\"data row16 col0\" >-0.029775</td>\n",
       "      <td id=\"T_738dc_row16_col1\" class=\"data row16 col1\" >0.540066</td>\n",
       "      <td id=\"T_738dc_row16_col2\" class=\"data row16 col2\" >0.641614</td>\n",
       "      <td id=\"T_738dc_row16_col3\" class=\"data row16 col3\" >0.511630</td>\n",
       "      <td id=\"T_738dc_row16_col4\" class=\"data row16 col4\" >0.603300</td>\n",
       "      <td id=\"T_738dc_row16_col5\" class=\"data row16 col5\" >0.012656</td>\n",
       "      <td id=\"T_738dc_row16_col6\" class=\"data row16 col6\" >0.390575</td>\n",
       "      <td id=\"T_738dc_row16_col7\" class=\"data row16 col7\" >1.000000</td>\n",
       "      <td id=\"T_738dc_row16_col8\" class=\"data row16 col8\" >0.326025</td>\n",
       "      <td id=\"T_738dc_row16_col9\" class=\"data row16 col9\" >0.868898</td>\n",
       "      <td id=\"T_738dc_row16_col10\" class=\"data row16 col10\" >-0.029775</td>\n",
       "      <td id=\"T_738dc_row16_col11\" class=\"data row16 col11\" >0.313973</td>\n",
       "      <td id=\"T_738dc_row16_col12\" class=\"data row16 col12\" >-0.028187</td>\n",
       "      <td id=\"T_738dc_row16_col13\" class=\"data row16 col13\" >0.505974</td>\n",
       "      <td id=\"T_738dc_row16_col14\" class=\"data row16 col14\" >0.749758</td>\n",
       "      <td id=\"T_738dc_row16_col15\" class=\"data row16 col15\" >-0.041049</td>\n",
       "      <td id=\"T_738dc_row16_col16\" class=\"data row16 col16\" >1.000000</td>\n",
       "      <td id=\"T_738dc_row16_col17\" class=\"data row16 col17\" >-0.020833</td>\n",
       "    </tr>\n",
       "    <tr>\n",
       "      <th id=\"T_738dc_level0_row17\" class=\"row_heading level0 row17\" >Travel & Events</th>\n",
       "      <td id=\"T_738dc_row17_col0\" class=\"data row17 col0\" >-0.029775</td>\n",
       "      <td id=\"T_738dc_row17_col1\" class=\"data row17 col1\" >0.060258</td>\n",
       "      <td id=\"T_738dc_row17_col2\" class=\"data row17 col2\" >0.051848</td>\n",
       "      <td id=\"T_738dc_row17_col3\" class=\"data row17 col3\" >0.045975</td>\n",
       "      <td id=\"T_738dc_row17_col4\" class=\"data row17 col4\" >0.015592</td>\n",
       "      <td id=\"T_738dc_row17_col5\" class=\"data row17 col5\" >0.049136</td>\n",
       "      <td id=\"T_738dc_row17_col6\" class=\"data row17 col6\" >0.243358</td>\n",
       "      <td id=\"T_738dc_row17_col7\" class=\"data row17 col7\" >-0.020833</td>\n",
       "      <td id=\"T_738dc_row17_col8\" class=\"data row17 col8\" >-0.021823</td>\n",
       "      <td id=\"T_738dc_row17_col9\" class=\"data row17 col9\" >0.038956</td>\n",
       "      <td id=\"T_738dc_row17_col10\" class=\"data row17 col10\" >-0.029775</td>\n",
       "      <td id=\"T_738dc_row17_col11\" class=\"data row17 col11\" >0.143303</td>\n",
       "      <td id=\"T_738dc_row17_col12\" class=\"data row17 col12\" >-0.028187</td>\n",
       "      <td id=\"T_738dc_row17_col13\" class=\"data row17 col13\" >-0.041932</td>\n",
       "      <td id=\"T_738dc_row17_col14\" class=\"data row17 col14\" >-0.038614</td>\n",
       "      <td id=\"T_738dc_row17_col15\" class=\"data row17 col15\" >-0.041049</td>\n",
       "      <td id=\"T_738dc_row17_col16\" class=\"data row17 col16\" >-0.020833</td>\n",
       "      <td id=\"T_738dc_row17_col17\" class=\"data row17 col17\" >1.000000</td>\n",
       "    </tr>\n",
       "  </tbody>\n",
       "</table>\n"
      ],
      "text/plain": [
       "<pandas.io.formats.style.Styler at 0x25a02f1e750>"
      ]
     },
     "execution_count": 46,
     "metadata": {},
     "output_type": "execute_result"
    }
   ],
   "source": [
    "df_corr = df_corr.style.background_gradient(cmap=\"RdBu\")\n",
    "df_corr"
   ]
  },
  {
   "cell_type": "markdown",
   "metadata": {},
   "source": [
    "Com essa análise de similaridade, conseguimos observar quais categorias possuem um público similar entre si, em questão de países. Podemos observar uma forte correlação entre:\n",
    "- Música tem públicos em comum com várias outras categorias, mostrando ser \"universal\" de certa forma. (relação com Entretenimento, Comédia, Pessoas & Blogs, Tutoriais, Tecnologia, e vários outros)\n",
    "- Correlação forte entre Filmes e Trailers, por ser na mesma área de interesse\n",
    "- Esportes tem uma boa relação com Videogame, aparentando ser um público similar."
   ]
  },
  {
   "cell_type": "markdown",
   "metadata": {},
   "source": [
    "### Categorias do país"
   ]
  },
  {
   "cell_type": "code",
   "execution_count": 47,
   "metadata": {},
   "outputs": [
    {
     "data": {
      "text/html": [
       "<div>\n",
       "<style scoped>\n",
       "    .dataframe tbody tr th:only-of-type {\n",
       "        vertical-align: middle;\n",
       "    }\n",
       "\n",
       "    .dataframe tbody tr th {\n",
       "        vertical-align: top;\n",
       "    }\n",
       "\n",
       "    .dataframe thead th {\n",
       "        text-align: right;\n",
       "    }\n",
       "</style>\n",
       "<table border=\"1\" class=\"dataframe\">\n",
       "  <thead>\n",
       "    <tr style=\"text-align: right;\">\n",
       "      <th></th>\n",
       "      <th>Country</th>\n",
       "    </tr>\n",
       "  </thead>\n",
       "  <tbody>\n",
       "    <tr>\n",
       "      <th>0</th>\n",
       "      <td>India</td>\n",
       "    </tr>\n",
       "    <tr>\n",
       "      <th>1</th>\n",
       "      <td>United States</td>\n",
       "    </tr>\n",
       "    <tr>\n",
       "      <th>5</th>\n",
       "      <td>NaN</td>\n",
       "    </tr>\n",
       "    <tr>\n",
       "      <th>7</th>\n",
       "      <td>Japan</td>\n",
       "    </tr>\n",
       "    <tr>\n",
       "      <th>8</th>\n",
       "      <td>Russia</td>\n",
       "    </tr>\n",
       "    <tr>\n",
       "      <th>13</th>\n",
       "      <td>South Korea</td>\n",
       "    </tr>\n",
       "    <tr>\n",
       "      <th>16</th>\n",
       "      <td>United Kingdom</td>\n",
       "    </tr>\n",
       "    <tr>\n",
       "      <th>19</th>\n",
       "      <td>Canada</td>\n",
       "    </tr>\n",
       "    <tr>\n",
       "      <th>23</th>\n",
       "      <td>Brazil</td>\n",
       "    </tr>\n",
       "    <tr>\n",
       "      <th>31</th>\n",
       "      <td>Argentina</td>\n",
       "    </tr>\n",
       "    <tr>\n",
       "      <th>44</th>\n",
       "      <td>Chile</td>\n",
       "    </tr>\n",
       "    <tr>\n",
       "      <th>50</th>\n",
       "      <td>Cuba</td>\n",
       "    </tr>\n",
       "    <tr>\n",
       "      <th>52</th>\n",
       "      <td>El Salvador</td>\n",
       "    </tr>\n",
       "    <tr>\n",
       "      <th>56</th>\n",
       "      <td>Pakistan</td>\n",
       "    </tr>\n",
       "    <tr>\n",
       "      <th>60</th>\n",
       "      <td>Philippines</td>\n",
       "    </tr>\n",
       "    <tr>\n",
       "      <th>61</th>\n",
       "      <td>Thailand</td>\n",
       "    </tr>\n",
       "    <tr>\n",
       "      <th>63</th>\n",
       "      <td>Colombia</td>\n",
       "    </tr>\n",
       "    <tr>\n",
       "      <th>69</th>\n",
       "      <td>Barbados</td>\n",
       "    </tr>\n",
       "    <tr>\n",
       "      <th>71</th>\n",
       "      <td>Mexico</td>\n",
       "    </tr>\n",
       "    <tr>\n",
       "      <th>76</th>\n",
       "      <td>United Arab Emirates</td>\n",
       "    </tr>\n",
       "    <tr>\n",
       "      <th>81</th>\n",
       "      <td>Spain</td>\n",
       "    </tr>\n",
       "    <tr>\n",
       "      <th>85</th>\n",
       "      <td>Saudi Arabia</td>\n",
       "    </tr>\n",
       "    <tr>\n",
       "      <th>117</th>\n",
       "      <td>Indonesia</td>\n",
       "    </tr>\n",
       "    <tr>\n",
       "      <th>132</th>\n",
       "      <td>Turkey</td>\n",
       "    </tr>\n",
       "    <tr>\n",
       "      <th>151</th>\n",
       "      <td>Venezuela</td>\n",
       "    </tr>\n",
       "    <tr>\n",
       "      <th>158</th>\n",
       "      <td>Kuwait</td>\n",
       "    </tr>\n",
       "    <tr>\n",
       "      <th>165</th>\n",
       "      <td>Jordan</td>\n",
       "    </tr>\n",
       "    <tr>\n",
       "      <th>167</th>\n",
       "      <td>Netherlands</td>\n",
       "    </tr>\n",
       "    <tr>\n",
       "      <th>190</th>\n",
       "      <td>Singapore</td>\n",
       "    </tr>\n",
       "    <tr>\n",
       "      <th>191</th>\n",
       "      <td>Australia</td>\n",
       "    </tr>\n",
       "    <tr>\n",
       "      <th>212</th>\n",
       "      <td>Italy</td>\n",
       "    </tr>\n",
       "    <tr>\n",
       "      <th>294</th>\n",
       "      <td>Germany</td>\n",
       "    </tr>\n",
       "    <tr>\n",
       "      <th>315</th>\n",
       "      <td>France</td>\n",
       "    </tr>\n",
       "    <tr>\n",
       "      <th>371</th>\n",
       "      <td>Sweden</td>\n",
       "    </tr>\n",
       "    <tr>\n",
       "      <th>377</th>\n",
       "      <td>Afghanistan</td>\n",
       "    </tr>\n",
       "    <tr>\n",
       "      <th>379</th>\n",
       "      <td>Ukraine</td>\n",
       "    </tr>\n",
       "    <tr>\n",
       "      <th>388</th>\n",
       "      <td>Latvia</td>\n",
       "    </tr>\n",
       "    <tr>\n",
       "      <th>423</th>\n",
       "      <td>Switzerland</td>\n",
       "    </tr>\n",
       "    <tr>\n",
       "      <th>489</th>\n",
       "      <td>Vietnam</td>\n",
       "    </tr>\n",
       "    <tr>\n",
       "      <th>503</th>\n",
       "      <td>Malaysia</td>\n",
       "    </tr>\n",
       "    <tr>\n",
       "      <th>507</th>\n",
       "      <td>China</td>\n",
       "    </tr>\n",
       "    <tr>\n",
       "      <th>517</th>\n",
       "      <td>Iraq</td>\n",
       "    </tr>\n",
       "    <tr>\n",
       "      <th>637</th>\n",
       "      <td>Egypt</td>\n",
       "    </tr>\n",
       "    <tr>\n",
       "      <th>663</th>\n",
       "      <td>Andorra</td>\n",
       "    </tr>\n",
       "    <tr>\n",
       "      <th>725</th>\n",
       "      <td>Ecuador</td>\n",
       "    </tr>\n",
       "    <tr>\n",
       "      <th>749</th>\n",
       "      <td>Morocco</td>\n",
       "    </tr>\n",
       "    <tr>\n",
       "      <th>754</th>\n",
       "      <td>Peru</td>\n",
       "    </tr>\n",
       "    <tr>\n",
       "      <th>808</th>\n",
       "      <td>Bangladesh</td>\n",
       "    </tr>\n",
       "    <tr>\n",
       "      <th>876</th>\n",
       "      <td>Finland</td>\n",
       "    </tr>\n",
       "    <tr>\n",
       "      <th>899</th>\n",
       "      <td>Samoa</td>\n",
       "    </tr>\n",
       "  </tbody>\n",
       "</table>\n",
       "</div>"
      ],
      "text/plain": [
       "                  Country\n",
       "0                   India\n",
       "1           United States\n",
       "5                     NaN\n",
       "7                   Japan\n",
       "8                  Russia\n",
       "13            South Korea\n",
       "16         United Kingdom\n",
       "19                 Canada\n",
       "23                 Brazil\n",
       "31              Argentina\n",
       "44                  Chile\n",
       "50                   Cuba\n",
       "52            El Salvador\n",
       "56               Pakistan\n",
       "60            Philippines\n",
       "61               Thailand\n",
       "63               Colombia\n",
       "69               Barbados\n",
       "71                 Mexico\n",
       "76   United Arab Emirates\n",
       "81                  Spain\n",
       "85           Saudi Arabia\n",
       "117             Indonesia\n",
       "132                Turkey\n",
       "151             Venezuela\n",
       "158                Kuwait\n",
       "165                Jordan\n",
       "167           Netherlands\n",
       "190             Singapore\n",
       "191             Australia\n",
       "212                 Italy\n",
       "294               Germany\n",
       "315                France\n",
       "371                Sweden\n",
       "377           Afghanistan\n",
       "379               Ukraine\n",
       "388                Latvia\n",
       "423           Switzerland\n",
       "489               Vietnam\n",
       "503              Malaysia\n",
       "507                 China\n",
       "517                  Iraq\n",
       "637                 Egypt\n",
       "663               Andorra\n",
       "725               Ecuador\n",
       "749               Morocco\n",
       "754                  Peru\n",
       "808            Bangladesh\n",
       "876               Finland\n",
       "899                 Samoa"
      ]
     },
     "execution_count": 47,
     "metadata": {},
     "output_type": "execute_result"
    }
   ],
   "source": [
    "paises = df[['Country']]\n",
    "paises = paises.drop_duplicates(subset=['Country'])\n",
    "paises"
   ]
  },
  {
   "cell_type": "code",
   "execution_count": 48,
   "metadata": {},
   "outputs": [],
   "source": [
    "while True:\n",
    "  try:\n",
    "    pais = input(\"Digite um país (em inglês) que deseja visualizar, ou vazio para ver todos: \")\n",
    "    if (pais in df['Country'].unique()) or (pais == \"\"):\n",
    "      break\n",
    "    print(\"Insira um país válido\")\n",
    "  except ValueError:\n",
    "    print(\"Insira um país, por favor\")\n",
    "    continue"
   ]
  },
  {
   "cell_type": "code",
   "execution_count": 49,
   "metadata": {},
   "outputs": [],
   "source": [
    "if pais == \"\":\n",
    "  df_filtrada = df\n",
    "else: \n",
    "  df_filtrada = df[df['Country'] == pais]"
   ]
  },
  {
   "cell_type": "code",
   "execution_count": 50,
   "metadata": {},
   "outputs": [
    {
     "data": {
      "text/plain": [
       "<Axes: xlabel='COUNT', ylabel='category'>"
      ]
     },
     "execution_count": 50,
     "metadata": {},
     "output_type": "execute_result"
    },
    {
     "data": {
      "image/png": "[encoded data removed]",
      "text/plain": [
       "<Figure size 1500x800 with 1 Axes>"
      ]
     },
     "metadata": {},
     "output_type": "display_data"
    }
   ],
   "source": [
    "dfgraph = df_filtrada.groupby(['category']).size().reset_index(name = 'COUNT')\n",
    "dfgraph = dfgraph.sort_values('COUNT', ascending=False)\n",
    "\n",
    "plt.figure(figsize=(15,8))\n",
    "sns.barplot(data=dfgraph, x=\"COUNT\", y=\"category\", orient=\"h\")"
   ]
  },
  {
   "cell_type": "markdown",
   "metadata": {},
   "source": [
    "## Canais criados por ano"
   ]
  },
  {
   "cell_type": "code",
   "execution_count": 51,
   "metadata": {},
   "outputs": [
    {
     "data": {
      "text/html": [
       "<div>\n",
       "<style scoped>\n",
       "    .dataframe tbody tr th:only-of-type {\n",
       "        vertical-align: middle;\n",
       "    }\n",
       "\n",
       "    .dataframe tbody tr th {\n",
       "        vertical-align: top;\n",
       "    }\n",
       "\n",
       "    .dataframe thead th {\n",
       "        text-align: right;\n",
       "    }\n",
       "</style>\n",
       "<table border=\"1\" class=\"dataframe\">\n",
       "  <thead>\n",
       "    <tr style=\"text-align: right;\">\n",
       "      <th></th>\n",
       "      <th>Youtuber</th>\n",
       "      <th>subscribers</th>\n",
       "      <th>video views</th>\n",
       "      <th>category</th>\n",
       "      <th>uploads</th>\n",
       "      <th>Country</th>\n",
       "      <th>video_views_for_the_last_30_days</th>\n",
       "      <th>lowest_monthly_earnings</th>\n",
       "      <th>highest_monthly_earnings</th>\n",
       "      <th>subscribers_for_last_30_days</th>\n",
       "      <th>created_year</th>\n",
       "      <th>Gross tertiary education enrollment (%)</th>\n",
       "      <th>Population</th>\n",
       "      <th>Unemployment rate</th>\n",
       "      <th>Latitude</th>\n",
       "      <th>Longitude</th>\n",
       "    </tr>\n",
       "  </thead>\n",
       "  <tbody>\n",
       "  </tbody>\n",
       "</table>\n",
       "</div>"
      ],
      "text/plain": [
       "Empty DataFrame\n",
       "Columns: [Youtuber, subscribers, video views, category, uploads, Country, video_views_for_the_last_30_days, lowest_monthly_earnings, highest_monthly_earnings, subscribers_for_last_30_days, created_year, Gross tertiary education enrollment (%), Population, Unemployment rate, Latitude, Longitude]\n",
       "Index: []"
      ]
     },
     "execution_count": 51,
     "metadata": {},
     "output_type": "execute_result"
    }
   ],
   "source": [
    "df_23 = df[df['created_year'] == 2023]\n",
    "df_23"
   ]
  },
  {
   "cell_type": "code",
   "execution_count": 52,
   "metadata": {},
   "outputs": [
    {
     "data": {
      "application/vnd.plotly.v1+json": {
       "config": {
        "plotlyServerURL": "https://plot.ly"
       },
       "data": [
        {
         "alignmentgroup": "True",
         "bingroup": "x",
         "hovertemplate": "created_year=%{x}<br>count=%{y}<extra></extra>",
         "legendgroup": "",
         "marker": {
          "color": "#636efa",
          "pattern": {
           "shape": ""
          }
         },
         "name": "",
         "offsetgroup": "",
         "orientation": "v",
         "showlegend": false,
         "type": "histogram",
         "x": [
          2006,
          2006,
          2012,
          2006,
          2006,
          2013,
          2015,
          2010,
          2016,
          2018,
          2014,
          2007,
          2013,
          2016,
          2006,
          2007,
          2020,
          2012,
          2006,
          2007,
          2008,
          2005,
          2011,
          2012,
          2013,
          2010,
          2008,
          2018,
          2009,
          2006,
          2007,
          2011,
          2014,
          2009,
          2009,
          2007,
          2015,
          2006,
          2016,
          2006,
          2014,
          2006,
          2007,
          2013,
          2013,
          2013,
          2006,
          2007,
          2007,
          2009,
          2006,
          2005,
          2011,
          2016,
          2006,
          2013,
          2008,
          2005,
          2008,
          2013,
          2008,
          2006,
          2016,
          2005,
          2011,
          2016,
          2012,
          2014,
          2017,
          2005,
          2005,
          2016,
          2011,
          2010,
          2011,
          2018,
          2017,
          2021,
          2014,
          2015,
          2006,
          2015,
          2012,
          2014,
          2009,
          2018,
          2015,
          2016,
          2006,
          2014,
          2011,
          2018,
          2017,
          2013,
          2017,
          2012,
          2015,
          2006,
          2006,
          2009,
          2014,
          1970,
          2013,
          2016,
          2011,
          2013,
          2013,
          2006,
          2012,
          2006,
          2012,
          2015,
          2016,
          2020,
          2010,
          2016,
          2011,
          2017,
          2013,
          2008,
          2006,
          2013,
          2018,
          2008,
          2006,
          2014,
          2013,
          2011,
          2008,
          2016,
          2016,
          2012,
          2012,
          2010,
          2011,
          2006,
          2013,
          2006,
          2012,
          2006,
          2006,
          2006,
          2017,
          2012,
          2012,
          2018,
          2014,
          2011,
          2009,
          2006,
          2013,
          2018,
          2006,
          2015,
          2009,
          2016,
          2016,
          2007,
          2016,
          2014,
          2012,
          2018,
          2012,
          2008,
          2008,
          2008,
          2006,
          2007,
          2015,
          2007,
          2011,
          2009,
          2006,
          2017,
          2015,
          2015,
          2012,
          2006,
          2021,
          2014,
          2010,
          2006,
          2012,
          2019,
          2014,
          2011,
          2011,
          2005,
          2005,
          2016,
          2008,
          2013,
          2009,
          2011,
          2008,
          2008,
          2015,
          2012,
          2012,
          2017,
          2017,
          2015,
          2018,
          2009,
          2011,
          2016,
          2011,
          2012,
          2016,
          2008,
          2015,
          2020,
          2020,
          2015,
          2019,
          2020,
          2005,
          2019,
          2018,
          2005,
          2008,
          2013,
          2011,
          2009,
          2012,
          2013,
          2019,
          2009,
          2006,
          2011,
          2015,
          2016,
          2010,
          2019,
          2015,
          2014,
          null,
          2015,
          2009,
          2007,
          2014,
          2016,
          2015,
          2009,
          2006,
          2020,
          2009,
          2011,
          2009,
          2011,
          2011,
          2018,
          2009,
          2014,
          2021,
          2019,
          2019,
          2014,
          2009,
          2014,
          2008,
          2019,
          2009,
          2020,
          2018,
          2012,
          2015,
          2011,
          2011,
          2016,
          2015,
          2007,
          2011,
          2012,
          2014,
          2020,
          2012,
          2014,
          2015,
          2013,
          2014,
          2014,
          2014,
          2020,
          2014,
          2006,
          2016,
          2008,
          2017,
          2014,
          2010,
          2006,
          2016,
          2013,
          2019,
          2015,
          2006,
          2014,
          2011,
          2006,
          2012,
          2018,
          2020,
          2015,
          2019,
          2016,
          2020,
          2012,
          2010,
          2007,
          2021,
          2015,
          2018,
          2009,
          2016,
          2019,
          2013,
          2015,
          2009,
          2018,
          2021,
          2014,
          2014,
          2014,
          2008,
          2008,
          2006,
          2011,
          2010,
          2011,
          2017,
          2019,
          2020,
          2013,
          2018,
          2019,
          2018,
          2014,
          2006,
          2016,
          2013,
          2017,
          2017,
          2011,
          2016,
          2014,
          2021,
          2017,
          2017,
          2009,
          2016,
          2016,
          2006,
          2015,
          2013,
          2018,
          2013,
          2013,
          2014,
          2020,
          2013,
          2006,
          2011,
          2013,
          2020,
          2018,
          2013,
          2015,
          2005,
          2007,
          2017,
          2009,
          2006,
          2015,
          2017,
          2014,
          2013,
          2006,
          2007,
          2012,
          2013,
          2013,
          2018,
          2019,
          2009,
          2014,
          2012,
          2017,
          2020,
          2021,
          2014,
          2013,
          2010,
          2011,
          2013,
          2007,
          2013,
          2017,
          2011,
          2011,
          2007,
          2006,
          2006,
          2006,
          2011,
          2010,
          2011,
          2017,
          2013,
          2010,
          2016,
          2011,
          2008,
          2006,
          2009,
          2013,
          2020,
          2016,
          2013,
          2014,
          2017,
          2017,
          2010,
          2006,
          2021,
          2007,
          2010,
          2005,
          2011,
          2006,
          2014,
          2016,
          2018,
          2018,
          2018,
          2017,
          2012,
          2007,
          2007,
          2014,
          2014,
          2018,
          2011,
          2015,
          2017,
          2021,
          2009,
          2014,
          2014,
          2005,
          2016,
          2007,
          2019,
          2014,
          2013,
          2007,
          2008,
          2016,
          2016,
          2014,
          2009,
          2011,
          2011,
          2007,
          2009,
          2017,
          2009,
          2016,
          null,
          2019,
          2017,
          2012,
          2015,
          2011,
          2014,
          2010,
          2009,
          2006,
          2009,
          2006,
          2013,
          2014,
          2012,
          2011,
          2014,
          2015,
          2013,
          2015,
          2008,
          2019,
          2008,
          2009,
          2020,
          2021,
          2021,
          2017,
          2012,
          2010,
          2018,
          2016,
          2015,
          2012,
          2006,
          2009,
          2013,
          2014,
          2011,
          2017,
          null,
          2014,
          2011,
          2016,
          2007,
          2017,
          2006,
          2012,
          2014,
          2013,
          2016,
          2005,
          2016,
          2014,
          2011,
          2012,
          2008,
          2011,
          2014,
          2015,
          2009,
          2012,
          2014,
          2013,
          2008,
          2013,
          2008,
          2009,
          2011,
          2006,
          2013,
          2005,
          2017,
          2016,
          2016,
          2016,
          2018,
          2021,
          2019,
          2013,
          2022,
          2009,
          2012,
          2010,
          2014,
          2018,
          2010,
          2017,
          2013,
          2011,
          2011,
          2021,
          2006,
          2014,
          2011,
          2009,
          2016,
          2011,
          2011,
          2006,
          2010,
          2020,
          2015,
          2010,
          2010,
          2007,
          2015,
          2011,
          2012,
          2006,
          2011,
          2013,
          2012,
          2005,
          2018,
          2012,
          2011,
          2014,
          2010,
          2005,
          2020,
          2006,
          2015,
          2015,
          2015,
          2019,
          2017,
          2016,
          2015,
          2006,
          2020,
          2008,
          2008,
          2017,
          2014,
          2015,
          2007,
          2017,
          2017,
          2016,
          2006,
          2014,
          2010,
          2016,
          2010,
          2016,
          2007,
          2017,
          2011,
          2012,
          2017,
          2019,
          2014,
          2014,
          2016,
          2010,
          2012,
          2008,
          2010,
          2018,
          2017,
          2017,
          2010,
          2016,
          2017,
          2009,
          2016,
          2017,
          2010,
          2017,
          2015,
          2018,
          2016,
          2013,
          2011,
          2008,
          2016,
          2018,
          2006,
          2014,
          2017,
          2021,
          2011,
          2017,
          2015,
          2013,
          2012,
          2014,
          2011,
          2014,
          2005,
          2008,
          2017,
          2019,
          2017,
          2006,
          2008,
          2013,
          2010,
          2013,
          2021,
          2014,
          2013,
          2005,
          2016,
          2009,
          2020,
          2009,
          2013,
          2014,
          2018,
          2009,
          2006,
          2014,
          2005,
          2008,
          2018,
          2016,
          2014,
          2020,
          2008,
          2013,
          2014,
          2012,
          2017,
          2007,
          2012,
          2006,
          2007,
          2012,
          2011,
          2021,
          2008,
          2011,
          2012,
          2006,
          2006,
          2010,
          2013,
          2015,
          2008,
          2008,
          2013,
          2015,
          2021,
          2019,
          2016,
          2017,
          2010,
          2010,
          2015,
          2006,
          2006,
          2012,
          2013,
          2006,
          2014,
          2014,
          2013,
          2012,
          2015,
          2012,
          2011,
          2014,
          2013,
          2014,
          2019,
          null,
          2019,
          2017,
          2021,
          2017,
          2015,
          2006,
          2018,
          2016,
          2016,
          2007,
          2011,
          2018,
          2009,
          2012,
          2016,
          2010,
          2017,
          2017,
          2014,
          2006,
          2017,
          2007,
          2010,
          2008,
          2014,
          2010,
          null,
          2018,
          2020,
          2015,
          2009,
          2018,
          2014,
          2011,
          2014,
          2014,
          2016,
          2008,
          2015,
          2016,
          2014,
          2005,
          2006,
          2018,
          2008,
          2011,
          2012,
          2013,
          2017,
          2015,
          2007,
          2016,
          2011,
          2011,
          2011,
          2006,
          2012,
          2014,
          2014,
          2013,
          2012,
          2011,
          2014,
          2015,
          2007,
          2015,
          2012,
          2012,
          2009,
          2020,
          2011,
          2018,
          2021,
          2006,
          2018,
          2010,
          2010,
          2015,
          2006,
          2017,
          2017,
          2019,
          2007,
          2014,
          2009,
          2015,
          2013,
          2008,
          2021,
          2009,
          2014,
          2014,
          2009,
          2011,
          2020,
          2014,
          2017,
          2011,
          2007,
          2016,
          2005,
          2013,
          2019,
          2008,
          2012,
          2015,
          2006,
          2016,
          2015,
          2013,
          2019,
          2006,
          2010,
          2018,
          2007,
          2016,
          2022,
          2017,
          2006,
          2014,
          2007,
          2007,
          2014,
          2006,
          2011,
          2006,
          2007,
          2007,
          2007,
          2008,
          2015,
          2011,
          2014,
          2007,
          2007,
          2014,
          2013,
          2015,
          2021,
          2019,
          2017,
          2007,
          2010,
          2013,
          2018,
          2011,
          2010,
          2011,
          2015,
          2017,
          2022,
          2017,
          2016,
          2010,
          2010,
          2019,
          2015,
          2014,
          2017,
          2013,
          2016,
          2011,
          2009,
          2006,
          2011,
          2009,
          2016,
          2015,
          2021,
          2020,
          2007,
          2021,
          2017,
          2012,
          2012,
          2013,
          2015,
          2010,
          2016,
          2014,
          2005,
          2006,
          2014,
          2009,
          2014,
          2016,
          2014,
          2016,
          2013,
          2015,
          2010,
          2015,
          2020,
          2009,
          2020,
          2016,
          2007,
          2013,
          2019,
          2012,
          2020,
          2015,
          2017,
          2013,
          2015,
          2019,
          2015,
          2014,
          2010,
          2012,
          2010,
          2007,
          2006,
          2013,
          2019,
          2006,
          2016,
          2014,
          2014,
          2014,
          2015,
          2022,
          2015,
          2011,
          2006,
          2008,
          2017,
          2008,
          2015,
          2011,
          2011,
          2020,
          2018,
          2022,
          2019,
          2012,
          2017,
          2006,
          2014,
          2010,
          2012,
          2012,
          2015,
          2012,
          2012,
          2018,
          2007,
          2016,
          2016,
          2006,
          2006,
          2005,
          2016,
          2012,
          2017,
          2018,
          2006,
          2012,
          2017
         ],
         "xaxis": "x",
         "yaxis": "y"
        }
       ],
       "layout": {
        "bargap": 0.2,
        "barmode": "relative",
        "legend": {
         "tracegroupgap": 0
        },
        "margin": {
         "t": 60
        },
        "template": {
         "data": {
          "bar": [
           {
            "error_x": {
             "color": "#2a3f5f"
            },
            "error_y": {
             "color": "#2a3f5f"
            },
            "marker": {
             "line": {
              "color": "#E5ECF6",
              "width": 0.5
             },
             "pattern": {
              "fillmode": "overlay",
              "size": 10,
              "solidity": 0.2
             }
            },
            "type": "bar"
           }
          ],
          "barpolar": [
           {
            "marker": {
             "line": {
              "color": "#E5ECF6",
              "width": 0.5
             },
             "pattern": {
              "fillmode": "overlay",
              "size": 10,
              "solidity": 0.2
             }
            },
            "type": "barpolar"
           }
          ],
          "carpet": [
           {
            "aaxis": {
             "endlinecolor": "#2a3f5f",
             "gridcolor": "white",
             "linecolor": "white",
             "minorgridcolor": "white",
             "startlinecolor": "#2a3f5f"
            },
            "baxis": {
             "endlinecolor": "#2a3f5f",
             "gridcolor": "white",
             "linecolor": "white",
             "minorgridcolor": "white",
             "startlinecolor": "#2a3f5f"
            },
            "type": "carpet"
           }
          ],
          "choropleth": [
           {
            "colorbar": {
             "outlinewidth": 0,
             "ticks": ""
            },
            "type": "choropleth"
           }
          ],
          "contour": [
           {
            "colorbar": {
             "outlinewidth": 0,
             "ticks": ""
            },
            "colorscale": [
             [
              0,
              "#0d0887"
             ],
             [
              0.1111111111111111,
              "#46039f"
             ],
             [
              0.2222222222222222,
              "#7201a8"
             ],
             [
              0.3333333333333333,
              "#9c179e"
             ],
             [
              0.4444444444444444,
              "#bd3786"
             ],
             [
              0.5555555555555556,
              "#d8576b"
             ],
             [
              0.6666666666666666,
              "#ed7953"
             ],
             [
              0.7777777777777778,
              "#fb9f3a"
             ],
             [
              0.8888888888888888,
              "#fdca26"
             ],
             [
              1,
              "#f0f921"
             ]
            ],
            "type": "contour"
           }
          ],
          "contourcarpet": [
           {
            "colorbar": {
             "outlinewidth": 0,
             "ticks": ""
            },
            "type": "contourcarpet"
           }
          ],
          "heatmap": [
           {
            "colorbar": {
             "outlinewidth": 0,
             "ticks": ""
            },
            "colorscale": [
             [
              0,
              "#0d0887"
             ],
             [
              0.1111111111111111,
              "#46039f"
             ],
             [
              0.2222222222222222,
              "#7201a8"
             ],
             [
              0.3333333333333333,
              "#9c179e"
             ],
             [
              0.4444444444444444,
              "#bd3786"
             ],
             [
              0.5555555555555556,
              "#d8576b"
             ],
             [
              0.6666666666666666,
              "#ed7953"
             ],
             [
              0.7777777777777778,
              "#fb9f3a"
             ],
             [
              0.8888888888888888,
              "#fdca26"
             ],
             [
              1,
              "#f0f921"
             ]
            ],
            "type": "heatmap"
           }
          ],
          "heatmapgl": [
           {
            "colorbar": {
             "outlinewidth": 0,
             "ticks": ""
            },
            "colorscale": [
             [
              0,
              "#0d0887"
             ],
             [
              0.1111111111111111,
              "#46039f"
             ],
             [
              0.2222222222222222,
              "#7201a8"
             ],
             [
              0.3333333333333333,
              "#9c179e"
             ],
             [
              0.4444444444444444,
              "#bd3786"
             ],
             [
              0.5555555555555556,
              "#d8576b"
             ],
             [
              0.6666666666666666,
              "#ed7953"
             ],
             [
              0.7777777777777778,
              "#fb9f3a"
             ],
             [
              0.8888888888888888,
              "#fdca26"
             ],
             [
              1,
              "#f0f921"
             ]
            ],
            "type": "heatmapgl"
           }
          ],
          "histogram": [
           {
            "marker": {
             "pattern": {
              "fillmode": "overlay",
              "size": 10,
              "solidity": 0.2
             }
            },
            "type": "histogram"
           }
          ],
          "histogram2d": [
           {
            "colorbar": {
             "outlinewidth": 0,
             "ticks": ""
            },
            "colorscale": [
             [
              0,
              "#0d0887"
             ],
             [
              0.1111111111111111,
              "#46039f"
             ],
             [
              0.2222222222222222,
              "#7201a8"
             ],
             [
              0.3333333333333333,
              "#9c179e"
             ],
             [
              0.4444444444444444,
              "#bd3786"
             ],
             [
              0.5555555555555556,
              "#d8576b"
             ],
             [
              0.6666666666666666,
              "#ed7953"
             ],
             [
              0.7777777777777778,
              "#fb9f3a"
             ],
             [
              0.8888888888888888,
              "#fdca26"
             ],
             [
              1,
              "#f0f921"
             ]
            ],
            "type": "histogram2d"
           }
          ],
          "histogram2dcontour": [
           {
            "colorbar": {
             "outlinewidth": 0,
             "ticks": ""
            },
            "colorscale": [
             [
              0,
              "#0d0887"
             ],
             [
              0.1111111111111111,
              "#46039f"
             ],
             [
              0.2222222222222222,
              "#7201a8"
             ],
             [
              0.3333333333333333,
              "#9c179e"
             ],
             [
              0.4444444444444444,
              "#bd3786"
             ],
             [
              0.5555555555555556,
              "#d8576b"
             ],
             [
              0.6666666666666666,
              "#ed7953"
             ],
             [
              0.7777777777777778,
              "#fb9f3a"
             ],
             [
              0.8888888888888888,
              "#fdca26"
             ],
             [
              1,
              "#f0f921"
             ]
            ],
            "type": "histogram2dcontour"
           }
          ],
          "mesh3d": [
           {
            "colorbar": {
             "outlinewidth": 0,
             "ticks": ""
            },
            "type": "mesh3d"
           }
          ],
          "parcoords": [
           {
            "line": {
             "colorbar": {
              "outlinewidth": 0,
              "ticks": ""
             }
            },
            "type": "parcoords"
           }
          ],
          "pie": [
           {
            "automargin": true,
            "type": "pie"
           }
          ],
          "scatter": [
           {
            "fillpattern": {
             "fillmode": "overlay",
             "size": 10,
             "solidity": 0.2
            },
            "type": "scatter"
           }
          ],
          "scatter3d": [
           {
            "line": {
             "colorbar": {
              "outlinewidth": 0,
              "ticks": ""
             }
            },
            "marker": {
             "colorbar": {
              "outlinewidth": 0,
              "ticks": ""
             }
            },
            "type": "scatter3d"
           }
          ],
          "scattercarpet": [
           {
            "marker": {
             "colorbar": {
              "outlinewidth": 0,
              "ticks": ""
             }
            },
            "type": "scattercarpet"
           }
          ],
          "scattergeo": [
           {
            "marker": {
             "colorbar": {
              "outlinewidth": 0,
              "ticks": ""
             }
            },
            "type": "scattergeo"
           }
          ],
          "scattergl": [
           {
            "marker": {
             "colorbar": {
              "outlinewidth": 0,
              "ticks": ""
             }
            },
            "type": "scattergl"
           }
          ],
          "scattermapbox": [
           {
            "marker": {
             "colorbar": {
              "outlinewidth": 0,
              "ticks": ""
             }
            },
            "type": "scattermapbox"
           }
          ],
          "scatterpolar": [
           {
            "marker": {
             "colorbar": {
              "outlinewidth": 0,
              "ticks": ""
             }
            },
            "type": "scatterpolar"
           }
          ],
          "scatterpolargl": [
           {
            "marker": {
             "colorbar": {
              "outlinewidth": 0,
              "ticks": ""
             }
            },
            "type": "scatterpolargl"
           }
          ],
          "scatterternary": [
           {
            "marker": {
             "colorbar": {
              "outlinewidth": 0,
              "ticks": ""
             }
            },
            "type": "scatterternary"
           }
          ],
          "surface": [
           {
            "colorbar": {
             "outlinewidth": 0,
             "ticks": ""
            },
            "colorscale": [
             [
              0,
              "#0d0887"
             ],
             [
              0.1111111111111111,
              "#46039f"
             ],
             [
              0.2222222222222222,
              "#7201a8"
             ],
             [
              0.3333333333333333,
              "#9c179e"
             ],
             [
              0.4444444444444444,
              "#bd3786"
             ],
             [
              0.5555555555555556,
              "#d8576b"
             ],
             [
              0.6666666666666666,
              "#ed7953"
             ],
             [
              0.7777777777777778,
              "#fb9f3a"
             ],
             [
              0.8888888888888888,
              "#fdca26"
             ],
             [
              1,
              "#f0f921"
             ]
            ],
            "type": "surface"
           }
          ],
          "table": [
           {
            "cells": {
             "fill": {
              "color": "#EBF0F8"
             },
             "line": {
              "color": "white"
             }
            },
            "header": {
             "fill": {
              "color": "#C8D4E3"
             },
             "line": {
              "color": "white"
             }
            },
            "type": "table"
           }
          ]
         },
         "layout": {
          "annotationdefaults": {
           "arrowcolor": "#2a3f5f",
           "arrowhead": 0,
           "arrowwidth": 1
          },
          "autotypenumbers": "strict",
          "coloraxis": {
           "colorbar": {
            "outlinewidth": 0,
            "ticks": ""
           }
          },
          "colorscale": {
           "diverging": [
            [
             0,
             "#8e0152"
            ],
            [
             0.1,
             "#c51b7d"
            ],
            [
             0.2,
             "#de77ae"
            ],
            [
             0.3,
             "#f1b6da"
            ],
            [
             0.4,
             "#fde0ef"
            ],
            [
             0.5,
             "#f7f7f7"
            ],
            [
             0.6,
             "#e6f5d0"
            ],
            [
             0.7,
             "#b8e186"
            ],
            [
             0.8,
             "#7fbc41"
            ],
            [
             0.9,
             "#4d9221"
            ],
            [
             1,
             "#276419"
            ]
           ],
           "sequential": [
            [
             0,
             "#0d0887"
            ],
            [
             0.1111111111111111,
             "#46039f"
            ],
            [
             0.2222222222222222,
             "#7201a8"
            ],
            [
             0.3333333333333333,
             "#9c179e"
            ],
            [
             0.4444444444444444,
             "#bd3786"
            ],
            [
             0.5555555555555556,
             "#d8576b"
            ],
            [
             0.6666666666666666,
             "#ed7953"
            ],
            [
             0.7777777777777778,
             "#fb9f3a"
            ],
            [
             0.8888888888888888,
             "#fdca26"
            ],
            [
             1,
             "#f0f921"
            ]
           ],
           "sequentialminus": [
            [
             0,
             "#0d0887"
            ],
            [
             0.1111111111111111,
             "#46039f"
            ],
            [
             0.2222222222222222,
             "#7201a8"
            ],
            [
             0.3333333333333333,
             "#9c179e"
            ],
            [
             0.4444444444444444,
             "#bd3786"
            ],
            [
             0.5555555555555556,
             "#d8576b"
            ],
            [
             0.6666666666666666,
             "#ed7953"
            ],
            [
             0.7777777777777778,
             "#fb9f3a"
            ],
            [
             0.8888888888888888,
             "#fdca26"
            ],
            [
             1,
             "#f0f921"
            ]
           ]
          },
          "colorway": [
           "#636efa",
           "#EF553B",
           "#00cc96",
           "#ab63fa",
           "#FFA15A",
           "#19d3f3",
           "#FF6692",
           "#B6E880",
           "#FF97FF",
           "#FECB52"
          ],
          "font": {
           "color": "#2a3f5f"
          },
          "geo": {
           "bgcolor": "white",
           "lakecolor": "white",
           "landcolor": "#E5ECF6",
           "showlakes": true,
           "showland": true,
           "subunitcolor": "white"
          },
          "hoverlabel": {
           "align": "left"
          },
          "hovermode": "closest",
          "mapbox": {
           "style": "light"
          },
          "paper_bgcolor": "white",
          "plot_bgcolor": "#E5ECF6",
          "polar": {
           "angularaxis": {
            "gridcolor": "white",
            "linecolor": "white",
            "ticks": ""
           },
           "bgcolor": "#E5ECF6",
           "radialaxis": {
            "gridcolor": "white",
            "linecolor": "white",
            "ticks": ""
           }
          },
          "scene": {
           "xaxis": {
            "backgroundcolor": "#E5ECF6",
            "gridcolor": "white",
            "gridwidth": 2,
            "linecolor": "white",
            "showbackground": true,
            "ticks": "",
            "zerolinecolor": "white"
           },
           "yaxis": {
            "backgroundcolor": "#E5ECF6",
            "gridcolor": "white",
            "gridwidth": 2,
            "linecolor": "white",
            "showbackground": true,
            "ticks": "",
            "zerolinecolor": "white"
           },
           "zaxis": {
            "backgroundcolor": "#E5ECF6",
            "gridcolor": "white",
            "gridwidth": 2,
            "linecolor": "white",
            "showbackground": true,
            "ticks": "",
            "zerolinecolor": "white"
           }
          },
          "shapedefaults": {
           "line": {
            "color": "#2a3f5f"
           }
          },
          "ternary": {
           "aaxis": {
            "gridcolor": "white",
            "linecolor": "white",
            "ticks": ""
           },
           "baxis": {
            "gridcolor": "white",
            "linecolor": "white",
            "ticks": ""
           },
           "bgcolor": "#E5ECF6",
           "caxis": {
            "gridcolor": "white",
            "linecolor": "white",
            "ticks": ""
           }
          },
          "title": {
           "x": 0.05
          },
          "xaxis": {
           "automargin": true,
           "gridcolor": "white",
           "linecolor": "white",
           "ticks": "",
           "title": {
            "standoff": 15
           },
           "zerolinecolor": "white",
           "zerolinewidth": 2
          },
          "yaxis": {
           "automargin": true,
           "gridcolor": "white",
           "linecolor": "white",
           "ticks": "",
           "title": {
            "standoff": 15
           },
           "zerolinecolor": "white",
           "zerolinewidth": 2
          }
         }
        },
        "xaxis": {
         "anchor": "y",
         "domain": [
          0,
          1
         ],
         "title": {
          "text": "created_year"
         }
        },
        "yaxis": {
         "anchor": "x",
         "domain": [
          0,
          1
         ],
         "title": {
          "text": "count"
         }
        }
       }
      }
     },
     "metadata": {},
     "output_type": "display_data"
    }
   ],
   "source": [
    "fig = px.histogram(df, x=\"created_year\")\n",
    "fig.update_layout(bargap=0.2)\n",
    "fig.show()"
   ]
  },
  {
   "cell_type": "code",
   "execution_count": 53,
   "metadata": {},
   "outputs": [
    {
     "data": {
      "text/html": [
       "<div>\n",
       "<style scoped>\n",
       "    .dataframe tbody tr th:only-of-type {\n",
       "        vertical-align: middle;\n",
       "    }\n",
       "\n",
       "    .dataframe tbody tr th {\n",
       "        vertical-align: top;\n",
       "    }\n",
       "\n",
       "    .dataframe thead th {\n",
       "        text-align: right;\n",
       "    }\n",
       "</style>\n",
       "<table border=\"1\" class=\"dataframe\">\n",
       "  <thead>\n",
       "    <tr style=\"text-align: right;\">\n",
       "      <th></th>\n",
       "      <th>Youtuber</th>\n",
       "      <th>subscribers</th>\n",
       "      <th>video views</th>\n",
       "      <th>category</th>\n",
       "      <th>uploads</th>\n",
       "      <th>Country</th>\n",
       "      <th>video_views_for_the_last_30_days</th>\n",
       "      <th>lowest_monthly_earnings</th>\n",
       "      <th>highest_monthly_earnings</th>\n",
       "      <th>subscribers_for_last_30_days</th>\n",
       "      <th>created_year</th>\n",
       "      <th>Gross tertiary education enrollment (%)</th>\n",
       "      <th>Population</th>\n",
       "      <th>Unemployment rate</th>\n",
       "      <th>Latitude</th>\n",
       "      <th>Longitude</th>\n",
       "    </tr>\n",
       "  </thead>\n",
       "  <tbody>\n",
       "    <tr>\n",
       "      <th>101</th>\n",
       "      <td>YouTube</td>\n",
       "      <td>36300000</td>\n",
       "      <td>3.010785e+09</td>\n",
       "      <td>News &amp; Politics</td>\n",
       "      <td>744</td>\n",
       "      <td>United States</td>\n",
       "      <td>21103000.0</td>\n",
       "      <td>5300.0</td>\n",
       "      <td>84400.0</td>\n",
       "      <td>300000.0</td>\n",
       "      <td>1970.0</td>\n",
       "      <td>88.2</td>\n",
       "      <td>328239523.0</td>\n",
       "      <td>14.7</td>\n",
       "      <td>37.09024</td>\n",
       "      <td>-95.712891</td>\n",
       "    </tr>\n",
       "  </tbody>\n",
       "</table>\n",
       "</div>"
      ],
      "text/plain": [
       "    Youtuber  subscribers   video views         category  uploads  \\\n",
       "101  YouTube     36300000  3.010785e+09  News & Politics      744   \n",
       "\n",
       "           Country  video_views_for_the_last_30_days  lowest_monthly_earnings  \\\n",
       "101  United States                        21103000.0                   5300.0   \n",
       "\n",
       "     highest_monthly_earnings  subscribers_for_last_30_days  created_year  \\\n",
       "101                   84400.0                      300000.0        1970.0   \n",
       "\n",
       "     Gross tertiary education enrollment (%)   Population  Unemployment rate  \\\n",
       "101                                     88.2  328239523.0               14.7   \n",
       "\n",
       "     Latitude  Longitude  \n",
       "101  37.09024 -95.712891  "
      ]
     },
     "execution_count": 53,
     "metadata": {},
     "output_type": "execute_result"
    }
   ],
   "source": [
    "df[df['created_year'] < 2000]"
   ]
  },
  {
   "cell_type": "code",
   "execution_count": 62,
   "metadata": {},
   "outputs": [],
   "source": [
    "df_anos = df[df['created_year'] > 2000]"
   ]
  },
  {
   "cell_type": "code",
   "execution_count": 65,
   "metadata": {},
   "outputs": [
    {
     "data": {
      "application/vnd.plotly.v1+json": {
       "config": {
        "plotlyServerURL": "https://plot.ly"
       },
       "data": [
        {
         "customdata": [
          [
           "T-Series",
           "India",
           "Music"
          ],
          [
           "YouTube Movies",
           "United States",
           "Film & Animation"
          ],
          [
           "MrBeast",
           "United States",
           "Entertainment"
          ],
          [
           "Cocomelon - Nursery Rhymes",
           "United States",
           "Education"
          ],
          [
           "SET India",
           "India",
           "Shows"
          ],
          [
           "Music",
           null,
           null
          ],
          [
           "ýýý Kids Diana Show",
           "United States",
           "People & Blogs"
          ],
          [
           "PewDiePie",
           "Japan",
           "Gaming"
          ],
          [
           "Like Nastya",
           "Russia",
           "People & Blogs"
          ],
          [
           "Vlad and Niki",
           "United States",
           "Entertainment"
          ],
          [
           "Zee Music Company",
           "India",
           "Music"
          ],
          [
           "WWE",
           "United States",
           "Sports"
          ],
          [
           "Gaming",
           null,
           null
          ],
          [
           "BLACKPINK",
           "South Korea",
           "People & Blogs"
          ],
          [
           "Goldmines",
           null,
           "Film & Animation"
          ],
          [
           "Sony SAB",
           "India",
           "Shows"
          ],
          [
           "5-Minute Crafts",
           "United Kingdom",
           "Howto & Style"
          ],
          [
           "BANGTANTV",
           "South Korea",
           "Music"
          ],
          [
           "Sports",
           "United States",
           null
          ],
          [
           "Justin Bieber",
           "Canada",
           "Music"
          ],
          [
           "HYBE LABELS",
           "South Korea",
           "Music"
          ],
          [
           "Zee TV",
           "India",
           "Entertainment"
          ],
          [
           "Pinkfong Baby Shark - Kids' Songs & Stories",
           "United States",
           "Education"
          ],
          [
           "Canal KondZilla",
           "Brazil",
           "Music"
          ],
          [
           "ChuChu TV Nursery Rhymes & Kids Songs",
           "India",
           "Education"
          ],
          [
           "Shemaroo Filmi Gaane",
           "India",
           "Music"
          ],
          [
           "Colors TV",
           "India",
           "Shows"
          ],
          [
           "T-Series Bhakti Sagar",
           "India",
           "Music"
          ],
          [
           "Dude Perfect",
           "United States",
           "Sports"
          ],
          [
           "Movieclips",
           "United States",
           "Film & Animation"
          ],
          [
           "Tips Official",
           "India",
           "Music"
          ],
          [
           "El Reino Infantil",
           "Argentina",
           "Music"
          ],
          [
           "Wave Music",
           "India",
           "Music"
          ],
          [
           "Aaj Tak",
           "India",
           "News & Politics"
          ],
          [
           "Sony Music India",
           "India",
           "Music"
          ],
          [
           "EminemMusic",
           "United States",
           "Music"
          ],
          [
           "Marshmello",
           "United States",
           "Entertainment"
          ],
          [
           "YRF",
           "India",
           "Film & Animation"
          ],
          [
           "LooLoo Kids - Nursery Rhymes and Children's Songs",
           null,
           "Music"
          ],
          [
           "Ed Sheeran",
           "United Kingdom",
           "Music"
          ],
          [
           "Infobells - Hindi",
           "India",
           "Education"
          ],
          [
           "Taylor Swift",
           "United States",
           "Music"
          ],
          [
           "Ariana Grande",
           "United States",
           "Music"
          ],
          [
           "BillionSurpriseToys  - Nursery Rhymes & Cartoons",
           "United States",
           "Education"
          ],
          [
           "JuegaGerman",
           "Chile",
           "Gaming"
          ],
          [
           "Billie Eilish",
           "United States",
           "Music"
          ],
          [
           "Get Movies",
           "Russia",
           "Entertainment"
          ],
          [
           "Shemaroo",
           "India",
           "Entertainment"
          ],
          [
           "Badabun",
           null,
           "Entertainment"
          ],
          [
           "SonyMusicIndiaVEVO",
           "United States",
           "Music"
          ],
          [
           "A4",
           "Cuba",
           "Gaming"
          ],
          [
           "Bad Bunny",
           null,
           "Music"
          ],
          [
           "Fernanfloo",
           "El Salvador",
           "Gaming"
          ],
          [
           "Voot Kids",
           "India",
           "Entertainment"
          ],
          [
           "Felipe Neto",
           "Brazil",
           "Entertainment"
          ],
          [
           "Vocï¿½ï¿½ï¿½",
           "Brazil",
           "Entertainment"
          ],
          [
           "HAR PAL GEO",
           "Pakistan",
           "Entertainment"
          ],
          [
           "BRIGHT SIDE",
           null,
           "Howto & Style"
          ],
          [
           "Katy Perry",
           "United States",
           "Music"
          ],
          [
           "whinderssonnunes",
           "Brazil",
           "Comedy"
          ],
          [
           "ABS-CBN Entertainment",
           "Philippines",
           "People & Blogs"
          ],
          [
           "Alan Walker",
           "Thailand",
           "Music"
          ],
          [
           "HolaSoyGerman.",
           null,
           "Entertainment"
          ],
          [
           "Shakira",
           "Colombia",
           "People & Blogs"
          ],
          [
           "ýýýýýýýý ýý ýýýýýýýýýýýýýý",
           "Russia",
           "Film & Animation"
          ],
          [
           "ARY Digital HD",
           "Pakistan",
           "Entertainment"
          ],
          [
           "Speed Records",
           "India",
           "Music"
          ],
          [
           "Masha and The Bear",
           "United States",
           "Shows"
          ],
          [
           "Like Nastya Show",
           "United States",
           "Entertainment"
          ],
          [
           "Rihanna",
           "Barbados",
           "Entertainment"
          ],
          [
           "Ishtar Music",
           "India",
           "Trailers"
          ],
          [
           "Kimberly Loaiza",
           "Mexico",
           "People & Blogs"
          ],
          [
           "Little Baby Bum - Nursery Rhymes & Kids Songs",
           "United States",
           "Education"
          ],
          [
           "Luisito Comunica",
           "Mexico",
           "Comedy"
          ],
          [
           "elrubiusOMG",
           null,
           "Gaming"
          ],
          [
           "Toys and Colors",
           null,
           "Entertainment"
          ],
          [
           "shfa2 - ï¿½ï¿½",
           "United Arab Emirates",
           "People & Blogs"
          ],
          [
           "LUCCAS NETO - LUCCAS TOON",
           null,
           "People & Blogs"
          ],
          [
           "CarryMinati",
           "India",
           "Comedy"
          ],
          [
           "XXXTENTACION",
           "United States",
           "Music"
          ],
          [
           "Super Simple Songs - Kids Songs",
           "Canada",
           "Education"
          ],
          [
           "Mikecrack",
           "Spain",
           "Gaming"
          ],
          [
           "WorkpointOfficial",
           "Thailand",
           "Entertainment"
          ],
          [
           "GR6 EXPLODE",
           "Brazil",
           "Music"
          ],
          [
           "TEDx Talks",
           "United States",
           "Nonprofits & Activism"
          ],
          [
           "shfa",
           "Saudi Arabia",
           "People & Blogs"
          ],
          [
           "Goldmines Gaane Sune Ansune",
           "India",
           "Music"
          ],
          [
           "One Direction",
           "United States",
           "Music"
          ],
          [
           "TheEllenShow",
           "United States",
           "Entertainment"
          ],
          [
           "Sony PAL",
           "India",
           "Shows"
          ],
          [
           "Daddy Yankee",
           "United States",
           "Music"
          ],
          [
           "Vlad vï¿½ï¿½ï",
           "United States",
           null
          ],
          [
           "Like Nastya ESP",
           "United States",
           "Entertainment"
          ],
          [
           "ýýýýýýýýýýýý one31",
           "Thailand",
           "Entertainment"
          ],
          [
           "Jkk Entertainment",
           "India",
           "Comedy"
          ],
          [
           "ABP NEWS",
           "India",
           "People & Blogs"
          ],
          [
           "Maria Clara & JP",
           "Brazil",
           "People & Blogs"
          ],
          [
           "Bruno Mars",
           "United States",
           "Music"
          ],
          [
           "Maroon 5",
           "United States",
           "Music"
          ],
          [
           "Ultra Bollywood",
           "India",
           "Trailers"
          ],
          [
           "PowerKids TV",
           null,
           "Film & Animation"
          ],
          [
           "News",
           null,
           null
          ],
          [
           "Ozuna",
           null,
           "Music"
          ],
          [
           "MrBeast Gaming",
           null,
           "Gaming"
          ],
          [
           "La Granja de Zenï¿½",
           "Argentina",
           "Music"
          ],
          [
           "Saregama Music",
           "India",
           "Entertainment"
          ],
          [
           "IndiaTV",
           "India",
           "News & Politics"
          ],
          [
           "T-Series Bollywood Classics",
           "India",
           "Music"
          ],
          [
           "Total Gaming",
           null,
           "Gaming"
          ],
          [
           "Markiplier",
           "United States",
           "Gaming"
          ],
          [
           "Ryan's World",
           "United States",
           "Entertainment"
          ],
          [
           "Genevieve's Playhouse - Learning Videos for Kids",
           "United States",
           "Education"
          ],
          [
           "T-Series Apna Punjab",
           null,
           "Music"
          ],
          [
           "Techno Gamerz",
           null,
           "Gaming"
          ],
          [
           "Geet MP3",
           "India",
           "Music"
          ],
          [
           "J Balvin",
           "Colombia",
           "Music"
          ],
          [
           "Jess No Limit",
           "Indonesia",
           "Entertainment"
          ],
          [
           "Jingle Toons",
           "India",
           "Film & Animation"
          ],
          [
           "VEGETTA777",
           "Spain",
           "Gaming"
          ],
          [
           "Galinha Pintadinha",
           "Brazil",
           "Film & Animation"
          ],
          [
           "SSSniperWolf",
           "United States",
           "Gaming"
          ],
          [
           "Desi Music Factory",
           null,
           "Music"
          ],
          [
           "Selena Gomez",
           "United States",
           "Film & Animation"
          ],
          [
           "Rajshri",
           "India",
           "Music"
          ],
          [
           "Ch3Thailand",
           "Thailand",
           "Entertainment"
          ],
          [
           "KHANDESHI MOVIES",
           "India",
           "Comedy"
          ],
          [
           "NoCopyrightSounds",
           "United Kingdom",
           "Music"
          ],
          [
           "CVS 3D Rhymes & Kids Songs",
           "India",
           "Education"
          ],
          [
           "Ricis Official",
           "Indonesia",
           "People & Blogs"
          ],
          [
           "BabyBus - Kids Songs and Cartoons",
           "United States",
           "Education"
          ],
          [
           "Eros Now Music",
           "India",
           "Entertainment"
          ],
          [
           "BETER Bï¿½ï¿½",
           "Turkey",
           null
          ],
          [
           "DisneyMusicVEVO",
           "United States",
           "Music"
          ],
          [
           "The Weeknd",
           "Canada",
           "Music"
          ],
          [
           "WowKidz",
           null,
           "Film & Animation"
          ],
          [
           "KAROL G",
           "Colombia",
           "Music"
          ],
          [
           "Mr Bean",
           "United Kingdom",
           "Shows"
          ],
          [
           "rezendeevil",
           "Brazil",
           "Gaming"
          ],
          [
           "StarPlus",
           "India",
           "Entertainment"
          ],
          [
           "SMTOWN",
           null,
           "Music"
          ],
          [
           "GMA  Network",
           "Philippines",
           "Entertainment"
          ],
          [
           "GENIAL",
           "Mexico",
           "Howto & Style"
          ],
          [
           "MR. INDIAN HACKER",
           "India",
           "Science & Technology"
          ],
          [
           "Worldwide Records Bhojpuri",
           "India",
           "Music"
          ],
          [
           "DONA ï¿½ï¿½",
           "United States",
           "Entertainment"
          ],
          [
           "Dream",
           "United States",
           "Gaming"
          ],
          [
           "Lucas and Marcus",
           "United States",
           "Entertainment"
          ],
          [
           "JustinBieberVEVO",
           "United States",
           "Music"
          ],
          [
           "Luis Fonsi",
           null,
           "Entertainment"
          ],
          [
           "Peppa Pig - Official Channel",
           "United Kingdom",
           "Film & Animation"
          ],
          [
           "YOLO AVENTURAS",
           "Venezuela",
           "People & Blogs"
          ],
          [
           "The Tonight Show Starring Jimmy Fallon",
           "United States",
           "Comedy"
          ],
          [
           "TheDonato",
           "Argentina",
           "Entertainment"
          ],
          [
           "ImagineDragons",
           "United States",
           "Music"
          ],
          [
           "Diana and Roma ESP",
           "United States",
           null
          ],
          [
           "Round2hell",
           "India",
           "Comedy"
          ],
          [
           "Zee News",
           "India",
           "News & Politics"
          ],
          [
           "AboFlah",
           "Kuwait",
           "Gaming"
          ],
          [
           "AH",
           "Indonesia",
           "Entertainment"
          ],
          [
           "Trap Nation",
           "United States",
           "Music"
          ],
          [
           "ýýýýýýýýýýýýýýý ýýýýýý ýýýýýýýýýýýýýýýýýý",
           "United States",
           null
          ],
          [
           "Boram Tube Vlog [ï¿½ï¿½ï¿½ï¿½ï¿½ï¿½ï¿½ï¿½ï¿",
           "United States",
           "Entertainment"
          ],
          [
           "Adele",
           "United Kingdom",
           "Music"
          ],
          [
           "Talking Tom",
           "United States",
           "Comedy"
          ],
          [
           "ýýýýýýýý ýýýýýýýý ýýýýýýýýýý | toyoraljanahtv",
           "Jordan",
           "Entertainment"
          ],
          [
           "Frost Diamond",
           null,
           "Gaming"
          ],
          [
           "Spinnin' Records",
           "Netherlands",
           "Music"
          ],
          [
           "Little Angel: Nursery Rhymes & Kids Songs",
           "United States",
           "Education"
          ],
          [
           "jacksepticeye",
           null,
           "Gaming"
          ],
          [
           "Shawn Mendes",
           "Canada",
           "Music"
          ],
          [
           "ashish chanchlani vines",
           "India",
           "Comedy"
          ],
          [
           "Ultra Records",
           "United States",
           "Music"
          ],
          [
           "Popular on YouTube",
           null,
           null
          ],
          [
           "Maluma",
           "Argentina",
           "Music"
          ],
          [
           "Zhong",
           "United States",
           "Entertainment"
          ],
          [
           "Enaldinho",
           "Brazil",
           "Comedy"
          ],
          [
           "AuronPlay",
           "Spain",
           "Comedy"
          ],
          [
           "Shorts Break",
           null,
           "Comedy"
          ],
          [
           "infobells - Tamil",
           "India",
           "Education"
          ],
          [
           "Aditya Music India",
           null,
           "Music"
          ],
          [
           "The Late Late Show with James Corden",
           "United States",
           "Entertainment"
          ],
          [
           "Aditya Movies",
           "India",
           "Movies"
          ],
          [
           "Masha y el Oso",
           null,
           "Film & Animation"
          ],
          [
           "infobells - Telugu",
           "India",
           "Education"
          ],
          [
           "HUM TV",
           "Pakistan",
           "Entertainment"
          ],
          [
           "Shemaroo Movies",
           "India",
           "Entertainment"
          ],
          [
           "Michael Jackson",
           "United States",
           "Music"
          ],
          [
           "Drake",
           null,
           "Music"
          ],
          [
           "Goldmines Dishoom",
           null,
           "Film & Animation"
          ],
          [
           "Sandeep Maheshwari",
           "Singapore",
           "People & Blogs"
          ],
          [
           "Bounce Patrol - Kids Songs",
           "Australia",
           "Music"
          ],
          [
           "toycantando",
           "Colombia",
           "Music"
          ],
          [
           "MrBeast 2",
           "United States",
           "People & Blogs"
          ],
          [
           "Wiz Khalifa",
           "United States",
           "Music"
          ],
          [
           "JYP Entertainment",
           "South Korea",
           "Music"
          ],
          [
           "ýýý Kids Roma Show",
           "United States",
           "People & Blogs"
          ],
          [
           "DanTDM",
           "United Kingdom",
           "Gaming"
          ],
          [
           "Nick Jr.",
           "United States",
           "Film & Animation"
          ],
          [
           "Crazy XYZ",
           "India",
           "Entertainment"
          ],
          [
           "ToyPuddingTV",
           null,
           "Entertainment"
          ],
          [
           "Dushyant kukreja",
           "India",
           "Entertainment"
          ],
          [
           "Gulshan Kalra",
           null,
           "Howto & Style"
          ],
          [
           "Brent Rivera",
           "United States",
           "Comedy"
          ],
          [
           "Renato Garcia YT",
           "Brazil",
           "Entertainment"
          ],
          [
           "Beast Reacts",
           "United States",
           "People & Blogs"
          ],
          [
           "enchufetv",
           "Colombia",
           "Comedy"
          ],
          [
           "Netflix",
           "United States",
           "Entertainment"
          ],
          [
           "Raffy Tulfo in Action",
           "Philippines",
           "News & Politics"
          ],
          [
           "WORLDSTARHIPHOP",
           "United States",
           "Music"
          ],
          [
           "Goldmines Bollywood",
           "India",
           "Film & Animation"
          ],
          [
           "Alan Chikin Chow",
           "United States",
           "Comedy"
          ],
          [
           "PANDA BOI",
           "Italy",
           "Entertainment"
          ],
          [
           "BB Ki Vines",
           "India",
           "Entertainment"
          ],
          [
           "D Billions",
           "United States",
           null
          ],
          [
           "Junya.ï¿½ï¿½ï¿½ï¿½",
           "Japan",
           "Entertainment"
          ],
          [
           "Smosh",
           "United States",
           "Comedy"
          ],
          [
           "1MILLION Dance Studio",
           "Saudi Arabia",
           "Entertainment"
          ],
          [
           "NichLmao",
           null,
           "People & Blogs"
          ],
          [
           "Beyoncï¿",
           "United States",
           "Music"
          ],
          [
           "Marï¿½ï¿½ï¿½ï¿½ï¿½",
           null,
           "Music"
          ],
          [
           "Indosiar",
           "Indonesia",
           "Music"
          ],
          [
           "VanossGaming",
           "Canada",
           "Gaming"
          ],
          [
           "David Guetta",
           "United States",
           "Music"
          ],
          [
           "LosPolinesios",
           "Mexico",
           "People & Blogs"
          ],
          [
           "Nicki Minaj",
           "United States",
           "Music"
          ],
          [
           "Fede Vigevani",
           null,
           "Howto & Style"
          ],
          [
           "TaylorSwiftVEVO",
           "United States",
           "Music"
          ],
          [
           "ZHC",
           null,
           "Film & Animation"
          ],
          [
           "Post Malone",
           "United States",
           "Music"
          ],
          [
           "Rans Entertainment",
           "Indonesia",
           "People & Blogs"
          ],
          [
           "LankyBox",
           "United States",
           "Comedy"
          ],
          [
           "Coldplay",
           "United Kingdom",
           "Music"
          ],
          [
           "Las Ratitas",
           null,
           "People & Blogs"
          ],
          [
           "WB Kids",
           "United States",
           "People & Blogs"
          ],
          [
           "ABPLIVE",
           null,
           "People & Blogs"
          ],
          [
           "The Lallantop",
           "India",
           "News & Politics"
          ],
          [
           "RihannaVEVO",
           "United States",
           "Music"
          ],
          [
           "WatchMojo.com",
           "Canada",
           "Music"
          ],
          [
           "TRANS7 OFFICIAL",
           "Indonesia",
           "Entertainment"
          ],
          [
           "Anuel AA",
           "Colombia",
           "Music"
          ],
          [
           "Dan Rhodes",
           "United Kingdom",
           "Entertainment"
          ],
          [
           "Yuya",
           "Mexico",
           "Howto & Style"
          ],
          [
           "America's Got Talent",
           "United States",
           "Entertainment"
          ],
          [
           "mujjuu___14",
           null,
           "People & Blogs"
          ],
          [
           "EminemVEVO",
           "United States",
           "Music"
          ],
          [
           "Chloe Ting",
           "Australia",
           "Howto & Style"
          ],
          [
           "KatyPerryVEVO",
           "United States",
           "Music"
          ],
          [
           "Mark Rober",
           "United States",
           "Science & Technology"
          ],
          [
           "1theK (ï¿½ï¿½ï¿½ï¿½ï",
           "South Korea",
           "Music"
          ],
          [
           "Like Nastya AE",
           "United States",
           "Entertainment"
          ],
          [
           "Amit Bhadana",
           null,
           "Entertainment"
          ],
          [
           "Pen Movies",
           "India",
           "Film & Animation"
          ],
          [
           "MrBeast en Espaï¿½ï",
           "Mexico",
           "Entertainment"
          ],
          [
           "shfa show India",
           "United Arab Emirates",
           null
          ],
          [
           "Super JoJo - Nursery Rhymes & Kids Songs",
           "United States",
           null
          ],
          [
           "Alejo Igoa",
           "Argentina",
           "Comedy"
          ],
          [
           "Daniel LaBelle",
           null,
           "Comedy"
          ],
          [
           "netd mï¿½ï¿",
           "Turkey",
           "Music"
          ],
          [
           "DJ Snake",
           "United States",
           "Music"
          ],
          [
           "Diana and Roma ARA",
           "United States",
           null
          ],
          [
           "KSI",
           "United Kingdom",
           "Entertainment"
          ],
          [
           "Spider Slack",
           "Brazil",
           "Comedy"
          ],
          [
           "Goldmines Movies",
           null,
           "Film & Animation"
          ],
          [
           "Preston",
           "United States",
           "Gaming"
          ],
          [
           "James Charles",
           "United States",
           "Entertainment"
          ],
          [
           "Collins Key",
           "United States",
           "Entertainment"
          ],
          [
           "Diana and Roma EN",
           "United States",
           "People & Blogs"
          ],
          [
           "Venus Entertainment",
           null,
           "Entertainment"
          ],
          [
           "Troom Troom",
           "United States",
           "Howto & Style"
          ],
          [
           "Enrique Iglesias",
           "United States",
           "Music"
          ],
          [
           "Ninja",
           "United States",
           "Gaming"
          ],
          [
           "FaZe Rug",
           "Canada",
           "Gaming"
          ],
          [
           "Mister Max",
           "United Kingdom",
           "People & Blogs"
          ],
          [
           "That Little Puff",
           "United States",
           "Pets & Animals"
          ],
          [
           "NickyJamTV",
           null,
           "Music"
          ],
          [
           "Juan De Dios Pantoja",
           "Mexico",
           "Entertainment"
          ],
          [
           "Logan Paul",
           "United States",
           "Entertainment"
          ],
          [
           "Maya and Mary",
           "United States",
           "Entertainment"
          ],
          [
           "Peppa Pig Espaï¿½ï¿½ï¿½ï¿½ï¿½ï¿½ï¿½ï¿½ï¿½",
           "United Kingdom",
           "Film & Animation"
          ],
          [
           "Jelly",
           "United Kingdom",
           "Gaming"
          ],
          [
           "Miss Katy",
           "United Kingdom",
           "People & Blogs"
          ],
          [
           "Tilak",
           "India",
           "Film & Animation"
          ],
          [
           "Valentina Pontes ofc",
           "Brazil",
           "Film & Animation"
          ],
          [
           "Sesame Street",
           "United States",
           "Entertainment"
          ],
          [
           "Happy Lives",
           "United States",
           "Science & Technology"
          ],
          [
           "Lady Gaga",
           "United States",
           "People & Blogs"
          ],
          [
           "Akshay Nagwadiya",
           null,
           "Entertainment"
          ],
          [
           "Wave Music Bhojpuri",
           "India",
           "Music"
          ],
          [
           "GMM GRAMMY OFFICIAL",
           "Thailand",
           "Music"
          ],
          [
           "TED",
           "United States",
           "People & Blogs"
          ],
          [
           "unknown boy varun",
           "India",
           "Music"
          ],
          [
           "Kids TV - Nursery Rhymes And Baby Songs",
           "United States",
           "Shows"
          ],
          [
           "Tsuriki Show",
           "Germany",
           "Entertainment"
          ],
          [
           "Technical Guruji",
           "India",
           "Science & Technology"
          ],
          [
           "DrossRotzank",
           "Argentina",
           "Entertainment"
          ],
          [
           "White Hill Music",
           "India",
           "Entertainment"
          ],
          [
           "Ultra Movie Parlour",
           "India",
           "Movies"
          ],
          [
           "Alan Becker",
           "United States",
           "Film & Animation"
          ],
          [
           "toyorbabytv",
           "Jordan",
           "Music"
          ],
          [
           "BabyBus - Canciones Infantiles & Videos para Niï¿½ï",
           "Mexico",
           "Education"
          ],
          [
           "KL BRO Biju Rithvik",
           null,
           "Entertainment"
          ],
          [
           "Vania Mania Kids",
           "United States",
           "People & Blogs"
          ],
          [
           "Like Nastya PRT",
           null,
           "Entertainment"
          ],
          [
           "Sun TV",
           "India",
           "People & Blogs"
          ],
          [
           "Heroindori",
           "India",
           "Comedy"
          ],
          [
           "The Chainsmokers",
           "United States",
           "Music"
          ],
          [
           "mmoshaya",
           "Saudi Arabia",
           "People & Blogs"
          ],
          [
           "Sia",
           "United States",
           "Music"
          ],
          [
           "LeoNata Family",
           "United States",
           "People & Blogs"
          ],
          [
           "Goldmines Cineplex",
           "India",
           "Film & Animation"
          ],
          [
           "Vlad and Niki Arabic",
           "United States",
           null
          ],
          [
           "SSundee",
           "United States",
           "Gaming"
          ],
          [
           "Paulo Londra",
           "Argentina",
           "Music"
          ],
          [
           "Smile Family",
           "France",
           "People & Blogs"
          ],
          [
           "FGTeeV",
           "United States",
           "Gaming"
          ],
          [
           "Kinder Spielzeug Kanal (Kidibli)",
           "United States",
           "Entertainment"
          ],
          [
           "Charlie Puth",
           "United States",
           "Music"
          ],
          [
           "Vlad and Niki ESP",
           "United States",
           null
          ],
          [
           "Sagawa /ï¿½ï¿½ï¿½",
           "Japan",
           "Entertainment"
          ],
          [
           "Ben Azelart",
           "United States",
           "Film & Animation"
          ],
          [
           "Zach Choi ASMR",
           "United States",
           "People & Blogs"
          ],
          [
           "Topper Guild",
           "United States",
           "Comedy"
          ],
          [
           "Disney Latinoamï¿½ï¿½",
           "Mexico",
           "Entertainment"
          ],
          [
           "Stokes Twins",
           "United States",
           "People & Blogs"
          ],
          [
           "National Geographic",
           "United States",
           "Science & Technology"
          ],
          [
           "Dua Lipa",
           "United Kingdom",
           "Music"
          ],
          [
           "OneDirectionVEVO",
           "United Kingdom",
           "Music"
          ],
          [
           "Rotana",
           null,
           "Music"
          ],
          [
           "Netflix India",
           null,
           "People & Blogs"
          ],
          [
           "Sourav Joshi Vlogs",
           null,
           "People & Blogs"
          ],
          [
           "ZAMZAM ELECTRONICS TRADING",
           "United Arab Emirates",
           null
          ],
          [
           "DUDU e CAROL",
           "Brazil",
           "Autos & Vehicles"
          ],
          [
           "Village Cooking Channel",
           "India",
           "Howto & Style"
          ],
          [
           "Eva Bravo Play",
           "United States",
           "Entertainment"
          ],
          [
           "Tekashi 6ix9ine",
           "United States",
           "People & Blogs"
          ],
          [
           "Tlnovelas",
           "Mexico",
           "News & Politics"
          ],
          [
           "SMOL",
           null,
           "People & Blogs"
          ],
          [
           "invictor",
           "Chile",
           "Gaming"
          ],
          [
           "YOLO",
           "Germany",
           "Comedy"
          ],
          [
           "Sidhu Moose Wala",
           "India",
           "Music"
          ],
          [
           "The Royalty Family",
           "United States",
           "People & Blogs"
          ],
          [
           "Becky G",
           "United States",
           "Music"
          ],
          [
           "Ishaan Ali 11",
           "India",
           "People & Blogs"
          ],
          [
           "Infinite",
           "United States",
           "Entertainment"
          ],
          [
           "Azhan5star",
           "India",
           "Entertainment"
          ],
          [
           "Dangal TV Channel",
           "India",
           "Entertainment"
          ],
          [
           "Khan GS Research Centre",
           null,
           "Education"
          ],
          [
           "GMA Public  Affairs",
           "Philippines",
           "Entertainment"
          ],
          [
           "Tasty",
           "United States",
           "Howto & Style"
          ],
          [
           "Baim Paula",
           "Indonesia",
           "People & Blogs"
          ],
          [
           "nigahiga",
           "United States",
           "Entertainment"
          ],
          [
           "Rafa & Luiz",
           "Brazil",
           "Entertainment"
          ],
          [
           "Lyrical Lemonade",
           "United States",
           "Entertainment"
          ],
          [
           "Vlad and Niki IDN",
           "United States",
           null
          ],
          [
           "Dr. Vivek Bindra: Motivational Speaker",
           "India",
           "Education"
          ],
          [
           "Fatos Desconhecidos",
           "Brazil",
           "Entertainment"
          ],
          [
           "Brave Wilderness",
           "United States",
           "Pets & Animals"
          ],
          [
           "LIV Crime",
           "United States",
           "People & Blogs"
          ],
          [
           "Minecraft - Topic",
           null,
           null
          ],
          [
           "Romeo Santos",
           "United States",
           "Music"
          ],
          [
           "Canal Canalha",
           "Brazil",
           "Comedy"
          ],
          [
           "Kurzgesagt ï¿½ï¿½ï¿½ï¿½ï¿½ï¿",
           "Germany",
           "Education"
          ],
          [
           "Yoeslan",
           "United States",
           "Entertainment"
          ],
          [
           "5-Minute Crafts DIY",
           "United States",
           "Howto & Style"
          ],
          [
           "Zach King",
           null,
           "Entertainment"
          ],
          [
           "tuzelity SHUFFLE",
           "Russia",
           "People & Blogs"
          ],
          [
           "NBA",
           "United States",
           "Sports"
          ],
          [
           "Deddy Corbuzier",
           "Indonesia",
           "Entertainment"
          ],
          [
           "Bizarrap",
           "Argentina",
           "Comedy"
          ],
          [
           "Avicii",
           "Sweden",
           "Music"
          ],
          [
           "Mnet K-POP",
           "South Korea",
           "Entertainment"
          ],
          [
           "LazarBeam",
           "Australia",
           "Gaming"
          ],
          [
           "Ninja Kidz TV",
           "United States",
           "Entertainment"
          ],
          [
           "Totoy kids - Portuguï¿½",
           "Brazil",
           "Film & Animation"
          ],
          [
           "Jake Paul",
           "United States",
           "People & Blogs"
          ],
          [
           "Linkin Park",
           "Afghanistan",
           "Music"
          ],
          [
           "Vijay Television",
           "India",
           "Entertainment"
          ],
          [
           "SlivkiShow",
           "Ukraine",
           "Entertainment"
          ],
          [
           "Emiway Bantai",
           "India",
           "Music"
          ],
          [
           "Got Talent Global",
           "United Kingdom",
           "Entertainment"
          ],
          [
           "ýýýýýýýýýýýýýýý - Genevieve's Playhouse",
           null,
           "Education"
          ],
          [
           "BabyBus - Cerita & Lagu Anak-anak",
           "Indonesia",
           "Education"
          ],
          [
           "Ami Rodriguez",
           "Colombia",
           "Entertainment"
          ],
          [
           "Noor Stars",
           "United Arab Emirates",
           "Comedy"
          ],
          [
           "Family GamesTV",
           null,
           "Entertainment"
          ],
          [
           "Kiddiestv Hindi - Nursery Rhymes & Kids Songs",
           "India",
           "Education"
          ],
          [
           "dednahype",
           "Latvia",
           "Comedy"
          ],
          [
           "Marta and Rustam",
           "United States",
           "Comedy"
          ],
          [
           "MiawAug",
           "Indonesia",
           "Gaming"
          ],
          [
           "CookieSwirlC",
           "United States",
           "Entertainment"
          ],
          [
           "Skrillex",
           "United States",
           "Music"
          ],
          [
           "AuthenticGames",
           "Brazil",
           "Gaming"
          ],
          [
           "Robin Hood Gamer",
           null,
           "Entertainment"
          ],
          [
           "Pencilmation",
           "United States",
           "Film & Animation"
          ],
          [
           "7clouds",
           "United States",
           "Music"
          ],
          [
           "5-Minute Crafts PLAY",
           "United States",
           "Howto & Style"
          ],
          [
           "Marvel Entertainment",
           "United States",
           "Entertainment"
          ],
          [
           "BuzzFeedVideo",
           "United States",
           "People & Blogs"
          ],
          [
           "REACT",
           "United States",
           "Entertainment"
          ],
          [
           "Vevo",
           "United States",
           "Music"
          ],
          [
           "Gordon Ramsay",
           "United Kingdom",
           "Entertainment"
          ],
          [
           "Pentatonix",
           "Canada",
           "Music"
          ],
          [
           "Green Gold TV - Official Channel",
           "India",
           "Film & Animation"
          ],
          [
           "Gusttavo Lima Oficial",
           "Brazil",
           "Music"
          ],
          [
           "HaerteTest",
           "Germany",
           "Science & Technology"
          ],
          [
           "Crafty Panda",
           "United States",
           "People & Blogs"
          ],
          [
           "SOMOY TV",
           "United States",
           "News & Politics"
          ],
          [
           "JennaMarbles",
           "United States",
           "Comedy"
          ],
          [
           "Troom Troom Es",
           null,
           "People & Blogs"
          ],
          [
           "Official Pink Panther",
           "United States",
           "Film & Animation"
          ],
          [
           "Britain's Got Talent",
           "United Kingdom",
           "Entertainment"
          ],
          [
           "SCTV",
           "United Kingdom",
           "Entertainment"
          ],
          [
           "AS Gaming",
           "United States",
           "Gaming"
          ],
          [
           "Sony AATH",
           "United States",
           "Shows"
          ],
          [
           "tabii Urdu",
           "Turkey",
           "Entertainment"
          ],
          [
           "DaFuq!?Boom!",
           "United States",
           "Film & Animation"
          ],
          [
           "Clash of Clans",
           "United States",
           "Gaming"
          ],
          [
           "RKD Studios",
           "India",
           "Entertainment"
          ],
          [
           "DLS News",
           "India",
           "News & Politics"
          ],
          [
           "JukiLop",
           "Mexico",
           "People & Blogs"
          ],
          [
           "etvteluguindia",
           "India",
           "Entertainment"
          ],
          [
           "FIFA",
           "Switzerland",
           "Sports"
          ],
          [
           "Manoj  parihar",
           "India",
           null
          ],
          [
           "Vsauce",
           null,
           "Science & Technology"
          ],
          [
           "Unbox Therapy",
           null,
           "Science & Technology"
          ],
          [
           "shane",
           "United States",
           "People & Blogs"
          ],
          [
           "Sonotek",
           "India",
           "Entertainment"
          ],
          [
           "Jimmy Kimmel Live",
           "United States",
           "Entertainment"
          ],
          [
           "TheOdd1sOut",
           "United States",
           "Comedy"
          ],
          [
           "Goldmines Great Indian Comedy",
           null,
           "Film & Animation"
          ],
          [
           "Lil Nas X",
           null,
           "Music"
          ],
          [
           "ýýýýýýýýýýýýýý ýýýý",
           "United States",
           "Education"
          ],
          [
           "SUPER SLICK SLIME SAM",
           "Mexico",
           "Howto & Style"
          ],
          [
           "Wow Kidz Action",
           "India",
           "Film & Animation"
          ],
          [
           "Turma da Mï¿½ï¿½",
           "Brazil",
           "Film & Animation"
          ],
          [
           "Calvin Harris",
           "United Kingdom",
           "Music"
          ],
          [
           "KBS WORLD TV",
           "South Korea",
           "Entertainment"
          ],
          [
           "HiMan",
           "Russia",
           "People & Blogs"
          ],
          [
           "Masha e o Urso",
           null,
           "Shows"
          ],
          [
           "Little Angel Espaï¿½ï¿½ï¿½ï¿½ï¿½ï¿½ï¿½ï¿½ï¿½",
           "Mexico",
           "Education"
          ],
          [
           "TED-Ed",
           "United States",
           "Education"
          ],
          [
           "Sidemen",
           "United Kingdom",
           "Entertainment"
          ],
          [
           "Cardi B",
           null,
           "People & Blogs"
          ],
          [
           "Busy Fun Ltd",
           null,
           null
          ],
          [
           "Farruko",
           "United States",
           "Music"
          ],
          [
           "ýýýýýýýýýýýýýýýýýýýýýý",
           "Ukraine",
           "Entertainment"
          ],
          [
           "Triggered Insaan",
           "India",
           "Comedy"
          ],
          [
           "CKN",
           "Spain",
           "Entertainment"
          ],
          [
           "Ali-A",
           null,
           "Gaming"
          ],
          [
           "Shemaroo Comedy",
           "India",
           "Entertainment"
          ],
          [
           "Smile Family Spanish",
           "United States",
           null
          ],
          [
           "GRAMMY GOLD OFFICIAL",
           "Thailand",
           "Music"
          ],
          [
           "ýýýýýýýý ýýýýýýýýýý ýýýýýýýýýý | Arab Games Network",
           "Saudi Arabia",
           "Gaming"
          ],
          [
           "Dan-Sa / Daniel Saboya",
           "Brazil",
           "Music"
          ],
          [
           "Marmok",
           "Russia",
           "Gaming"
          ],
          [
           "The ACE Family",
           null,
           "People & Blogs"
          ],
          [
           "Like Nastya Vlog",
           "Russia",
           "People & Blogs"
          ],
          [
           "Willie Salim",
           "Indonesia",
           "People & Blogs"
          ],
          [
           "PDK Films",
           "United States",
           "Entertainment"
          ],
          [
           "TheWillyrex",
           "Spain",
           "Comedy"
          ],
          [
           "RsiamMusic : ï¿½ï¿½ï¿½ï¿½ï¿½ï¿½ï¿½ï¿½",
           "Thailand",
           "Music"
          ],
          [
           "Dhar Mann",
           null,
           "People & Blogs"
          ],
          [
           "shakiraVEVO",
           "United States",
           "Music"
          ],
          [
           "Naisa Alifia Yuriza (N.A.Y)",
           "Indonesia",
           "People & Blogs"
          ],
          [
           "Miley Cyrus",
           "United States",
           "Entertainment"
          ],
          [
           "IShowSpeed",
           "United States",
           "Gaming"
          ],
          [
           "Bobby chourasiya",
           null,
           "People & Blogs"
          ],
          [
           "INCRï¿½ï¿",
           "Brazil",
           "People & Blogs"
          ],
          [
           "Jake Fellman",
           "United States",
           "Entertainment"
          ],
          [
           "GEN HALILINTAR",
           "Indonesia",
           "Entertainment"
          ],
          [
           "SQUEEZIE",
           "France",
           "Gaming"
          ],
          [
           "Blippi - Educational Videos for Kids",
           "United States",
           "Education"
          ],
          [
           "officialpsy",
           "South Korea",
           "Music"
          ],
          [
           "Ajay Sharma",
           null,
           "Entertainment"
          ],
          [
           "Manual do Mundo",
           "Brazil",
           "Howto & Style"
          ],
          [
           "How Ridiculous",
           "Australia",
           "Sports"
          ],
          [
           "And TV",
           "United States",
           "Entertainment"
          ],
          [
           "Sebastiï¿½ï¿½ï¿½",
           "United States",
           "News & Politics"
          ],
          [
           "SonyMusicSouthVEVO",
           "United States",
           "Music"
          ],
          [
           "TheGrefg",
           "Spain",
           "Gaming"
          ],
          [
           "BeatboxJCOP",
           null,
           "Film & Animation"
          ],
          [
           "David Dobrik",
           "United States",
           "People & Blogs"
          ],
          [
           "KatieAngel",
           "United States",
           "People & Blogs"
          ],
          [
           "RobleisIUTU",
           "Argentina",
           "Entertainment"
          ],
          [
           "Lele Pons",
           "United States",
           "Comedy"
          ],
          [
           "Demi Lovato",
           "United States",
           "Music"
          ],
          [
           "Like Nastya VNM",
           "Vietnam",
           "Entertainment"
          ],
          [
           "Jason Derulo",
           "United States",
           "Music"
          ],
          [
           "MGC Playhouse",
           "United States",
           "Shows"
          ],
          [
           "Zuni and Family",
           null,
           "People & Blogs"
          ],
          [
           "Priyal Kukreja",
           "India",
           "People & Blogs"
          ],
          [
           "MSA previously My Story Animated",
           "United States",
           "Film & Animation"
          ],
          [
           "ýýýýýýýýý KIMPRO",
           "South Korea",
           null
          ],
          [
           "Jane ASMR ï¿½ï¿½",
           "South Korea",
           null
          ],
          [
           "ArianaGrandeVevo",
           "United States",
           "Music"
          ],
          [
           "jaanvi patel",
           "India",
           "People & Blogs"
          ],
          [
           "tanboy kun",
           "Indonesia",
           "People & Blogs"
          ],
          [
           "Lil Pump",
           null,
           "Music"
          ],
          [
           "Porta dos Fundos",
           "Brazil",
           "Entertainment"
          ],
          [
           "News 24",
           "Ukraine",
           "News & Politics"
          ],
          [
           "Les' Copaque Production",
           "Malaysia",
           "Film & Animation"
          ],
          [
           "El Payaso Plim Plim",
           "Argentina",
           "Film & Animation"
          ],
          [
           "zbing z.",
           "Thailand",
           "Gaming"
          ],
          [
           "MissaSinfonia",
           "Mexico",
           "Comedy"
          ],
          [
           "ýýýýýýýýý Liziqi",
           "China",
           "Howto & Style"
          ],
          [
           "DeGoBooM",
           "Chile",
           "Gaming"
          ],
          [
           "JFlaMusic",
           "South Korea",
           "Music"
          ],
          [
           "FactTechz",
           "India",
           "Entertainment"
          ],
          [
           "News18 India",
           "India",
           "News & Politics"
          ],
          [
           "Fun For Kids TV - Hindi Rhymes",
           "India",
           "Entertainment"
          ],
          [
           "IGN",
           "United States",
           "Gaming"
          ],
          [
           "Aphmau",
           "United States",
           "Gaming"
          ],
          [
           "AMARINTV : ï¿½ï¿½ï¿½ï¿½ï¿½ï¿½ï¿½ï¿½ï¿½ï¿½ï¿½ï¿½",
           "Thailand",
           "Entertainment"
          ],
          [
           "ýýýýýýýýýýýýýýýý - Al-Remas",
           "Iraq",
           "Music"
          ],
          [
           "Koray Zeynep",
           null,
           "People & Blogs"
          ],
          [
           "Apple",
           "United States",
           "Science & Technology"
          ],
          [
           "Stubborn Facts",
           "India",
           "Film & Animation"
          ],
          [
           "Taarak Mehta Ka Ooltah Chashmah",
           "India",
           "Entertainment"
          ],
          [
           "HowToBasic",
           "Australia",
           "Howto & Style"
          ],
          [
           "PopularMMOs",
           null,
           "Gaming"
          ],
          [
           "Marques Brownlee",
           "United States",
           "Science & Technology"
          ],
          [
           "Anitta",
           "Brazil",
           "Music"
          ],
          [
           "Jason Vlogs",
           "Australia",
           "Education"
          ],
          [
           "El Reino a Jugar",
           "Argentina",
           "Education"
          ],
          [
           "Willyrex",
           "Spain",
           "Gaming"
          ],
          [
           "TheBrianMaps",
           "Russia",
           "Comedy"
          ],
          [
           "TRANS TV Official",
           "Indonesia",
           "Entertainment"
          ],
          [
           "Liza Koshy",
           "United States",
           "Comedy"
          ],
          [
           "Queen Official",
           "United Kingdom",
           "Music"
          ],
          [
           "Prajapati News",
           "India",
           "Comedy"
          ],
          [
           "Gaby and Alex",
           null,
           "Entertainment"
          ],
          [
           "LuisFonsiVEVO",
           "United States",
           "Music"
          ],
          [
           "Pop Chartbusters",
           "India",
           "Music"
          ],
          [
           "Guava Juice",
           "United States",
           "Gaming"
          ],
          [
           "EeOneGuy",
           "United States",
           "Entertainment"
          ],
          [
           "VICE",
           "United States",
           "Entertainment"
          ],
          [
           "Aayu and Pihu Show",
           "India",
           "Comedy"
          ],
          [
           "Danny Fitt",
           "United States",
           "People & Blogs"
          ],
          [
           "Bispo Bruno Leonardo",
           "Brazil",
           "Nonprofits & Activism"
          ],
          [
           "DeToxoMoroxo",
           null,
           "Entertainment"
          ],
          [
           "Doggy Doggy Cartoons",
           null,
           "Entertainment"
          ],
          [
           "deepesh zo",
           null,
           "People & Blogs"
          ],
          [
           "Like Nastya IDN",
           "Indonesia",
           "Entertainment"
          ],
          [
           "Gato Galactico | GALï¿½ï¿",
           "Brazil",
           "Film & Animation"
          ],
          [
           "Salman Noman",
           null,
           "Entertainment"
          ],
          [
           "CoryxKenshin",
           "United States",
           "Gaming"
          ],
          [
           "With Kids[ï¿½ï¿½ï¿½ï¿½ï",
           "United States",
           "Entertainment"
          ],
          [
           "Travis Scott",
           "United States",
           "Music"
          ],
          [
           "Tu COSMOPOLIS",
           "Mexico",
           "People & Blogs"
          ],
          [
           "Ivana Alawi",
           "Philippines",
           null
          ],
          [
           "Werever2morro",
           "Mexico",
           "Entertainment"
          ],
          [
           "IDEAS EN 5 MINUTOS",
           "Spain",
           "Howto & Style"
          ],
          [
           "NMF News",
           "India",
           "News & Politics"
          ],
          [
           "SriBalajiMovies",
           "India",
           "Entertainment"
          ],
          [
           "Lahari Music - TSeries",
           "India",
           "Music"
          ],
          [
           "Younes Zarou",
           "Germany",
           "Entertainment"
          ],
          [
           "Jordan Matter",
           "United States",
           "Entertainment"
          ],
          [
           "ýýýýýýýý ýýýýýýýýýýýýýýýýýýýýýý",
           "United States",
           "Entertainment"
          ],
          [
           "FailArmy",
           "United States",
           "Comedy"
          ],
          [
           "BBC News Hindi",
           "India",
           "News & Politics"
          ],
          [
           "FunFun Toy Doll TV",
           "United States",
           "Entertainment"
          ],
          [
           "Sandra Cires Art",
           "United States",
           "Howto & Style"
          ],
          [
           "Kaykai Salaider",
           "Thailand",
           "Comedy"
          ],
          [
           "UFC - Ultimate Fighting Championship",
           "United States",
           "Sports"
          ],
          [
           "Ch7HD",
           "Thailand",
           "Entertainment"
          ],
          [
           "RCTI - LAYAR DRAMA INDONESIA",
           null,
           "Entertainment"
          ],
          [
           "Alfredo Larin",
           null,
           "Entertainment"
          ],
          [
           "GMMTV OFFICIALï¿½ï¿½",
           "Thailand",
           "Entertainment"
          ],
          [
           "Matt Stonie",
           "United States",
           "Entertainment"
          ],
          [
           "Boyce Avenue",
           "United States",
           "Music"
          ],
          [
           "Camila Cabello",
           "United States",
           "Music"
          ],
          [
           "Little Mix",
           "United Kingdom",
           "Music"
          ],
          [
           "SAM SMITH",
           "United Kingdom",
           "Music"
          ],
          [
           "Pitbull",
           "United States",
           "Music"
          ],
          [
           "Bollywood Classics",
           "India",
           "Entertainment"
          ],
          [
           "Technoblade",
           "United States",
           "Gaming"
          ],
          [
           "W2S",
           "United Kingdom",
           "Gaming"
          ],
          [
           "Jennifer Lopez",
           "United States",
           "Music"
          ],
          [
           "Kids Play",
           "United States",
           "Entertainment"
          ],
          [
           "T3ddy",
           "Brazil",
           "Comedy"
          ],
          [
           "JJ Olatunji",
           "United Kingdom",
           "Gaming"
          ],
          [
           "POPS Kids",
           "Vietnam",
           "Music"
          ],
          [
           "Thairath Online",
           "Thailand",
           "News & Politics"
          ],
          [
           "LEGO",
           "Singapore",
           "Entertainment"
          ],
          [
           "XO TEAM",
           "United States",
           "People & Blogs"
          ],
          [
           "AdMe",
           "Spain",
           "Entertainment"
          ],
          [
           "ExtraPolinesios",
           null,
           "People & Blogs"
          ],
          [
           "Dyland PROS",
           "Indonesia",
           "Entertainment"
          ],
          [
           "Live",
           null,
           null
          ],
          [
           "Vlad and Niki ARA",
           "United States",
           null
          ],
          [
           "Canal IN",
           "Brazil",
           "People & Blogs"
          ],
          [
           "TWICE",
           null,
           "Music"
          ],
          [
           "Daily Dose Of Internet",
           "United States",
           "Entertainment"
          ],
          [
           "FitDance",
           "France",
           "Music"
          ],
          [
           "Panda Shorts",
           "Sweden",
           null
          ],
          [
           "Disney Junior",
           "United States",
           "Entertainment"
          ],
          [
           "La Rosa de Guadalupe",
           "Mexico",
           "Entertainment"
          ],
          [
           "sagar kalra (Shorts)",
           null,
           "People & Blogs"
          ],
          [
           "wifistudy",
           "India",
           "Education"
          ],
          [
           "Antrax",
           "Mexico",
           "Gaming"
          ],
          [
           "Enes Batur",
           null,
           "Gaming"
          ],
          [
           "Totoy kids - Espaï¿½ï",
           "Mexico",
           "Film & Animation"
          ],
          [
           "ýýýýýýýýýý",
           "Russia",
           "People & Blogs"
          ],
          [
           "DopeLyrics",
           "United States",
           "Music"
          ],
          [
           "jeffreestar",
           "United States",
           "Howto & Style"
          ],
          [
           "Lyna",
           "Argentina",
           "Gaming"
          ],
          [
           "MK MUSIC",
           "Brazil",
           "Music"
          ],
          [
           "Unspeakable",
           "United States",
           "Gaming"
          ],
          [
           "Camilo",
           "Colombia",
           "Music"
          ],
          [
           "Dear Sir",
           "India",
           "Education"
          ],
          [
           "Narendra Modi",
           "India",
           "News & Politics"
          ],
          [
           "Arif muhammad",
           "Indonesia",
           "People & Blogs"
          ],
          [
           "Rotten Tomatoes Trailers",
           "United States",
           "Film & Animation"
          ],
          [
           "Volga Video",
           "India",
           "Film & Animation"
          ],
          [
           "DM - Desi Melodies",
           "India",
           "Music"
          ],
          [
           "MY FAMILY",
           "Singapore",
           null
          ],
          [
           "Team Films Bhojpuri",
           "India",
           "Music"
          ],
          [
           "Zee Music Classic",
           "India",
           "Music"
          ],
          [
           "Prime Video India",
           "United States",
           "Entertainment"
          ],
          [
           "Caeli YT",
           "Mexico",
           "Entertainment"
          ],
          [
           "Kuplinov ï¿½ï¿½ï¿",
           null,
           "Gaming"
          ],
          [
           "Linus Tech Tips",
           "Canada",
           "Science & Technology"
          ],
          [
           "Juliana Baltar",
           "Brazil",
           "Entertainment"
          ],
          [
           "5-Minute Crafts FAMILY",
           "United States",
           "People & Blogs"
          ],
          [
           "Blippi Espaï¿½ï",
           "Mexico",
           "People & Blogs"
          ],
          [
           "Super Senya",
           null,
           "Entertainment"
          ],
          [
           "Katakit Baby TV",
           "Saudi Arabia",
           "Music"
          ],
          [
           "Infobells Bangla",
           "India",
           "Education"
          ],
          [
           "ýýýýýýýý ýý ýýýýýýýý",
           "Saudi Arabia",
           "Shows"
          ],
          [
           "Henrique e Juliano",
           "Brazil",
           "Music"
          ],
          [
           "Mr DegrEE",
           "United States",
           "Science & Technology"
          ],
          [
           "Kashvi Adlakha",
           "India",
           "Entertainment"
          ],
          [
           "Talking Tom & Friends",
           "United States",
           "Entertainment"
          ],
          [
           "ýýýýýýýý ýýýýýýýýýýýýýý ýýýý 5 ýýýýýýýýýý",
           "Egypt",
           "Howto & Style"
          ],
          [
           "Harsh Beniwal",
           "India",
           "Comedy"
          ],
          [
           "FFUNTV",
           "United Arab Emirates",
           "Gaming"
          ],
          [
           "Mobile Legends: Bang Bang",
           "United States",
           "Gaming"
          ],
          [
           "Roman Atwood Vlogs",
           "United States",
           "People & Blogs"
          ],
          [
           "Mrwhosetheboss",
           "United Kingdom",
           "Science & Technology"
          ],
          [
           "Genierock",
           "Thailand",
           "Music"
          ],
          [
           "zayn",
           "United States",
           "Music"
          ],
          [
           "Kerajinan 5-Menit",
           "Indonesia",
           "People & Blogs"
          ],
          [
           "FC Barcelona",
           "Spain",
           "Sports"
          ],
          [
           "Dave and Ava - Nursery Rhymes and Baby Songs",
           "United States",
           "Education"
          ],
          [
           "LOKESH GAMER",
           "India",
           "Gaming"
          ],
          [
           "ILYA BORZOV",
           "Russia",
           "People & Blogs"
          ],
          [
           "Mazhavil Manorama",
           "India",
           "Entertainment"
          ],
          [
           "Pokï¿½ï¿½ï¿½ï¿½ï¿½ï¿½ï¿½ï¿½ï¿½",
           "India",
           "People & Blogs"
          ],
          [
           "The MriDul",
           "India",
           "Comedy"
          ],
          [
           "Niana Guerrero",
           "Philippines",
           "Entertainment"
          ],
          [
           "SRK MUSIC",
           "India",
           "Music"
          ],
          [
           "Sony LIV",
           "India",
           "Entertainment"
          ],
          [
           "T-Series Hamaar Bhojpuri",
           "India",
           "Entertainment"
          ],
          [
           "Oyuncak Avï¿",
           "Turkey",
           "Entertainment"
          ],
          [
           "CNN",
           "United States",
           "News & Politics"
          ],
          [
           "NDTV India",
           "India",
           "News & Politics"
          ],
          [
           "It's Mamix",
           "United States",
           "People & Blogs"
          ],
          [
           "Kim Loaiza",
           null,
           "Music"
          ],
          [
           "Daftar Populer",
           "Indonesia",
           "Education"
          ],
          [
           "Musas",
           "Andorra",
           "Howto & Style"
          ],
          [
           "Ranz Kyle",
           "Philippines",
           "People & Blogs"
          ],
          [
           "PowerfulJRE",
           "United States",
           "People & Blogs"
          ],
          [
           "Mariale",
           "United States",
           "Howto & Style"
          ],
          [
           "Makiman131",
           "Spain",
           "Gaming"
          ],
          [
           "Hongyu ASMR ï¿½ï¿½",
           null,
           "People & Blogs"
          ],
          [
           "Mohamed Ramadan I ï¿½ï¿½ï¿½ï¿½ï¿½ï¿½ï",
           "Egypt",
           "People & Blogs"
          ],
          [
           "EdisonPts",
           "Russia",
           "Gaming"
          ],
          [
           "BIGBANG",
           "South Korea",
           "Music"
          ],
          [
           "Rubï¿½ï¿½ï¿½ï¿½ï¿½ï¿½",
           "Argentina",
           "Comedy"
          ],
          [
           "ABS-CBN News",
           "Philippines",
           "News & Politics"
          ],
          [
           "Chapitosiki",
           "Russia",
           "Entertainment"
          ],
          [
           "AdeleVEVO",
           "United Kingdom",
           "Music"
          ],
          [
           "MoreAliA",
           "United Kingdom",
           "Gaming"
          ],
          [
           "Chetan Monga Vlogs",
           "India",
           "People & Blogs"
          ],
          [
           "Little Angel - Mï¿½ï¿½ï¿½ï¿½ï¿½ï¿½ï¿½ï¿½ï¿½ï¿½",
           "Brazil",
           "Entertainment"
          ],
          [
           "League of Legends",
           "United States",
           "Gaming"
          ],
          [
           "TheRichest",
           "United States",
           "Education"
          ],
          [
           "XpressTV",
           "Mexico",
           "Entertainment"
          ],
          [
           "PlayStation",
           "United States",
           "Gaming"
          ],
          [
           "Kwebbelkop",
           "United States",
           "Gaming"
          ],
          [
           "Republic Bharat",
           "India",
           "News & Politics"
          ],
          [
           "THE BROWN SIBLINGS",
           "India",
           "Entertainment"
          ],
          [
           "Sony Music South",
           "India",
           "Music"
          ],
          [
           "BigSchool",
           null,
           "Gaming"
          ],
          [
           "Ray William Johnson",
           "United States",
           "Entertainment"
          ],
          [
           "KOMPASTV",
           "Indonesia",
           "News & Politics"
          ],
          [
           "ISSEI / ï¿½ï¿½ï¿½ï¿½",
           "Japan",
           "Comedy"
          ],
          [
           "Zï¿½ï¿½ï¿½ï¿½ï¿½ï¿½ï",
           "Brazil",
           "Music"
          ],
          [
           "A2 Motivation by Arvind Arora",
           "India",
           "Entertainment"
          ],
          [
           "50 Cent",
           "United States",
           "Music"
          ],
          [
           "MNCTV OFFICIAL",
           "Indonesia",
           "Entertainment"
          ],
          [
           "ERB",
           "United States",
           "Entertainment"
          ],
          [
           "melanie martinez",
           "United States",
           "Music"
          ],
          [
           "iTownGamePlay *Terror&Diversiï¿½ï",
           "Spain",
           "Entertainment"
          ],
          [
           "ýýýýýýýýýýýý8 : Thai Ch8",
           "Thailand",
           "Entertainment"
          ],
          [
           "ZutiGang",
           null,
           "People & Blogs"
          ],
          [
           "ýýýýýý",
           "Russia",
           "People & Blogs"
          ],
          [
           "TazerCraft",
           "Brazil",
           "Gaming"
          ],
          [
           "Bayashi TV",
           "Japan",
           "Entertainment"
          ],
          [
           "Fueled By Ramen",
           "United States",
           "Music"
          ],
          [
           "CrashCourse",
           "United States",
           "Education"
          ],
          [
           "MattyBRaps",
           "United States",
           "Music"
          ],
          [
           "Lachlan",
           "Australia",
           "Gaming"
          ],
          [
           "ýýýýýýýý ýýýýýýýý",
           "Ukraine",
           "Howto & Style"
          ],
          [
           "Meghan Trainor",
           "United States",
           "People & Blogs"
          ],
          [
           "Jorge & Mateus Oficial",
           "Brazil",
           "Music"
          ],
          [
           "Major Lazer Official",
           null,
           "Music"
          ],
          [
           "Beast Philanthropy",
           "Germany",
           "People & Blogs"
          ],
          [
           "Filaretiki",
           "United States",
           null
          ],
          [
           "5-Minute Crafts Recycle",
           "United States",
           "People & Blogs"
          ],
          [
           "ýýýýýýýýýý ýýýýýýýýýýýý",
           "Saudi Arabia",
           "Entertainment"
          ],
          [
           "Maha Fun Tv",
           "United States",
           "Entertainment"
          ],
          [
           "Canal Nostalgia",
           "Spain",
           "Entertainment"
          ],
          [
           "The Slow Mo Guys",
           "United States",
           "Entertainment"
          ],
          [
           "StudyIQ IAS",
           "India",
           "Education"
          ],
          [
           "Chad Wild Clay",
           "United States",
           "Comedy"
          ],
          [
           "CollegeHumor",
           "United States",
           "Comedy"
          ],
          [
           "Netflix Jr.",
           "United States",
           "Education"
          ],
          [
           "Colors Rishtey",
           "India",
           "Entertainment"
          ],
          [
           "ABC News",
           "United States",
           "News & Politics"
          ],
          [
           "Camila Loures",
           "Brazil",
           "Music"
          ],
          [
           "Doc Tops",
           "Ecuador",
           "Entertainment"
          ],
          [
           "Auron",
           "Spain",
           "People & Blogs"
          ],
          [
           "Jesser",
           "United States",
           "Gaming"
          ],
          [
           "Planeta das Gï¿½ï¿½",
           "Brazil",
           "People & Blogs"
          ],
          [
           "PrestonPlayz",
           "United States",
           "Gaming"
          ],
          [
           "Martin Garrix",
           "United States",
           "Music"
          ],
          [
           "O Reino Infantil",
           "Brazil",
           "Music"
          ],
          [
           "Fifth Harmony",
           "United States",
           "Music"
          ],
          [
           "Mis Pastelitos",
           "Mexico",
           "Howto & Style"
          ],
          [
           "Noman Official",
           "India",
           "Comedy"
          ],
          [
           "Like Nastya Stories",
           "United States",
           "Entertainment"
          ],
          [
           "les boys tv2",
           "United States",
           "Entertainment"
          ],
          [
           "Lotus Music",
           "India",
           null
          ],
          [
           "IDEIAS INCRï¿½ï¿½",
           "Brazil",
           "Howto & Style"
          ],
          [
           "Reaction Time",
           "United States",
           "Entertainment"
          ],
          [
           "BBC News",
           "United Kingdom",
           "News & Politics"
          ],
          [
           "Eli Kids - Cartoons & Songs",
           "United States",
           null
          ],
          [
           "Boram Tube ToysReview [ï¿½ï¿½ï¿½ï¿½ï¿½ï¿½ï¿½ï¿½ï¿",
           "South Korea",
           "People & Blogs"
          ],
          [
           "Aadishakti Films",
           "India",
           "Music"
          ],
          [
           "Telemundo",
           "United States",
           "Entertainment"
          ],
          [
           "GMM25Thailand",
           "Thailand",
           "Entertainment"
          ],
          [
           "TV9 Bharatvarsh",
           "India",
           "People & Blogs"
          ],
          [
           "Maroon5VEVO",
           "United States",
           "Music"
          ],
          [
           "Saad Lamjarred | ï¿½ï¿½ï¿½ï¿½ï¿½ï¿",
           "Morocco",
           "Music"
          ],
          [
           "Hear This Music",
           null,
           "Music"
          ],
          [
           "Lilly Singh",
           "Canada",
           "Comedy"
          ],
          [
           "ýýýýýýýýýýýýýýýýýýýýý",
           "South Korea",
           "Entertainment"
          ],
          [
           "Gyan Gamingï¿½",
           "India",
           "Gaming"
          ],
          [
           "Drawblogs",
           "Peru",
           "Entertainment"
          ],
          [
           "NOBRU",
           null,
           "Gaming"
          ],
          [
           "ýýýýýýýýýýýý ýýýýýýýýýýýý I ýýýýýý ýý ýýýýýýýýýý",
           "Saudi Arabia",
           "Entertainment"
          ],
          [
           "Cyprien",
           "France",
           "Comedy"
          ],
          [
           "Rclbeauty101",
           "United States",
           "Comedy"
          ],
          [
           "Coke Studio",
           "United States",
           "Music"
          ],
          [
           "Indore Physical Academy",
           "India",
           "People & Blogs"
          ],
          [
           "Rosanna Pansino",
           "United States",
           "Howto & Style"
          ],
          [
           "Vlad and Niki PRT",
           "United States",
           null
          ],
          [
           "RS 1313 SHORTS",
           "India",
           "Entertainment"
          ],
          [
           "Zig & Sharko",
           null,
           "Film & Animation"
          ],
          [
           "SelenaGomezVEVO",
           "United States",
           "Music"
          ],
          [
           "ZEE5",
           "India",
           "Entertainment"
          ],
          [
           "Super Polina",
           "United States",
           "People & Blogs"
          ],
          [
           "Rebecca Zamolo",
           "United States",
           "Comedy"
          ],
          [
           "Wish 107.5",
           "Philippines",
           "Music"
          ],
          [
           "Invento na Hora",
           "Brazil",
           "Film & Animation"
          ],
          [
           "SIS vs BRO",
           "Ukraine",
           "Entertainment"
          ],
          [
           "NikkieTutorials",
           "Netherlands",
           "Howto & Style"
          ],
          [
           "TommyInnit",
           "United Kingdom",
           "Gaming"
          ],
          [
           "E-MasterSensei",
           "Mexico",
           "Gaming"
          ],
          [
           "infobells - Kannada",
           "India",
           "Education"
          ],
          [
           "Crazy Frog",
           null,
           "Music"
          ],
          [
           "The Dodo",
           null,
           "Pets & Animals"
          ],
          [
           "SEVENGERS",
           "India",
           "Comedy"
          ],
          [
           "Zee Bangla",
           "India",
           "Entertainment"
          ],
          [
           "DangMattSmith",
           "United States",
           "Entertainment"
          ],
          [
           "Neha Kakkar",
           "India",
           "Music"
          ],
          [
           "#Refugio Mental",
           null,
           "Entertainment"
          ],
          [
           "ýýýýýýýýýýýýýýýýýýýý ýýýýýýýýýýýýýýýýýýýý",
           null,
           "Entertainment"
          ],
          [
           "Trap City",
           "Australia",
           "Music"
          ],
          [
           "Supercar Blondie",
           "United Arab Emirates",
           "Autos & Vehicles"
          ],
          [
           "Yudist Ardhana",
           "Indonesia",
           "Entertainment"
          ],
          [
           "Lana Del Rey",
           "United States",
           "Music"
          ],
          [
           "MalumaVEVO",
           "United States",
           "Music"
          ],
          [
           "F2Freestylers - Ultimate Soccer Skills Channel",
           "United Kingdom",
           "Sports"
          ],
          [
           "Bie The Ska",
           "Thailand",
           "Entertainment"
          ],
          [
           "AM3NlC",
           "Brazil",
           "Gaming"
          ],
          [
           "Narins Beauty",
           "Sweden",
           "Howto & Style"
          ],
          [
           "TV Ana Emilia",
           "Mexico",
           "People & Blogs"
          ],
          [
           "ýýýýýýýýýýýý",
           "Russia",
           "Gaming"
          ],
          [
           "Luli Pampï¿½",
           "Spain",
           "Music"
          ],
          [
           "Gallina Pintadita",
           "Mexico",
           "Music"
          ],
          [
           "ViralHog",
           "United States",
           "People & Blogs"
          ],
          [
           "ETV Jabardasth",
           "India",
           "People & Blogs"
          ],
          [
           "Zee Telugu",
           "India",
           "Entertainment"
          ],
          [
           "Crescendo com Luluca",
           "Brazil",
           "Entertainment"
          ],
          [
           "Jazzghost",
           "Brazil",
           "Gaming"
          ],
          [
           "karameeshchannel",
           "Jordan",
           "Entertainment"
          ],
          [
           "Darkar Company Studios",
           "United States",
           "Film & Animation"
          ],
          [
           "Dental Digest",
           null,
           "People & Blogs"
          ],
          [
           "T-Series Regional",
           "India",
           "Entertainment"
          ],
          [
           "ADEL et SAMI",
           "United States",
           "Entertainment"
          ],
          [
           "Jamuna TV",
           "Bangladesh",
           "News & Politics"
          ],
          [
           "Atlantic Records",
           "United States",
           "Music"
          ],
          [
           "ýýýýýýýý ýý ýýýýýýýýýýýý",
           "United States",
           null
          ],
          [
           "Veritasium",
           "United States",
           "Education"
          ],
          [
           "Alexa Rivera",
           null,
           "Howto & Style"
          ],
          [
           "Airrack",
           "United States",
           "Entertainment"
          ],
          [
           "Hacksmith Industries",
           "Canada",
           "Science & Technology"
          ],
          [
           "JD Pantoja",
           null,
           "People & Blogs"
          ],
          [
           "ýýýýýýýý/Atro",
           "Netherlands",
           "Gaming"
          ],
          [
           "123 GO! Spanish",
           "Mexico",
           "People & Blogs"
          ],
          [
           "Geo News",
           "Pakistan",
           "News & Politics"
          ],
          [
           "Kids TV India Hindi Nursery Rhymes",
           "India",
           "Shows"
          ],
          [
           "Think Music India",
           "India",
           "Music"
          ],
          [
           "O Que Nï¿½ï¿½ï¿½ï¿½ï¿½ï¿",
           "Brazil",
           "Comedy"
          ],
          [
           "Goldmines Premiere",
           "India",
           "Entertainment"
          ],
          [
           "MAIKI021",
           "Brazil",
           "Entertainment"
          ],
          [
           "The Vishal bhatt",
           "India",
           "Comedy"
          ],
          [
           "NishaMadhulika",
           "India",
           "Howto & Style"
          ],
          [
           "MyMissAnand",
           "India",
           "People & Blogs"
          ],
          [
           "FAPTV",
           "Vietnam",
           "Comedy"
          ],
          [
           "Wesley Safadï¿½",
           "Brazil",
           "Music"
          ],
          [
           "infobells",
           "India",
           "Education"
          ],
          [
           "Desi Gamers",
           null,
           "Gaming"
          ],
          [
           "Acenix",
           "Spain",
           "Gaming"
          ],
          [
           "Zeinab Harake",
           "Philippines",
           null
          ],
          [
           "DALLMYD",
           "United States",
           "Sports"
          ],
          [
           "Lindsey Stirling",
           "United States",
           "Music"
          ],
          [
           "JOJO TV - Hindi Stories",
           "India",
           "Education"
          ],
          [
           "BBC",
           "United Kingdom",
           "Pets & Animals"
          ],
          [
           "Saturday Night Live",
           "United States",
           "Entertainment"
          ],
          [
           "BUDI01 GAMING",
           "Indonesia",
           "Gaming"
          ],
          [
           "Typical Gamer",
           "Canada",
           "Gaming"
          ],
          [
           "Anaysa",
           "India",
           "Howto & Style"
          ],
          [
           "JULIA GISELLA",
           "United Kingdom",
           "Entertainment"
          ],
          [
           "Awakening Music",
           "United Kingdom",
           "Music"
          ],
          [
           "Lady Diana",
           "Ukraine",
           "Entertainment"
          ],
          [
           "Sanjoy Das Official",
           "India",
           "Entertainment"
          ],
          [
           "Woody & Kleiny",
           "United Kingdom",
           "Comedy"
          ],
          [
           "Vijay Kumar Viner Vlogs",
           "India",
           "Entertainment"
          ],
          [
           "Conor Maynard",
           "United States",
           "Music"
          ],
          [
           "Wengie",
           "United States",
           "Howto & Style"
          ],
          [
           "Vlad y Niki Show",
           "United States",
           null
          ],
          [
           "Codiscos",
           "Colombia",
           "Music"
          ],
          [
           "The World Adventures ï¿½ï¿½ï¿½ï¿½ï¿½ï¿½",
           "India",
           "People & Blogs"
          ],
          [
           "Vibhu 96",
           "India",
           null
          ],
          [
           "Blockbuster Movies",
           "India",
           "Entertainment"
          ],
          [
           "ATHLEAN-Xï¿½",
           "United States",
           "Howto & Style"
          ],
          [
           "My Mate Nate",
           "Thailand",
           "Comedy"
          ],
          [
           "H2ODelirious",
           "United States",
           "Gaming"
          ],
          [
           "GMA Integrated News",
           "Philippines",
           "News & Politics"
          ],
          [
           "Peet Montzingo",
           "United States",
           "People & Blogs"
          ],
          [
           "The Q",
           "United States",
           "People & Blogs"
          ],
          [
           "Trakin Tech",
           "India",
           "Science & Technology"
          ],
          [
           "theRadBrad",
           "United States",
           "Gaming"
          ],
          [
           "Matt Steffanina",
           "United States",
           "Entertainment"
          ],
          [
           "Stray Kids",
           null,
           "People & Blogs"
          ],
          [
           "Kurt Hugo Schneider",
           "United States",
           "Entertainment"
          ],
          [
           "Vogue",
           "United States",
           "Entertainment"
          ],
          [
           "ýýýýýýýýýýýýýýýýýý",
           "Russia",
           "People & Blogs"
          ],
          [
           "Kids Lineï¿½ï¿½ï¿½ï¿½ï¿½ï¿½ï¿½",
           "United States",
           "People & Blogs"
          ],
          [
           "VexTrex",
           "Ukraine",
           "Entertainment"
          ],
          [
           "penguinz0",
           "United States",
           "Gaming"
          ],
          [
           "Just For Laughs Gags",
           "United States",
           "Comedy"
          ],
          [
           "Kabita's Kitchen",
           "India",
           "Howto & Style"
          ],
          [
           "BanderitaX",
           "Saudi Arabia",
           "Gaming"
          ],
          [
           "AzzyLand",
           "Canada",
           "Gaming"
          ],
          [
           "HUBAï¿½ï¿½",
           "United States",
           "Entertainment"
          ],
          [
           "BIBO ï¿½ï¿½ï¿½ï¿½ï¿½ï¿",
           "Russia",
           "Entertainment"
          ],
          [
           "Brawl Stars",
           "Finland",
           "Gaming"
          ],
          [
           "Ei Nerd",
           null,
           "Entertainment"
          ],
          [
           "Sonotek Bhakti",
           "India",
           "Entertainment"
          ],
          [
           "Vilmei",
           "Indonesia",
           null
          ],
          [
           "MC Divertida",
           "Brazil",
           "Entertainment"
          ],
          [
           "The Infographics Show",
           "United States",
           "Education"
          ],
          [
           "jbalvinVEVO",
           "Colombia",
           "Music"
          ],
          [
           "ýýýýýýTwinsFromRussia",
           "United States",
           "People & Blogs"
          ],
          [
           "Technology Gyan",
           "India",
           "Science & Technology"
          ],
          [
           "CookingShooking Hindi",
           "India",
           "People & Blogs"
          ],
          [
           "Ryan Trahan",
           "United States",
           "Entertainment"
          ],
          [
           "Alex Gonzaga Official",
           "Philippines",
           "People & Blogs"
          ],
          [
           "WiederDude",
           "United States",
           null
          ],
          [
           "Ian Boggs",
           null,
           "Entertainment"
          ],
          [
           "Lokdhun Punjabi",
           "India",
           "Music"
          ],
          [
           "Knowledge Tv ï¿½ï¿½ï¿½ï¿½ï¿½ï¿½",
           null,
           "People & Blogs"
          ],
          [
           "Painzeiro",
           "Brazil",
           "People & Blogs"
          ],
          [
           "Peppa Pig em Portuguï¿½ï¿½ï¿½ï¿½ï¿½ï¿½ï¿½ï¿½ï¿",
           "Brazil",
           "Film & Animation"
          ],
          [
           "ýýýýýýýýýýýýýýý Ms Yeah",
           "United States",
           "People & Blogs"
          ],
          [
           "Hungria Hip Hop",
           "Brazil",
           "Music"
          ],
          [
           "RaptorGamer",
           "Ecuador",
           "People & Blogs"
          ],
          [
           "RedeTV",
           "Brazil",
           "Entertainment"
          ],
          [
           "twenty one pilots",
           "United States",
           "Music"
          ],
          [
           "DJ Khaled",
           "Samoa",
           "Music"
          ],
          [
           "Davie504",
           "Italy",
           "Entertainment"
          ],
          [
           "Everson Zoio",
           "Brazil",
           "Comedy"
          ],
          [
           "Calon Sarjana",
           "Indonesia",
           "Entertainment"
          ],
          [
           "Lofi Girl",
           "France",
           "Music"
          ],
          [
           "Jomy Production",
           "India",
           "Entertainment"
          ],
          [
           "GH'S",
           "South Korea",
           "Gaming"
          ],
          [
           "JesseAndMike",
           "United States",
           "Entertainment"
          ],
          [
           "Wolfoo Channel",
           "Pakistan",
           null
          ],
          [
           "Susy Mouriz",
           "Mexico",
           "Entertainment"
          ],
          [
           "7 Minutoz",
           "Brazil",
           "Music"
          ],
          [
           "The LaBrant Fam",
           "United States",
           "Comedy"
          ],
          [
           "Pastor Antï¿½ï¿½ï¿½ï¿½ï",
           "Brazil",
           "People & Blogs"
          ],
          [
           "Matheus Yurley",
           "Brazil",
           "Entertainment"
          ],
          [
           "gymvirtual",
           "Spain",
           "Sports"
          ],
          [
           "BIBOï¿½ï¿½ï¿½ï¿½ï",
           "South Korea",
           "Entertainment"
          ],
          [
           "Top Viral Talent",
           "United States",
           "Entertainment"
          ],
          [
           "Akon",
           "United States",
           "Music"
          ],
          [
           "AlArabiya ï¿½ï¿½ï¿½ï¿½ï¿",
           "United Arab Emirates",
           "People & Blogs"
          ],
          [
           "Rauw Alejandro",
           null,
           "Music"
          ],
          [
           "EnriqueIglesiasVEVO",
           "United States",
           "Music"
          ],
          [
           "ýýýýýýýý ýýýý ýýýýýýýýýýýýýý",
           "Ukraine",
           "Shows"
          ],
          [
           "The Shiny Peanut",
           "Indonesia",
           "Education"
          ],
          [
           "Talking Angela",
           "United Kingdom",
           "Entertainment"
          ],
          [
           "Melon City Show - ï¿½ï¿½ï¿½ï¿½ï¿½ï¿½ï¿½ï¿½ï¿½ï¿½ï¿",
           "Iraq",
           "Comedy"
          ],
          [
           "Duo Tiempo De Sol",
           "Spain",
           "Music"
          ],
          [
           "Troom Troom India",
           null,
           "Howto & Style"
          ],
          [
           "MrSuicideSheep",
           "Canada",
           "Entertainment"
          ],
          [
           "Adam W",
           "United States",
           "Comedy"
          ],
          [
           "Right to Shiksha",
           "India",
           "Education"
          ],
          [
           "Beyoncï¿½ï¿½",
           "United States",
           "Music"
          ],
          [
           "FACT FIRE KING",
           "India",
           null
          ],
          [
           "Ian Lucas",
           null,
           "Entertainment"
          ],
          [
           "Franco Escamilla",
           "Mexico",
           "Comedy"
          ],
          [
           "Adexe & Nau",
           "Spain",
           "Music"
          ],
          [
           "Diana and Roma IND",
           "United States",
           null
          ],
          [
           "Jass Records",
           null,
           "Music"
          ],
          [
           "Future",
           "United States",
           "Music"
          ],
          [
           "YoungBoy Never Broke Again",
           "United States",
           "Entertainment"
          ],
          [
           "Blossom",
           "United States",
           "Howto & Style"
          ],
          [
           "#Refï¿½ï¿½ï¿½ï¿½",
           null,
           "Entertainment"
          ],
          [
           "Piuzinho",
           "Brazil",
           "Gaming"
          ],
          [
           "Heidi y Zidane",
           "United States",
           null
          ],
          [
           "Go Ami Go!",
           "Colombia",
           "People & Blogs"
          ],
          [
           "Morgz",
           "United Kingdom",
           "Gaming"
          ],
          [
           "CaseyNeistat",
           "United States",
           "People & Blogs"
          ],
          [
           "ýýýýýýýýýSULGI",
           "South Korea",
           "People & Blogs"
          ],
          [
           "NickiMinajAtVEVO",
           "United States",
           "Music"
          ],
          [
           "Ellie Goulding",
           "United Kingdom",
           "Music"
          ],
          [
           "colinfurze",
           "United Kingdom",
           "Entertainment"
          ],
          [
           "People Vs Food",
           "United States",
           "Entertainment"
          ],
          [
           "Wolfoo Family",
           "United States",
           null
          ],
          [
           "Ja Mill",
           null,
           "People & Blogs"
          ],
          [
           "Health Time",
           "India",
           "Howto & Style"
          ],
          [
           "Yair17",
           "Mexico",
           "Gaming"
          ],
          [
           "Little Baby Bum en Espaï¿½ï",
           "Spain",
           "Education"
          ],
          [
           "First We Feast",
           "United States",
           "Howto & Style"
          ],
          [
           "Mï¿½ï¿½ï¿½ï¿½",
           "Mexico",
           "Travel & Events"
          ],
          [
           "Bebefinn - Nursery Rhymes & Kids Songs",
           "United States",
           null
          ],
          [
           "Troom Troom PT",
           null,
           "Howto & Style"
          ],
          [
           "Parafernalha",
           "Brazil",
           "Entertainment"
          ],
          [
           "NDTV",
           "India",
           "Entertainment"
          ],
          [
           "elcarteldesantatv",
           "Mexico",
           "Music"
          ],
          [
           "Family Fitness",
           "India",
           "Entertainment"
          ],
          [
           "Zee Tamil",
           "India",
           "Entertainment"
          ],
          [
           "Flowers Comedy",
           "India",
           "Entertainment"
          ],
          [
           "Mundo Bita",
           "Brazil",
           "Music"
          ],
          [
           "Wave Music Bhakti",
           "India",
           "Music"
          ],
          [
           "Troom Troom Indonesia",
           null,
           "People & Blogs"
          ],
          [
           "CKM",
           "India",
           "Comedy"
          ],
          [
           "Quantum Tech HD",
           "Pakistan",
           "Science & Technology"
          ],
          [
           "_vector_",
           "United States",
           "Comedy"
          ],
          [
           "DEV Ke Facts",
           "India",
           null
          ],
          [
           "Hero Movies 2023",
           null,
           "People & Blogs"
          ],
          [
           "LOUD",
           "United States",
           "Gaming"
          ],
          [
           "Gibby :)",
           "Mexico",
           "People & Blogs"
          ],
          [
           "Gustavo Parï¿½ï¿½",
           "Brazil",
           "Comedy"
          ],
          [
           "SAAIHALILINTAR",
           "Indonesia",
           "Entertainment"
          ],
          [
           "Timba Vk",
           "Spain",
           "Gaming"
          ],
          [
           "Heidi and Zidane HZHtube",
           "Canada",
           "Entertainment"
          ],
          [
           "DaniRep | +6 Vï¿½ï¿½ï¿½ï¿½ï¿½ï¿½ï¿½ï¿½ï¿½ï¿½ï",
           "Spain",
           "Gaming"
          ],
          [
           "Zee Kids",
           "India",
           "Film & Animation"
          ],
          [
           "Pari's Lifestyle",
           "India",
           "People & Blogs"
          ],
          [
           "DisneyChannelUK",
           "United Kingdom",
           "Music"
          ],
          [
           "MoniLina",
           "United States",
           "Comedy"
          ],
          [
           "bharatzkitchen HINDI",
           "India",
           "Howto & Style"
          ],
          [
           "TKOR",
           null,
           "Education"
          ],
          [
           "ANNA KOVA",
           null,
           "People & Blogs"
          ],
          [
           "Avril Lavigne",
           "United States",
           "Music"
          ],
          [
           "Caylus",
           "United States",
           "Education"
          ],
          [
           "Migos ATL",
           "United States",
           "Music"
          ],
          [
           "Natan por Aï¿",
           "Brazil",
           "Sports"
          ],
          [
           "Free Fire India Official",
           "India",
           "People & Blogs"
          ],
          [
           "Panda",
           "United Kingdom",
           null
          ],
          [
           "RobTopGames",
           "Sweden",
           "Gaming"
          ],
          [
           "Make Joke Of",
           "India",
           "Comedy"
          ]
         ],
         "hovertemplate": "video views=%{x}<br>highest_monthly_earnings=%{y}<br>Youtuber=%{customdata[0]}<br>Country=%{customdata[1]}<br>category=%{customdata[2]}<br>created_year=%{marker.color}<extra></extra>",
         "legendgroup": "",
         "marker": {
          "color": [
           2006,
           2006,
           2012,
           2006,
           2006,
           2013,
           2015,
           2010,
           2016,
           2018,
           2014,
           2007,
           2013,
           2016,
           2006,
           2007,
           2020,
           2012,
           2006,
           2007,
           2008,
           2005,
           2011,
           2012,
           2013,
           2010,
           2008,
           2018,
           2009,
           2006,
           2007,
           2011,
           2014,
           2009,
           2009,
           2007,
           2015,
           2006,
           2016,
           2006,
           2014,
           2006,
           2007,
           2013,
           2013,
           2013,
           2006,
           2007,
           2007,
           2009,
           2006,
           2005,
           2011,
           2016,
           2006,
           2013,
           2008,
           2005,
           2008,
           2013,
           2008,
           2006,
           2016,
           2005,
           2011,
           2016,
           2012,
           2014,
           2017,
           2005,
           2005,
           2016,
           2011,
           2010,
           2011,
           2018,
           2017,
           2021,
           2014,
           2015,
           2006,
           2015,
           2012,
           2014,
           2009,
           2018,
           2015,
           2016,
           2006,
           2014,
           2011,
           2018,
           2017,
           2013,
           2017,
           2012,
           2015,
           2006,
           2006,
           2009,
           2014,
           2013,
           2016,
           2011,
           2013,
           2013,
           2006,
           2012,
           2006,
           2012,
           2015,
           2016,
           2020,
           2010,
           2016,
           2011,
           2017,
           2013,
           2008,
           2006,
           2013,
           2018,
           2008,
           2006,
           2014,
           2013,
           2011,
           2008,
           2016,
           2016,
           2012,
           2012,
           2010,
           2011,
           2006,
           2013,
           2006,
           2012,
           2006,
           2006,
           2006,
           2017,
           2012,
           2012,
           2018,
           2014,
           2011,
           2009,
           2006,
           2013,
           2018,
           2006,
           2015,
           2009,
           2016,
           2016,
           2007,
           2016,
           2014,
           2012,
           2018,
           2012,
           2008,
           2008,
           2008,
           2006,
           2007,
           2015,
           2007,
           2011,
           2009,
           2006,
           2017,
           2015,
           2015,
           2012,
           2006,
           2021,
           2014,
           2010,
           2006,
           2012,
           2019,
           2014,
           2011,
           2011,
           2005,
           2005,
           2016,
           2008,
           2013,
           2009,
           2011,
           2008,
           2008,
           2015,
           2012,
           2012,
           2017,
           2017,
           2015,
           2018,
           2009,
           2011,
           2016,
           2011,
           2012,
           2016,
           2008,
           2015,
           2020,
           2020,
           2015,
           2019,
           2020,
           2005,
           2019,
           2018,
           2005,
           2008,
           2013,
           2011,
           2009,
           2012,
           2013,
           2019,
           2009,
           2006,
           2011,
           2015,
           2016,
           2010,
           2019,
           2015,
           2014,
           2015,
           2009,
           2007,
           2014,
           2016,
           2015,
           2009,
           2006,
           2020,
           2009,
           2011,
           2009,
           2011,
           2011,
           2018,
           2009,
           2014,
           2021,
           2019,
           2019,
           2014,
           2009,
           2014,
           2008,
           2019,
           2009,
           2020,
           2018,
           2012,
           2015,
           2011,
           2011,
           2016,
           2015,
           2007,
           2011,
           2012,
           2014,
           2020,
           2012,
           2014,
           2015,
           2013,
           2014,
           2014,
           2014,
           2020,
           2014,
           2006,
           2016,
           2008,
           2017,
           2014,
           2010,
           2006,
           2016,
           2013,
           2019,
           2015,
           2006,
           2014,
           2011,
           2006,
           2012,
           2018,
           2020,
           2015,
           2019,
           2016,
           2020,
           2012,
           2010,
           2007,
           2021,
           2015,
           2018,
           2009,
           2016,
           2019,
           2013,
           2015,
           2009,
           2018,
           2021,
           2014,
           2014,
           2014,
           2008,
           2008,
           2006,
           2011,
           2010,
           2011,
           2017,
           2019,
           2020,
           2013,
           2018,
           2019,
           2018,
           2014,
           2006,
           2016,
           2013,
           2017,
           2017,
           2011,
           2016,
           2014,
           2021,
           2017,
           2017,
           2009,
           2016,
           2016,
           2006,
           2015,
           2013,
           2018,
           2013,
           2013,
           2014,
           2020,
           2013,
           2006,
           2011,
           2013,
           2020,
           2018,
           2013,
           2015,
           2005,
           2007,
           2017,
           2009,
           2006,
           2015,
           2017,
           2014,
           2013,
           2006,
           2007,
           2012,
           2013,
           2013,
           2018,
           2019,
           2009,
           2014,
           2012,
           2017,
           2020,
           2021,
           2014,
           2013,
           2010,
           2011,
           2013,
           2007,
           2013,
           2017,
           2011,
           2011,
           2007,
           2006,
           2006,
           2006,
           2011,
           2010,
           2011,
           2017,
           2013,
           2010,
           2016,
           2011,
           2008,
           2006,
           2009,
           2013,
           2020,
           2016,
           2013,
           2014,
           2017,
           2017,
           2010,
           2006,
           2021,
           2007,
           2010,
           2005,
           2011,
           2006,
           2014,
           2016,
           2018,
           2018,
           2018,
           2017,
           2012,
           2007,
           2007,
           2014,
           2014,
           2018,
           2011,
           2015,
           2017,
           2021,
           2009,
           2014,
           2014,
           2005,
           2016,
           2007,
           2019,
           2014,
           2013,
           2007,
           2008,
           2016,
           2016,
           2014,
           2009,
           2011,
           2011,
           2007,
           2009,
           2017,
           2009,
           2016,
           2019,
           2017,
           2012,
           2015,
           2011,
           2014,
           2010,
           2009,
           2006,
           2009,
           2006,
           2013,
           2014,
           2012,
           2011,
           2014,
           2015,
           2013,
           2015,
           2008,
           2019,
           2008,
           2009,
           2020,
           2021,
           2021,
           2017,
           2012,
           2010,
           2018,
           2016,
           2015,
           2012,
           2006,
           2009,
           2013,
           2014,
           2011,
           2017,
           2014,
           2011,
           2016,
           2007,
           2017,
           2006,
           2012,
           2014,
           2013,
           2016,
           2005,
           2016,
           2014,
           2011,
           2012,
           2008,
           2011,
           2014,
           2015,
           2009,
           2012,
           2014,
           2013,
           2008,
           2013,
           2008,
           2009,
           2011,
           2006,
           2013,
           2005,
           2017,
           2016,
           2016,
           2016,
           2018,
           2021,
           2019,
           2013,
           2022,
           2009,
           2012,
           2010,
           2014,
           2018,
           2010,
           2017,
           2013,
           2011,
           2011,
           2021,
           2006,
           2014,
           2011,
           2009,
           2016,
           2011,
           2011,
           2006,
           2010,
           2020,
           2015,
           2010,
           2010,
           2007,
           2015,
           2011,
           2012,
           2006,
           2011,
           2013,
           2012,
           2005,
           2018,
           2012,
           2011,
           2014,
           2010,
           2005,
           2020,
           2006,
           2015,
           2015,
           2015,
           2019,
           2017,
           2016,
           2015,
           2006,
           2020,
           2008,
           2008,
           2017,
           2014,
           2015,
           2007,
           2017,
           2017,
           2016,
           2006,
           2014,
           2010,
           2016,
           2010,
           2016,
           2007,
           2017,
           2011,
           2012,
           2017,
           2019,
           2014,
           2014,
           2016,
           2010,
           2012,
           2008,
           2010,
           2018,
           2017,
           2017,
           2010,
           2016,
           2017,
           2009,
           2016,
           2017,
           2010,
           2017,
           2015,
           2018,
           2016,
           2013,
           2011,
           2008,
           2016,
           2018,
           2006,
           2014,
           2017,
           2021,
           2011,
           2017,
           2015,
           2013,
           2012,
           2014,
           2011,
           2014,
           2005,
           2008,
           2017,
           2019,
           2017,
           2006,
           2008,
           2013,
           2010,
           2013,
           2021,
           2014,
           2013,
           2005,
           2016,
           2009,
           2020,
           2009,
           2013,
           2014,
           2018,
           2009,
           2006,
           2014,
           2005,
           2008,
           2018,
           2016,
           2014,
           2020,
           2008,
           2013,
           2014,
           2012,
           2017,
           2007,
           2012,
           2006,
           2007,
           2012,
           2011,
           2021,
           2008,
           2011,
           2012,
           2006,
           2006,
           2010,
           2013,
           2015,
           2008,
           2008,
           2013,
           2015,
           2021,
           2019,
           2016,
           2017,
           2010,
           2010,
           2015,
           2006,
           2006,
           2012,
           2013,
           2006,
           2014,
           2014,
           2013,
           2012,
           2015,
           2012,
           2011,
           2014,
           2013,
           2014,
           2019,
           2019,
           2017,
           2021,
           2017,
           2015,
           2006,
           2018,
           2016,
           2016,
           2007,
           2011,
           2018,
           2009,
           2012,
           2016,
           2010,
           2017,
           2017,
           2014,
           2006,
           2017,
           2007,
           2010,
           2008,
           2014,
           2010,
           2018,
           2020,
           2015,
           2009,
           2018,
           2014,
           2011,
           2014,
           2014,
           2016,
           2008,
           2015,
           2016,
           2014,
           2005,
           2006,
           2018,
           2008,
           2011,
           2012,
           2013,
           2017,
           2015,
           2007,
           2016,
           2011,
           2011,
           2011,
           2006,
           2012,
           2014,
           2014,
           2013,
           2012,
           2011,
           2014,
           2015,
           2007,
           2015,
           2012,
           2012,
           2009,
           2020,
           2011,
           2018,
           2021,
           2006,
           2018,
           2010,
           2010,
           2015,
           2006,
           2017,
           2017,
           2019,
           2007,
           2014,
           2009,
           2015,
           2013,
           2008,
           2021,
           2009,
           2014,
           2014,
           2009,
           2011,
           2020,
           2014,
           2017,
           2011,
           2007,
           2016,
           2005,
           2013,
           2019,
           2008,
           2012,
           2015,
           2006,
           2016,
           2015,
           2013,
           2019,
           2006,
           2010,
           2018,
           2007,
           2016,
           2022,
           2017,
           2006,
           2014,
           2007,
           2007,
           2014,
           2006,
           2011,
           2006,
           2007,
           2007,
           2007,
           2008,
           2015,
           2011,
           2014,
           2007,
           2007,
           2014,
           2013,
           2015,
           2021,
           2019,
           2017,
           2007,
           2010,
           2013,
           2018,
           2011,
           2010,
           2011,
           2015,
           2017,
           2022,
           2017,
           2016,
           2010,
           2010,
           2019,
           2015,
           2014,
           2017,
           2013,
           2016,
           2011,
           2009,
           2006,
           2011,
           2009,
           2016,
           2015,
           2021,
           2020,
           2007,
           2021,
           2017,
           2012,
           2012,
           2013,
           2015,
           2010,
           2016,
           2014,
           2005,
           2006,
           2014,
           2009,
           2014,
           2016,
           2014,
           2016,
           2013,
           2015,
           2010,
           2015,
           2020,
           2009,
           2020,
           2016,
           2007,
           2013,
           2019,
           2012,
           2020,
           2015,
           2017,
           2013,
           2015,
           2019,
           2015,
           2014,
           2010,
           2012,
           2010,
           2007,
           2006,
           2013,
           2019,
           2006,
           2016,
           2014,
           2014,
           2014,
           2015,
           2022,
           2015,
           2011,
           2006,
           2008,
           2017,
           2008,
           2015,
           2011,
           2011,
           2020,
           2018,
           2022,
           2019,
           2012,
           2017,
           2006,
           2014,
           2010,
           2012,
           2012,
           2015,
           2012,
           2012,
           2018,
           2007,
           2016,
           2016,
           2006,
           2006,
           2005,
           2016,
           2012,
           2017,
           2018,
           2006,
           2012,
           2017
          ],
          "coloraxis": "coloraxis",
          "symbol": "circle"
         },
         "mode": "markers",
         "name": "",
         "orientation": "v",
         "showlegend": false,
         "type": "scatter",
         "x": [
          228000000000,
          0,
          28368841870,
          164000000000,
          148000000000,
          0,
          93247040539,
          29058044447,
          90479060027,
          77180169894,
          57856289381,
          77428473662,
          0,
          32144597566,
          24118230580,
          101000000000,
          26236790209,
          20826993957,
          0,
          30608119724,
          28634566938,
          73139054467,
          38843229963,
          36775585925,
          45757850229,
          28648024439,
          61510906457,
          29533230328,
          16241549158,
          59316472754,
          33431802698,
          57271630846,
          40602020243,
          25307753534,
          28837144516,
          27073872856,
          14696003229,
          35302243691,
          32312431239,
          30367676736,
          30516172739,
          29884657286,
          24004842608,
          9877365274,
          14631710289,
          13626331061,
          30788679536,
          22519705183,
          19398045702,
          27286058807,
          22936630813,
          30686342319,
          10323391593,
          21388725229,
          16602198273,
          7828610828,
          41139050371,
          10708531817,
          25458952022,
          4274709210,
          50292540392,
          12884264778,
          4831311245,
          27568757295,
          36458726976,
          37939780685,
          26820902622,
          24519022988,
          19547696190,
          22477745835,
          17608931161,
          5603111948,
          39450824833,
          8670473639,
          7410536668,
          47005053156,
          23884824160,
          22302547082,
          3294013141,
          10507474316,
          44900897958,
          16118181673,
          36131228583,
          25154232306,
          7339333120,
          21528116909,
          16718192386,
          13598903820,
          22756581750,
          28519339489,
          22731415608,
          23510152352,
          18208196857,
          27262462114,
          16402066717,
          13102611515,
          24188861917,
          19378155425,
          22553923546,
          15653786446,
          18961241905,
          0,
          23355801606,
          6331332547,
          27118354077,
          15657673422,
          16105023749,
          22637783517,
          5556364230,
          20297931219,
          55299840198,
          25607397308,
          21306315429,
          9690499664,
          12746535822,
          23005313609,
          3963007415,
          11351015824,
          15432929204,
          27274550757,
          23492684419,
          10189027455,
          13013567335,
          14864294792,
          29611914495,
          11405809704,
          10530729078,
          20269857567,
          5994136760,
          26355088167,
          17853798780,
          19180039918,
          28516250629,
          23379969006,
          16613441479,
          18699145555,
          10602236110,
          13061739758,
          26800674545,
          27330239663,
          19428308461,
          6762424690,
          5711208484,
          16476978876,
          21031745531,
          2930015381,
          11615848291,
          26583873105,
          15176762479,
          22919271731,
          9673649438,
          17111726160,
          6187804950,
          16793072362,
          12355992466,
          3145161634,
          16709857823,
          4521573939,
          4332274962,
          14037426379,
          17999961915,
          13546549817,
          14199108016,
          15199330166,
          27684955537,
          7277493940,
          19607009165,
          22593193994,
          16246625836,
          12831200855,
          4457913639,
          17208027242,
          0,
          21226945136,
          14727238483,
          11627437847,
          4079141673,
          19466238065,
          17930570614,
          25857994495,
          9956764048,
          10062770060,
          13577142726,
          14814192034,
          23844936965,
          7600740993,
          14412474625,
          15318895118,
          8603468420,
          2303069221,
          21037851468,
          15777682516,
          4552581106,
          13379395501,
          19883150017,
          10336420490,
          19417887510,
          22440611155,
          7705492350,
          15916882228,
          17318452893,
          12732444881,
          6570935979,
          7938616641,
          4388047013,
          10317306313,
          7173668905,
          15065753455,
          20358117330,
          8595760553,
          27006526665,
          17211600007,
          4749833967,
          31977463002,
          16097531087,
          10435474336,
          7886440199,
          14101010609,
          17308961985,
          18597534412,
          11372071889,
          15541421838,
          17793809548,
          7466926260,
          10242981063,
          7962725960,
          25592378292,
          2726917087,
          14401218086,
          6430853035,
          34300482066,
          17331663193,
          9602246828,
          11081602368,
          7968363381,
          10409352249,
          19458807708,
          16357064198,
          14169516119,
          14827085149,
          17387583720,
          2588501115,
          3699352704,
          14655527943,
          20531704527,
          2994726412,
          23755792542,
          3647987299,
          23962070944,
          12385924995,
          2380248899,
          6608773195,
          2700914170,
          15724160183,
          329774870,
          10999000479,
          12916159065,
          56106087508,
          8425505919,
          11041261296,
          6002166932,
          13943030228,
          5652938599,
          8279004442,
          4067878931,
          6582932625,
          7213499085,
          5663125358,
          10414479943,
          17688774915,
          2543809954,
          7451792132,
          15510153803,
          20289689389,
          15901824841,
          2135644776,
          5994002464,
          6766461070,
          7920637200,
          14777034543,
          14696994366,
          9465863821,
          7926899136,
          22471357411,
          2634,
          15751661213,
          7966720147,
          12889240875,
          25579831081,
          2551113422,
          9299371231,
          13151870846,
          31494513067,
          3378047383,
          6041264489,
          10939966484,
          5320485069,
          5380073627,
          16298342829,
          13206471140,
          17988347989,
          10115316784,
          11568118121,
          20847038152,
          9223534599,
          14231943358,
          17507060680,
          13405849040,
          27084848152,
          2431154438,
          10613701948,
          13835173331,
          8040036209,
          8663830163,
          24059336857,
          11136266461,
          9924807127,
          8594440895,
          18347969186,
          4454917643,
          5918314128,
          15552070846,
          20657571751,
          4469711607,
          5614621131,
          11288359365,
          12140232004,
          19329351143,
          7780934187,
          9392093496,
          8507818877,
          9597894786,
          5863377051,
          9346383505,
          5890180734,
          15013096899,
          22065582014,
          8409641722,
          1573058816,
          6264261757,
          6269945014,
          10644857969,
          12761253839,
          5141834668,
          10047736580,
          12895427184,
          2073073070,
          11364908616,
          5783557209,
          4526271677,
          4380564906,
          7762905663,
          10631638628,
          9789121606,
          1693149479,
          3828000587,
          4927879069,
          11058049885,
          0,
          17324976752,
          1870608170,
          2378448129,
          17963202261,
          5091618606,
          5410164682,
          8658941531,
          12624879732,
          4956090094,
          7657171980,
          10292874715,
          15038593883,
          8768697257,
          11009148579,
          1796227417,
          7311322368,
          13397000296,
          29406206620,
          4707412332,
          3579555124,
          2441288701,
          11022391339,
          11819051552,
          2951914200,
          2764127969,
          7066711323,
          7274150246,
          20919403720,
          19694265358,
          6098644584,
          23353115850,
          6618524158,
          8920141342,
          10366850490,
          11317309935,
          14816075927,
          6119294270,
          5634695322,
          17913237851,
          13154314376,
          559765455,
          3875172235,
          6033295543,
          9715291883,
          13917423958,
          3234880084,
          5759442450,
          12293479945,
          1803249241,
          7452667615,
          10955619815,
          11323617496,
          9808676159,
          2851024430,
          13930021471,
          8779729549,
          7906181776,
          3961318438,
          5234251168,
          2255542592,
          1577859332,
          23038014291,
          5529131886,
          264228052,
          2897907132,
          4508184467,
          4329121104,
          7590582024,
          13124645973,
          4566120190,
          5194942269,
          6339584661,
          4924054368,
          7229175322,
          8281724393,
          13824277846,
          16014044618,
          15126092508,
          2855519150,
          8301731337,
          9813245108,
          3654621568,
          5257834105,
          7634430188,
          7762077012,
          9573641299,
          9594188708,
          3276891538,
          12295637162,
          6148303268,
          6047584292,
          7008250496,
          20196704276,
          8761255550,
          2908120896,
          3457618361,
          4558380251,
          8147575884,
          4051072188,
          4120324310,
          7038827526,
          11544297793,
          11280732382,
          25367126292,
          1606834186,
          7760819588,
          1556003039,
          9937823152,
          3213324455,
          13378360425,
          3306242674,
          9983065083,
          14857290259,
          10703830496,
          12249828886,
          3980991248,
          9601137077,
          15412333005,
          10463166404,
          17921124985,
          6404852037,
          8716982055,
          7176572299,
          3841205465,
          5168721499,
          5244917119,
          6888074944,
          9867515979,
          9887116267,
          16174530046,
          6746269458,
          11057945183,
          8588704539,
          19206701832,
          7387621644,
          20115544708,
          7912733203,
          3647267655,
          4196061192,
          7739048000,
          8396875537,
          9059696049,
          17247584185,
          9269174070,
          2274007523,
          2977741577,
          6306204566,
          3802280098,
          2238134438,
          7263619576,
          7612385622,
          16107116549,
          17763586483,
          13043561912,
          11144195464,
          16560557488,
          1026425106,
          902225615,
          11371738047,
          3684816159,
          14573155899,
          3606912471,
          7337212581,
          8903647480,
          11445492404,
          5024088947,
          4448334716,
          9710962528,
          2173106162,
          10847948832,
          1001465469,
          8229883114,
          14543594822,
          8684010451,
          9111000228,
          3827906874,
          4609753237,
          9270331567,
          9544277833,
          3523578665,
          2315962318,
          6518418501,
          7206462713,
          7195314800,
          3693798804,
          10393037902,
          7102965621,
          8826138204,
          7979736581,
          5089284369,
          1318442641,
          2798273962,
          3696973456,
          7435180827,
          9439857193,
          11946217860,
          15278668857,
          5819508534,
          2440934034,
          3037260680,
          7043235131,
          7406207930,
          3955426159,
          4434679706,
          7135820721,
          9463244435,
          13478392540,
          14431830557,
          12844432341,
          3527627264,
          6578828147,
          6613422635,
          7520242626,
          10170264839,
          12475714382,
          7141825267,
          1656452554,
          4768370464,
          10227242833,
          8091706232,
          2990185467,
          4076692623,
          9763592867,
          14563841315,
          20522339099,
          14784781923,
          4488680903,
          4813127504,
          1517638132,
          0,
          7399296005,
          2687443643,
          5055576881,
          6872702790,
          7126210721,
          7155736006,
          15812009296,
          9642146451,
          6543629679,
          3018032423,
          3029872908,
          9786595271,
          5997599089,
          1845329502,
          9962188084,
          2609358468,
          6534326412,
          9198986881,
          9052367553,
          6802382479,
          1349288771,
          3392918989,
          4122634467,
          13116313599,
          9787697838,
          5914071870,
          6153495609,
          6626563508,
          5558051295,
          8696631898,
          1511794214,
          6862529416,
          7172386509,
          3869457097,
          6165757696,
          8984089026,
          5070970714,
          6386271870,
          7776706184,
          8265129639,
          14619523361,
          12880388253,
          12714141740,
          6396049701,
          4499826716,
          1781226000,
          11513738907,
          1543608082,
          5469103954,
          3736069980,
          14564170905,
          4909687948,
          4750420071,
          2656528205,
          10714145606,
          1640078055,
          9938811455,
          16545966132,
          857725714,
          4503880875,
          1491452935,
          6391679636,
          7151683497,
          7564652648,
          8333387785,
          14198154095,
          6624168155,
          1777072487,
          1576633086,
          2143140898,
          2400037562,
          1760131384,
          3060202847,
          2761547758,
          4236036141,
          4967784343,
          5324913850,
          6668507856,
          7857371770,
          9477021288,
          10489367372,
          13897932103,
          12413869881,
          4352427049,
          9924103188,
          8897705695,
          7159750970,
          2730879024,
          4008801873,
          4741434420,
          6889304306,
          7536093065,
          8658553456,
          9978734160,
          9996133066,
          10239836582,
          11827310821,
          13562853889,
          11506702632,
          8932038210,
          10069000444,
          8074260978,
          4033400167,
          4395184343,
          4977284539,
          5549770244,
          15913320995,
          439098,
          5956193599,
          8615618825,
          13356517783,
          1833519700,
          3587576784,
          5269059435,
          7018015062,
          8649303688,
          9076642765,
          9383431376,
          272678287,
          15788208522,
          8866012877,
          2230986039,
          1321380490,
          1506796393,
          2465473772,
          4029253667,
          6751985988,
          7255848125,
          8882319696,
          12362331529,
          12961669452,
          4684983333,
          2613197447,
          3337074920,
          3603556207,
          4622581344,
          5766647017,
          6017932195,
          11182302317,
          7952268926,
          2750902766,
          5525773746,
          6944967581,
          4577292740,
          1739129375,
          3551889957,
          4260187928,
          4598387043,
          4821183481,
          5014888374,
          6290721701,
          8582696157,
          9383692066,
          10303519926,
          20042571499,
          4315486422,
          9201428420,
          3517662420,
          600154268,
          2224121890,
          1629801448,
          351763324,
          2972474215,
          3086254545,
          3900312631,
          4035738731,
          4156427797,
          4597228794,
          6543282459,
          8011977288,
          9023952946,
          11423792969,
          18515587421,
          4776507159,
          6388439235,
          6048517979,
          4040297006,
          6973932553,
          1778318927,
          2084791147,
          3920559552,
          6554000320,
          7946322061,
          9964116817,
          10238593147,
          11428794827,
          3317805543,
          2131548711,
          3594936775,
          3920221322,
          5129529846,
          5405563355,
          6036496916,
          6884215292,
          19013942981,
          3280481927,
          4627069704,
          4959982720,
          2214167846,
          4674164601,
          7719743112,
          8623705301,
          9660950823,
          18917687143,
          13542939513,
          12597067132,
          5094050461,
          5673347763,
          9106781518,
          2244318380,
          7450345720,
          5217553897,
          5465532801,
          12129583055,
          12513842343,
          8451754769,
          2165885634,
          3193226072,
          2224911030,
          1820559912,
          1493776391,
          2480957682,
          5019136690,
          5727888539,
          6646953396,
          11039343563,
          1967930734,
          1973638757,
          1950178163,
          9596430464,
          2939201386,
          4963275018,
          5457203710,
          8134379376,
          5178142148,
          2135195239,
          2122062016,
          896891351,
          1948925559,
          3764608356,
          5141201173,
          9685060624,
          14717282742,
          1181292450,
          4301581610,
          3445794123,
          5380132790,
          5545936485,
          8265920659,
          3912334359,
          11717217293,
          7958771872,
          2750993392,
          1900272833,
          4622628957,
          11789678655,
          2139769210,
          20563378,
          2650061211,
          2319515787,
          3363634923,
          4356686216,
          9569814790,
          10022557589,
          4306212515,
          2262690743,
          6050102764,
          3299216601,
          3364230487,
          3733856870,
          4177184071,
          6482687220,
          9088562002,
          7923901253,
          7773543609,
          7406628736,
          2831275503,
          4129249415,
          6412313570,
          9884886099,
          1148422000,
          2036408398,
          3568392223,
          3789736218,
          4205664894,
          5224764969,
          5263540904,
          20743586601,
          9378175604,
          1138262456,
          1758603195,
          2182651464,
          1401914513,
          2733682792,
          9110348202,
          4712624489,
          1936582704,
          2555801802,
          4214172991,
          4399833602,
          4608751851,
          2879263916,
          5333569294,
          5264039679,
          6637820731,
          2683297849,
          1024467771,
          10664585,
          1698279553,
          5057163256,
          8739174649,
          9999238237,
          301547793,
          6270909026,
          4349562794,
          4637474071,
          2112274210,
          140022442,
          2509752944,
          3178222797,
          3643698504,
          6300933122,
          7520379951,
          11504090820,
          15446707595,
          5585085130,
          2848466522,
          3632438963,
          5863456698,
          6662288136,
          6804072897,
          6970899521,
          9502983550,
          7876740921,
          14185611472,
          1159290255,
          1450874545,
          4266957149,
          4579773883,
          5567832210,
          5958994201,
          9927699419,
          13174393401,
          4733873025,
          2709954270,
          1081285962,
          6001189018,
          1714955279,
          3303595310,
          3152402405,
          3485373675,
          8831179714,
          6969178081,
          1612094871,
          1136534702,
          161254021,
          1302818088,
          1002219689,
          1402042328,
          6956320454,
          2983799729,
          3140883140,
          4163639093,
          4384177908,
          4625777945,
          4935793409,
          7489455451,
          10384848759,
          11552190002,
          11691081301,
          16690788752,
          5146004207,
          5379684248,
          4465772496,
          4340213066,
          7597013023,
          1971226335,
          1689090619,
          2394143260,
          2862685032,
          2602614088,
          1113066203,
          2840137980,
          4021409291,
          6933660906,
          7683670251,
          7741764747,
          12607488647,
          16086808918,
          2315226648,
          3392022527,
          13959586308,
          6202090191,
          4779139505,
          6993406259,
          9029609749,
          1674409945,
          2214684303,
          374123483,
          2129773714
         ],
         "xaxis": "x",
         "y": [
          9000000,
          0.05,
          5400000,
          7900000,
          7300000,
          0,
          2900000,
          156700,
          195800,
          2300000,
          3200000,
          2900000,
          0,
          2000000,
          0.07,
          6600000,
          0,
          673200,
          0.06,
          705300,
          2400000,
          6800000,
          1900000,
          0,
          1700000,
          1000000,
          4800000,
          0.04,
          564800,
          458700,
          1700000,
          2400000,
          928100,
          1800000,
          1000000,
          1000000,
          448400,
          2000000,
          0.64,
          810900,
          3300000,
          2100000,
          640900,
          1100000,
          265600,
          587400,
          1200000,
          931000,
          2,
          1300000,
          0.38,
          0,
          135400,
          936000,
          521400,
          192100,
          5300000,
          0,
          537000,
          106700,
          706500,
          0.09,
          0.02,
          1400000,
          1200000,
          4600000,
          639000,
          2700000,
          212800,
          731700,
          723800,
          547000,
          395100,
          0,
          23100,
          0.02,
          990900,
          0.01,
          314800,
          233400,
          2200000,
          1100000,
          521800,
          6500000,
          182600,
          6400,
          3300000,
          25,
          87200,
          1700000,
          822400,
          976400,
          1300000,
          563000,
          199400,
          1100000,
          1000000,
          701000,
          611300,
          0,
          1300000,
          0,
          677000,
          0.13,
          1200000,
          2100000,
          1200000,
          1300000,
          0.21,
          509300,
          954500,
          1300000,
          0,
          0.34,
          405400,
          514800,
          2200000,
          719600,
          156400,
          1600000,
          843800,
          0,
          463200,
          1100000,
          0,
          98900,
          222600,
          544300,
          628400,
          510000,
          81100,
          5900000,
          1300000,
          1500000,
          0,
          1900000,
          226100,
          178000,
          6700000,
          933600,
          3200000,
          125800,
          436500,
          450600,
          613100,
          108100,
          1200000,
          420500,
          0,
          979700,
          14,
          0,
          762700,
          755300,
          412000,
          127300,
          1800000,
          631600,
          85800,
          183300,
          491700,
          90900,
          548400,
          0,
          465700,
          0,
          400200,
          430100,
          161700,
          355000,
          104700,
          327500,
          0,
          0.06,
          0,
          1200000,
          48600,
          243,
          439300,
          0,
          105700,
          909400,
          0.01,
          1200000,
          2700000,
          739900,
          634400,
          0.12,
          516800,
          0,
          509800,
          695300,
          0,
          361800,
          1200000,
          703400,
          314700,
          170200,
          408900,
          0.06,
          1700000,
          2000000,
          577800,
          331600,
          1100000,
          97500,
          472900,
          652500,
          356400,
          398700,
          4200000,
          4900000,
          69100,
          1900000,
          2900000,
          272600,
          0,
          2400000,
          221800,
          0.01,
          920700,
          219800,
          656900,
          122000,
          414500,
          0,
          1300000,
          0.08,
          782000,
          233900,
          3300000,
          795500,
          0.04,
          561300,
          0.01,
          1100000,
          377000,
          196000,
          492800,
          1100000,
          1300000,
          1300,
          537600,
          1600000,
          557800,
          93100,
          355800,
          354500,
          422300,
          679500,
          0.02,
          379400,
          134400,
          604800,
          1300000,
          1600000,
          1600000,
          1700000,
          253200,
          267500,
          21800,
          3000000,
          0.01,
          606800,
          232500,
          43400,
          711100,
          127,
          392200,
          491700,
          33500,
          0,
          131300,
          3000000,
          311700,
          187400,
          43200,
          178200,
          214400,
          166700,
          238500,
          1500000,
          113100,
          496700,
          0,
          572700,
          1300000,
          210700,
          520900,
          53000,
          1200000,
          513800,
          3000000,
          89000,
          142200,
          372700,
          0,
          0,
          676200,
          547300,
          8100000,
          620900,
          386500,
          3900000,
          1600000,
          326600,
          295300,
          381000,
          4700000,
          195000,
          260300,
          700400,
          289000,
          3,
          528400,
          557300,
          446000,
          735500,
          2800000,
          739800,
          936900,
          2700000,
          19,
          791800,
          183200,
          512200,
          204500,
          42,
          0,
          1100000,
          6400000,
          772700,
          778400,
          255700,
          454200,
          62,
          0.01,
          0.2,
          0,
          642800,
          640900,
          412700,
          2900000,
          273400,
          945200,
          2200000,
          0,
          569300,
          98800,
          107900,
          9900,
          473600,
          320200,
          533400,
          114400,
          209300,
          0,
          1500000,
          0,
          0.4,
          95600,
          117100,
          3500000,
          80000,
          0.5,
          2200000,
          292100,
          0.34,
          772700,
          324900,
          634200,
          104300,
          780800,
          158000,
          58600,
          0,
          3600000,
          116000,
          165200,
          345800,
          287100,
          451100,
          1100000,
          62200,
          0,
          453700,
          5000000,
          1800000,
          258000,
          886800,
          101100,
          21700,
          0,
          59400,
          1100000,
          423100,
          0.25,
          36400,
          92800,
          5300,
          156900,
          0,
          0,
          859200,
          22600,
          24500,
          65,
          15100,
          117500,
          0,
          216800,
          1,
          0.09,
          1100000,
          443200,
          9200000,
          89200,
          0,
          128400,
          9500,
          1100000,
          235500,
          148700,
          278500,
          66900,
          10900,
          114700,
          69000,
          123900,
          263700,
          184800,
          86300,
          493400,
          422800,
          307600,
          409600,
          432000,
          98300,
          0,
          561600,
          119500,
          312600,
          0.03,
          0,
          391000,
          272000,
          436100,
          0.41,
          0,
          409700,
          173600,
          674400,
          172000,
          0,
          153100,
          11300,
          195800,
          789500,
          57700,
          44000,
          216500,
          0,
          1100000,
          68300,
          511900,
          561000,
          1900000,
          72200,
          2000000,
          109200,
          192400,
          721600,
          260000,
          0,
          219100,
          1600000,
          0.02,
          443100,
          1000000,
          175300,
          5500000,
          34600,
          206700,
          110200,
          74200,
          116700,
          337900,
          1800000,
          410500,
          0.02,
          1700000,
          83,
          13600000,
          0,
          389700,
          1400000,
          192700,
          0,
          141300,
          1500000,
          470900,
          2600000,
          220500,
          109800,
          89400,
          400900,
          44400,
          84200,
          1600000,
          439400,
          393400,
          1800000,
          944000,
          452000,
          1700000,
          185900,
          3400,
          1300000,
          62100,
          61200,
          209300,
          290700,
          0.1,
          334800,
          61600,
          148700,
          183200,
          7000,
          375100,
          30500,
          0,
          199300,
          291600,
          43600,
          6500,
          145400,
          359100,
          1100000,
          598200,
          0,
          0,
          0,
          171300,
          176500,
          0.03,
          420500,
          182800,
          150,
          64600,
          60300,
          0,
          262,
          236800,
          616200,
          356000,
          2500000,
          796100,
          87800,
          451900,
          524800,
          97500,
          72100,
          37400,
          532800,
          351000,
          0,
          0,
          725500,
          119,
          115100,
          170800,
          154400,
          343100,
          352000,
          605900,
          71800,
          12300,
          253800,
          103600,
          132100,
          111200,
          1000000,
          899000,
          468800,
          152,
          0.02,
          2,
          38500,
          0,
          128000,
          55200,
          394900,
          1600000,
          3,
          1900000,
          1100000,
          0,
          296200,
          57100,
          18800,
          0,
          449600,
          0,
          39700,
          8000,
          256300,
          545600,
          659600,
          239600,
          96200,
          743900,
          287500,
          103000,
          205300,
          567400,
          3800,
          123000,
          345800,
          1300000,
          0,
          394600,
          352900,
          224900,
          109500,
          360000,
          0,
          363700,
          671600,
          540100,
          654700,
          0,
          556500,
          109500,
          131700,
          111900,
          320700,
          221500,
          6300,
          670800,
          331200,
          147200,
          79000,
          339500,
          308200,
          23700,
          1900000,
          1400000,
          261500,
          393300,
          39900,
          231200,
          843600,
          423900,
          17700,
          748000,
          198600,
          63900,
          104200,
          68900,
          0.34,
          49500,
          173600,
          47800,
          23900,
          0,
          184200,
          382400,
          163200,
          2000000,
          726600,
          2900000,
          339000,
          1000000,
          454300,
          581900,
          172500,
          0,
          135500,
          167200,
          118900,
          4,
          409400,
          968700,
          0,
          1300000,
          452300,
          1100000,
          731500,
          522900,
          479200,
          174300,
          44200,
          225400,
          55400,
          198200,
          1400000,
          31,
          159100,
          10,
          244800,
          28700,
          91900,
          84300,
          188500,
          206600,
          352500,
          0,
          152,
          4800000,
          212700,
          10800,
          19100,
          906,
          75900,
          297900,
          145400,
          0,
          317600,
          1400000,
          742800,
          163900,
          65600,
          242300,
          370400,
          42200,
          606800,
          142100,
          439500,
          150500,
          202700,
          556500,
          119800,
          1800,
          92100,
          11400,
          39600,
          265100,
          597000,
          19800,
          193800,
          193100,
          182500,
          1700000,
          392700,
          150300,
          192800,
          21300,
          5500,
          55600,
          4000,
          0.01,
          18700,
          45700,
          34500,
          14200,
          281600,
          106700,
          160400,
          850600,
          250800,
          354600,
          599200,
          1700,
          0,
          250600,
          76100,
          0.42,
          143700,
          217200,
          178300,
          566800,
          0,
          29,
          1500000,
          239700,
          51600,
          102400,
          27800,
          81,
          0.59,
          1400000,
          704200,
          542300,
          395300,
          40900,
          50000,
          40800,
          54800,
          107100,
          602300,
          806600,
          282500,
          5500000,
          534300,
          0.03,
          272200,
          426900,
          350600,
          18400,
          926200,
          133900,
          107500,
          0,
          389100,
          457000,
          176600,
          571000,
          398600,
          335800,
          54100,
          220500,
          106100,
          400200,
          314600,
          868400,
          351200,
          150600,
          29800,
          1500000,
          88900,
          111500,
          140500,
          256200,
          95600,
          0.02,
          189700,
          48400,
          122700,
          61100,
          43100,
          177700,
          226500,
          53700,
          130200,
          118800,
          6,
          141200,
          300600,
          716900,
          2000000,
          439300,
          43100,
          5300,
          368900,
          915600,
          4200,
          81100,
          0,
          58000,
          166700,
          67100,
          461800,
          1600000,
          0.01,
          174700,
          62800,
          7700,
          0.01,
          16900,
          180400,
          361000,
          647600,
          0,
          755800,
          69900,
          172500,
          282800,
          21500,
          1300000,
          35100,
          81500,
          0,
          101300,
          1100000,
          258100,
          207300,
          345100,
          477600,
          74100,
          46000,
          0.99,
          43400,
          227600,
          1300000,
          137800,
          0.01,
          176000,
          109400,
          242600,
          192900,
          251600,
          70400,
          203700,
          2,
          119500,
          12200,
          0,
          121900,
          0.01,
          4300000,
          164400,
          2,
          1500000,
          118100,
          0,
          127200,
          591,
          48000,
          16000,
          117500,
          365000,
          320900,
          822200,
          303100,
          284500,
          3400,
          111800,
          141300,
          216000,
          69100,
          72500,
          915800,
          855000,
          358300,
          205200,
          0,
          309900,
          40300,
          186400,
          0,
          1900,
          679900,
          175500,
          27800,
          14500,
          64500,
          1300000,
          235400,
          23800,
          452500,
          140100,
          146700,
          33900,
          61400,
          0,
          0,
          5600,
          35500,
          65300,
          445000,
          124000,
          0,
          54000,
          28600,
          234100,
          463500,
          942900,
          1400000,
          720100,
          854800,
          44300,
          0,
          52600,
          35,
          3600000,
          1100000,
          87300,
          110,
          41100,
          0,
          3200,
          96100,
          38400,
          330600,
          380700,
          152700,
          139000,
          0,
          123900,
          0,
          0.01,
          200800,
          710400,
          197600,
          2200000,
          258900,
          268,
          15500,
          96000
         ],
         "yaxis": "y"
        }
       ],
       "layout": {
        "coloraxis": {
         "colorbar": {
          "title": {
           "text": "created_year"
          }
         },
         "colorscale": [
          [
           0,
           "#0d0887"
          ],
          [
           0.1111111111111111,
           "#46039f"
          ],
          [
           0.2222222222222222,
           "#7201a8"
          ],
          [
           0.3333333333333333,
           "#9c179e"
          ],
          [
           0.4444444444444444,
           "#bd3786"
          ],
          [
           0.5555555555555556,
           "#d8576b"
          ],
          [
           0.6666666666666666,
           "#ed7953"
          ],
          [
           0.7777777777777778,
           "#fb9f3a"
          ],
          [
           0.8888888888888888,
           "#fdca26"
          ],
          [
           1,
           "#f0f921"
          ]
         ]
        },
        "legend": {
         "tracegroupgap": 0
        },
        "margin": {
         "t": 60
        },
        "template": {
         "data": {
          "bar": [
           {
            "error_x": {
             "color": "#2a3f5f"
            },
            "error_y": {
             "color": "#2a3f5f"
            },
            "marker": {
             "line": {
              "color": "#E5ECF6",
              "width": 0.5
             },
             "pattern": {
              "fillmode": "overlay",
              "size": 10,
              "solidity": 0.2
             }
            },
            "type": "bar"
           }
          ],
          "barpolar": [
           {
            "marker": {
             "line": {
              "color": "#E5ECF6",
              "width": 0.5
             },
             "pattern": {
              "fillmode": "overlay",
              "size": 10,
              "solidity": 0.2
             }
            },
            "type": "barpolar"
           }
          ],
          "carpet": [
           {
            "aaxis": {
             "endlinecolor": "#2a3f5f",
             "gridcolor": "white",
             "linecolor": "white",
             "minorgridcolor": "white",
             "startlinecolor": "#2a3f5f"
            },
            "baxis": {
             "endlinecolor": "#2a3f5f",
             "gridcolor": "white",
             "linecolor": "white",
             "minorgridcolor": "white",
             "startlinecolor": "#2a3f5f"
            },
            "type": "carpet"
           }
          ],
          "choropleth": [
           {
            "colorbar": {
             "outlinewidth": 0,
             "ticks": ""
            },
            "type": "choropleth"
           }
          ],
          "contour": [
           {
            "colorbar": {
             "outlinewidth": 0,
             "ticks": ""
            },
            "colorscale": [
             [
              0,
              "#0d0887"
             ],
             [
              0.1111111111111111,
              "#46039f"
             ],
             [
              0.2222222222222222,
              "#7201a8"
             ],
             [
              0.3333333333333333,
              "#9c179e"
             ],
             [
              0.4444444444444444,
              "#bd3786"
             ],
             [
              0.5555555555555556,
              "#d8576b"
             ],
             [
              0.6666666666666666,
              "#ed7953"
             ],
             [
              0.7777777777777778,
              "#fb9f3a"
             ],
             [
              0.8888888888888888,
              "#fdca26"
             ],
             [
              1,
              "#f0f921"
             ]
            ],
            "type": "contour"
           }
          ],
          "contourcarpet": [
           {
            "colorbar": {
             "outlinewidth": 0,
             "ticks": ""
            },
            "type": "contourcarpet"
           }
          ],
          "heatmap": [
           {
            "colorbar": {
             "outlinewidth": 0,
             "ticks": ""
            },
            "colorscale": [
             [
              0,
              "#0d0887"
             ],
             [
              0.1111111111111111,
              "#46039f"
             ],
             [
              0.2222222222222222,
              "#7201a8"
             ],
             [
              0.3333333333333333,
              "#9c179e"
             ],
             [
              0.4444444444444444,
              "#bd3786"
             ],
             [
              0.5555555555555556,
              "#d8576b"
             ],
             [
              0.6666666666666666,
              "#ed7953"
             ],
             [
              0.7777777777777778,
              "#fb9f3a"
             ],
             [
              0.8888888888888888,
              "#fdca26"
             ],
             [
              1,
              "#f0f921"
             ]
            ],
            "type": "heatmap"
           }
          ],
          "heatmapgl": [
           {
            "colorbar": {
             "outlinewidth": 0,
             "ticks": ""
            },
            "colorscale": [
             [
              0,
              "#0d0887"
             ],
             [
              0.1111111111111111,
              "#46039f"
             ],
             [
              0.2222222222222222,
              "#7201a8"
             ],
             [
              0.3333333333333333,
              "#9c179e"
             ],
             [
              0.4444444444444444,
              "#bd3786"
             ],
             [
              0.5555555555555556,
              "#d8576b"
             ],
             [
              0.6666666666666666,
              "#ed7953"
             ],
             [
              0.7777777777777778,
              "#fb9f3a"
             ],
             [
              0.8888888888888888,
              "#fdca26"
             ],
             [
              1,
              "#f0f921"
             ]
            ],
            "type": "heatmapgl"
           }
          ],
          "histogram": [
           {
            "marker": {
             "pattern": {
              "fillmode": "overlay",
              "size": 10,
              "solidity": 0.2
             }
            },
            "type": "histogram"
           }
          ],
          "histogram2d": [
           {
            "colorbar": {
             "outlinewidth": 0,
             "ticks": ""
            },
            "colorscale": [
             [
              0,
              "#0d0887"
             ],
             [
              0.1111111111111111,
              "#46039f"
             ],
             [
              0.2222222222222222,
              "#7201a8"
             ],
             [
              0.3333333333333333,
              "#9c179e"
             ],
             [
              0.4444444444444444,
              "#bd3786"
             ],
             [
              0.5555555555555556,
              "#d8576b"
             ],
             [
              0.6666666666666666,
              "#ed7953"
             ],
             [
              0.7777777777777778,
              "#fb9f3a"
             ],
             [
              0.8888888888888888,
              "#fdca26"
             ],
             [
              1,
              "#f0f921"
             ]
            ],
            "type": "histogram2d"
           }
          ],
          "histogram2dcontour": [
           {
            "colorbar": {
             "outlinewidth": 0,
             "ticks": ""
            },
            "colorscale": [
             [
              0,
              "#0d0887"
             ],
             [
              0.1111111111111111,
              "#46039f"
             ],
             [
              0.2222222222222222,
              "#7201a8"
             ],
             [
              0.3333333333333333,
              "#9c179e"
             ],
             [
              0.4444444444444444,
              "#bd3786"
             ],
             [
              0.5555555555555556,
              "#d8576b"
             ],
             [
              0.6666666666666666,
              "#ed7953"
             ],
             [
              0.7777777777777778,
              "#fb9f3a"
             ],
             [
              0.8888888888888888,
              "#fdca26"
             ],
             [
              1,
              "#f0f921"
             ]
            ],
            "type": "histogram2dcontour"
           }
          ],
          "mesh3d": [
           {
            "colorbar": {
             "outlinewidth": 0,
             "ticks": ""
            },
            "type": "mesh3d"
           }
          ],
          "parcoords": [
           {
            "line": {
             "colorbar": {
              "outlinewidth": 0,
              "ticks": ""
             }
            },
            "type": "parcoords"
           }
          ],
          "pie": [
           {
            "automargin": true,
            "type": "pie"
           }
          ],
          "scatter": [
           {
            "fillpattern": {
             "fillmode": "overlay",
             "size": 10,
             "solidity": 0.2
            },
            "type": "scatter"
           }
          ],
          "scatter3d": [
           {
            "line": {
             "colorbar": {
              "outlinewidth": 0,
              "ticks": ""
             }
            },
            "marker": {
             "colorbar": {
              "outlinewidth": 0,
              "ticks": ""
             }
            },
            "type": "scatter3d"
           }
          ],
          "scattercarpet": [
           {
            "marker": {
             "colorbar": {
              "outlinewidth": 0,
              "ticks": ""
             }
            },
            "type": "scattercarpet"
           }
          ],
          "scattergeo": [
           {
            "marker": {
             "colorbar": {
              "outlinewidth": 0,
              "ticks": ""
             }
            },
            "type": "scattergeo"
           }
          ],
          "scattergl": [
           {
            "marker": {
             "colorbar": {
              "outlinewidth": 0,
              "ticks": ""
             }
            },
            "type": "scattergl"
           }
          ],
          "scattermapbox": [
           {
            "marker": {
             "colorbar": {
              "outlinewidth": 0,
              "ticks": ""
             }
            },
            "type": "scattermapbox"
           }
          ],
          "scatterpolar": [
           {
            "marker": {
             "colorbar": {
              "outlinewidth": 0,
              "ticks": ""
             }
            },
            "type": "scatterpolar"
           }
          ],
          "scatterpolargl": [
           {
            "marker": {
             "colorbar": {
              "outlinewidth": 0,
              "ticks": ""
             }
            },
            "type": "scatterpolargl"
           }
          ],
          "scatterternary": [
           {
            "marker": {
             "colorbar": {
              "outlinewidth": 0,
              "ticks": ""
             }
            },
            "type": "scatterternary"
           }
          ],
          "surface": [
           {
            "colorbar": {
             "outlinewidth": 0,
             "ticks": ""
            },
            "colorscale": [
             [
              0,
              "#0d0887"
             ],
             [
              0.1111111111111111,
              "#46039f"
             ],
             [
              0.2222222222222222,
              "#7201a8"
             ],
             [
              0.3333333333333333,
              "#9c179e"
             ],
             [
              0.4444444444444444,
              "#bd3786"
             ],
             [
              0.5555555555555556,
              "#d8576b"
             ],
             [
              0.6666666666666666,
              "#ed7953"
             ],
             [
              0.7777777777777778,
              "#fb9f3a"
             ],
             [
              0.8888888888888888,
              "#fdca26"
             ],
             [
              1,
              "#f0f921"
             ]
            ],
            "type": "surface"
           }
          ],
          "table": [
           {
            "cells": {
             "fill": {
              "color": "#EBF0F8"
             },
             "line": {
              "color": "white"
             }
            },
            "header": {
             "fill": {
              "color": "#C8D4E3"
             },
             "line": {
              "color": "white"
             }
            },
            "type": "table"
           }
          ]
         },
         "layout": {
          "annotationdefaults": {
           "arrowcolor": "#2a3f5f",
           "arrowhead": 0,
           "arrowwidth": 1
          },
          "autotypenumbers": "strict",
          "coloraxis": {
           "colorbar": {
            "outlinewidth": 0,
            "ticks": ""
           }
          },
          "colorscale": {
           "diverging": [
            [
             0,
             "#8e0152"
            ],
            [
             0.1,
             "#c51b7d"
            ],
            [
             0.2,
             "#de77ae"
            ],
            [
             0.3,
             "#f1b6da"
            ],
            [
             0.4,
             "#fde0ef"
            ],
            [
             0.5,
             "#f7f7f7"
            ],
            [
             0.6,
             "#e6f5d0"
            ],
            [
             0.7,
             "#b8e186"
            ],
            [
             0.8,
             "#7fbc41"
            ],
            [
             0.9,
             "#4d9221"
            ],
            [
             1,
             "#276419"
            ]
           ],
           "sequential": [
            [
             0,
             "#0d0887"
            ],
            [
             0.1111111111111111,
             "#46039f"
            ],
            [
             0.2222222222222222,
             "#7201a8"
            ],
            [
             0.3333333333333333,
             "#9c179e"
            ],
            [
             0.4444444444444444,
             "#bd3786"
            ],
            [
             0.5555555555555556,
             "#d8576b"
            ],
            [
             0.6666666666666666,
             "#ed7953"
            ],
            [
             0.7777777777777778,
             "#fb9f3a"
            ],
            [
             0.8888888888888888,
             "#fdca26"
            ],
            [
             1,
             "#f0f921"
            ]
           ],
           "sequentialminus": [
            [
             0,
             "#0d0887"
            ],
            [
             0.1111111111111111,
             "#46039f"
            ],
            [
             0.2222222222222222,
             "#7201a8"
            ],
            [
             0.3333333333333333,
             "#9c179e"
            ],
            [
             0.4444444444444444,
             "#bd3786"
            ],
            [
             0.5555555555555556,
             "#d8576b"
            ],
            [
             0.6666666666666666,
             "#ed7953"
            ],
            [
             0.7777777777777778,
             "#fb9f3a"
            ],
            [
             0.8888888888888888,
             "#fdca26"
            ],
            [
             1,
             "#f0f921"
            ]
           ]
          },
          "colorway": [
           "#636efa",
           "#EF553B",
           "#00cc96",
           "#ab63fa",
           "#FFA15A",
           "#19d3f3",
           "#FF6692",
           "#B6E880",
           "#FF97FF",
           "#FECB52"
          ],
          "font": {
           "color": "#2a3f5f"
          },
          "geo": {
           "bgcolor": "white",
           "lakecolor": "white",
           "landcolor": "#E5ECF6",
           "showlakes": true,
           "showland": true,
           "subunitcolor": "white"
          },
          "hoverlabel": {
           "align": "left"
          },
          "hovermode": "closest",
          "mapbox": {
           "style": "light"
          },
          "paper_bgcolor": "white",
          "plot_bgcolor": "#E5ECF6",
          "polar": {
           "angularaxis": {
            "gridcolor": "white",
            "linecolor": "white",
            "ticks": ""
           },
           "bgcolor": "#E5ECF6",
           "radialaxis": {
            "gridcolor": "white",
            "linecolor": "white",
            "ticks": ""
           }
          },
          "scene": {
           "xaxis": {
            "backgroundcolor": "#E5ECF6",
            "gridcolor": "white",
            "gridwidth": 2,
            "linecolor": "white",
            "showbackground": true,
            "ticks": "",
            "zerolinecolor": "white"
           },
           "yaxis": {
            "backgroundcolor": "#E5ECF6",
            "gridcolor": "white",
            "gridwidth": 2,
            "linecolor": "white",
            "showbackground": true,
            "ticks": "",
            "zerolinecolor": "white"
           },
           "zaxis": {
            "backgroundcolor": "#E5ECF6",
            "gridcolor": "white",
            "gridwidth": 2,
            "linecolor": "white",
            "showbackground": true,
            "ticks": "",
            "zerolinecolor": "white"
           }
          },
          "shapedefaults": {
           "line": {
            "color": "#2a3f5f"
           }
          },
          "ternary": {
           "aaxis": {
            "gridcolor": "white",
            "linecolor": "white",
            "ticks": ""
           },
           "baxis": {
            "gridcolor": "white",
            "linecolor": "white",
            "ticks": ""
           },
           "bgcolor": "#E5ECF6",
           "caxis": {
            "gridcolor": "white",
            "linecolor": "white",
            "ticks": ""
           }
          },
          "title": {
           "x": 0.05
          },
          "xaxis": {
           "automargin": true,
           "gridcolor": "white",
           "linecolor": "white",
           "ticks": "",
           "title": {
            "standoff": 15
           },
           "zerolinecolor": "white",
           "zerolinewidth": 2
          },
          "yaxis": {
           "automargin": true,
           "gridcolor": "white",
           "linecolor": "white",
           "ticks": "",
           "title": {
            "standoff": 15
           },
           "zerolinecolor": "white",
           "zerolinewidth": 2
          }
         }
        },
        "xaxis": {
         "anchor": "y",
         "domain": [
          0,
          1
         ],
         "title": {
          "text": "video views"
         }
        },
        "yaxis": {
         "anchor": "x",
         "domain": [
          0,
          1
         ],
         "title": {
          "text": "highest_monthly_earnings"
         }
        }
       }
      }
     },
     "metadata": {},
     "output_type": "display_data"
    }
   ],
   "source": [
    "fig = px.scatter(df_anos, x='video views', y='highest_monthly_earnings', color=\"created_year\", hover_data=[\"Youtuber\", \"Country\", \"category\"])\n",
    "fig.show()"
   ]
  }
 ],
 "metadata": {
  "kernelspec": {
   "display_name": "analisedadosyoutube",
   "language": "python",
   "name": "python3"
  },
  "language_info": {
   "codemirror_mode": {
    "name": "ipython",
    "version": 3
   },
   "file_extension": ".py",
   "mimetype": "text/x-python",
   "name": "python",
   "nbconvert_exporter": "python",
   "pygments_lexer": "ipython3",
   "version": "3.11.4"
  },
  "orig_nbformat": 4
 },
 "nbformat": 4,
 "nbformat_minor": 2
}
